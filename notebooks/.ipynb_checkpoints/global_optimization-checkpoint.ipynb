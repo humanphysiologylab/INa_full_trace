{
 "cells": [
  {
   "cell_type": "code",
   "execution_count": 1,
   "metadata": {},
   "outputs": [],
   "source": [
    "import numpy as np\n",
    "import matplotlib.pyplot  as plt\n",
    "import pandas as pd\n"
   ]
  },
  {
   "cell_type": "code",
   "execution_count": 2,
   "metadata": {},
   "outputs": [],
   "source": [
    "from sklearn.metrics import mean_squared_error as MSE\n",
    "from scipy import optimize as scop"
   ]
  },
  {
   "cell_type": "code",
   "execution_count": 3,
   "metadata": {},
   "outputs": [],
   "source": [
    "from numba import njit\n",
    "@njit\n",
    "def rush_larsen_numba_helper(x, y, c):\n",
    "    for i in range(1, len(x)):\n",
    "        x[i] = y[i-1] + (x[i-1] - y[i-1]) * np.exp(c[i-1])\n",
    " "
   ]
  },
  {
   "cell_type": "code",
   "execution_count": 63,
   "metadata": {},
   "outputs": [
    {
     "data": {
      "text/plain": [
       "5e-06"
      ]
     },
     "execution_count": 63,
     "metadata": {},
     "output_type": "execute_result"
    }
   ],
   "source": [
    "if False:#True:\n",
    "    t0 = np.arange(0,10,5e-6)\n",
    "    tt = 10\n",
    "    time = []\n",
    "    for k in range(0, 78 * tt):\n",
    "        time.append(t0[k])\n",
    "    for k in range(0, 1000 * tt):\n",
    "        time.append(t0[k])\n",
    "    for k in range(0, 1000 * tt):\n",
    "        time.append(t0[k])\n",
    "    for k in range(0, 2000 * tt):\n",
    "        time.append(t0[k])\n",
    "    for k in range(0, 922 * tt):\n",
    "        time.append(t0[k])\n",
    "    np.save('time_5e-6', time)\n",
    "\n",
    "t_step = np.load('time_5e-6.npy')\n",
    "len(t_step)\n",
    "t_step[1]"
   ]
  },
  {
   "cell_type": "markdown",
   "metadata": {},
   "source": [
    "$$ \\frac{\\partial V_{p}}{\\partial t} = \\frac{V_{c} - V_{p}}{C_{p}*R_{p}} \\\\ $$\n",
    "$$ \\frac{\\partial V_{m}}{\\partial t} = \\frac{V_{p} + V_{off} - V_{m}}{C_{m}*R_{s}} - \\frac{I_{ion}+I_{leak}}{C_m} \\\\ $$\n",
    "$$ \\frac{\\partial m}{\\partial t} = \\frac{m_{inf} - m}{\\tau_{m}}  \\\\ $$\n",
    "$$ \\frac{\\partial h}{\\partial t} = \\frac{h_{inf} - h}{\\tau_{h}}  \\\\ $$\n",
    "$$\n",
    "I_{m} = C_{m} *\\frac{\\partial V_{m}}{\\partial t} \\\\\n",
    "I_{p} = C_{p} *\\frac{\\partial V_{p}}{\\partial t} \\\\\n",
    "I_{leak} = g_{leak} * V_{m}\n",
    "$$"
   ]
  },
  {
   "cell_type": "code",
   "execution_count": 61,
   "metadata": {},
   "outputs": [],
   "source": [
    "@njit\n",
    "def rush_larsen_easy_numba_helper(x, y, c):\n",
    "    for i in range(1, len(x)):\n",
    "        x[i] = y[i-1] + (x[i-1] - y[i-1]) * np.exp(c)\n",
    "        \n",
    "@njit\n",
    "def euler_numba_helper(x, y, c):\n",
    "    for i in range(1, len(x)):\n",
    "        x[i] = x[i-1] + (y[i-1] - x[i-1]) * c\n",
    "@njit\n",
    "def initial_state(v_rev,v_p,v_m,m_inf,h_inf,m,h,j,I_leak,I_Na,x):\n",
    "    c_p, c_m, a0_m, b0_m, delta_m, s_m, a0_h, b0_h, delta_h, s_h, a0_j, b0_j, delta_j, s_j,tau_j_const,\\\n",
    "    r_m, r_p, g_max, g_leak, v_half_m,v_half_h, k_m, k_h, v_off = x\n",
    "    for i in range(0, 10000):\n",
    "        v_c = -80\n",
    "        \n",
    "        alpha_m  = a0_m * np.exp( v_m / (s_m)) \n",
    "        beta_m = b0_m * np.exp( v_m / (-delta_m))\n",
    "        \n",
    "        alpha_h  = a0_h * np.exp(v_m / (s_h)) \n",
    "        beta_h = b0_h * np.exp( v_m/ (-delta_h))\n",
    "        \n",
    "        alpha_j  = a0_j * np.exp( v_m / (s_j)) \n",
    "        beta_j = b0_j * np.exp( v_m / (-delta_j))\n",
    "        \n",
    "        tau_m = 1 / (beta_m + alpha_m)#+0.000037\n",
    "        tau_h = 1 / (beta_h + alpha_h)#+0.0002       \n",
    "        tau_j = tau_j_const + 1 / (beta_j + alpha_j) \n",
    "\n",
    "        v_p = v_c + (v_p - v_c) * np.exp(-dt / (r_p * c_p))\n",
    "        v_m = v_m + (v_p + v_off - v_m ) * (dt / (r_m * c_m)) - 1e-9 * (I_Na + I_leak) * dt/ c_m \n",
    "        \n",
    "        m = m_inf + (m - m_inf)*np.exp(-dt/tau_m)\n",
    "        h = h_inf + (h - h_inf)*np.exp(-dt/tau_h)\n",
    "        j = h_inf + (j - h_inf)*np.exp(-dt/tau_j)\n",
    "        \n",
    "        m_inf = 1 / (1 + np.exp((- v_half_m - v_m) / k_m))\n",
    "        h_inf = 1 / (1 + np.exp((v_half_h + v_m) / k_h))\n",
    "        \n",
    "        I_leak = g_leak * v_m\n",
    "        I_Na = g_max * j * h * (m**3) * (v_m - v_rev)\n",
    "    return v_p,v_m, m_inf,h_inf, m,h,j, I_leak, I_Na\n",
    "\n",
    "        \n",
    "@njit\n",
    "def calculate_cicle(n,t,v_c, v_rev, x):\n",
    "    c_p, c_m, a0_m, b0_m, delta_m, s_m, a0_h, b0_h, delta_h, s_h, a0_j, b0_j, delta_j, s_j,tau_j_const,\\\n",
    "    r_m, r_p, g_max, g_leak, v_half_m,v_half_h, k_m, k_h, v_off = x\n",
    "    #alpha_m = np.zeros_like(t)\n",
    "    #beta_m = np.zeros_like(t)\n",
    "    #alpha_h = np.zeros_like(t)\n",
    "    #beta_h = np.zeros_like(t)\n",
    "    \n",
    "    tau_m = np.zeros_like(t)\n",
    "    tau_h = np.zeros_like(t)\n",
    "    tau_j = np.zeros_like(t)\n",
    "    \n",
    "    m_inf = np.zeros_like(t)\n",
    "    h_inf = np.zeros_like(t)\n",
    "    \n",
    "    v_p = np.zeros_like(t)\n",
    "    v_m = np.zeros_like(t)\n",
    "    \n",
    "    m = np.zeros_like(t)\n",
    "    h = np.zeros_like(t)\n",
    "    j = np.zeros_like(t)\n",
    "    \n",
    "    I_leak = np.zeros_like(t)\n",
    "    I_Na = np.zeros_like(t)\n",
    "    \n",
    "    v_p[0] = -80\n",
    "    v_m[0] = -80\n",
    "    m_inf[0] = 0\n",
    "    h_inf[0] = 1\n",
    "    m[0] = 0\n",
    "    h[0] = 1\n",
    "    n_step = len(t)\n",
    "    \n",
    "    dt = t[1] - t[0]\n",
    "    I_leak[0] = g_leak * v_m[0]\n",
    "    \n",
    "    time_ = 50000 #25000\n",
    "    v_p[0],v_m[0],m_inf[0],h_inf[0],m[0],h[0],j[0],I_leak[0],I_Na[0] = \\\n",
    "    initial_state(v_rev,v_p[0],v_m[0],m_inf[0],h_inf[0],m[0],h[0],j[0],I_leak[0],I_Na[0],x)\n",
    "    #I_Na[0] = g_max * h[0] * (m[0]**3) * (v_m[0] - v_rev)\n",
    "    #n=5\n",
    "    for i in range(1, n_step):\n",
    "        if i/time_+1 == i//time_+1:\n",
    "\n",
    "            v_p[i-1], v_m[i-1],m_inf[i-1], h_inf[i-1], m[i-1], h[i-1], j[i-1], I_leak[i-1], I_Na[i-1] =\\\n",
    "            initial_state(v_rev, v_p[i-1], v_m[i-1], m_inf[i-1], h_inf[i-1],\n",
    "                          m[i-1], h[i-1], j[i-1], I_leak[i-1], I_Na[i-1], x)\n",
    "\n",
    "            \n",
    "        v_p[i] = v_c[i-1] + (v_p[i-1] - v_c[i-1])*np.exp(-dt / (r_p * c_p))\n",
    "        v_m[i] = v_m[i-1] + (v_p[i-1]+ v_off - v_m[i-1])*(dt / (r_m * c_m))\\\n",
    "                - 1e-9 * (I_Na[i-1] + I_leak[i-1]) * dt/ c_m \n",
    "\n",
    "        alpha_m  = a0_m * np.exp( v_m[i-1] / s_m) \n",
    "        beta_m = b0_m * np.exp( v_m[i-1] / (-delta_m))\n",
    "\n",
    "        alpha_h  = a0_h * np.exp(v_m[i-1] / s_h) \n",
    "        beta_h = b0_h * np.exp( v_m[i-1] / (-delta_h))\n",
    "\n",
    "        alpha_j  = a0_j * np.exp(v_m[i-1] / s_j) \n",
    "        beta_j = b0_j * np.exp( v_m[i-1] / (-delta_j))\n",
    "        \n",
    "        tau_m[i-1] = 1 / (beta_m + alpha_m)#+0.000037\n",
    "        tau_h[i-1] = 1 / (beta_h + alpha_h)#+0.0002\n",
    "        tau_j[i-1] = tau_j_const + 1 / (beta_j + alpha_j) \n",
    " \n",
    "        #m_inf = 1/(1+beta_m/alpha_m)\n",
    "        #h_inf = 1/(1+beta_h/alpha_h)\n",
    "        \n",
    "        m[i] = m_inf[i-1] + (m[i-1] - m_inf[i-1])*np.exp(-dt/tau_m[i-1])\n",
    "        h[i] = h_inf[i-1] + (h[i-1] - h_inf[i-1])*np.exp(-dt/tau_h[i-1])\n",
    "        j[i] = h_inf[i-1] + (j[i-1] - h_inf[i-1])*np.exp(-dt/tau_j[i-1])\n",
    "        \n",
    "        \n",
    "        m_inf[i] = 1 / (1 + np.exp((- v_half_m - v_m[i]) / k_m))\n",
    "        h_inf[i] = 1 / (1 + np.exp((v_half_h + v_m[i]) / k_h))\n",
    "        \n",
    "        I_leak[i] = g_leak * v_m[i]\n",
    "        I_Na[i] = g_max * j[i] * h[i] * (m[i]**3) * (v_m[i] - v_rev)\n",
    "    \n",
    "    tau_m[-1] = 1 / (a0_m * np.exp( v_m[-1] / (s_m))\n",
    "                          +  b0_m * np.exp( v_m[-1] / (-delta_m)))\n",
    "    tau_h[-1] = 1 / (a0_h * np.exp(v_m[-1] / (-s_h))\n",
    "                          +  b0_h * np.exp( v_m[-1] / delta_h))\n",
    "    tau_j[-1] = 1 / (a0_j * np.exp(v_m[-1] / (-s_j))\n",
    "                          +  b0_j * np.exp( v_m[-1] / delta_j))\n",
    "    \n",
    "    return m_inf[::n], h_inf[::n], tau_m[::n], tau_h[::n], tau_j[::n], v_p, v_m,\\\n",
    "                                                                    I_leak[::n], I_Na[::n]\n",
    "\n",
    "\n",
    "\n",
    "def calculate_I_out(x, *args):#, s0, c, protocol, ...):\n",
    "    #print(x)\n",
    "    y = x.copy()\n",
    "    kwargs = args[-1]\n",
    "    \n",
    "    t = kwargs['t']\n",
    "    dt = t[1] - t[0]\n",
    "    \n",
    "    n = int(5e-5/dt)\n",
    "    \n",
    "    v_list = kwargs['v_list']\n",
    "    k_list = kwargs['k_list'] * n\n",
    "    \n",
    "    if kwargs.get('log_scale', False):\n",
    "        y[:-1] = np.exp(y[:-1])\n",
    "        #y = np.exp(y)\n",
    "        assert np.all(y[:-1] > 0) \n",
    "    \n",
    "    c_p, c_m, a0_m, b0_m, delta_m, s_m, a0_h, b0_h, delta_h, s_h, a0_j, b0_j, delta_j, s_j,tau_j_const,\\\n",
    "    r_m, r_p, g_max, g_leak, v_half_m,v_half_h, k_m, k_h, v_off = y\n",
    "    #print(c_p)\n",
    "    # constructing v_c - command potential\n",
    "\n",
    "    count = np.zeros_like(t)\n",
    "    count[k_list] = 1\n",
    "    count = np.cumsum(count) \n",
    "    \n",
    "    \n",
    "    v_c = np.zeros_like(t)\n",
    "    v_c = v_list[count.astype(int)]\n",
    "\n",
    "    v_rev =18\n",
    "   \n",
    "    \n",
    "    I_out = np.zeros_like(t)\n",
    "    try:\n",
    "        m_inf, h_inf, tau_m, tau_h, tau_j, v_p, v_m, I_leak, I_Na = calculate_cicle(n,t,v_c, v_rev, y)\n",
    "    except ZeroDivisionError:\n",
    "        I_out+=1e100\n",
    "        #print(x)\n",
    "        return I_out\n",
    "        #print('ok')\n",
    "    #I_p = np.zeros_like(t)\n",
    "    #I_c = np.zeros_like(t)\n",
    "    I_c = 1e9 * c_m * (np.diff(v_m) / dt)[::n]\n",
    "    I_p = 1e9 * c_p * (np.diff(v_p) / dt)[::n]\n",
    "    #I_c = np.concatenate((I_c,I_c[-1:]))\n",
    "    #I_p = np.concatenate((I_p,I_p[-1:]))\n",
    "    \n",
    "    tau_z = 5e-4 # 1e-12 * 5e8\n",
    "    \n",
    "    I_in = I_c  + I_leak + I_Na + I_p\n",
    "    \n",
    "    #euler_numba_helper(I_out,I_in,(dt / tau_z))  \n",
    "    I_out[0] = I_in[0]\n",
    "    \n",
    "    rush_larsen_easy_numba_helper(I_out, I_in, - dt * n / tau_z)\n",
    "    \n",
    "    if kwargs.get('graph', True):\n",
    "        #plt.plot(V_m_list, label = 'command')\n",
    "        plt.figure()\n",
    "        plt.plot(v_c[::], label = 'command_prediction')\n",
    "        plt.plot(v_p, label = 'pipette', ls = '--')\n",
    "        plt.plot(v_m, label = 'membrane')\n",
    "        plt.legend()\n",
    "        v_graph = np.arange(-95,35)\n",
    "        \n",
    "       \n",
    "        \n",
    "        #m_graph = 1 / (1 + np.exp((- v_half_m - v_graph) / k_m))\n",
    "        #h_graph = 1 / (1 + np.exp((v_half_h + v_graph) / k_h))\n",
    "        #plt.plot(v_graph, m_graph, label = 'm_inf')\n",
    "        #plt.plot(v_graph, h_graph, label = 'h_inf')\n",
    "        plt.figure()\n",
    "        plt.plot( m_inf, label = 'm_inf')\n",
    "        plt.plot( h_inf, label = 'h_inf')\n",
    "        plt.legend()\n",
    "        \n",
    "        plt.figure() \n",
    "        #tau_m_graph = 1 / (b0_m * np.exp((1-delta_m) * v_graph / (-s_m))\n",
    "        #                  + a0_m * np.exp( v_m[i-1] / (s_m)) \n",
    "        #tau_h_graph = 1 / (b0_h * np.exp((1-delta_h) * v_graph / (-s_h))\n",
    "        #                  + a0_h * np.exp(-delta_h * v_graph / (-s_h)))\n",
    "        \n",
    "        tau_m_graph = 1 / (a0_m * np.exp( v_graph / (s_m))\n",
    "                          +  b0_m * np.exp( v_graph / (-delta_m)))\n",
    "        tau_h_graph = 1 / (a0_h * np.exp(v_graph / (s_h))\n",
    "                          +  b0_h * np.exp( v_graph / (-delta_h)))\n",
    "        tau_j_graph = tau_j_const + 1 / (a0_j * np.exp(v_graph / (s_j))\n",
    "                          +  b0_j * np.exp( v_graph / (-delta_j)))\n",
    "        plt.plot(v_graph, tau_m_graph, label = 'tau_m')\n",
    "        plt.plot(v_graph, tau_h_graph, label = 'tau_h')\n",
    "        plt.plot(v_graph, tau_j_graph, label = 'tau_j')\n",
    "        #plt.plot(tau_m, label = 'tau_m')\n",
    "        #plt.plot(tau_h, label = 'tau_h')\n",
    "        plt.legend()\n",
    "\n",
    "        plt.figure()\n",
    "        plt.plot(I_c, label = 'I_c')\n",
    "        plt.plot(I_p, label = 'I_p')\n",
    "        plt.plot(I_leak, label = 'I_leak')\n",
    "        plt.plot(I_Na, label = 'I_Na')\n",
    "        plt.legend()\n",
    "        \n",
    "\n",
    "        plt.figure()\n",
    "        #plt.plot(I_in, label = 'I_in')\n",
    "        plt.plot(I_out, label = 'I_out')\n",
    "        plt.legend() \n",
    "\n",
    "\n",
    "\n",
    "    return I_out\n"
   ]
  },
  {
   "cell_type": "code",
   "execution_count": 48,
   "metadata": {},
   "outputs": [],
   "source": [
    "k_list = np.array([77, 1077, 2077, 4077])\n",
    "v_list = np.array([-80, -70, -80, -80])\n",
    "k_all = k_list\n",
    "v_all = v_list\n",
    "for l in range(1,20):\n",
    "    k_all = np.concatenate([k_all, k_list+5000*l])\n",
    "    v_all = np.concatenate([v_all, v_list+[0,  0, 0, 5*l]])\n",
    "v_all = np.concatenate([v_all,[-80]])\n",
    "t = np.load('../data/time.npy')\n",
    "t_all = np.concatenate([t for k in range(20)])\n"
   ]
  },
  {
   "cell_type": "code",
   "execution_count": 49,
   "metadata": {},
   "outputs": [],
   "source": [
    "k_list_1 = np.array([77, 1077, 2077, 4077])\n",
    "v_list_1 = np.array([-80,-70,-80, -10, -80])"
   ]
  },
  {
   "cell_type": "code",
   "execution_count": 50,
   "metadata": {},
   "outputs": [],
   "source": [
    "def log_x(a):\n",
    "    b = a.copy()\n",
    "    b[2:10] = np.log(a[2:10])\n",
    "    b[14:18] = np.log(a[14:18])\n",
    "    return(b)\n"
   ]
  },
  {
   "cell_type": "code",
   "execution_count": 51,
   "metadata": {},
   "outputs": [
    {
     "data": {
      "text/plain": [
       "0.3131936394738773"
      ]
     },
     "execution_count": 51,
     "metadata": {},
     "output_type": "execute_result"
    }
   ],
   "source": [
    "1.432e-5*(np.exp(-1.196/6.285))\n",
    "6.149*np.exp(0.05096/20.27)\n",
    "0.02136*np.exp(-100.6/8.281)\n",
    "0.3052*np.exp(0.9941/38.45)"
   ]
  },
  {
   "cell_type": "code",
   "execution_count": 52,
   "metadata": {},
   "outputs": [],
   "source": [
    "%matplotlib inline\n",
    "#%matplotlib notebook\n",
    "plt.style.use('../styles/general.mplstyle')"
   ]
  },
  {
   "cell_type": "code",
   "execution_count": 62,
   "metadata": {
    "scrolled": false
   },
   "outputs": [
    {
     "data": {
      "text/plain": [
       "50000"
      ]
     },
     "execution_count": 62,
     "metadata": {},
     "output_type": "execute_result"
    },
    {
     "data": {
      "image/png": "[encoded data removed]",
      "text/plain": [
       "<Figure size 840x680 with 1 Axes>"
      ]
     },
     "metadata": {
      "needs_background": "light"
     },
     "output_type": "display_data"
    },
    {
     "data": {
      "image/png": "[encoded data removed]",
      "text/plain": [
       "<Figure size 840x680 with 1 Axes>"
      ]
     },
     "metadata": {
      "needs_background": "light"
     },
     "output_type": "display_data"
    },
    {
     "data": {
      "image/png": "[encoded data removed]",
      "text/plain": [
       "<Figure size 840x680 with 1 Axes>"
      ]
     },
     "metadata": {
      "needs_background": "light"
     },
     "output_type": "display_data"
    },
    {
     "data": {
      "image/png": "[encoded data removed]",
      "text/plain": [
       "<Figure size 840x680 with 1 Axes>"
      ]
     },
     "metadata": {
      "needs_background": "light"
     },
     "output_type": "display_data"
    },
    {
     "data": {
      "image/png": "[encoded data removed]",
      "text/plain": [
       "<Figure size 840x680 with 1 Axes>"
      ]
     },
     "metadata": {
      "needs_background": "light"
     },
     "output_type": "display_data"
    }
   ],
   "source": [
    "#p0 = np.array([6e-16, 6e-12, 2e3,  1.6e3,   0.9,   60,  1e-1,   4e2,    0.3,     3,    8e8,   5e3,  13,   2e-1, 11, 52,0.2,0.3,10])\n",
    "#x_true = [6e-15, 12e-12, 5e4,  8e-2,   0.3,   60,  1e-3,   4e2,    0.08,     22,    5e8,   1e6,   5e1,   1e-1]\n",
    "#p0 = np.array([6e-16, 5e-11, 90e+1,  3.9,8.21,   12.8,    6.3,   1.75e02,    6.72,  21.65,    5e6,   5e5,5e1,   5e-2,20,53,5,0.66, 5])\n",
    "#             C_p     C     a0_m  b0_m  delta_m  s_m   a0_h  b0_h    delta_h      s_h      R    R_p   g_max  g_leak  \"v_half_m\", \"v_half_h\", \"k_m\", \"k_h\", \"v_off\"\n",
    "\n",
    "p0 = np.array([6.000e-16, 1.200e-11,#C_p , C\n",
    "               9.454e+02, 1.931e-02, 5.955e+00, 3.477e+01,#a0_m , b0_m , delta_m , s_m \n",
    "               6.305e+03, 1.184e-02, 6.285e+00, 2.027e+01,#a0_h , b0_h , delta_h , s_h \n",
    "               3.132e+02, 1.132e-04, 8.281e+00, 3.845e+01, 2.038e-03,#a0_j , b0_j , delta_j , s_j , tau_j_const\n",
    "               5.000e+07, 5.000e+05, 5.000e+04, 5.000e-00, #R , R_p , g_max , g_leak  \n",
    "               2.000e+01, 5.300e+01, 5.000e+00, 6.600e-01,#v_half_m , v_half_h , k_m, k_h\n",
    "               5.000e+00])#v_off\n",
    "\n",
    "\n",
    "#x_true_log = np.log(p0)\n",
    "x_true_log = np.concatenate((np.log(p0[:-1]),p0[-1:]))\n",
    "#print(len(x_true_log))\n",
    "\n",
    "#t = np.load('../data/time.npy')\n",
    "\n",
    "v_list = v_all#np.array([-80, -80, -70, -80, -10, -80])\n",
    "k_list = k_all#np.array([77, 1077, 2077, 4077]) \n",
    "dt = t[1] - t[0]\n",
    "\n",
    "kwargs = dict(v_list = v_list_1,\n",
    "              k_list = k_list_1,\n",
    "              t = t_step,\n",
    "              log_scale = True,\n",
    "              graph = True)#,\n",
    "              #sample_weights = sample_weight)\n",
    "\n",
    "data = calculate_I_out(x_true_log, kwargs)\n",
    "\n",
    "#print(p0)\n",
    "#print(data)\n",
    "#plt.plot(data)\n",
    "len(data)"
   ]
  },
  {
   "cell_type": "code",
   "execution_count": null,
   "metadata": {},
   "outputs": [],
   "source": [
    "#%matplotlib notebook\n",
    "#plt.plot(v_c, label = 'command_prediction')\n",
    "#plt.plot(v_p, label = 'pipette', ls = '--')\n",
    "#plt.plot(v_m, label = 'membrane')\n",
    "#plt.legend()\n",
    "#v_graph = np.arange(-95,35)\n",
    "#plt.show()"
   ]
  },
  {
   "cell_type": "code",
   "execution_count": 56,
   "metadata": {},
   "outputs": [],
   "source": [
    "def loss(x, *args):\n",
    "    kwargs = args[-1]\n",
    "    data = args[0]\n",
    "    sample_weight = kwargs.get('sample_weight', None)\n",
    "    I_out = calculate_I_out(x, *args)\n",
    "    \n",
    "    if np.any(np.isnan(I_out)):\n",
    "        return np.inf\n",
    "    if np.any(np.isinf(I_out)):\n",
    "        return np.inf\n",
    "        \n",
    "    return MSE(data, I_out, sample_weight=sample_weight)"
   ]
  },
  {
   "cell_type": "code",
   "execution_count": 60,
   "metadata": {
    "scrolled": true
   },
   "outputs": [
    {
     "ename": "ValueError",
     "evalue": "Found input variables with inconsistent numbers of samples: [50000, 5000]",
     "output_type": "error",
     "traceback": [
      "\u001b[0;31m---------------------------------------------------------------------------\u001b[0m",
      "\u001b[0;31mValueError\u001b[0m                                Traceback (most recent call last)",
      "\u001b[0;32m<ipython-input-60-96856c3cdd08>\u001b[0m in \u001b[0;36m<module>\u001b[0;34m\u001b[0m\n\u001b[0;32m----> 1\u001b[0;31m \u001b[0mget_ipython\u001b[0m\u001b[0;34m(\u001b[0m\u001b[0;34m)\u001b[0m\u001b[0;34m.\u001b[0m\u001b[0mrun_cell_magic\u001b[0m\u001b[0;34m(\u001b[0m\u001b[0;34m'timeit'\u001b[0m\u001b[0;34m,\u001b[0m \u001b[0;34m''\u001b[0m\u001b[0;34m,\u001b[0m \u001b[0;34m'kwargs = dict(v_list = v_list_1,\\n              k_list = k_list_1,\\n              t = t,\\n              log_scale = True,\\n              graph = False)\\nloss(x_true_log, data, kwargs)\\n'\u001b[0m\u001b[0;34m)\u001b[0m\u001b[0;34m\u001b[0m\u001b[0;34m\u001b[0m\u001b[0m\n\u001b[0m",
      "\u001b[0;32m~/.local/lib/python3.8/site-packages/IPython/core/interactiveshell.py\u001b[0m in \u001b[0;36mrun_cell_magic\u001b[0;34m(self, magic_name, line, cell)\u001b[0m\n\u001b[1;32m   2380\u001b[0m             \u001b[0;32mwith\u001b[0m \u001b[0mself\u001b[0m\u001b[0;34m.\u001b[0m\u001b[0mbuiltin_trap\u001b[0m\u001b[0;34m:\u001b[0m\u001b[0;34m\u001b[0m\u001b[0;34m\u001b[0m\u001b[0m\n\u001b[1;32m   2381\u001b[0m                 \u001b[0margs\u001b[0m \u001b[0;34m=\u001b[0m \u001b[0;34m(\u001b[0m\u001b[0mmagic_arg_s\u001b[0m\u001b[0;34m,\u001b[0m \u001b[0mcell\u001b[0m\u001b[0;34m)\u001b[0m\u001b[0;34m\u001b[0m\u001b[0;34m\u001b[0m\u001b[0m\n\u001b[0;32m-> 2382\u001b[0;31m                 \u001b[0mresult\u001b[0m \u001b[0;34m=\u001b[0m \u001b[0mfn\u001b[0m\u001b[0;34m(\u001b[0m\u001b[0;34m*\u001b[0m\u001b[0margs\u001b[0m\u001b[0;34m,\u001b[0m \u001b[0;34m**\u001b[0m\u001b[0mkwargs\u001b[0m\u001b[0;34m)\u001b[0m\u001b[0;34m\u001b[0m\u001b[0;34m\u001b[0m\u001b[0m\n\u001b[0m\u001b[1;32m   2383\u001b[0m             \u001b[0;32mreturn\u001b[0m \u001b[0mresult\u001b[0m\u001b[0;34m\u001b[0m\u001b[0;34m\u001b[0m\u001b[0m\n\u001b[1;32m   2384\u001b[0m \u001b[0;34m\u001b[0m\u001b[0m\n",
      "\u001b[0;32m<decorator-gen-53>\u001b[0m in \u001b[0;36mtimeit\u001b[0;34m(self, line, cell, local_ns)\u001b[0m\n",
      "\u001b[0;32m~/.local/lib/python3.8/site-packages/IPython/core/magic.py\u001b[0m in \u001b[0;36m<lambda>\u001b[0;34m(f, *a, **k)\u001b[0m\n\u001b[1;32m    185\u001b[0m     \u001b[0;31m# but it's overkill for just that one bit of state.\u001b[0m\u001b[0;34m\u001b[0m\u001b[0;34m\u001b[0m\u001b[0;34m\u001b[0m\u001b[0m\n\u001b[1;32m    186\u001b[0m     \u001b[0;32mdef\u001b[0m \u001b[0mmagic_deco\u001b[0m\u001b[0;34m(\u001b[0m\u001b[0marg\u001b[0m\u001b[0;34m)\u001b[0m\u001b[0;34m:\u001b[0m\u001b[0;34m\u001b[0m\u001b[0;34m\u001b[0m\u001b[0m\n\u001b[0;32m--> 187\u001b[0;31m         \u001b[0mcall\u001b[0m \u001b[0;34m=\u001b[0m \u001b[0;32mlambda\u001b[0m \u001b[0mf\u001b[0m\u001b[0;34m,\u001b[0m \u001b[0;34m*\u001b[0m\u001b[0ma\u001b[0m\u001b[0;34m,\u001b[0m \u001b[0;34m**\u001b[0m\u001b[0mk\u001b[0m\u001b[0;34m:\u001b[0m \u001b[0mf\u001b[0m\u001b[0;34m(\u001b[0m\u001b[0;34m*\u001b[0m\u001b[0ma\u001b[0m\u001b[0;34m,\u001b[0m \u001b[0;34m**\u001b[0m\u001b[0mk\u001b[0m\u001b[0;34m)\u001b[0m\u001b[0;34m\u001b[0m\u001b[0;34m\u001b[0m\u001b[0m\n\u001b[0m\u001b[1;32m    188\u001b[0m \u001b[0;34m\u001b[0m\u001b[0m\n\u001b[1;32m    189\u001b[0m         \u001b[0;32mif\u001b[0m \u001b[0mcallable\u001b[0m\u001b[0;34m(\u001b[0m\u001b[0marg\u001b[0m\u001b[0;34m)\u001b[0m\u001b[0;34m:\u001b[0m\u001b[0;34m\u001b[0m\u001b[0;34m\u001b[0m\u001b[0m\n",
      "\u001b[0;32m~/.local/lib/python3.8/site-packages/IPython/core/magics/execution.py\u001b[0m in \u001b[0;36mtimeit\u001b[0;34m(self, line, cell, local_ns)\u001b[0m\n\u001b[1;32m   1167\u001b[0m             \u001b[0;32mfor\u001b[0m \u001b[0mindex\u001b[0m \u001b[0;32min\u001b[0m \u001b[0mrange\u001b[0m\u001b[0;34m(\u001b[0m\u001b[0;36m0\u001b[0m\u001b[0;34m,\u001b[0m \u001b[0;36m10\u001b[0m\u001b[0;34m)\u001b[0m\u001b[0;34m:\u001b[0m\u001b[0;34m\u001b[0m\u001b[0;34m\u001b[0m\u001b[0m\n\u001b[1;32m   1168\u001b[0m                 \u001b[0mnumber\u001b[0m \u001b[0;34m=\u001b[0m \u001b[0;36m10\u001b[0m \u001b[0;34m**\u001b[0m \u001b[0mindex\u001b[0m\u001b[0;34m\u001b[0m\u001b[0;34m\u001b[0m\u001b[0m\n\u001b[0;32m-> 1169\u001b[0;31m                 \u001b[0mtime_number\u001b[0m \u001b[0;34m=\u001b[0m \u001b[0mtimer\u001b[0m\u001b[0;34m.\u001b[0m\u001b[0mtimeit\u001b[0m\u001b[0;34m(\u001b[0m\u001b[0mnumber\u001b[0m\u001b[0;34m)\u001b[0m\u001b[0;34m\u001b[0m\u001b[0;34m\u001b[0m\u001b[0m\n\u001b[0m\u001b[1;32m   1170\u001b[0m                 \u001b[0;32mif\u001b[0m \u001b[0mtime_number\u001b[0m \u001b[0;34m>=\u001b[0m \u001b[0;36m0.2\u001b[0m\u001b[0;34m:\u001b[0m\u001b[0;34m\u001b[0m\u001b[0;34m\u001b[0m\u001b[0m\n\u001b[1;32m   1171\u001b[0m                     \u001b[0;32mbreak\u001b[0m\u001b[0;34m\u001b[0m\u001b[0;34m\u001b[0m\u001b[0m\n",
      "\u001b[0;32m~/.local/lib/python3.8/site-packages/IPython/core/magics/execution.py\u001b[0m in \u001b[0;36mtimeit\u001b[0;34m(self, number)\u001b[0m\n\u001b[1;32m    167\u001b[0m         \u001b[0mgc\u001b[0m\u001b[0;34m.\u001b[0m\u001b[0mdisable\u001b[0m\u001b[0;34m(\u001b[0m\u001b[0;34m)\u001b[0m\u001b[0;34m\u001b[0m\u001b[0;34m\u001b[0m\u001b[0m\n\u001b[1;32m    168\u001b[0m         \u001b[0;32mtry\u001b[0m\u001b[0;34m:\u001b[0m\u001b[0;34m\u001b[0m\u001b[0;34m\u001b[0m\u001b[0m\n\u001b[0;32m--> 169\u001b[0;31m             \u001b[0mtiming\u001b[0m \u001b[0;34m=\u001b[0m \u001b[0mself\u001b[0m\u001b[0;34m.\u001b[0m\u001b[0minner\u001b[0m\u001b[0;34m(\u001b[0m\u001b[0mit\u001b[0m\u001b[0;34m,\u001b[0m \u001b[0mself\u001b[0m\u001b[0;34m.\u001b[0m\u001b[0mtimer\u001b[0m\u001b[0;34m)\u001b[0m\u001b[0;34m\u001b[0m\u001b[0;34m\u001b[0m\u001b[0m\n\u001b[0m\u001b[1;32m    170\u001b[0m         \u001b[0;32mfinally\u001b[0m\u001b[0;34m:\u001b[0m\u001b[0;34m\u001b[0m\u001b[0;34m\u001b[0m\u001b[0m\n\u001b[1;32m    171\u001b[0m             \u001b[0;32mif\u001b[0m \u001b[0mgcold\u001b[0m\u001b[0;34m:\u001b[0m\u001b[0;34m\u001b[0m\u001b[0;34m\u001b[0m\u001b[0m\n",
      "\u001b[0;32m<magic-timeit>\u001b[0m in \u001b[0;36minner\u001b[0;34m(_it, _timer)\u001b[0m\n",
      "\u001b[0;32m<ipython-input-56-96167d7ab3be>\u001b[0m in \u001b[0;36mloss\u001b[0;34m(x, *args)\u001b[0m\n\u001b[1;32m     10\u001b[0m         \u001b[0;32mreturn\u001b[0m \u001b[0mnp\u001b[0m\u001b[0;34m.\u001b[0m\u001b[0minf\u001b[0m\u001b[0;34m\u001b[0m\u001b[0;34m\u001b[0m\u001b[0m\n\u001b[1;32m     11\u001b[0m \u001b[0;34m\u001b[0m\u001b[0m\n\u001b[0;32m---> 12\u001b[0;31m     \u001b[0;32mreturn\u001b[0m \u001b[0mMSE\u001b[0m\u001b[0;34m(\u001b[0m\u001b[0mdata\u001b[0m\u001b[0;34m,\u001b[0m \u001b[0mI_out\u001b[0m\u001b[0;34m,\u001b[0m \u001b[0msample_weight\u001b[0m\u001b[0;34m=\u001b[0m\u001b[0msample_weight\u001b[0m\u001b[0;34m)\u001b[0m\u001b[0;34m\u001b[0m\u001b[0;34m\u001b[0m\u001b[0m\n\u001b[0m",
      "\u001b[0;32m~/.local/lib/python3.8/site-packages/sklearn/utils/validation.py\u001b[0m in \u001b[0;36minner_f\u001b[0;34m(*args, **kwargs)\u001b[0m\n\u001b[1;32m     61\u001b[0m             \u001b[0mextra_args\u001b[0m \u001b[0;34m=\u001b[0m \u001b[0mlen\u001b[0m\u001b[0;34m(\u001b[0m\u001b[0margs\u001b[0m\u001b[0;34m)\u001b[0m \u001b[0;34m-\u001b[0m \u001b[0mlen\u001b[0m\u001b[0;34m(\u001b[0m\u001b[0mall_args\u001b[0m\u001b[0;34m)\u001b[0m\u001b[0;34m\u001b[0m\u001b[0;34m\u001b[0m\u001b[0m\n\u001b[1;32m     62\u001b[0m             \u001b[0;32mif\u001b[0m \u001b[0mextra_args\u001b[0m \u001b[0;34m<=\u001b[0m \u001b[0;36m0\u001b[0m\u001b[0;34m:\u001b[0m\u001b[0;34m\u001b[0m\u001b[0;34m\u001b[0m\u001b[0m\n\u001b[0;32m---> 63\u001b[0;31m                 \u001b[0;32mreturn\u001b[0m \u001b[0mf\u001b[0m\u001b[0;34m(\u001b[0m\u001b[0;34m*\u001b[0m\u001b[0margs\u001b[0m\u001b[0;34m,\u001b[0m \u001b[0;34m**\u001b[0m\u001b[0mkwargs\u001b[0m\u001b[0;34m)\u001b[0m\u001b[0;34m\u001b[0m\u001b[0;34m\u001b[0m\u001b[0m\n\u001b[0m\u001b[1;32m     64\u001b[0m \u001b[0;34m\u001b[0m\u001b[0m\n\u001b[1;32m     65\u001b[0m             \u001b[0;31m# extra_args > 0\u001b[0m\u001b[0;34m\u001b[0m\u001b[0;34m\u001b[0m\u001b[0;34m\u001b[0m\u001b[0m\n",
      "\u001b[0;32m~/.local/lib/python3.8/site-packages/sklearn/metrics/_regression.py\u001b[0m in \u001b[0;36mmean_squared_error\u001b[0;34m(y_true, y_pred, sample_weight, multioutput, squared)\u001b[0m\n\u001b[1;32m    333\u001b[0m     \u001b[0;36m0.825\u001b[0m\u001b[0;34m...\u001b[0m\u001b[0;34m\u001b[0m\u001b[0;34m\u001b[0m\u001b[0m\n\u001b[1;32m    334\u001b[0m     \"\"\"\n\u001b[0;32m--> 335\u001b[0;31m     y_type, y_true, y_pred, multioutput = _check_reg_targets(\n\u001b[0m\u001b[1;32m    336\u001b[0m         y_true, y_pred, multioutput)\n\u001b[1;32m    337\u001b[0m     \u001b[0mcheck_consistent_length\u001b[0m\u001b[0;34m(\u001b[0m\u001b[0my_true\u001b[0m\u001b[0;34m,\u001b[0m \u001b[0my_pred\u001b[0m\u001b[0;34m,\u001b[0m \u001b[0msample_weight\u001b[0m\u001b[0;34m)\u001b[0m\u001b[0;34m\u001b[0m\u001b[0;34m\u001b[0m\u001b[0m\n",
      "\u001b[0;32m~/.local/lib/python3.8/site-packages/sklearn/metrics/_regression.py\u001b[0m in \u001b[0;36m_check_reg_targets\u001b[0;34m(y_true, y_pred, multioutput, dtype)\u001b[0m\n\u001b[1;32m     86\u001b[0m         \u001b[0mthe\u001b[0m \u001b[0mdtype\u001b[0m \u001b[0margument\u001b[0m \u001b[0mpassed\u001b[0m \u001b[0mto\u001b[0m \u001b[0mcheck_array\u001b[0m\u001b[0;34m.\u001b[0m\u001b[0;34m\u001b[0m\u001b[0;34m\u001b[0m\u001b[0m\n\u001b[1;32m     87\u001b[0m     \"\"\"\n\u001b[0;32m---> 88\u001b[0;31m     \u001b[0mcheck_consistent_length\u001b[0m\u001b[0;34m(\u001b[0m\u001b[0my_true\u001b[0m\u001b[0;34m,\u001b[0m \u001b[0my_pred\u001b[0m\u001b[0;34m)\u001b[0m\u001b[0;34m\u001b[0m\u001b[0;34m\u001b[0m\u001b[0m\n\u001b[0m\u001b[1;32m     89\u001b[0m     \u001b[0my_true\u001b[0m \u001b[0;34m=\u001b[0m \u001b[0mcheck_array\u001b[0m\u001b[0;34m(\u001b[0m\u001b[0my_true\u001b[0m\u001b[0;34m,\u001b[0m \u001b[0mensure_2d\u001b[0m\u001b[0;34m=\u001b[0m\u001b[0;32mFalse\u001b[0m\u001b[0;34m,\u001b[0m \u001b[0mdtype\u001b[0m\u001b[0;34m=\u001b[0m\u001b[0mdtype\u001b[0m\u001b[0;34m)\u001b[0m\u001b[0;34m\u001b[0m\u001b[0;34m\u001b[0m\u001b[0m\n\u001b[1;32m     90\u001b[0m     \u001b[0my_pred\u001b[0m \u001b[0;34m=\u001b[0m \u001b[0mcheck_array\u001b[0m\u001b[0;34m(\u001b[0m\u001b[0my_pred\u001b[0m\u001b[0;34m,\u001b[0m \u001b[0mensure_2d\u001b[0m\u001b[0;34m=\u001b[0m\u001b[0;32mFalse\u001b[0m\u001b[0;34m,\u001b[0m \u001b[0mdtype\u001b[0m\u001b[0;34m=\u001b[0m\u001b[0mdtype\u001b[0m\u001b[0;34m)\u001b[0m\u001b[0;34m\u001b[0m\u001b[0;34m\u001b[0m\u001b[0m\n",
      "\u001b[0;32m~/.local/lib/python3.8/site-packages/sklearn/utils/validation.py\u001b[0m in \u001b[0;36mcheck_consistent_length\u001b[0;34m(*arrays)\u001b[0m\n\u001b[1;32m    260\u001b[0m     \u001b[0muniques\u001b[0m \u001b[0;34m=\u001b[0m \u001b[0mnp\u001b[0m\u001b[0;34m.\u001b[0m\u001b[0munique\u001b[0m\u001b[0;34m(\u001b[0m\u001b[0mlengths\u001b[0m\u001b[0;34m)\u001b[0m\u001b[0;34m\u001b[0m\u001b[0;34m\u001b[0m\u001b[0m\n\u001b[1;32m    261\u001b[0m     \u001b[0;32mif\u001b[0m \u001b[0mlen\u001b[0m\u001b[0;34m(\u001b[0m\u001b[0muniques\u001b[0m\u001b[0;34m)\u001b[0m \u001b[0;34m>\u001b[0m \u001b[0;36m1\u001b[0m\u001b[0;34m:\u001b[0m\u001b[0;34m\u001b[0m\u001b[0;34m\u001b[0m\u001b[0m\n\u001b[0;32m--> 262\u001b[0;31m         raise ValueError(\"Found input variables with inconsistent numbers of\"\n\u001b[0m\u001b[1;32m    263\u001b[0m                          \" samples: %r\" % [int(l) for l in lengths])\n\u001b[1;32m    264\u001b[0m \u001b[0;34m\u001b[0m\u001b[0m\n",
      "\u001b[0;31mValueError\u001b[0m: Found input variables with inconsistent numbers of samples: [50000, 5000]"
     ]
    }
   ],
   "source": [
    "%%timeit\n",
    "kwargs = dict(v_list = v_list_1,\n",
    "              k_list = k_list_1,\n",
    "              t = t,\n",
    "              log_scale = True,\n",
    "              graph = False)\n",
    "loss(x_true_log, data, kwargs)"
   ]
  },
  {
   "cell_type": "code",
   "execution_count": 129,
   "metadata": {
    "scrolled": false
   },
   "outputs": [
    {
     "name": "stderr",
     "output_type": "stream",
     "text": [
      "<ipython-input-129-dd40cdf0c28b>:17: RuntimeWarning: invalid value encountered in log\n",
      "  log_bounds = np.vstack([np.concatenate((np.log(bounds[0][:-1]), bounds[0][-1:])),\\\n",
      "<ipython-input-129-dd40cdf0c28b>:18: RuntimeWarning: invalid value encountered in log\n",
      "  np.concatenate((np.log(bounds[1][:-1]), bounds[1][-1:]))]).T\n"
     ]
    },
    {
     "data": {
      "text/plain": [
       "105747.22532166952"
      ]
     },
     "execution_count": 129,
     "metadata": {},
     "output_type": "execute_result"
    }
   ],
   "source": [
    "names =  [\"C_f\",\"C\",\n",
    "          \"a0_m\",\"b0_m\",\"delta_m\",\"s_m\",\n",
    "          \"a0_h\",\"b0_h\" ,\"delta_h\",\"s_h\",\n",
    "          \"a0_j\",\"b0_j\" ,\"delta_j\",\"s_j\",\"tau_j_const\",\n",
    "          \"R\"   , \"R_f\"  , \"g_max\"  ,\"g_leak\",\n",
    "          \"v_half_m\", \"v_half_h\", \"k_m\", \"k_h\", \"v_off\" ]\n",
    "\n",
    "kwargs = dict(v_list = v_list_1,\n",
    "              k_list = k_list_1,\n",
    "              t = t,\n",
    "              log_scale = True,\n",
    "              graph = False)\n",
    "x0 = x_true_log - 0.5\n",
    "bounds = np.vstack([x_true_log  - 2, x_true_log + 2]).T#\n",
    "#bounds = ([1e-18, 1e-13, 1e-10, 1e-10, -1e2,  1e-10, 1e-10, 1e-10, 1e-10,-1e3, 1e5,  1e3,  1e-5, 1e-5,  1e-4,     1e-4,   1e-4,1e-4,-50],\n",
    "#          [1e-11,  1e-10, 1e8,   1e6,   1,      1e4,   1e8,   1e8,   1,     1e8,   1e15, 1e15, 1e5,  1e5,   100,      100,    1e2, 1e2,50])\n",
    "log_bounds = np.vstack([np.concatenate((np.log(bounds[0][:-1]), bounds[0][-1:])),\\\n",
    "                        np.concatenate((np.log(bounds[1][:-1]), bounds[1][-1:]))]).T\n",
    "#log_bounds = np.vstack([np.log(bounds[0]),np.log(bounds[1])]).T\n",
    "\n",
    "loss(x0, data, kwargs)"
   ]
  },
  {
   "cell_type": "code",
   "execution_count": 131,
   "metadata": {},
   "outputs": [],
   "source": [
    "%matplotlib inline"
   ]
  },
  {
   "cell_type": "code",
   "execution_count": 132,
   "metadata": {},
   "outputs": [
    {
     "data": {
      "text/plain": [
       "[<matplotlib.lines.Line2D at 0x7f82d73e2220>]"
      ]
     },
     "execution_count": 132,
     "metadata": {},
     "output_type": "execute_result"
    },
    {
     "data": {
      "image/png": "[encoded data removed]",
      "text/plain": [
       "<Figure size 432x288 with 1 Axes>"
      ]
     },
     "metadata": {
      "needs_background": "light"
     },
     "output_type": "display_data"
    }
   ],
   "source": [
    "plt.plot(calculate_I_out(x0, kwargs))\n",
    "plt.plot(data, '--')"
   ]
  },
  {
   "cell_type": "markdown",
   "metadata": {},
   "source": [
    "### minimize"
   ]
  },
  {
   "cell_type": "code",
   "execution_count": 133,
   "metadata": {
    "scrolled": false
   },
   "outputs": [
    {
     "name": "stderr",
     "output_type": "stream",
     "text": [
      "/home/nik/.local/lib/python3.8/site-packages/scipy/optimize/_minimize.py:533: RuntimeWarning: Method Nelder-Mead cannot handle constraints nor bounds.\n",
      "  warn('Method %s cannot handle constraints nor bounds.' % method,\n"
     ]
    }
   ],
   "source": [
    "#%%time\n",
    "#res = scop.minimize(loss, x0, bounds=bounds, args=(data, kwargs))\n",
    "#C_p C a0_m b0_m  delta_m  s_m   a0_h  b0_h    delta_h      s_h      R    R_p   g_max  g_leak  \"v_half_m\", \"v_half_h\", \"k_m\", \"k_h\", \"v_off\"\n",
    "kwargs = dict(v_list = v_list_1,\n",
    "              k_list = k_list_1,\n",
    "              t = t,\n",
    "              log_scale = True,\n",
    "              graph = False)\n",
    "res = scop.minimize(loss, x0, bounds = bounds, args=(data, kwargs),method = 'Nelder-Mead',\\\n",
    "                    options={ 'adaptive':True, 'maxiter':10000})"
   ]
  },
  {
   "cell_type": "code",
   "execution_count": 134,
   "metadata": {},
   "outputs": [
    {
     "data": {
      "text/plain": [
       "0.00023833391065469466"
      ]
     },
     "execution_count": 134,
     "metadata": {},
     "output_type": "execute_result"
    }
   ],
   "source": [
    "loss(res.x, data, kwargs)"
   ]
  },
  {
   "cell_type": "code",
   "execution_count": 135,
   "metadata": {},
   "outputs": [
    {
     "data": {
      "text/plain": [
       "24"
      ]
     },
     "execution_count": 135,
     "metadata": {},
     "output_type": "execute_result"
    }
   ],
   "source": [
    "len(bounds)"
   ]
  },
  {
   "cell_type": "code",
   "execution_count": 136,
   "metadata": {},
   "outputs": [
    {
     "name": "stdout",
     "output_type": "stream",
     "text": [
      "error in param =  [-1.40228984e-02  1.14119932e-06 -2.91749098e-01  4.76955494e-01\n",
      "  6.72759374e-01  5.58294580e-01  5.35549367e-01 -1.94010523e-01\n",
      "  2.07860941e-01  2.80888517e-01  4.44209452e-01 -1.51695894e+00\n",
      "  7.35585435e-01  9.48212923e-01  5.33193026e-01 -4.03214587e-06\n",
      "  2.36756401e-01  7.14621755e-01 -1.52745000e-05  4.17900134e-01\n",
      "  4.95914649e-01  6.44241194e-01  3.94663090e-01 -1.08173152e-03]\n"
     ]
    }
   ],
   "source": [
    "print('error in param = ' ,x_true_log - res.x)"
   ]
  },
  {
   "cell_type": "code",
   "execution_count": 137,
   "metadata": {},
   "outputs": [
    {
     "data": {
      "text/plain": [
       "[<matplotlib.lines.Line2D at 0x7f82dc7a3d90>]"
      ]
     },
     "execution_count": 137,
     "metadata": {},
     "output_type": "execute_result"
    },
    {
     "data": {
      "image/png": "[encoded data removed]",
      "text/plain": [
       "<Figure size 432x288 with 1 Axes>"
      ]
     },
     "metadata": {
      "needs_background": "light"
     },
     "output_type": "display_data"
    }
   ],
   "source": [
    "plt.plot(calculate_I_out(res.x, kwargs))\n",
    "plt.plot(data, '--')"
   ]
  },
  {
   "cell_type": "markdown",
   "metadata": {},
   "source": [
    " ### real_data_minimize\n"
   ]
  },
  {
   "cell_type": "code",
   "execution_count": 138,
   "metadata": {},
   "outputs": [],
   "source": [
    "def get_full_trace(a):\n",
    "    data = pd.read_csv( a ,delimiter= '\\t', header=None, skiprows = 11)\n",
    "    for k in range(1,21):\n",
    "        print(np.mean(data[k][:77]),np.mean(data[k][4877:]))\n",
    "#get_full_trace('../data/training/2020_12_19_0035 I-V INa 11,65 pF.atf')"
   ]
  },
  {
   "cell_type": "code",
   "execution_count": 139,
   "metadata": {},
   "outputs": [],
   "source": [
    "def line(x,k,l):\n",
    "    return k*x+l"
   ]
  },
  {
   "cell_type": "code",
   "execution_count": 159,
   "metadata": {},
   "outputs": [],
   "source": [
    "#x_true_log = np.load('one_start_scop_minimize.npy')\n",
    "sample_weight = np.zeros(5000)\n",
    "w1 = 1\n",
    "w2 = 5\n",
    "w3 = 10\n",
    "sample_weight[:]+= 1\n",
    "if True:\n",
    "    sample_weight[:70] += w2\n",
    "    sample_weight[90:500]+= w3\n",
    "    sample_weight[500:1070] += w2\n",
    "    sample_weight[1090:1500] += w3\n",
    "    sample_weight[1500:2070] += w2\n",
    "    sample_weight[2100:2400] += 50\n",
    "    sample_weight[2400:4070] += w2\n",
    "    sample_weight[4090:4500] += w3\n",
    "    sample_weight[4500:] += w2\n",
    "#sample_weight[k_list_1[2]+40:k_list_1[2]+900] += 1\n",
    "#sample"
   ]
  },
  {
   "cell_type": "code",
   "execution_count": 160,
   "metadata": {},
   "outputs": [],
   "source": [
    "def no_drift(data):\n",
    "    v = 1\n",
    "    final_data = np.zeros(len(data)*(len(data.columns)-1))\n",
    "    list_drift = np.concatenate((np.arange(0,77),np.arange(1500,2077))) \n",
    "    dif=len(data[0])\n",
    "    for k in range(1,len(data.columns)):\n",
    "        x_0 = np.arange(dif)\n",
    "        x = np.arange((k-1) * dif, k * dif)\n",
    "        data_drift = data[k][list_drift]\n",
    "        popt,pcov = scop.curve_fit(line, list_drift,data_drift)\n",
    "        drift = line(x_0,*popt)[::v]\n",
    "        final_data[(k-1) * dif : k * dif] = data[k] - drift\n",
    "        #plt.plot(x[::v], data[k][::v])\n",
    "        #plt.plot(x[::v], data[k][::v]-drift[::v])\n",
    "        #plt.plot(x[::v], drift[::v])\n",
    "    return final_data\n"
   ]
  },
  {
   "cell_type": "code",
   "execution_count": 161,
   "metadata": {},
   "outputs": [],
   "source": [
    "def no_drift_single(data):\n",
    "    v = 1\n",
    "    final_data = np.zeros(len(data))#*(len(data.columns)-1))\n",
    "    list_drift = np.concatenate((np.arange(0,77),np.arange(1500,2077))) \n",
    "    dif=len(data)\n",
    "    x_0 = np.arange(dif)\n",
    "    x = np.arange(0, dif)\n",
    "    data_drift = data[list_drift]\n",
    "    popt,pcov = scop.curve_fit(line, list_drift,data_drift)\n",
    "    drift = line(x_0,*popt)[::v]\n",
    "    final_data = data - drift\n",
    "    #plt.plot(x[::v], data[k][::v])\n",
    "    #plt.plot(x[::v], data[k][::v]-drift[::v])\n",
    "    #plt.plot(x[::v], drift[::v])\n",
    "    return final_data\n"
   ]
  },
  {
   "cell_type": "code",
   "execution_count": 162,
   "metadata": {},
   "outputs": [],
   "source": [
    "real_data = pd.read_csv('../data/training/2020_12_19_0035 I-V INa 11,65 pF.atf' ,delimiter= '\\t', header=None, skiprows = 11)\n",
    "real_data_small = real_data[14]\n",
    "#real_data_all = no_drift(real_data)#np.concatenate([real_data[k] for k in range(1,21)])\n",
    "real_data_all = np.concatenate([real_data[k] for k in range(1,21)])\n",
    "sample_weight_all = np.concatenate([sample_weight for k in range(1,21)])\n",
    "\n",
    "#sample_weights = np.zeros(5000)\n",
    "#sample_weights[2210:4000] += 1\n",
    "\n",
    "#p0 = np.array([6e-16, 1.6e-10, 90e+1,  3.9,-8.21,   12.8,    6.3,   1.75e02,    6.72,  -21.65,    5e6,   5e5,5e1,   5e-2,20,53,5,0.66, 5])\n",
    "                   \n",
    "bounds = ([1e-18, 1e-13,#C_f , C \n",
    "           1e-10, 1e-10, 1e-10, 1e-10,# a0_m , b0_m , delta_m , s_m \n",
    "           1e-10, 1e-10, 1e-10, 1e-10,#a0_h , b0_h , delta_h , s_h\n",
    "           1e-10, 1e-10, 1e-10, 1e-10, 1e-10,#a0_j , b0_j , delta_j , s_j, tau_j_const\n",
    "           1e+05, 1e+03, 1e-05, 1e-05,#R , R_f , g_max , g_leak\n",
    "           1e-04, 1e-04, 1e-04, 1e-04, -5e+01],#v_half_m , v_half_h , k_m , k_h\n",
    "          \n",
    "          [1e-11, 1e-10,#C_f , C \n",
    "           1e+08, 1e+08, 1e+08, 1e+08,# a0_m , b0_m , delta_m , s_m \n",
    "           1e+08, 1e+08, 1e+08, 1e+08,#a0_h , b0_h , delta_h , s_h\n",
    "           1e+08, 1e+08, 1e+08, 1e+08,#a0_j , b0_j , delta_j , s_j, tau_j_const\n",
    "           1e+15, 1e+15, 1e+05, 1e+05, 1e+06,#R , R_f , g_max , g_leak\n",
    "           1e+02, 1e+02, 1e+02, 1e+02, 5e+01])#v_half_m , v_half_h , k_m , k_h\n",
    "log_bounds = np.vstack([np.concatenate((np.log(bounds[0][:-1]), bounds[0][-1:]))\n",
    "                        , np.concatenate((np.log(bounds[1][:-1]), bounds[1][-1:]))]).T\n",
    "kwargs_for_count = dict(v_list = v_all,\n",
    "              k_list = k_all,\n",
    "              t = t_all,\n",
    "              log_scale = True,\n",
    "              graph = False,\n",
    "              sample_weight = sample_weight_all)\n"
   ]
  },
  {
   "cell_type": "code",
   "execution_count": 163,
   "metadata": {
    "scrolled": true
   },
   "outputs": [
    {
     "name": "stderr",
     "output_type": "stream",
     "text": [
      "/home/nik/.local/lib/python3.8/site-packages/scipy/optimize/_minimize.py:533: RuntimeWarning: Method Nelder-Mead cannot handle constraints nor bounds.\n",
      "  warn('Method %s cannot handle constraints nor bounds.' % method,\n"
     ]
    }
   ],
   "source": [
    "#%%time\n",
    "#res = scop.minimize(loss, p0, bounds=log_bounds, args=(real_data_all, kwargs_for_count),method = 'Nelder-Mead',\n",
    "#               options={ 'adaptive':True})\n",
    "res = scop.minimize(loss,  x_true_log, bounds=log_bounds, args=(real_data_all, kwargs_for_count),method = 'Nelder-Mead',\\\n",
    "                    options={ 'adaptive':True, 'maxiter':1000})"
   ]
  },
  {
   "cell_type": "code",
   "execution_count": 43,
   "metadata": {},
   "outputs": [],
   "source": [
    "#np.save(\"res_maxiter_1000\",res.x)"
   ]
  },
  {
   "cell_type": "code",
   "execution_count": 155,
   "metadata": {},
   "outputs": [
    {
     "data": {
      "text/plain": [
       "2468.156886977468"
      ]
     },
     "execution_count": 155,
     "metadata": {},
     "output_type": "execute_result"
    }
   ],
   "source": [
    "loss(res.x, real_data_all, kwargs_for_count)"
   ]
  },
  {
   "cell_type": "code",
   "execution_count": 171,
   "metadata": {},
   "outputs": [],
   "source": [
    "%matplotlib notebook"
   ]
  },
  {
   "cell_type": "code",
   "execution_count": 172,
   "metadata": {
    "scrolled": false
   },
   "outputs": [
    {
     "data": {
      "application/javascript": [
       "/* Put everything inside the global mpl namespace */\n",
       "/* global mpl */\n",
       "window.mpl = {};\n",
       "\n",
       "mpl.get_websocket_type = function () {\n",
       "    if (typeof WebSocket !== 'undefined') {\n",
       "        return WebSocket;\n",
       "    } else if (typeof MozWebSocket !== 'undefined') {\n",
       "        return MozWebSocket;\n",
       "    } else {\n",
       "        alert(\n",
       "            'Your browser does not have WebSocket support. ' +\n",
       "                'Please try Chrome, Safari or Firefox ≥ 6. ' +\n",
       "                'Firefox 4 and 5 are also supported but you ' +\n",
       "                'have to enable WebSockets in about:config.'\n",
       "        );\n",
       "    }\n",
       "};\n",
       "\n",
       "mpl.figure = function (figure_id, websocket, ondownload, parent_element) {\n",
       "    this.id = figure_id;\n",
       "\n",
       "    this.ws = websocket;\n",
       "\n",
       "    this.supports_binary = this.ws.binaryType !== undefined;\n",
       "\n",
       "    if (!this.supports_binary) {\n",
       "        var warnings = document.getElementById('mpl-warnings');\n",
       "        if (warnings) {\n",
       "            warnings.style.display = 'block';\n",
       "            warnings.textContent =\n",
       "                'This browser does not support binary websocket messages. ' +\n",
       "                'Performance may be slow.';\n",
       "        }\n",
       "    }\n",
       "\n",
       "    this.imageObj = new Image();\n",
       "\n",
       "    this.context = undefined;\n",
       "    this.message = undefined;\n",
       "    this.canvas = undefined;\n",
       "    this.rubberband_canvas = undefined;\n",
       "    this.rubberband_context = undefined;\n",
       "    this.format_dropdown = undefined;\n",
       "\n",
       "    this.image_mode = 'full';\n",
       "\n",
       "    this.root = document.createElement('div');\n",
       "    this.root.setAttribute('style', 'display: inline-block');\n",
       "    this._root_extra_style(this.root);\n",
       "\n",
       "    parent_element.appendChild(this.root);\n",
       "\n",
       "    this._init_header(this);\n",
       "    this._init_canvas(this);\n",
       "    this._init_toolbar(this);\n",
       "\n",
       "    var fig = this;\n",
       "\n",
       "    this.waiting = false;\n",
       "\n",
       "    this.ws.onopen = function () {\n",
       "        fig.send_message('supports_binary', { value: fig.supports_binary });\n",
       "        fig.send_message('send_image_mode', {});\n",
       "        if (fig.ratio !== 1) {\n",
       "            fig.send_message('set_dpi_ratio', { dpi_ratio: fig.ratio });\n",
       "        }\n",
       "        fig.send_message('refresh', {});\n",
       "    };\n",
       "\n",
       "    this.imageObj.onload = function () {\n",
       "        if (fig.image_mode === 'full') {\n",
       "            // Full images could contain transparency (where diff images\n",
       "            // almost always do), so we need to clear the canvas so that\n",
       "            // there is no ghosting.\n",
       "            fig.context.clearRect(0, 0, fig.canvas.width, fig.canvas.height);\n",
       "        }\n",
       "        fig.context.drawImage(fig.imageObj, 0, 0);\n",
       "    };\n",
       "\n",
       "    this.imageObj.onunload = function () {\n",
       "        fig.ws.close();\n",
       "    };\n",
       "\n",
       "    this.ws.onmessage = this._make_on_message_function(this);\n",
       "\n",
       "    this.ondownload = ondownload;\n",
       "};\n",
       "\n",
       "mpl.figure.prototype._init_header = function () {\n",
       "    var titlebar = document.createElement('div');\n",
       "    titlebar.classList =\n",
       "        'ui-dialog-titlebar ui-widget-header ui-corner-all ui-helper-clearfix';\n",
       "    var titletext = document.createElement('div');\n",
       "    titletext.classList = 'ui-dialog-title';\n",
       "    titletext.setAttribute(\n",
       "        'style',\n",
       "        'width: 100%; text-align: center; padding: 3px;'\n",
       "    );\n",
       "    titlebar.appendChild(titletext);\n",
       "    this.root.appendChild(titlebar);\n",
       "    this.header = titletext;\n",
       "};\n",
       "\n",
       "mpl.figure.prototype._canvas_extra_style = function (_canvas_div) {};\n",
       "\n",
       "mpl.figure.prototype._root_extra_style = function (_canvas_div) {};\n",
       "\n",
       "mpl.figure.prototype._init_canvas = function () {\n",
       "    var fig = this;\n",
       "\n",
       "    var canvas_div = (this.canvas_div = document.createElement('div'));\n",
       "    canvas_div.setAttribute(\n",
       "        'style',\n",
       "        'border: 1px solid #ddd;' +\n",
       "            'box-sizing: content-box;' +\n",
       "            'clear: both;' +\n",
       "            'min-height: 1px;' +\n",
       "            'min-width: 1px;' +\n",
       "            'outline: 0;' +\n",
       "            'overflow: hidden;' +\n",
       "            'position: relative;' +\n",
       "            'resize: both;'\n",
       "    );\n",
       "\n",
       "    function on_keyboard_event_closure(name) {\n",
       "        return function (event) {\n",
       "            return fig.key_event(event, name);\n",
       "        };\n",
       "    }\n",
       "\n",
       "    canvas_div.addEventListener(\n",
       "        'keydown',\n",
       "        on_keyboard_event_closure('key_press')\n",
       "    );\n",
       "    canvas_div.addEventListener(\n",
       "        'keyup',\n",
       "        on_keyboard_event_closure('key_release')\n",
       "    );\n",
       "\n",
       "    this._canvas_extra_style(canvas_div);\n",
       "    this.root.appendChild(canvas_div);\n",
       "\n",
       "    var canvas = (this.canvas = document.createElement('canvas'));\n",
       "    canvas.classList.add('mpl-canvas');\n",
       "    canvas.setAttribute('style', 'box-sizing: content-box;');\n",
       "\n",
       "    this.context = canvas.getContext('2d');\n",
       "\n",
       "    var backingStore =\n",
       "        this.context.backingStorePixelRatio ||\n",
       "        this.context.webkitBackingStorePixelRatio ||\n",
       "        this.context.mozBackingStorePixelRatio ||\n",
       "        this.context.msBackingStorePixelRatio ||\n",
       "        this.context.oBackingStorePixelRatio ||\n",
       "        this.context.backingStorePixelRatio ||\n",
       "        1;\n",
       "\n",
       "    this.ratio = (window.devicePixelRatio || 1) / backingStore;\n",
       "    if (this.ratio !== 1) {\n",
       "        fig.send_message('set_dpi_ratio', { dpi_ratio: this.ratio });\n",
       "    }\n",
       "\n",
       "    var rubberband_canvas = (this.rubberband_canvas = document.createElement(\n",
       "        'canvas'\n",
       "    ));\n",
       "    rubberband_canvas.setAttribute(\n",
       "        'style',\n",
       "        'box-sizing: content-box; position: absolute; left: 0; top: 0; z-index: 1;'\n",
       "    );\n",
       "\n",
       "    // Apply a ponyfill if ResizeObserver is not implemented by browser.\n",
       "    if (this.ResizeObserver === undefined) {\n",
       "        if (window.ResizeObserver !== undefined) {\n",
       "            this.ResizeObserver = window.ResizeObserver;\n",
       "        } else {\n",
       "            var obs = _JSXTOOLS_RESIZE_OBSERVER({});\n",
       "            this.ResizeObserver = obs.ResizeObserver;\n",
       "        }\n",
       "    }\n",
       "\n",
       "    this.resizeObserverInstance = new this.ResizeObserver(function (entries) {\n",
       "        var nentries = entries.length;\n",
       "        for (var i = 0; i < nentries; i++) {\n",
       "            var entry = entries[i];\n",
       "            var width, height;\n",
       "            if (entry.contentBoxSize) {\n",
       "                if (entry.contentBoxSize instanceof Array) {\n",
       "                    // Chrome 84 implements new version of spec.\n",
       "                    width = entry.contentBoxSize[0].inlineSize;\n",
       "                    height = entry.contentBoxSize[0].blockSize;\n",
       "                } else {\n",
       "                    // Firefox implements old version of spec.\n",
       "                    width = entry.contentBoxSize.inlineSize;\n",
       "                    height = entry.contentBoxSize.blockSize;\n",
       "                }\n",
       "            } else {\n",
       "                // Chrome <84 implements even older version of spec.\n",
       "                width = entry.contentRect.width;\n",
       "                height = entry.contentRect.height;\n",
       "            }\n",
       "\n",
       "            // Keep the size of the canvas and rubber band canvas in sync with\n",
       "            // the canvas container.\n",
       "            if (entry.devicePixelContentBoxSize) {\n",
       "                // Chrome 84 implements new version of spec.\n",
       "                canvas.setAttribute(\n",
       "                    'width',\n",
       "                    entry.devicePixelContentBoxSize[0].inlineSize\n",
       "                );\n",
       "                canvas.setAttribute(\n",
       "                    'height',\n",
       "                    entry.devicePixelContentBoxSize[0].blockSize\n",
       "                );\n",
       "            } else {\n",
       "                canvas.setAttribute('width', width * fig.ratio);\n",
       "                canvas.setAttribute('height', height * fig.ratio);\n",
       "            }\n",
       "            canvas.setAttribute(\n",
       "                'style',\n",
       "                'width: ' + width + 'px; height: ' + height + 'px;'\n",
       "            );\n",
       "\n",
       "            rubberband_canvas.setAttribute('width', width);\n",
       "            rubberband_canvas.setAttribute('height', height);\n",
       "\n",
       "            // And update the size in Python. We ignore the initial 0/0 size\n",
       "            // that occurs as the element is placed into the DOM, which should\n",
       "            // otherwise not happen due to the minimum size styling.\n",
       "            if (width != 0 && height != 0) {\n",
       "                fig.request_resize(width, height);\n",
       "            }\n",
       "        }\n",
       "    });\n",
       "    this.resizeObserverInstance.observe(canvas_div);\n",
       "\n",
       "    function on_mouse_event_closure(name) {\n",
       "        return function (event) {\n",
       "            return fig.mouse_event(event, name);\n",
       "        };\n",
       "    }\n",
       "\n",
       "    rubberband_canvas.addEventListener(\n",
       "        'mousedown',\n",
       "        on_mouse_event_closure('button_press')\n",
       "    );\n",
       "    rubberband_canvas.addEventListener(\n",
       "        'mouseup',\n",
       "        on_mouse_event_closure('button_release')\n",
       "    );\n",
       "    // Throttle sequential mouse events to 1 every 20ms.\n",
       "    rubberband_canvas.addEventListener(\n",
       "        'mousemove',\n",
       "        on_mouse_event_closure('motion_notify')\n",
       "    );\n",
       "\n",
       "    rubberband_canvas.addEventListener(\n",
       "        'mouseenter',\n",
       "        on_mouse_event_closure('figure_enter')\n",
       "    );\n",
       "    rubberband_canvas.addEventListener(\n",
       "        'mouseleave',\n",
       "        on_mouse_event_closure('figure_leave')\n",
       "    );\n",
       "\n",
       "    canvas_div.addEventListener('wheel', function (event) {\n",
       "        if (event.deltaY < 0) {\n",
       "            event.step = 1;\n",
       "        } else {\n",
       "            event.step = -1;\n",
       "        }\n",
       "        on_mouse_event_closure('scroll')(event);\n",
       "    });\n",
       "\n",
       "    canvas_div.appendChild(canvas);\n",
       "    canvas_div.appendChild(rubberband_canvas);\n",
       "\n",
       "    this.rubberband_context = rubberband_canvas.getContext('2d');\n",
       "    this.rubberband_context.strokeStyle = '#000000';\n",
       "\n",
       "    this._resize_canvas = function (width, height, forward) {\n",
       "        if (forward) {\n",
       "            canvas_div.style.width = width + 'px';\n",
       "            canvas_div.style.height = height + 'px';\n",
       "        }\n",
       "    };\n",
       "\n",
       "    // Disable right mouse context menu.\n",
       "    this.rubberband_canvas.addEventListener('contextmenu', function (_e) {\n",
       "        event.preventDefault();\n",
       "        return false;\n",
       "    });\n",
       "\n",
       "    function set_focus() {\n",
       "        canvas.focus();\n",
       "        canvas_div.focus();\n",
       "    }\n",
       "\n",
       "    window.setTimeout(set_focus, 100);\n",
       "};\n",
       "\n",
       "mpl.figure.prototype._init_toolbar = function () {\n",
       "    var fig = this;\n",
       "\n",
       "    var toolbar = document.createElement('div');\n",
       "    toolbar.classList = 'mpl-toolbar';\n",
       "    this.root.appendChild(toolbar);\n",
       "\n",
       "    function on_click_closure(name) {\n",
       "        return function (_event) {\n",
       "            return fig.toolbar_button_onclick(name);\n",
       "        };\n",
       "    }\n",
       "\n",
       "    function on_mouseover_closure(tooltip) {\n",
       "        return function (event) {\n",
       "            if (!event.currentTarget.disabled) {\n",
       "                return fig.toolbar_button_onmouseover(tooltip);\n",
       "            }\n",
       "        };\n",
       "    }\n",
       "\n",
       "    fig.buttons = {};\n",
       "    var buttonGroup = document.createElement('div');\n",
       "    buttonGroup.classList = 'mpl-button-group';\n",
       "    for (var toolbar_ind in mpl.toolbar_items) {\n",
       "        var name = mpl.toolbar_items[toolbar_ind][0];\n",
       "        var tooltip = mpl.toolbar_items[toolbar_ind][1];\n",
       "        var image = mpl.toolbar_items[toolbar_ind][2];\n",
       "        var method_name = mpl.toolbar_items[toolbar_ind][3];\n",
       "\n",
       "        if (!name) {\n",
       "            /* Instead of a spacer, we start a new button group. */\n",
       "            if (buttonGroup.hasChildNodes()) {\n",
       "                toolbar.appendChild(buttonGroup);\n",
       "            }\n",
       "            buttonGroup = document.createElement('div');\n",
       "            buttonGroup.classList = 'mpl-button-group';\n",
       "            continue;\n",
       "        }\n",
       "\n",
       "        var button = (fig.buttons[name] = document.createElement('button'));\n",
       "        button.classList = 'mpl-widget';\n",
       "        button.setAttribute('role', 'button');\n",
       "        button.setAttribute('aria-disabled', 'false');\n",
       "        button.addEventListener('click', on_click_closure(method_name));\n",
       "        button.addEventListener('mouseover', on_mouseover_closure(tooltip));\n",
       "\n",
       "        var icon_img = document.createElement('img');\n",
       "        icon_img.src = '_images/' + image + '.png';\n",
       "        icon_img.srcset = '_images/' + image + '_large.png 2x';\n",
       "        icon_img.alt = tooltip;\n",
       "        button.appendChild(icon_img);\n",
       "\n",
       "        buttonGroup.appendChild(button);\n",
       "    }\n",
       "\n",
       "    if (buttonGroup.hasChildNodes()) {\n",
       "        toolbar.appendChild(buttonGroup);\n",
       "    }\n",
       "\n",
       "    var fmt_picker = document.createElement('select');\n",
       "    fmt_picker.classList = 'mpl-widget';\n",
       "    toolbar.appendChild(fmt_picker);\n",
       "    this.format_dropdown = fmt_picker;\n",
       "\n",
       "    for (var ind in mpl.extensions) {\n",
       "        var fmt = mpl.extensions[ind];\n",
       "        var option = document.createElement('option');\n",
       "        option.selected = fmt === mpl.default_extension;\n",
       "        option.innerHTML = fmt;\n",
       "        fmt_picker.appendChild(option);\n",
       "    }\n",
       "\n",
       "    var status_bar = document.createElement('span');\n",
       "    status_bar.classList = 'mpl-message';\n",
       "    toolbar.appendChild(status_bar);\n",
       "    this.message = status_bar;\n",
       "};\n",
       "\n",
       "mpl.figure.prototype.request_resize = function (x_pixels, y_pixels) {\n",
       "    // Request matplotlib to resize the figure. Matplotlib will then trigger a resize in the client,\n",
       "    // which will in turn request a refresh of the image.\n",
       "    this.send_message('resize', { width: x_pixels, height: y_pixels });\n",
       "};\n",
       "\n",
       "mpl.figure.prototype.send_message = function (type, properties) {\n",
       "    properties['type'] = type;\n",
       "    properties['figure_id'] = this.id;\n",
       "    this.ws.send(JSON.stringify(properties));\n",
       "};\n",
       "\n",
       "mpl.figure.prototype.send_draw_message = function () {\n",
       "    if (!this.waiting) {\n",
       "        this.waiting = true;\n",
       "        this.ws.send(JSON.stringify({ type: 'draw', figure_id: this.id }));\n",
       "    }\n",
       "};\n",
       "\n",
       "mpl.figure.prototype.handle_save = function (fig, _msg) {\n",
       "    var format_dropdown = fig.format_dropdown;\n",
       "    var format = format_dropdown.options[format_dropdown.selectedIndex].value;\n",
       "    fig.ondownload(fig, format);\n",
       "};\n",
       "\n",
       "mpl.figure.prototype.handle_resize = function (fig, msg) {\n",
       "    var size = msg['size'];\n",
       "    if (size[0] !== fig.canvas.width || size[1] !== fig.canvas.height) {\n",
       "        fig._resize_canvas(size[0], size[1], msg['forward']);\n",
       "        fig.send_message('refresh', {});\n",
       "    }\n",
       "};\n",
       "\n",
       "mpl.figure.prototype.handle_rubberband = function (fig, msg) {\n",
       "    var x0 = msg['x0'] / fig.ratio;\n",
       "    var y0 = (fig.canvas.height - msg['y0']) / fig.ratio;\n",
       "    var x1 = msg['x1'] / fig.ratio;\n",
       "    var y1 = (fig.canvas.height - msg['y1']) / fig.ratio;\n",
       "    x0 = Math.floor(x0) + 0.5;\n",
       "    y0 = Math.floor(y0) + 0.5;\n",
       "    x1 = Math.floor(x1) + 0.5;\n",
       "    y1 = Math.floor(y1) + 0.5;\n",
       "    var min_x = Math.min(x0, x1);\n",
       "    var min_y = Math.min(y0, y1);\n",
       "    var width = Math.abs(x1 - x0);\n",
       "    var height = Math.abs(y1 - y0);\n",
       "\n",
       "    fig.rubberband_context.clearRect(\n",
       "        0,\n",
       "        0,\n",
       "        fig.canvas.width / fig.ratio,\n",
       "        fig.canvas.height / fig.ratio\n",
       "    );\n",
       "\n",
       "    fig.rubberband_context.strokeRect(min_x, min_y, width, height);\n",
       "};\n",
       "\n",
       "mpl.figure.prototype.handle_figure_label = function (fig, msg) {\n",
       "    // Updates the figure title.\n",
       "    fig.header.textContent = msg['label'];\n",
       "};\n",
       "\n",
       "mpl.figure.prototype.handle_cursor = function (fig, msg) {\n",
       "    var cursor = msg['cursor'];\n",
       "    switch (cursor) {\n",
       "        case 0:\n",
       "            cursor = 'pointer';\n",
       "            break;\n",
       "        case 1:\n",
       "            cursor = 'default';\n",
       "            break;\n",
       "        case 2:\n",
       "            cursor = 'crosshair';\n",
       "            break;\n",
       "        case 3:\n",
       "            cursor = 'move';\n",
       "            break;\n",
       "    }\n",
       "    fig.rubberband_canvas.style.cursor = cursor;\n",
       "};\n",
       "\n",
       "mpl.figure.prototype.handle_message = function (fig, msg) {\n",
       "    fig.message.textContent = msg['message'];\n",
       "};\n",
       "\n",
       "mpl.figure.prototype.handle_draw = function (fig, _msg) {\n",
       "    // Request the server to send over a new figure.\n",
       "    fig.send_draw_message();\n",
       "};\n",
       "\n",
       "mpl.figure.prototype.handle_image_mode = function (fig, msg) {\n",
       "    fig.image_mode = msg['mode'];\n",
       "};\n",
       "\n",
       "mpl.figure.prototype.handle_history_buttons = function (fig, msg) {\n",
       "    for (var key in msg) {\n",
       "        if (!(key in fig.buttons)) {\n",
       "            continue;\n",
       "        }\n",
       "        fig.buttons[key].disabled = !msg[key];\n",
       "        fig.buttons[key].setAttribute('aria-disabled', !msg[key]);\n",
       "    }\n",
       "};\n",
       "\n",
       "mpl.figure.prototype.handle_navigate_mode = function (fig, msg) {\n",
       "    if (msg['mode'] === 'PAN') {\n",
       "        fig.buttons['Pan'].classList.add('active');\n",
       "        fig.buttons['Zoom'].classList.remove('active');\n",
       "    } else if (msg['mode'] === 'ZOOM') {\n",
       "        fig.buttons['Pan'].classList.remove('active');\n",
       "        fig.buttons['Zoom'].classList.add('active');\n",
       "    } else {\n",
       "        fig.buttons['Pan'].classList.remove('active');\n",
       "        fig.buttons['Zoom'].classList.remove('active');\n",
       "    }\n",
       "};\n",
       "\n",
       "mpl.figure.prototype.updated_canvas_event = function () {\n",
       "    // Called whenever the canvas gets updated.\n",
       "    this.send_message('ack', {});\n",
       "};\n",
       "\n",
       "// A function to construct a web socket function for onmessage handling.\n",
       "// Called in the figure constructor.\n",
       "mpl.figure.prototype._make_on_message_function = function (fig) {\n",
       "    return function socket_on_message(evt) {\n",
       "        if (evt.data instanceof Blob) {\n",
       "            /* FIXME: We get \"Resource interpreted as Image but\n",
       "             * transferred with MIME type text/plain:\" errors on\n",
       "             * Chrome.  But how to set the MIME type?  It doesn't seem\n",
       "             * to be part of the websocket stream */\n",
       "            evt.data.type = 'image/png';\n",
       "\n",
       "            /* Free the memory for the previous frames */\n",
       "            if (fig.imageObj.src) {\n",
       "                (window.URL || window.webkitURL).revokeObjectURL(\n",
       "                    fig.imageObj.src\n",
       "                );\n",
       "            }\n",
       "\n",
       "            fig.imageObj.src = (window.URL || window.webkitURL).createObjectURL(\n",
       "                evt.data\n",
       "            );\n",
       "            fig.updated_canvas_event();\n",
       "            fig.waiting = false;\n",
       "            return;\n",
       "        } else if (\n",
       "            typeof evt.data === 'string' &&\n",
       "            evt.data.slice(0, 21) === 'data:image/png;base64'\n",
       "        ) {\n",
       "            fig.imageObj.src = evt.data;\n",
       "            fig.updated_canvas_event();\n",
       "            fig.waiting = false;\n",
       "            return;\n",
       "        }\n",
       "\n",
       "        var msg = JSON.parse(evt.data);\n",
       "        var msg_type = msg['type'];\n",
       "\n",
       "        // Call the  \"handle_{type}\" callback, which takes\n",
       "        // the figure and JSON message as its only arguments.\n",
       "        try {\n",
       "            var callback = fig['handle_' + msg_type];\n",
       "        } catch (e) {\n",
       "            console.log(\n",
       "                \"No handler for the '\" + msg_type + \"' message type: \",\n",
       "                msg\n",
       "            );\n",
       "            return;\n",
       "        }\n",
       "\n",
       "        if (callback) {\n",
       "            try {\n",
       "                // console.log(\"Handling '\" + msg_type + \"' message: \", msg);\n",
       "                callback(fig, msg);\n",
       "            } catch (e) {\n",
       "                console.log(\n",
       "                    \"Exception inside the 'handler_\" + msg_type + \"' callback:\",\n",
       "                    e,\n",
       "                    e.stack,\n",
       "                    msg\n",
       "                );\n",
       "            }\n",
       "        }\n",
       "    };\n",
       "};\n",
       "\n",
       "// from http://stackoverflow.com/questions/1114465/getting-mouse-location-in-canvas\n",
       "mpl.findpos = function (e) {\n",
       "    //this section is from http://www.quirksmode.org/js/events_properties.html\n",
       "    var targ;\n",
       "    if (!e) {\n",
       "        e = window.event;\n",
       "    }\n",
       "    if (e.target) {\n",
       "        targ = e.target;\n",
       "    } else if (e.srcElement) {\n",
       "        targ = e.srcElement;\n",
       "    }\n",
       "    if (targ.nodeType === 3) {\n",
       "        // defeat Safari bug\n",
       "        targ = targ.parentNode;\n",
       "    }\n",
       "\n",
       "    // pageX,Y are the mouse positions relative to the document\n",
       "    var boundingRect = targ.getBoundingClientRect();\n",
       "    var x = e.pageX - (boundingRect.left + document.body.scrollLeft);\n",
       "    var y = e.pageY - (boundingRect.top + document.body.scrollTop);\n",
       "\n",
       "    return { x: x, y: y };\n",
       "};\n",
       "\n",
       "/*\n",
       " * return a copy of an object with only non-object keys\n",
       " * we need this to avoid circular references\n",
       " * http://stackoverflow.com/a/24161582/3208463\n",
       " */\n",
       "function simpleKeys(original) {\n",
       "    return Object.keys(original).reduce(function (obj, key) {\n",
       "        if (typeof original[key] !== 'object') {\n",
       "            obj[key] = original[key];\n",
       "        }\n",
       "        return obj;\n",
       "    }, {});\n",
       "}\n",
       "\n",
       "mpl.figure.prototype.mouse_event = function (event, name) {\n",
       "    var canvas_pos = mpl.findpos(event);\n",
       "\n",
       "    if (name === 'button_press') {\n",
       "        this.canvas.focus();\n",
       "        this.canvas_div.focus();\n",
       "    }\n",
       "\n",
       "    var x = canvas_pos.x * this.ratio;\n",
       "    var y = canvas_pos.y * this.ratio;\n",
       "\n",
       "    this.send_message(name, {\n",
       "        x: x,\n",
       "        y: y,\n",
       "        button: event.button,\n",
       "        step: event.step,\n",
       "        guiEvent: simpleKeys(event),\n",
       "    });\n",
       "\n",
       "    /* This prevents the web browser from automatically changing to\n",
       "     * the text insertion cursor when the button is pressed.  We want\n",
       "     * to control all of the cursor setting manually through the\n",
       "     * 'cursor' event from matplotlib */\n",
       "    event.preventDefault();\n",
       "    return false;\n",
       "};\n",
       "\n",
       "mpl.figure.prototype._key_event_extra = function (_event, _name) {\n",
       "    // Handle any extra behaviour associated with a key event\n",
       "};\n",
       "\n",
       "mpl.figure.prototype.key_event = function (event, name) {\n",
       "    // Prevent repeat events\n",
       "    if (name === 'key_press') {\n",
       "        if (event.which === this._key) {\n",
       "            return;\n",
       "        } else {\n",
       "            this._key = event.which;\n",
       "        }\n",
       "    }\n",
       "    if (name === 'key_release') {\n",
       "        this._key = null;\n",
       "    }\n",
       "\n",
       "    var value = '';\n",
       "    if (event.ctrlKey && event.which !== 17) {\n",
       "        value += 'ctrl+';\n",
       "    }\n",
       "    if (event.altKey && event.which !== 18) {\n",
       "        value += 'alt+';\n",
       "    }\n",
       "    if (event.shiftKey && event.which !== 16) {\n",
       "        value += 'shift+';\n",
       "    }\n",
       "\n",
       "    value += 'k';\n",
       "    value += event.which.toString();\n",
       "\n",
       "    this._key_event_extra(event, name);\n",
       "\n",
       "    this.send_message(name, { key: value, guiEvent: simpleKeys(event) });\n",
       "    return false;\n",
       "};\n",
       "\n",
       "mpl.figure.prototype.toolbar_button_onclick = function (name) {\n",
       "    if (name === 'download') {\n",
       "        this.handle_save(this, null);\n",
       "    } else {\n",
       "        this.send_message('toolbar_button', { name: name });\n",
       "    }\n",
       "};\n",
       "\n",
       "mpl.figure.prototype.toolbar_button_onmouseover = function (tooltip) {\n",
       "    this.message.textContent = tooltip;\n",
       "};\n",
       "\n",
       "///////////////// REMAINING CONTENT GENERATED BY embed_js.py /////////////////\n",
       "// prettier-ignore\n",
       "var _JSXTOOLS_RESIZE_OBSERVER=function(A){var t,i=new WeakMap,n=new WeakMap,a=new WeakMap,r=new WeakMap,o=new Set;function s(e){if(!(this instanceof s))throw new TypeError(\"Constructor requires 'new' operator\");i.set(this,e)}function h(){throw new TypeError(\"Function is not a constructor\")}function c(e,t,i,n){e=0 in arguments?Number(arguments[0]):0,t=1 in arguments?Number(arguments[1]):0,i=2 in arguments?Number(arguments[2]):0,n=3 in arguments?Number(arguments[3]):0,this.right=(this.x=this.left=e)+(this.width=i),this.bottom=(this.y=this.top=t)+(this.height=n),Object.freeze(this)}function d(){t=requestAnimationFrame(d);var s=new WeakMap,p=new Set;o.forEach((function(t){r.get(t).forEach((function(i){var r=t instanceof window.SVGElement,o=a.get(t),d=r?0:parseFloat(o.paddingTop),f=r?0:parseFloat(o.paddingRight),l=r?0:parseFloat(o.paddingBottom),u=r?0:parseFloat(o.paddingLeft),g=r?0:parseFloat(o.borderTopWidth),m=r?0:parseFloat(o.borderRightWidth),w=r?0:parseFloat(o.borderBottomWidth),b=u+f,F=d+l,v=(r?0:parseFloat(o.borderLeftWidth))+m,W=g+w,y=r?0:t.offsetHeight-W-t.clientHeight,E=r?0:t.offsetWidth-v-t.clientWidth,R=b+v,z=F+W,M=r?t.width:parseFloat(o.width)-R-E,O=r?t.height:parseFloat(o.height)-z-y;if(n.has(t)){var k=n.get(t);if(k[0]===M&&k[1]===O)return}n.set(t,[M,O]);var S=Object.create(h.prototype);S.target=t,S.contentRect=new c(u,d,M,O),s.has(i)||(s.set(i,[]),p.add(i)),s.get(i).push(S)}))})),p.forEach((function(e){i.get(e).call(e,s.get(e),e)}))}return s.prototype.observe=function(i){if(i instanceof window.Element){r.has(i)||(r.set(i,new Set),o.add(i),a.set(i,window.getComputedStyle(i)));var n=r.get(i);n.has(this)||n.add(this),cancelAnimationFrame(t),t=requestAnimationFrame(d)}},s.prototype.unobserve=function(i){if(i instanceof window.Element&&r.has(i)){var n=r.get(i);n.has(this)&&(n.delete(this),n.size||(r.delete(i),o.delete(i))),n.size||r.delete(i),o.size||cancelAnimationFrame(t)}},A.DOMRectReadOnly=c,A.ResizeObserver=s,A.ResizeObserverEntry=h,A}; // eslint-disable-line\n",
       "mpl.toolbar_items = [[\"Home\", \"Reset original view\", \"fa fa-home icon-home\", \"home\"], [\"Back\", \"Back to previous view\", \"fa fa-arrow-left icon-arrow-left\", \"back\"], [\"Forward\", \"Forward to next view\", \"fa fa-arrow-right icon-arrow-right\", \"forward\"], [\"\", \"\", \"\", \"\"], [\"Pan\", \"Left button pans, Right button zooms\\nx/y fixes axis, CTRL fixes aspect\", \"fa fa-arrows icon-move\", \"pan\"], [\"Zoom\", \"Zoom to rectangle\\nx/y fixes axis, CTRL fixes aspect\", \"fa fa-square-o icon-check-empty\", \"zoom\"], [\"\", \"\", \"\", \"\"], [\"Download\", \"Download plot\", \"fa fa-floppy-o icon-save\", \"download\"]];\n",
       "\n",
       "mpl.extensions = [\"eps\", \"jpeg\", \"pdf\", \"png\", \"ps\", \"raw\", \"svg\", \"tif\"];\n",
       "\n",
       "mpl.default_extension = \"png\";/* global mpl */\n",
       "\n",
       "var comm_websocket_adapter = function (comm) {\n",
       "    // Create a \"websocket\"-like object which calls the given IPython comm\n",
       "    // object with the appropriate methods. Currently this is a non binary\n",
       "    // socket, so there is still some room for performance tuning.\n",
       "    var ws = {};\n",
       "\n",
       "    ws.close = function () {\n",
       "        comm.close();\n",
       "    };\n",
       "    ws.send = function (m) {\n",
       "        //console.log('sending', m);\n",
       "        comm.send(m);\n",
       "    };\n",
       "    // Register the callback with on_msg.\n",
       "    comm.on_msg(function (msg) {\n",
       "        //console.log('receiving', msg['content']['data'], msg);\n",
       "        // Pass the mpl event to the overridden (by mpl) onmessage function.\n",
       "        ws.onmessage(msg['content']['data']);\n",
       "    });\n",
       "    return ws;\n",
       "};\n",
       "\n",
       "mpl.mpl_figure_comm = function (comm, msg) {\n",
       "    // This is the function which gets called when the mpl process\n",
       "    // starts-up an IPython Comm through the \"matplotlib\" channel.\n",
       "\n",
       "    var id = msg.content.data.id;\n",
       "    // Get hold of the div created by the display call when the Comm\n",
       "    // socket was opened in Python.\n",
       "    var element = document.getElementById(id);\n",
       "    var ws_proxy = comm_websocket_adapter(comm);\n",
       "\n",
       "    function ondownload(figure, _format) {\n",
       "        window.open(figure.canvas.toDataURL());\n",
       "    }\n",
       "\n",
       "    var fig = new mpl.figure(id, ws_proxy, ondownload, element);\n",
       "\n",
       "    // Call onopen now - mpl needs it, as it is assuming we've passed it a real\n",
       "    // web socket which is closed, not our websocket->open comm proxy.\n",
       "    ws_proxy.onopen();\n",
       "\n",
       "    fig.parent_element = element;\n",
       "    fig.cell_info = mpl.find_output_cell(\"<div id='\" + id + \"'></div>\");\n",
       "    if (!fig.cell_info) {\n",
       "        console.error('Failed to find cell for figure', id, fig);\n",
       "        return;\n",
       "    }\n",
       "    fig.cell_info[0].output_area.element.on(\n",
       "        'cleared',\n",
       "        { fig: fig },\n",
       "        fig._remove_fig_handler\n",
       "    );\n",
       "};\n",
       "\n",
       "mpl.figure.prototype.handle_close = function (fig, msg) {\n",
       "    var width = fig.canvas.width / fig.ratio;\n",
       "    fig.cell_info[0].output_area.element.off(\n",
       "        'cleared',\n",
       "        fig._remove_fig_handler\n",
       "    );\n",
       "    fig.resizeObserverInstance.unobserve(fig.canvas_div);\n",
       "\n",
       "    // Update the output cell to use the data from the current canvas.\n",
       "    fig.push_to_output();\n",
       "    var dataURL = fig.canvas.toDataURL();\n",
       "    // Re-enable the keyboard manager in IPython - without this line, in FF,\n",
       "    // the notebook keyboard shortcuts fail.\n",
       "    IPython.keyboard_manager.enable();\n",
       "    fig.parent_element.innerHTML =\n",
       "        '<img src=\"' + dataURL + '\" width=\"' + width + '\">';\n",
       "    fig.close_ws(fig, msg);\n",
       "};\n",
       "\n",
       "mpl.figure.prototype.close_ws = function (fig, msg) {\n",
       "    fig.send_message('closing', msg);\n",
       "    // fig.ws.close()\n",
       "};\n",
       "\n",
       "mpl.figure.prototype.push_to_output = function (_remove_interactive) {\n",
       "    // Turn the data on the canvas into data in the output cell.\n",
       "    var width = this.canvas.width / this.ratio;\n",
       "    var dataURL = this.canvas.toDataURL();\n",
       "    this.cell_info[1]['text/html'] =\n",
       "        '<img src=\"' + dataURL + '\" width=\"' + width + '\">';\n",
       "};\n",
       "\n",
       "mpl.figure.prototype.updated_canvas_event = function () {\n",
       "    // Tell IPython that the notebook contents must change.\n",
       "    IPython.notebook.set_dirty(true);\n",
       "    this.send_message('ack', {});\n",
       "    var fig = this;\n",
       "    // Wait a second, then push the new image to the DOM so\n",
       "    // that it is saved nicely (might be nice to debounce this).\n",
       "    setTimeout(function () {\n",
       "        fig.push_to_output();\n",
       "    }, 1000);\n",
       "};\n",
       "\n",
       "mpl.figure.prototype._init_toolbar = function () {\n",
       "    var fig = this;\n",
       "\n",
       "    var toolbar = document.createElement('div');\n",
       "    toolbar.classList = 'btn-toolbar';\n",
       "    this.root.appendChild(toolbar);\n",
       "\n",
       "    function on_click_closure(name) {\n",
       "        return function (_event) {\n",
       "            return fig.toolbar_button_onclick(name);\n",
       "        };\n",
       "    }\n",
       "\n",
       "    function on_mouseover_closure(tooltip) {\n",
       "        return function (event) {\n",
       "            if (!event.currentTarget.disabled) {\n",
       "                return fig.toolbar_button_onmouseover(tooltip);\n",
       "            }\n",
       "        };\n",
       "    }\n",
       "\n",
       "    fig.buttons = {};\n",
       "    var buttonGroup = document.createElement('div');\n",
       "    buttonGroup.classList = 'btn-group';\n",
       "    var button;\n",
       "    for (var toolbar_ind in mpl.toolbar_items) {\n",
       "        var name = mpl.toolbar_items[toolbar_ind][0];\n",
       "        var tooltip = mpl.toolbar_items[toolbar_ind][1];\n",
       "        var image = mpl.toolbar_items[toolbar_ind][2];\n",
       "        var method_name = mpl.toolbar_items[toolbar_ind][3];\n",
       "\n",
       "        if (!name) {\n",
       "            /* Instead of a spacer, we start a new button group. */\n",
       "            if (buttonGroup.hasChildNodes()) {\n",
       "                toolbar.appendChild(buttonGroup);\n",
       "            }\n",
       "            buttonGroup = document.createElement('div');\n",
       "            buttonGroup.classList = 'btn-group';\n",
       "            continue;\n",
       "        }\n",
       "\n",
       "        button = fig.buttons[name] = document.createElement('button');\n",
       "        button.classList = 'btn btn-default';\n",
       "        button.href = '#';\n",
       "        button.title = name;\n",
       "        button.innerHTML = '<i class=\"fa ' + image + ' fa-lg\"></i>';\n",
       "        button.addEventListener('click', on_click_closure(method_name));\n",
       "        button.addEventListener('mouseover', on_mouseover_closure(tooltip));\n",
       "        buttonGroup.appendChild(button);\n",
       "    }\n",
       "\n",
       "    if (buttonGroup.hasChildNodes()) {\n",
       "        toolbar.appendChild(buttonGroup);\n",
       "    }\n",
       "\n",
       "    // Add the status bar.\n",
       "    var status_bar = document.createElement('span');\n",
       "    status_bar.classList = 'mpl-message pull-right';\n",
       "    toolbar.appendChild(status_bar);\n",
       "    this.message = status_bar;\n",
       "\n",
       "    // Add the close button to the window.\n",
       "    var buttongrp = document.createElement('div');\n",
       "    buttongrp.classList = 'btn-group inline pull-right';\n",
       "    button = document.createElement('button');\n",
       "    button.classList = 'btn btn-mini btn-primary';\n",
       "    button.href = '#';\n",
       "    button.title = 'Stop Interaction';\n",
       "    button.innerHTML = '<i class=\"fa fa-power-off icon-remove icon-large\"></i>';\n",
       "    button.addEventListener('click', function (_evt) {\n",
       "        fig.handle_close(fig, {});\n",
       "    });\n",
       "    button.addEventListener(\n",
       "        'mouseover',\n",
       "        on_mouseover_closure('Stop Interaction')\n",
       "    );\n",
       "    buttongrp.appendChild(button);\n",
       "    var titlebar = this.root.querySelector('.ui-dialog-titlebar');\n",
       "    titlebar.insertBefore(buttongrp, titlebar.firstChild);\n",
       "};\n",
       "\n",
       "mpl.figure.prototype._remove_fig_handler = function (event) {\n",
       "    var fig = event.data.fig;\n",
       "    if (event.target !== this) {\n",
       "        // Ignore bubbled events from children.\n",
       "        return;\n",
       "    }\n",
       "    fig.close_ws(fig, {});\n",
       "};\n",
       "\n",
       "mpl.figure.prototype._root_extra_style = function (el) {\n",
       "    el.style.boxSizing = 'content-box'; // override notebook setting of border-box.\n",
       "};\n",
       "\n",
       "mpl.figure.prototype._canvas_extra_style = function (el) {\n",
       "    // this is important to make the div 'focusable\n",
       "    el.setAttribute('tabindex', 0);\n",
       "    // reach out to IPython and tell the keyboard manager to turn it's self\n",
       "    // off when our div gets focus\n",
       "\n",
       "    // location in version 3\n",
       "    if (IPython.notebook.keyboard_manager) {\n",
       "        IPython.notebook.keyboard_manager.register_events(el);\n",
       "    } else {\n",
       "        // location in version 2\n",
       "        IPython.keyboard_manager.register_events(el);\n",
       "    }\n",
       "};\n",
       "\n",
       "mpl.figure.prototype._key_event_extra = function (event, _name) {\n",
       "    var manager = IPython.notebook.keyboard_manager;\n",
       "    if (!manager) {\n",
       "        manager = IPython.keyboard_manager;\n",
       "    }\n",
       "\n",
       "    // Check for shift+enter\n",
       "    if (event.shiftKey && event.which === 13) {\n",
       "        this.canvas_div.blur();\n",
       "        // select the cell after this one\n",
       "        var index = IPython.notebook.find_cell_index(this.cell_info[0]);\n",
       "        IPython.notebook.select(index + 1);\n",
       "    }\n",
       "};\n",
       "\n",
       "mpl.figure.prototype.handle_save = function (fig, _msg) {\n",
       "    fig.ondownload(fig, null);\n",
       "};\n",
       "\n",
       "mpl.find_output_cell = function (html_output) {\n",
       "    // Return the cell and output element which can be found *uniquely* in the notebook.\n",
       "    // Note - this is a bit hacky, but it is done because the \"notebook_saving.Notebook\"\n",
       "    // IPython event is triggered only after the cells have been serialised, which for\n",
       "    // our purposes (turning an active figure into a static one), is too late.\n",
       "    var cells = IPython.notebook.get_cells();\n",
       "    var ncells = cells.length;\n",
       "    for (var i = 0; i < ncells; i++) {\n",
       "        var cell = cells[i];\n",
       "        if (cell.cell_type === 'code') {\n",
       "            for (var j = 0; j < cell.output_area.outputs.length; j++) {\n",
       "                var data = cell.output_area.outputs[j];\n",
       "                if (data.data) {\n",
       "                    // IPython >= 3 moved mimebundle to data attribute of output\n",
       "                    data = data.data;\n",
       "                }\n",
       "                if (data['text/html'] === html_output) {\n",
       "                    return [cell, data, j];\n",
       "                }\n",
       "            }\n",
       "        }\n",
       "    }\n",
       "};\n",
       "\n",
       "// Register the function which deals with the matplotlib target/channel.\n",
       "// The kernel may be null if the page has been refreshed.\n",
       "if (IPython.notebook.kernel !== null) {\n",
       "    IPython.notebook.kernel.comm_manager.register_target(\n",
       "        'matplotlib',\n",
       "        mpl.mpl_figure_comm\n",
       "    );\n",
       "}\n"
      ],
      "text/plain": [
       "<IPython.core.display.Javascript object>"
      ]
     },
     "metadata": {},
     "output_type": "display_data"
    },
    {
     "data": {
      "text/html": [
       "<img src=\"data:image/png;base64,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\" width=\"876\">"
      ],
      "text/plain": [
       "<IPython.core.display.HTML object>"
      ]
     },
     "metadata": {},
     "output_type": "display_data"
    },
    {
     "data": {
      "text/plain": [
       "<matplotlib.legend.Legend at 0x7f82d7713a60>"
      ]
     },
     "execution_count": 172,
     "metadata": {},
     "output_type": "execute_result"
    }
   ],
   "source": [
    "kwargs= dict(v_list = v_all,\n",
    "              k_list = k_all,\n",
    "              t = t_all,\n",
    "              log_scale = True,\n",
    "              graph = True,\n",
    "              sample_weight = sample_weight_all)\n",
    "plt.plot(calculate_I_out(res.x, kwargs_for_count), label = 'calculated')\n",
    "plt.plot(real_data_all,'--', label = 'real_data')\n",
    "\n",
    "plt.legend()\n"
   ]
  },
  {
   "cell_type": "code",
   "execution_count": 31,
   "metadata": {},
   "outputs": [
    {
     "data": {
      "text/plain": [
       "[<matplotlib.lines.Line2D at 0x7f82dc324a60>]"
      ]
     },
     "execution_count": 31,
     "metadata": {},
     "output_type": "execute_result"
    }
   ],
   "source": [
    "x = calculate_I_out(res.x, kwargs_for_count) - real_data_all\n",
    "x **= 2\n",
    "x *= sample_weight_all\n",
    "plt.plot(x, '.-', label = 'calculated')\n",
    "#lt.xlim(2050,2200)"
   ]
  },
  {
   "cell_type": "code",
   "execution_count": 33,
   "metadata": {},
   "outputs": [
    {
     "data": {
      "text/plain": [
       "34.89222128293755"
      ]
     },
     "execution_count": 33,
     "metadata": {},
     "output_type": "execute_result"
    }
   ],
   "source": [
    "np.sqrt(x[x <= 0.25e5].mean())"
   ]
  },
  {
   "cell_type": "code",
   "execution_count": 34,
   "metadata": {},
   "outputs": [
    {
     "data": {
      "text/plain": [
       "[<matplotlib.lines.Line2D at 0x7f82dc3d12b0>]"
      ]
     },
     "execution_count": 34,
     "metadata": {},
     "output_type": "execute_result"
    }
   ],
   "source": [
    "kwargs = dict(v_list = v_list_1,\n",
    "              k_list = k_list_1,\n",
    "              t = t,\n",
    "              log_scale = True,\n",
    "              graph = False,\n",
    "              sample_weight = sample_weight)\n",
    "plt.plot(real_data_small)\n",
    "plt.plot(calculate_I_out(res.x, kwargs))"
   ]
  },
  {
   "cell_type": "code",
   "execution_count": 35,
   "metadata": {},
   "outputs": [],
   "source": [
    "%matplotlib inline"
   ]
  },
  {
   "cell_type": "code",
   "execution_count": 36,
   "metadata": {
    "scrolled": false
   },
   "outputs": [
    {
     "data": {
      "text/plain": [
       "<matplotlib.legend.Legend at 0x7f82dc2ebcd0>"
      ]
     },
     "execution_count": 36,
     "metadata": {},
     "output_type": "execute_result"
    },
    {
     "data": {
      "image/png": "[encoded data removed]",
      "text/plain": [
       "<Figure size 432x288 with 1 Axes>"
      ]
     },
     "metadata": {
      "needs_background": "light"
     },
     "output_type": "display_data"
    },
    {
     "data": {
      "image/png": "[encoded data removed]",
      "text/plain": [
       "<Figure size 432x288 with 1 Axes>"
      ]
     },
     "metadata": {
      "needs_background": "light"
     },
     "output_type": "display_data"
    },
    {
     "data": {
      "image/png": "[encoded data removed]",
      "text/plain": [
       "<Figure size 432x288 with 1 Axes>"
      ]
     },
     "metadata": {
      "needs_background": "light"
     },
     "output_type": "display_data"
    },
    {
     "data": {
      "image/png": "[encoded data removed]",
      "text/plain": [
       "<Figure size 432x288 with 1 Axes>"
      ]
     },
     "metadata": {
      "needs_background": "light"
     },
     "output_type": "display_data"
    },
    {
     "data": {
      "image/png": "[encoded data removed]",
      "text/plain": [
       "<Figure size 432x288 with 1 Axes>"
      ]
     },
     "metadata": {
      "needs_background": "light"
     },
     "output_type": "display_data"
    }
   ],
   "source": [
    "real_data_small = np.concatenate([real_data[14] for k in range(4)])\n",
    "t_2 = np.concatenate([t for k in range(4)])\n",
    "#v_2 = np.concatenate([v_list_1 for k in range(4)])\n",
    "v_2 = np.concatenate([np.array([-80,-70,-80, -10]) for k in range(4)])\n",
    "k_2 = np.concatenate([k_list_1+5000*k for k in range(4)])\n",
    "v_2 = np.concatenate([v_2,[-80]])\n",
    "kwargs = dict(v_list = v_2,\n",
    "              k_list = k_2,\n",
    "              t = t_2,\n",
    "              log_scale = True,\n",
    "              graph = True)#,\n",
    "              #sample_weight = sample_weight)\n",
    "calculate_I_out(res.x, kwargs)\n",
    "plt.plot(real_data_small, '--', label = 'real data')\n",
    "plt.legend()"
   ]
  },
  {
   "cell_type": "code",
   "execution_count": 100,
   "metadata": {},
   "outputs": [
    {
     "name": "stdout",
     "output_type": "stream",
     "text": [
      "C_f  =  1.1709673159888938e-23\n",
      "C  =  1.7113675194565018e-13\n",
      "a0_m  =  410.7398060878741\n",
      "b0_m  =  3.735429523284827\n",
      "delta_m  =  4.229198353924114\n",
      "s_m  =  13.360998884763774\n",
      "a0_h  =  12.883101508396262\n",
      "b0_h  =  277.1071434395838\n",
      "delta_h  =  6.142252803267342\n",
      "s_h  =  32.25825241670722\n",
      "R  =  974700272.1922164\n",
      "R_f  =  24732.832038583536\n",
      "g_max  =  73.8258122322869\n",
      "g_leak  =  1.2008607674550746\n",
      "v_half_m  =  20.457932222531742\n",
      "v_half_h  =  37.5147851517252\n",
      "k_m  =  6.788165057876427\n",
      "k_h  =  0.6353564287265533\n",
      "v_off  =  46.955024604007136\n"
     ]
    }
   ],
   "source": [
    "for k in range(len(res.x)):\n",
    "    print(names[k], ' = ',np.exp(res.x)[k])"
   ]
  },
  {
   "cell_type": "code",
   "execution_count": null,
   "metadata": {},
   "outputs": [],
   "source": []
  },
  {
   "cell_type": "markdown",
   "metadata": {},
   "source": [
    "### differential_evolution"
   ]
  },
  {
   "cell_type": "code",
   "execution_count": 38,
   "metadata": {
    "scrolled": true
   },
   "outputs": [
    {
     "name": "stderr",
     "output_type": "stream",
     "text": [
      "/home/nik/.local/lib/python3.8/site-packages/scipy/optimize/_differentialevolution.py:495: UserWarning: differential_evolution: the 'workers' keyword has overridden updating='immediate' to updating='deferred'\n",
      "  warnings.warn(\"differential_evolution: the 'workers' keyword has\"\n"
     ]
    },
    {
     "ename": "RuntimeError",
     "evalue": "The map-like callable must be of the form f(func, iterable), returning a sequence of numbers the same length as 'iterable'",
     "output_type": "error",
     "traceback": [
      "\u001b[0;31m---------------------------------------------------------------------------\u001b[0m",
      "\u001b[0;31mRemoteTraceback\u001b[0m                           Traceback (most recent call last)",
      "\u001b[0;31mRemoteTraceback\u001b[0m: \n\"\"\"\nTraceback (most recent call last):\n  File \"/usr/lib/python3.8/multiprocessing/pool.py\", line 125, in worker\n    result = (True, func(*args, **kwds))\n  File \"/usr/lib/python3.8/multiprocessing/pool.py\", line 48, in mapstar\n    return list(map(*args))\n  File \"/home/nik/.local/lib/python3.8/site-packages/scipy/optimize/_differentialevolution.py\", line 1261, in __call__\n    return self.f(x, *self.args)\n  File \"<ipython-input-12-96167d7ab3be>\", line 12, in loss\n    return MSE(data, I_out, sample_weight=sample_weight)\n  File \"/home/nik/.local/lib/python3.8/site-packages/sklearn/utils/validation.py\", line 63, in inner_f\n    return f(*args, **kwargs)\n  File \"/home/nik/.local/lib/python3.8/site-packages/sklearn/metrics/_regression.py\", line 335, in mean_squared_error\n    y_type, y_true, y_pred, multioutput = _check_reg_targets(\n  File \"/home/nik/.local/lib/python3.8/site-packages/sklearn/metrics/_regression.py\", line 88, in _check_reg_targets\n    check_consistent_length(y_true, y_pred)\n  File \"/home/nik/.local/lib/python3.8/site-packages/sklearn/utils/validation.py\", line 262, in check_consistent_length\n    raise ValueError(\"Found input variables with inconsistent numbers of\"\nValueError: Found input variables with inconsistent numbers of samples: [20000, 100000]\n\"\"\"",
      "\nThe above exception was the direct cause of the following exception:\n",
      "\u001b[0;31mValueError\u001b[0m                                Traceback (most recent call last)",
      "\u001b[0;32m~/.local/lib/python3.8/site-packages/scipy/optimize/_differentialevolution.py\u001b[0m in \u001b[0;36m_calculate_population_energies\u001b[0;34m(self, population)\u001b[0m\n\u001b[1;32m    872\u001b[0m         \u001b[0;32mtry\u001b[0m\u001b[0;34m:\u001b[0m\u001b[0;34m\u001b[0m\u001b[0;34m\u001b[0m\u001b[0m\n\u001b[0;32m--> 873\u001b[0;31m             calc_energies = list(self._mapwrapper(self.func,\n\u001b[0m\u001b[1;32m    874\u001b[0m                                                   parameters_pop[0:nfevs]))\n",
      "\u001b[0;32m~/.local/lib/python3.8/site-packages/scipy/_lib/_util.py\u001b[0m in \u001b[0;36m__call__\u001b[0;34m(self, func, iterable)\u001b[0m\n\u001b[1;32m    422\u001b[0m         \u001b[0;32mtry\u001b[0m\u001b[0;34m:\u001b[0m\u001b[0;34m\u001b[0m\u001b[0;34m\u001b[0m\u001b[0m\n\u001b[0;32m--> 423\u001b[0;31m             \u001b[0;32mreturn\u001b[0m \u001b[0mself\u001b[0m\u001b[0;34m.\u001b[0m\u001b[0m_mapfunc\u001b[0m\u001b[0;34m(\u001b[0m\u001b[0mfunc\u001b[0m\u001b[0;34m,\u001b[0m \u001b[0miterable\u001b[0m\u001b[0;34m)\u001b[0m\u001b[0;34m\u001b[0m\u001b[0;34m\u001b[0m\u001b[0m\n\u001b[0m\u001b[1;32m    424\u001b[0m         \u001b[0;32mexcept\u001b[0m \u001b[0mTypeError\u001b[0m\u001b[0;34m:\u001b[0m\u001b[0;34m\u001b[0m\u001b[0;34m\u001b[0m\u001b[0m\n",
      "\u001b[0;32m/usr/lib/python3.8/multiprocessing/pool.py\u001b[0m in \u001b[0;36mmap\u001b[0;34m(self, func, iterable, chunksize)\u001b[0m\n\u001b[1;32m    363\u001b[0m         '''\n\u001b[0;32m--> 364\u001b[0;31m         \u001b[0;32mreturn\u001b[0m \u001b[0mself\u001b[0m\u001b[0;34m.\u001b[0m\u001b[0m_map_async\u001b[0m\u001b[0;34m(\u001b[0m\u001b[0mfunc\u001b[0m\u001b[0;34m,\u001b[0m \u001b[0miterable\u001b[0m\u001b[0;34m,\u001b[0m \u001b[0mmapstar\u001b[0m\u001b[0;34m,\u001b[0m \u001b[0mchunksize\u001b[0m\u001b[0;34m)\u001b[0m\u001b[0;34m.\u001b[0m\u001b[0mget\u001b[0m\u001b[0;34m(\u001b[0m\u001b[0;34m)\u001b[0m\u001b[0;34m\u001b[0m\u001b[0;34m\u001b[0m\u001b[0m\n\u001b[0m\u001b[1;32m    365\u001b[0m \u001b[0;34m\u001b[0m\u001b[0m\n",
      "\u001b[0;32m/usr/lib/python3.8/multiprocessing/pool.py\u001b[0m in \u001b[0;36mget\u001b[0;34m(self, timeout)\u001b[0m\n\u001b[1;32m    770\u001b[0m         \u001b[0;32melse\u001b[0m\u001b[0;34m:\u001b[0m\u001b[0;34m\u001b[0m\u001b[0;34m\u001b[0m\u001b[0m\n\u001b[0;32m--> 771\u001b[0;31m             \u001b[0;32mraise\u001b[0m \u001b[0mself\u001b[0m\u001b[0;34m.\u001b[0m\u001b[0m_value\u001b[0m\u001b[0;34m\u001b[0m\u001b[0;34m\u001b[0m\u001b[0m\n\u001b[0m\u001b[1;32m    772\u001b[0m \u001b[0;34m\u001b[0m\u001b[0m\n",
      "\u001b[0;31mValueError\u001b[0m: Found input variables with inconsistent numbers of samples: [20000, 100000]",
      "\nDuring handling of the above exception, another exception occurred:\n",
      "\u001b[0;31mRuntimeError\u001b[0m                              Traceback (most recent call last)",
      "\u001b[0;32m<timed exec>\u001b[0m in \u001b[0;36m<module>\u001b[0;34m\u001b[0m\n",
      "\u001b[0;32m~/.local/lib/python3.8/site-packages/scipy/optimize/_differentialevolution.py\u001b[0m in \u001b[0;36mdifferential_evolution\u001b[0;34m(func, bounds, args, strategy, maxiter, popsize, tol, mutation, recombination, seed, callback, disp, polish, init, atol, updating, workers, constraints)\u001b[0m\n\u001b[1;32m    306\u001b[0m                                      \u001b[0mworkers\u001b[0m\u001b[0;34m=\u001b[0m\u001b[0mworkers\u001b[0m\u001b[0;34m,\u001b[0m\u001b[0;34m\u001b[0m\u001b[0;34m\u001b[0m\u001b[0m\n\u001b[1;32m    307\u001b[0m                                      constraints=constraints) as solver:\n\u001b[0;32m--> 308\u001b[0;31m         \u001b[0mret\u001b[0m \u001b[0;34m=\u001b[0m \u001b[0msolver\u001b[0m\u001b[0;34m.\u001b[0m\u001b[0msolve\u001b[0m\u001b[0;34m(\u001b[0m\u001b[0;34m)\u001b[0m\u001b[0;34m\u001b[0m\u001b[0;34m\u001b[0m\u001b[0m\n\u001b[0m\u001b[1;32m    309\u001b[0m \u001b[0;34m\u001b[0m\u001b[0m\n\u001b[1;32m    310\u001b[0m     \u001b[0;32mreturn\u001b[0m \u001b[0mret\u001b[0m\u001b[0;34m\u001b[0m\u001b[0;34m\u001b[0m\u001b[0m\n",
      "\u001b[0;32m~/.local/lib/python3.8/site-packages/scipy/optimize/_differentialevolution.py\u001b[0m in \u001b[0;36msolve\u001b[0;34m(self)\u001b[0m\n\u001b[1;32m    748\u001b[0m             \u001b[0;31m# only work out population energies for feasible solutions\u001b[0m\u001b[0;34m\u001b[0m\u001b[0;34m\u001b[0m\u001b[0;34m\u001b[0m\u001b[0m\n\u001b[1;32m    749\u001b[0m             self.population_energies[self.feasible] = (\n\u001b[0;32m--> 750\u001b[0;31m                 self._calculate_population_energies(\n\u001b[0m\u001b[1;32m    751\u001b[0m                     self.population[self.feasible]))\n\u001b[1;32m    752\u001b[0m \u001b[0;34m\u001b[0m\u001b[0m\n",
      "\u001b[0;32m~/.local/lib/python3.8/site-packages/scipy/optimize/_differentialevolution.py\u001b[0m in \u001b[0;36m_calculate_population_energies\u001b[0;34m(self, population)\u001b[0m\n\u001b[1;32m    877\u001b[0m             \u001b[0;31m# wrong number of arguments for _mapwrapper\u001b[0m\u001b[0;34m\u001b[0m\u001b[0;34m\u001b[0m\u001b[0;34m\u001b[0m\u001b[0m\n\u001b[1;32m    878\u001b[0m             \u001b[0;31m# or wrong length returned from the mapper\u001b[0m\u001b[0;34m\u001b[0m\u001b[0;34m\u001b[0m\u001b[0;34m\u001b[0m\u001b[0m\n\u001b[0;32m--> 879\u001b[0;31m             raise RuntimeError(\"The map-like callable must be of the\"\n\u001b[0m\u001b[1;32m    880\u001b[0m                                \u001b[0;34m\" form f(func, iterable), returning a sequence\"\u001b[0m\u001b[0;34m\u001b[0m\u001b[0;34m\u001b[0m\u001b[0m\n\u001b[1;32m    881\u001b[0m                                \" of numbers the same length as 'iterable'\")\n",
      "\u001b[0;31mRuntimeError\u001b[0m: The map-like callable must be of the form f(func, iterable), returning a sequence of numbers the same length as 'iterable'"
     ]
    }
   ],
   "source": [
    "%%time\n",
    "res = scop.differential_evolution(loss,\n",
    "                                  bounds=log_bounds,\n",
    "                                  args=(real_data_small, kwargs_for_count),\n",
    "                                  maxiter=10, # I don't want to wait too long\n",
    "                                  #disp=True,\n",
    "                                  workers=-1,\n",
    "                                  seed=42,\n",
    "                                  )"
   ]
  },
  {
   "cell_type": "code",
   "execution_count": 39,
   "metadata": {},
   "outputs": [
    {
     "ename": "ValueError",
     "evalue": "Found input variables with inconsistent numbers of samples: [20000, 100000]",
     "output_type": "error",
     "traceback": [
      "\u001b[0;31m---------------------------------------------------------------------------\u001b[0m",
      "\u001b[0;31mValueError\u001b[0m                                Traceback (most recent call last)",
      "\u001b[0;32m<ipython-input-39-dac077f82321>\u001b[0m in \u001b[0;36m<module>\u001b[0;34m\u001b[0m\n\u001b[0;32m----> 1\u001b[0;31m \u001b[0mloss\u001b[0m\u001b[0;34m(\u001b[0m\u001b[0mres\u001b[0m\u001b[0;34m.\u001b[0m\u001b[0mx\u001b[0m\u001b[0;34m,\u001b[0m \u001b[0mreal_data_small\u001b[0m\u001b[0;34m,\u001b[0m \u001b[0mkwargs_for_count\u001b[0m\u001b[0;34m)\u001b[0m\u001b[0;34m\u001b[0m\u001b[0;34m\u001b[0m\u001b[0m\n\u001b[0m",
      "\u001b[0;32m<ipython-input-12-96167d7ab3be>\u001b[0m in \u001b[0;36mloss\u001b[0;34m(x, *args)\u001b[0m\n\u001b[1;32m     10\u001b[0m         \u001b[0;32mreturn\u001b[0m \u001b[0mnp\u001b[0m\u001b[0;34m.\u001b[0m\u001b[0minf\u001b[0m\u001b[0;34m\u001b[0m\u001b[0;34m\u001b[0m\u001b[0m\n\u001b[1;32m     11\u001b[0m \u001b[0;34m\u001b[0m\u001b[0m\n\u001b[0;32m---> 12\u001b[0;31m     \u001b[0;32mreturn\u001b[0m \u001b[0mMSE\u001b[0m\u001b[0;34m(\u001b[0m\u001b[0mdata\u001b[0m\u001b[0;34m,\u001b[0m \u001b[0mI_out\u001b[0m\u001b[0;34m,\u001b[0m \u001b[0msample_weight\u001b[0m\u001b[0;34m=\u001b[0m\u001b[0msample_weight\u001b[0m\u001b[0;34m)\u001b[0m\u001b[0;34m\u001b[0m\u001b[0;34m\u001b[0m\u001b[0m\n\u001b[0m",
      "\u001b[0;32m~/.local/lib/python3.8/site-packages/sklearn/utils/validation.py\u001b[0m in \u001b[0;36minner_f\u001b[0;34m(*args, **kwargs)\u001b[0m\n\u001b[1;32m     61\u001b[0m             \u001b[0mextra_args\u001b[0m \u001b[0;34m=\u001b[0m \u001b[0mlen\u001b[0m\u001b[0;34m(\u001b[0m\u001b[0margs\u001b[0m\u001b[0;34m)\u001b[0m \u001b[0;34m-\u001b[0m \u001b[0mlen\u001b[0m\u001b[0;34m(\u001b[0m\u001b[0mall_args\u001b[0m\u001b[0;34m)\u001b[0m\u001b[0;34m\u001b[0m\u001b[0;34m\u001b[0m\u001b[0m\n\u001b[1;32m     62\u001b[0m             \u001b[0;32mif\u001b[0m \u001b[0mextra_args\u001b[0m \u001b[0;34m<=\u001b[0m \u001b[0;36m0\u001b[0m\u001b[0;34m:\u001b[0m\u001b[0;34m\u001b[0m\u001b[0;34m\u001b[0m\u001b[0m\n\u001b[0;32m---> 63\u001b[0;31m                 \u001b[0;32mreturn\u001b[0m \u001b[0mf\u001b[0m\u001b[0;34m(\u001b[0m\u001b[0;34m*\u001b[0m\u001b[0margs\u001b[0m\u001b[0;34m,\u001b[0m \u001b[0;34m**\u001b[0m\u001b[0mkwargs\u001b[0m\u001b[0;34m)\u001b[0m\u001b[0;34m\u001b[0m\u001b[0;34m\u001b[0m\u001b[0m\n\u001b[0m\u001b[1;32m     64\u001b[0m \u001b[0;34m\u001b[0m\u001b[0m\n\u001b[1;32m     65\u001b[0m             \u001b[0;31m# extra_args > 0\u001b[0m\u001b[0;34m\u001b[0m\u001b[0;34m\u001b[0m\u001b[0;34m\u001b[0m\u001b[0m\n",
      "\u001b[0;32m~/.local/lib/python3.8/site-packages/sklearn/metrics/_regression.py\u001b[0m in \u001b[0;36mmean_squared_error\u001b[0;34m(y_true, y_pred, sample_weight, multioutput, squared)\u001b[0m\n\u001b[1;32m    333\u001b[0m     \u001b[0;36m0.825\u001b[0m\u001b[0;34m...\u001b[0m\u001b[0;34m\u001b[0m\u001b[0;34m\u001b[0m\u001b[0m\n\u001b[1;32m    334\u001b[0m     \"\"\"\n\u001b[0;32m--> 335\u001b[0;31m     y_type, y_true, y_pred, multioutput = _check_reg_targets(\n\u001b[0m\u001b[1;32m    336\u001b[0m         y_true, y_pred, multioutput)\n\u001b[1;32m    337\u001b[0m     \u001b[0mcheck_consistent_length\u001b[0m\u001b[0;34m(\u001b[0m\u001b[0my_true\u001b[0m\u001b[0;34m,\u001b[0m \u001b[0my_pred\u001b[0m\u001b[0;34m,\u001b[0m \u001b[0msample_weight\u001b[0m\u001b[0;34m)\u001b[0m\u001b[0;34m\u001b[0m\u001b[0;34m\u001b[0m\u001b[0m\n",
      "\u001b[0;32m~/.local/lib/python3.8/site-packages/sklearn/metrics/_regression.py\u001b[0m in \u001b[0;36m_check_reg_targets\u001b[0;34m(y_true, y_pred, multioutput, dtype)\u001b[0m\n\u001b[1;32m     86\u001b[0m         \u001b[0mthe\u001b[0m \u001b[0mdtype\u001b[0m \u001b[0margument\u001b[0m \u001b[0mpassed\u001b[0m \u001b[0mto\u001b[0m \u001b[0mcheck_array\u001b[0m\u001b[0;34m.\u001b[0m\u001b[0;34m\u001b[0m\u001b[0;34m\u001b[0m\u001b[0m\n\u001b[1;32m     87\u001b[0m     \"\"\"\n\u001b[0;32m---> 88\u001b[0;31m     \u001b[0mcheck_consistent_length\u001b[0m\u001b[0;34m(\u001b[0m\u001b[0my_true\u001b[0m\u001b[0;34m,\u001b[0m \u001b[0my_pred\u001b[0m\u001b[0;34m)\u001b[0m\u001b[0;34m\u001b[0m\u001b[0;34m\u001b[0m\u001b[0m\n\u001b[0m\u001b[1;32m     89\u001b[0m     \u001b[0my_true\u001b[0m \u001b[0;34m=\u001b[0m \u001b[0mcheck_array\u001b[0m\u001b[0;34m(\u001b[0m\u001b[0my_true\u001b[0m\u001b[0;34m,\u001b[0m \u001b[0mensure_2d\u001b[0m\u001b[0;34m=\u001b[0m\u001b[0;32mFalse\u001b[0m\u001b[0;34m,\u001b[0m \u001b[0mdtype\u001b[0m\u001b[0;34m=\u001b[0m\u001b[0mdtype\u001b[0m\u001b[0;34m)\u001b[0m\u001b[0;34m\u001b[0m\u001b[0;34m\u001b[0m\u001b[0m\n\u001b[1;32m     90\u001b[0m     \u001b[0my_pred\u001b[0m \u001b[0;34m=\u001b[0m \u001b[0mcheck_array\u001b[0m\u001b[0;34m(\u001b[0m\u001b[0my_pred\u001b[0m\u001b[0;34m,\u001b[0m \u001b[0mensure_2d\u001b[0m\u001b[0;34m=\u001b[0m\u001b[0;32mFalse\u001b[0m\u001b[0;34m,\u001b[0m \u001b[0mdtype\u001b[0m\u001b[0;34m=\u001b[0m\u001b[0mdtype\u001b[0m\u001b[0;34m)\u001b[0m\u001b[0;34m\u001b[0m\u001b[0;34m\u001b[0m\u001b[0m\n",
      "\u001b[0;32m~/.local/lib/python3.8/site-packages/sklearn/utils/validation.py\u001b[0m in \u001b[0;36mcheck_consistent_length\u001b[0;34m(*arrays)\u001b[0m\n\u001b[1;32m    260\u001b[0m     \u001b[0muniques\u001b[0m \u001b[0;34m=\u001b[0m \u001b[0mnp\u001b[0m\u001b[0;34m.\u001b[0m\u001b[0munique\u001b[0m\u001b[0;34m(\u001b[0m\u001b[0mlengths\u001b[0m\u001b[0;34m)\u001b[0m\u001b[0;34m\u001b[0m\u001b[0;34m\u001b[0m\u001b[0m\n\u001b[1;32m    261\u001b[0m     \u001b[0;32mif\u001b[0m \u001b[0mlen\u001b[0m\u001b[0;34m(\u001b[0m\u001b[0muniques\u001b[0m\u001b[0;34m)\u001b[0m \u001b[0;34m>\u001b[0m \u001b[0;36m1\u001b[0m\u001b[0;34m:\u001b[0m\u001b[0;34m\u001b[0m\u001b[0;34m\u001b[0m\u001b[0m\n\u001b[0;32m--> 262\u001b[0;31m         raise ValueError(\"Found input variables with inconsistent numbers of\"\n\u001b[0m\u001b[1;32m    263\u001b[0m                          \" samples: %r\" % [int(l) for l in lengths])\n\u001b[1;32m    264\u001b[0m \u001b[0;34m\u001b[0m\u001b[0m\n",
      "\u001b[0;31mValueError\u001b[0m: Found input variables with inconsistent numbers of samples: [20000, 100000]"
     ]
    }
   ],
   "source": [
    "loss(res.x, real_data_small, kwargs_for_count)"
   ]
  },
  {
   "cell_type": "code",
   "execution_count": null,
   "metadata": {
    "scrolled": false
   },
   "outputs": [],
   "source": [
    "plt.plot(calculate_I_out(res.x, kwargs))\n",
    "plt.plot(real_data_small, '--')\n",
    "#plt.xlim(0, 1000)"
   ]
  },
  {
   "cell_type": "markdown",
   "metadata": {},
   "source": [
    "### dual_annealing"
   ]
  },
  {
   "cell_type": "code",
   "execution_count": null,
   "metadata": {
    "scrolled": true
   },
   "outputs": [],
   "source": [
    "%%time\n",
    "#res = scop.dual_annealing(loss, bounds=log_bounds, x0 = x_true_log, args=(real_data_small, kwargs_for_count), seed=42)"
   ]
  },
  {
   "cell_type": "code",
   "execution_count": null,
   "metadata": {},
   "outputs": [],
   "source": [
    "res"
   ]
  },
  {
   "cell_type": "code",
   "execution_count": null,
   "metadata": {},
   "outputs": [],
   "source": [
    "loss(res.x, real_data_small, kwargs)"
   ]
  },
  {
   "cell_type": "code",
   "execution_count": null,
   "metadata": {
    "scrolled": true
   },
   "outputs": [],
   "source": [
    "plt.plot(calculate_I_out(res.x, kwargs))\n",
    "plt.plot(real_data_small, '--')"
   ]
  },
  {
   "cell_type": "code",
   "execution_count": null,
   "metadata": {},
   "outputs": [],
   "source": []
  },
  {
   "cell_type": "code",
   "execution_count": null,
   "metadata": {},
   "outputs": [],
   "source": []
  }
 ],
 "metadata": {
  "kernelspec": {
   "display_name": "Python 3",
   "language": "python",
   "name": "python3"
  },
  "language_info": {
   "codemirror_mode": {
    "name": "ipython",
    "version": 3
   },
   "file_extension": ".py",
   "mimetype": "text/x-python",
   "name": "python",
   "nbconvert_exporter": "python",
   "pygments_lexer": "ipython3",
   "version": "3.8.5"
  }
 },
 "nbformat": 4,
 "nbformat_minor": 4
}
