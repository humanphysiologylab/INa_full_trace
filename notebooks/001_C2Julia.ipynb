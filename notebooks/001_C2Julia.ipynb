{
 "cells": [
  {
   "cell_type": "code",
   "execution_count": 2,
   "id": "f779911b",
   "metadata": {},
   "outputs": [],
   "source": [
    "import os\n",
    "import pandas as pd"
   ]
  },
  {
   "cell_type": "code",
   "execution_count": 23,
   "id": "2fe4617a",
   "metadata": {},
   "outputs": [],
   "source": [
    "folder_c = \"../src/model_ctypes/ina_pipette/\"\n",
    "legend_constants = pd.read_csv(os.path.join(folder_c, \"legend_constants.csv\"))\n",
    "legend_states = pd.read_csv(os.path.join(folder_c, \"legend_states.csv\"))\n",
    "legend_algebraic = pd.read_csv(os.path.join(folder_c, \"legend_algebraic.csv\"))"
   ]
  },
  {
   "cell_type": "code",
   "execution_count": 30,
   "id": "a4682cff",
   "metadata": {},
   "outputs": [],
   "source": [
    "filename_model = os.path.join(folder_c, \"ina.c\")\n",
    "\n",
    "lines_julia = []\n",
    "\n",
    "with open(filename_model) as f:\n",
    "    lines = f.readlines()\n",
    "    \n",
    "tuples = (legend_constants, \"CONSTANTS\"), (legend_states, \"STATES\"), (legend_algebraic, \"ALGEBRAIC\")\n",
    "    \n",
    "for line in lines:\n",
    "    if line.strip().startswith(\"//\"):\n",
    "        continue\n",
    "    for legend, name in tuples:\n",
    "        for i_row, row in legend.iterrows():\n",
    "            #print(i_row, row)\n",
    "            old = f\"{name}[{i_row}]\"\n",
    "            new = row[\"name\"]\n",
    "            if name == \"CONSTANTS\":\n",
    "                new = \"p.\" + new\n",
    "            line = line.replace(old, new)\n",
    "    line = line.strip()\n",
    "    if line:\n",
    "        lines_julia.append(line)"
   ]
  },
  {
   "cell_type": "code",
   "execution_count": 31,
   "id": "22268600",
   "metadata": {},
   "outputs": [
    {
     "name": "stdout",
     "output_type": "stream",
     "text": [
      "#include \"ina.h\"\n",
      "#include \"math.h\"\n",
      "void initialize_states_default(double *STATES) {\n",
      "v_comp = -80;//v_comp\n",
      "v_p = -80;//v_p\n",
      "v_m = -80;//v_m\n",
      "m = 0.;//m\n",
      "h = 1.;//h\n",
      "j = 1.;//j\n",
      "I_out = 0;//I_out\n",
      "}\n",
      "void compute_algebraic(const double time,  double *STATES, double *CONSTANTS,  double *ALGEBRAIC){//, double *RATES){\n",
      "tau_m = 1/(p.a0_m * exp(v_m/p.s_m) + p.b0_m*exp(- v_m/p.delta_m));\n",
      "tau_h = 1/(p.a0_h * exp(- v_m/p.s_h) + p.b0_h*exp(v_m/p.delta_h));\n",
      "tau_j = p.tau_j_const + 1/(p.a0_j * exp(- v_m/p.s_j) + p.b0_j*exp(v_m/p.delta_j));\n",
      "m_inf = 1 / (1 + exp(-(p.v_half_m + v_m)/p.k_m));\n",
      "h_inf = 1 / (1 + exp((p.v_half_h + v_m)/p.k_h));\n",
      "v_cp = p.v_c + (p.v_c - v_comp)*(1/(1 - p.alpha) - 1);\n",
      "I_leak = p.g_leak * v_m;\n",
      "I_Na = p.g_max * h * pow(m,3) * j* (v_m - p.v_rev);\n",
      "I_c = 1e9 * p.c_m * ((v_p + p.v_off - v_m)/(p.R*p.c_m) - (1e-9)*(I_leak + I_Na)/p.c_m);// RATES[2];\n",
      "I_p = 1e9 * p.c_p *(v_cp - v_p)/(p.c_p*p.R_f);// RATES[1];\n",
      "I_comp = 1e9 * p.x_c_comp * p.c_m *(p.v_c - v_comp)/(p.x_c_comp*p.c_m*p.x_r_comp*p.R*(1 - p.alpha));// RATES[0]\n",
      "I_in = I_leak + I_Na + I_c  + I_p- I_comp;\n",
      "}\n",
      "void compute_rates(const double time,  double *STATES, double *CONSTANTS,  double *ALGEBRAIC, double *RATES){\n",
      "compute_algebraic(time, STATES, CONSTANTS, ALGEBRAIC);\n",
      "RATES[0] = (p.v_c - v_comp)/(p.x_c_comp*p.c_m*p.x_r_comp*p.R*(1 - p.alpha));\n",
      "RATES[1] = (v_cp - v_p)/(p.c_p*p.R_f);\n",
      "RATES[2] = (v_p + p.v_off - v_m)/(p.R*p.c_m) - (1e-9)*(I_leak + I_Na)/p.c_m;\n",
      "RATES[3] = (m_inf - m)/tau_m;\n",
      "RATES[4] = (h_inf - h)/tau_h;\n",
      "RATES[5] = (h_inf - j)/tau_j;\n",
      "RATES[6] = (I_in - I_out)/p.tau_z;\n",
      "}\n"
     ]
    }
   ],
   "source": [
    "print(\"\\n\".join(lines_julia))"
   ]
  },
  {
   "cell_type": "code",
   "execution_count": 39,
   "id": "81a99ff0",
   "metadata": {},
   "outputs": [
    {
     "name": "stdout",
     "output_type": "stream",
     "text": [
      "tau_m, tau_h, tau_j, m_inf, h_inf, v_cp, I_leak, I_Na, I_c, I_p, I_comp, I_in\n"
     ]
    }
   ],
   "source": [
    "print(', '.join(legend_algebraic['name'].to_list()))"
   ]
  },
  {
   "cell_type": "code",
   "execution_count": 46,
   "id": "9ebe85f1",
   "metadata": {},
   "outputs": [
    {
     "name": "stdout",
     "output_type": "stream",
     "text": [
      "c_p=4.502963e-12, c_m=2.473016e-11, a0_m=2736.956, b0_m=71.35904, delta_m=20.6157, s_m=9.306083, a0_h=0.4604052, b0_h=503.8082, delta_h=15.2348, s_h=21.96405, a0_j=0.4475461, b0_j=20613.33, delta_j=4.115303, s_j=167.3159, tau_j_const=0.0007794313, R=24946770.0, R_f=326421.4, g_max=439220.4, g_leak=0.4812443, tau_z=0.000100034, v_half_m=24.35802, v_half_h=59.69117, k_m=5.66677, k_h=5.507771, x_c_comp=0.09929933, x_r_comp=1.02, alpha=0.75, v_off=-2.0, v_rev=18.0, v_c=-80.0, "
     ]
    }
   ],
   "source": [
    "for i_row, row in legend_constants.iterrows():\n",
    "    print(f\"{row['name']}={row.value}, \", end=\"\")"
   ]
  },
  {
   "cell_type": "code",
   "execution_count": null,
   "id": "672c9a88",
   "metadata": {},
   "outputs": [],
   "source": []
  }
 ],
 "metadata": {
  "kernelspec": {
   "display_name": "ga_mpi_scripts",
   "language": "python",
   "name": "ga_mpi_scripts"
  },
  "language_info": {
   "codemirror_mode": {
    "name": "ipython",
    "version": 3
   },
   "file_extension": ".py",
   "mimetype": "text/x-python",
   "name": "python",
   "nbconvert_exporter": "python",
   "pygments_lexer": "ipython3",
   "version": "3.8.10"
  }
 },
 "nbformat": 4,
 "nbformat_minor": 5
}
