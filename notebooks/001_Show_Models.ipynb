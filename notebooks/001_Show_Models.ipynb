{
 "cells": [
  {
   "cell_type": "code",
   "execution_count": 1,
   "id": "696e1f80",
   "metadata": {},
   "outputs": [],
   "source": [
    "import numpy as np\n",
    "import pandas as pd\n",
    "import matplotlib.pyplot as plt\n",
    "\n",
    "import matplotlib\n",
    "matplotlib.rcParams['figure.facecolor'] = 'white'\n",
    "matplotlib.rcParams['savefig.dpi'] = 300\n",
    "\n",
    "import sys\n",
    "import json\n",
    "import os\n",
    "plt.style.use('../styles/general.mplstyle')"
   ]
  },
  {
   "cell_type": "code",
   "execution_count": 2,
   "id": "69b50518",
   "metadata": {},
   "outputs": [],
   "source": [
    "def show_fig(datas, \n",
    "             name = None, \n",
    "             *,\n",
    "             dt = 5e-5,\n",
    "             nrows = 4, \n",
    "             ncols = 5,\n",
    "             color_reference=\"0.2\",\n",
    "             ls_reference=\"-\",\n",
    "             lss = None,\n",
    "             colors = None,\n",
    "             xlim = None, \n",
    "             ylim = None,\n",
    "             n_sections = 20,\n",
    "             all_len = 100000,\n",
    "             start = -80, \n",
    "             step = 5):\n",
    "    \n",
    "    if colors is None:\n",
    "        colors = [color_reference] + [f'C{i}' for i in range(len(datas) - 1)]\n",
    "    else:\n",
    "        colors = [color_reference] + colors\n",
    "    \n",
    "    if lss is None:\n",
    "        lss = [ls_reference] + ['-' for i in range(len(datas) -1)]\n",
    "    else:\n",
    "        lss = [ls_reference] + lss\n",
    "    \n",
    "    \n",
    "    fig, axes = plt.subplots(nrows=nrows, \n",
    "                             ncols=ncols,\n",
    "                             figsize=plt.figaspect(nrows / ncols) * 2,\n",
    "                             sharex=True)\n",
    "    fig.suptitle(name)\n",
    "    \n",
    "    len_trace = int(all_len/n_sections)\n",
    "    split_indices = np.linspace(0, all_len, n_sections + 1).astype(int)\n",
    "    \n",
    "    t = np.arange(len_trace) * dt\n",
    "    \n",
    "    if xlim is None:\n",
    "        xlim = (0.,len_trace * dt )\n",
    " \n",
    "    i_global = 0\n",
    "    \n",
    "    for i_row in range(nrows):\n",
    "        for i_col in range(ncols):\n",
    "            ax = axes[i_row, i_col]\n",
    "            plt.sca(ax)\n",
    "            i_start, i_end = split_indices[i_global], split_indices[i_global + 1]\n",
    "            slice_current = slice(i_start, i_end)\n",
    "            \n",
    "            for k, data in enumerate(datas):\n",
    "                data_show = data[slice_current]\n",
    "                plt.plot(t, data_show, color=colors[k], ls = lss[k])\n",
    "                if ylim is None:\n",
    "                    plt.ylim(min(data_show)-100, max(data_show)+50)\n",
    "                else:\n",
    "                    plt.ylim(ylim)\n",
    "            \n",
    "            step_value = start + step * i_global\n",
    "            title = f'step {step_value} mV'\n",
    "            plt.title(title)\n",
    "            plt.xlim(xlim)\n",
    "            i_global += 1\n",
    "\n",
    "            "
   ]
  },
  {
   "cell_type": "code",
   "execution_count": 3,
   "id": "bc63b9f2",
   "metadata": {},
   "outputs": [],
   "source": [
    "import pypoptim"
   ]
  },
  {
   "cell_type": "code",
   "execution_count": null,
   "id": "356158e7",
   "metadata": {},
   "outputs": [],
   "source": [
    "sys.path.append('../pypoptim/mpi_scripts/')\n",
    "\n",
    "from loss_utils import calculate_loss\n",
    "from io_utils import collect_results"
   ]
  },
  {
   "cell_type": "code",
   "execution_count": null,
   "id": "92007bca",
   "metadata": {},
   "outputs": [],
   "source": [
    "from pypoptim.losses import RMSE"
   ]
  },
  {
   "cell_type": "code",
   "execution_count": null,
   "id": "67055022",
   "metadata": {},
   "outputs": [],
   "source": [
    "sys.path.append('pypoptim/mpi_scripts/')\n",
    "from ina_model import InaModel\n",
    "\n",
    "dirname = '../src/model_ctypes/M1/'\n",
    "filename_so = os.path.join(dirname, 'ina.so')\n",
    "\n",
    "\n",
    "filename_so_abs = os.path.abspath(filename_so)\n",
    "INA = InaModel(filename_so_abs)"
   ]
  },
  {
   "cell_type": "code",
   "execution_count": null,
   "id": "246f6b02",
   "metadata": {},
   "outputs": [],
   "source": [
    "legend_constants = pd.read_csv(os.path.join(dirname, \"legend_test.csv\"), index_col='name')['value'] \n",
    "legend_states = pd.read_csv(os.path.join(dirname, \"legend_states.csv\"), index_col='name')['value'] \n",
    "legend_algebraic = pd.read_csv(os.path.join(dirname, \"legend_algebraic.csv\"), index_col='name')['value'] "
   ]
  },
  {
   "cell_type": "code",
   "execution_count": null,
   "id": "4a8e03fe",
   "metadata": {},
   "outputs": [],
   "source": [
    "S = legend_states.copy()\n",
    "C = legend_constants.copy()\n",
    "A = legend_algebraic.copy()"
   ]
  },
  {
   "cell_type": "code",
   "execution_count": null,
   "id": "77d92b63",
   "metadata": {},
   "outputs": [],
   "source": [
    "df_protocol_act = pd.read_csv('../data/protocols/protocol_trace.csv')\n",
    "df_protocol_inact = pd.read_csv('../data/protocols/protocol_inact.csv')\n",
    "df_initial_state_protocol = pd.read_csv('../data/protocols/protocol_initial_state.csv')"
   ]
  },
  {
   "cell_type": "code",
   "execution_count": null,
   "id": "3fa7f3c5",
   "metadata": {},
   "outputs": [],
   "source": [
    "n_sections_act = 20\n",
    "n_sections_inact = 15"
   ]
  },
  {
   "cell_type": "code",
   "execution_count": null,
   "id": "cc6b9cb4",
   "metadata": {},
   "outputs": [],
   "source": [
    "filename = '../data/BigTableM1.csv'\n",
    "\n",
    "BigTableM1 = pd.read_csv(\n",
    "    filename,\n",
    "    index_col=[0, 1],\n",
    "#     names=[\"data\", \"case\"],\n",
    ")\n",
    "BigTableM1 = BigTableM1.T\n",
    "BigTableM1"
   ]
  },
  {
   "cell_type": "code",
   "execution_count": null,
   "id": "85beb751",
   "metadata": {},
   "outputs": [],
   "source": [
    "param_example = BigTableM1['2020_12_19_0039']['211124_002757']"
   ]
  },
  {
   "cell_type": "code",
   "execution_count": null,
   "id": "b95eddb1",
   "metadata": {},
   "outputs": [],
   "source": [
    "act_states, act_algebraic = INA.run(A,\n",
    "                                    S,\n",
    "                                    param_example,# param for change\n",
    "                                    df_protocol_act,\n",
    "                                    df_initial_state_protocol,\n",
    "                                    n_sections=n_sections_act,\n",
    "                                    return_algebraic=True)"
   ]
  },
  {
   "cell_type": "code",
   "execution_count": null,
   "id": "0f34968f",
   "metadata": {},
   "outputs": [],
   "source": [
    "act_states"
   ]
  },
  {
   "cell_type": "code",
   "execution_count": null,
   "id": "7ad329b3",
   "metadata": {},
   "outputs": [],
   "source": [
    "act_algebraic"
   ]
  },
  {
   "cell_type": "code",
   "execution_count": null,
   "id": "587a4f06",
   "metadata": {},
   "outputs": [],
   "source": [
    "example_activation = pd.read_csv('../data/real/activation/2020_12_19_0039.csv')"
   ]
  },
  {
   "cell_type": "code",
   "execution_count": null,
   "id": "0fd9060e",
   "metadata": {},
   "outputs": [],
   "source": [
    "what_you_want_to_show_activation = [\n",
    "                                    example_activation.I_out, \n",
    "                                    act_states.I_out, \n",
    "                                    act_algebraic.I_Na\n",
    "                                    ]\n",
    "\n",
    "\n",
    "show_fig(    \n",
    "    what_you_want_to_show_activation,\n",
    "    \n",
    "    ###   how to show graph  ###\n",
    "    # name for graph\n",
    "    name = 'Activation',\n",
    "    \n",
    "    # color for every data in what_you_want_to_show\n",
    "#     colors=['C0','C1','C0', 'C1'],\n",
    "    \n",
    "    # linestyle for every data in what_you_want_to_show\n",
    "#     lss =['-','-.', ':', '-.'],\n",
    "    \n",
    "    # where show every step\n",
    "    xlim=(0.1,0.15),\n",
    "    ylim=(-500, 150),\n",
    "        )"
   ]
  },
  {
   "cell_type": "markdown",
   "id": "c21e0e41",
   "metadata": {},
   "source": [
    "# Inactivation"
   ]
  },
  {
   "cell_type": "code",
   "execution_count": null,
   "id": "cc8fcb31",
   "metadata": {},
   "outputs": [],
   "source": [
    "example_inactivation = pd.read_csv('../data/real/inactivation/2020_12_19_0036.csv')"
   ]
  },
  {
   "cell_type": "code",
   "execution_count": null,
   "id": "6cbfe349",
   "metadata": {},
   "outputs": [],
   "source": [
    "inact_states, inact_algebraic = INA.run(A,\n",
    "                                        S,\n",
    "                                        param_example,# param for change\n",
    "                                        df_protocol_inact,\n",
    "                                        df_initial_state_protocol,\n",
    "                                        n_sections=n_sections_inact,\n",
    "                                        return_algebraic=True)\n"
   ]
  },
  {
   "cell_type": "code",
   "execution_count": null,
   "id": "39ea8858",
   "metadata": {},
   "outputs": [],
   "source": [
    "start_inact = -140\n",
    "step_inact = 10\n",
    "len_inact = 180000\n",
    "nrows_inact = 5\n",
    "ncols_inact = 3"
   ]
  },
  {
   "cell_type": "code",
   "execution_count": null,
   "id": "08d4a30d",
   "metadata": {},
   "outputs": [],
   "source": [
    "what_you_want_to_show = [example_inactivation, inact_states.I_out, inact_algebraic.I_Na]\n",
    "\n",
    "\n",
    "show_fig(    \n",
    "    what_you_want_to_show,\n",
    "    \n",
    "    ###   how to show graph  ###\n",
    "    # name for graph\n",
    "    name = 'inact',\n",
    "    \n",
    "    # color for every data in what_you_want_to_show\n",
    "#     colors=['C0','C1','C0', 'C1'],\n",
    "    \n",
    "    # linestyle for every data in what_you_want_to_show\n",
    "#     lss =['-','-.', ':', '-.'],\n",
    "    \n",
    "    # where show every step\n",
    "    xlim=(0.,0.6),\n",
    "    ylim=(-500, 150),\n",
    "    \n",
    "\n",
    "    ### Parameters for inactivation ### \n",
    "    ### Don't change ###\n",
    "    start = start_inact,\n",
    "    step = step_inact,\n",
    "    n_sections=n_sections_inact,\n",
    "    nrows=nrows_inact,\n",
    "    ncols=ncols_inact,\n",
    "    all_len=len_inact,\n",
    "        )"
   ]
  },
  {
   "cell_type": "code",
   "execution_count": 1,
   "id": "3a1ac6a5",
   "metadata": {},
   "outputs": [
    {
     "ename": "NameError",
     "evalue": "name 'pd' is not defined",
     "output_type": "error",
     "traceback": [
      "\u001b[0;31m---------------------------------------------------------------------------\u001b[0m",
      "\u001b[0;31mNameError\u001b[0m                                 Traceback (most recent call last)",
      "\u001b[0;32m/tmp/ipykernel_19342/4255966607.py\u001b[0m in \u001b[0;36m<module>\u001b[0;34m\u001b[0m\n\u001b[0;32m----> 1\u001b[0;31m \u001b[0mpd\u001b[0m\u001b[0;34m.\u001b[0m\u001b[0mDataFrames\u001b[0m\u001b[0;34m(\u001b[0m\u001b[0mm2\u001b[0m\u001b[0;34m[\u001b[0m\u001b[0;34m'sols'\u001b[0m\u001b[0;34m]\u001b[0m\u001b[0;34m)\u001b[0m\u001b[0;34m\u001b[0m\u001b[0;34m\u001b[0m\u001b[0m\n\u001b[0m",
      "\u001b[0;31mNameError\u001b[0m: name 'pd' is not defined"
     ]
    }
   ],
   "source": [
    "pd.DataFrames(m2['sols'])"
   ]
  },
  {
   "cell_type": "code",
   "execution_count": null,
   "id": "0f376496",
   "metadata": {},
   "outputs": [],
   "source": [
    " res = solve_ivp(\n",
    "        model.calculate_rates,\n",
    "        t_span=args.solver_options.t_span,\n",
    "        y0=y0,\n",
    "        method=args.solver_options.method,\n",
    "        max_step=args.solver_options.max_step,\n",
    "        args=[parameters, algebraics, states_keys],\n",
    "    )"
   ]
  },
  {
   "cell_type": "code",
   "execution_count": null,
   "id": "11ca912b",
   "metadata": {},
   "outputs": [],
   "source": []
  }
 ],
 "metadata": {
  "kernelspec": {
   "display_name": "Python (env_pypoptim)",
   "language": "python",
   "name": "env_pypoptim"
  },
  "language_info": {
   "codemirror_mode": {
    "name": "ipython",
    "version": 3
   },
   "file_extension": ".py",
   "mimetype": "text/x-python",
   "name": "python",
   "nbconvert_exporter": "python",
   "pygments_lexer": "ipython3",
   "version": "3.8.10"
  }
 },
 "nbformat": 4,
 "nbformat_minor": 5
}
