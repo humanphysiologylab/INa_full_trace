{
 "cells": [
  {
   "cell_type": "code",
   "execution_count": null,
   "metadata": {},
   "outputs": [],
   "source": [
    "import os\n",
    "import sys\n",
    "import sklearn.covariance as skcov\n",
    "import aesara\n",
    "aesara.config.exception_verbosity = 'high'\n",
    "from aesara import tensor as at\n",
    "import numpy as np\n",
    "import pandas as pd\n",
    "import pymc as pm\n",
    "import arviz as az\n",
    "import matplotlib.pyplot as plt\n",
    "sys.path.append('../pypoptim/mpi_scripts/')\n",
    "from ina_model import InaModel\n",
    "from io_utils import collect_results\n",
    "sys.path.append('../scripts/pymc_scripts/')\n",
    "from functions import find_S, big_loglike, return_data_cut\n",
    "from classes import StupidMetropolis, StupidDEMetropolisZ, AwfulLogLike\n"
   ]
  },
  {
   "cell_type": "code",
   "execution_count": null,
   "metadata": {},
   "outputs": [],
   "source": [
    "dirname = '../results/'\n",
    "trace_name = '2020_12_22_0015'\n",
    "dirname_case = os.path.join(dirname, trace_name)\n",
    "case = os.listdir(dirname_case)[0]\n",
    "\n",
    "result = collect_results(case, dirname_case, dump_keys=['best'])\n",
    "sol_best = result['sol_best']\n",
    "config = result['config']\n",
    "bounds = config['runtime']['bounds']\n",
    "phenotype_best = result['phenotype_best']['trace']\n",
    "\n",
    "model_dir = '../src/model_ctypes/test_pipette_M1_in/'\n",
    "legend_states = pd.read_csv(os.path.join(model_dir, 'legend_states.csv'), index_col='name').value\n",
    "legend_algebraic = pd.read_csv(os.path.join(model_dir,'legend_algebraic.csv'), index_col='name').value\n",
    "legend_constants = pd.read_csv(os.path.join(model_dir,'legend_test.csv'), index_col='name').value\n",
    "\n",
    "A = legend_algebraic.copy()\n",
    "C = legend_constants.copy()\n",
    "S = legend_states.copy()\n",
    "\n",
    "df_protocol = pd.read_csv('../data/protocols/protocol_trace.csv')\n",
    "df_initial_state_protocol = pd.read_csv('../data/protocols/protocol_initial_state.csv')\n",
    "\n",
    "filename_so = os.path.join(model_dir, 'ina.so')\n",
    "filename_so_abs = os.path.abspath(filename_so)\n",
    "Ina = InaModel(filename_so_abs)\n",
    "\n",
    "data_name = trace_name + '.csv'\n",
    "data_dirname = '../data/real/activation/'\n",
    "data_path = os.path.normpath(os.path.join(data_dirname, data_name))\n",
    "data = np.array(pd.read_csv(data_path, index_col=0).I_out)\n",
    "\n",
    "weight = np.array(config['experimental_conditions']['trace']['sample_weight'])\n",
    "weight_grad = np.array(config['experimental_conditions']['trace']['sample_weight_grad'])\n",
    "\n",
    "\n",
    "m_index = config['runtime']['m_index']\n",
    "params_list = list(config['runtime']['m_index'].get_level_values(1))\n",
    "const_from_sol_best = legend_constants.copy()\n"
   ]
  },
  {
   "cell_type": "code",
   "execution_count": null,
   "metadata": {},
   "outputs": [],
   "source": [
    "from functions import func_model"
   ]
  },
  {
   "cell_type": "code",
   "execution_count": null,
   "metadata": {},
   "outputs": [],
   "source": [
    "ind_true=[]\n",
    "pass_params = ['v_off',\n",
    "               'c_p', 'R_f',\n",
    "#                'x_c_comp', 'x_r_comp', 'alpha',\n",
    "#                'c_p', 'x_c_comp', 'x_r_comp', 'R_f']#, 'alpha',\n",
    "#                'a0_m', 'b0_m', 's_m', 'delta_m', 'tau_m_const',\n",
    "#                'a0_h', 'b0_h', 's_h', 'delta_h', 'tau_h_const',\n",
    "#                'a0_j', 'b0_j', 's_j', 'delta_j', 'tau_j_const',\n",
    "#                'v_half_m', 'k_m', 'v_half_h', 'k_h', \n",
    "#                'v_rev', 'g_leak', 'tau_z'\n",
    "              ]\n",
    "\n",
    "for param in pass_params:\n",
    "    ind = 'common'\n",
    "    if param == 'v_off':\n",
    "        ind = 'trace'\n",
    "    ind_true.append(np.where(m_index==(ind, param)))\n",
    "mi = m_index.copy()\n",
    "m_index = m_index.delete(ind_true)\n",
    "bounds = np.delete(np.array(bounds), ind_true, 0)\n",
    "sol_best_before = np.delete(sol_best.values, ind_true)\n"
   ]
  },
  {
   "cell_type": "code",
   "execution_count": null,
   "metadata": {},
   "outputs": [],
   "source": [
    "trace = func_model(sol_best_before, m_index, Ina=Ina, const=const_from_sol_best, config=config) \n",
    "trace"
   ]
  },
  {
   "cell_type": "code",
   "execution_count": null,
   "metadata": {},
   "outputs": [],
   "source": [
    "downsampl = 10\n",
    "len_step = int(len(data)/20)\n",
    "data_cut_size = int(len_step/downsampl)\n",
    "data_cut  = np.array([np.zeros(data_cut_size) for k in range(19)]) \n",
    "delta_data = data - trace\n",
    "pipette_ind = [7, 107, 207, 407]\n",
    "for k in range(19):\n",
    "    data_cut[k] = np.array(delta_data[(k+1)*len_step:(k+2)*len_step:downsampl])\n",
    "    for p_ind in pipette_ind:\n",
    "        data_cut[k][p_ind:p_ind+4] = np.nan\n",
    "\n",
    "data_cut = np.delete(data_cut, np.where(np.isnan(data_cut)), axis=1)\n",
    "n = 19\n",
    "p = np.shape(data_cut)[1]\n",
    "delta = 2\n",
    "\n",
    "cov_0, lw_a=skcov.ledoit_wolf(data_cut,assume_centered=True)\n",
    "S_0 = np.dot(data_cut.T, data_cut)\n",
    "\n",
    "beta_0 = n/(1 - lw_a) + p + 1 - n\n",
    "alpha_0 = np.mean(S_0.diagonal())\n",
    "phi_0 = alpha_0*(beta_0 + n- p - 1)*lw_a\n",
    "gamma_0 = np.log(beta_0 - p - 1)"
   ]
  },
  {
   "cell_type": "code",
   "execution_count": null,
   "metadata": {
    "scrolled": true
   },
   "outputs": [],
   "source": [
    "plt.imshow(cov_0)\n",
    "plt.colorbar()\n",
    "plt.show()"
   ]
  },
  {
   "cell_type": "code",
   "execution_count": null,
   "metadata": {},
   "outputs": [],
   "source": [
    "ina_dict = {}\n",
    "\n",
    "ina_dict['find_S'] = find_S\n",
    "ina_dict['data'] = data\n",
    "ina_dict['m_index'] = m_index\n",
    "ina_dict['Ina'] = Ina\n",
    "ina_dict['const'] = const_from_sol_best\n",
    "ina_dict['config'] = config"
   ]
  },
  {
   "cell_type": "code",
   "execution_count": null,
   "metadata": {},
   "outputs": [],
   "source": [
    "param_cov_mat = np.load('../scripts/pymc_scripts/long_dangerous_good_cov.npy')"
   ]
  },
  {
   "cell_type": "code",
   "execution_count": null,
   "metadata": {},
   "outputs": [],
   "source": [
    "model = pm.Model()\n",
    "beta_l, beta_u = 1000., 200005.\n",
    "beta_start = (beta_u - beta_l)/2\n",
    "transform = None\n",
    "\n",
    "with model:\n",
    "    beta = pm.Uniform('beta',\n",
    "                      lower = beta_l,  \n",
    "                      upper = beta_u,\n",
    "                      transform=transform\n",
    "                     )\n",
    "    \n",
    "    parameters = pm.Uniform('parameters',\n",
    "                      lower = bounds.T[0],  \n",
    "                      upper = bounds.T[1],\n",
    "                      transform=transform\n",
    "                     )\n",
    "    loglike = AwfulLogLike(ina_dict=ina_dict,\n",
    "                           loglike=big_loglike,\n",
    "                           n=n, \n",
    "                           p=p, \n",
    "                           delta=delta, \n",
    "                           S=S_0,\n",
    "                           phi=(np.diag(np.diag(cov_0)))*beta_start,\n",
    "                           cov_mat=cov_0,\n",
    "                          )\n",
    "    parameters_tensor = at.as_tensor_variable(parameters,)\n",
    "    logl_mu = loglike(beta, parameters_tensor)\n",
    "    \n",
    "    pm.Potential(\"likelihood\", logl_mu)\n",
    "    step_beta = StupidMetropolis([beta], \n",
    "                             loglike = loglike, \n",
    "                             bounds = bounds.T, \n",
    "                             beta_bounds = [beta_l, beta_u],\n",
    "                             transform=transform,\n",
    "                            )\n",
    "    step_parameters = StupidDEMetropolisZ([parameters_tensor],\n",
    "                                lamb = 0.0,\n",
    "                                S = param_cov_mat, \n",
    "                                proposal_dist=pm.MultivariateNormalProposal,\n",
    "                                scaling=1.0,\n",
    "                                tune_interval = 100,\n",
    "                                tune = 'S',\n",
    "                                bounds = bounds.T,\n",
    "                                transform=transform,\n",
    "                               )\n",
    "    steps = pm.CompoundStep([step_beta, step_parameters])"
   ]
  },
  {
   "cell_type": "code",
   "execution_count": null,
   "metadata": {},
   "outputs": [],
   "source": [
    "from pymcmcstat.MCMC import MCMC\n",
    "from pymcmcstat.ParallelMCMC import ParallelMCMC\n",
    "import pymcmcstat\n",
    "\n",
    "up, low = 0.8, 1.2\n",
    "new_bounds = []\n",
    "for i, [index, param_bounds] in enumerate(zip(m_index.get_level_values(1), bounds)):\n",
    "    if sol_best_before[i]<0:\n",
    "        ub, lb = sol_best_before[i]*up, sol_best_before[i]*low\n",
    "    else:\n",
    "        lb, ub = sol_best_before[i]*up, sol_best_before[i]*low\n",
    "    if lb < param_bounds[0]:\n",
    "        lb = param_bounds[0]*1.01\n",
    "    if ub > param_bounds[1]:\n",
    "        ub = param_bounds[1]*0.99\n",
    "    new_bounds.append([lb, ub])\n",
    "    \n",
    "new_bounds = np.array(new_bounds)\n"
   ]
  },
  {
   "cell_type": "code",
   "execution_count": null,
   "metadata": {},
   "outputs": [],
   "source": [
    "nchain = 1"
   ]
  },
  {
   "cell_type": "code",
   "execution_count": null,
   "metadata": {},
   "outputs": [],
   "source": [
    "initial_values_parameters = pymcmcstat.ParallelMCMC.generate_initial_values(nchain - 1,\n",
    "                                                                 len(new_bounds),\n",
    "                                                                 new_bounds.T[0],\n",
    "                                                                 new_bounds.T[1])\n",
    "initial_values_beta = pymcmcstat.ParallelMCMC.generate_initial_values(nchain,\n",
    "                                                                      1,\n",
    "                                                                      9000,\n",
    "                                                                      11000)\n",
    "initial_values_parameters = np.append(initial_values_parameters, [sol_best_before], axis=0)\n",
    "start_dicts = []\n",
    "for sol, beta in zip(initial_values_parameters, initial_values_beta):\n",
    "    start_val = np.array(sol)\n",
    "    start_vals = {}\n",
    "    start_vals['parameters'] = start_val\n",
    "    start_vals['beta'] = np.array(*beta)\n",
    "    start_dicts.append(start_vals)\n",
    "start_dicts = np.array(start_dicts)\n",
    "start_dicts"
   ]
  },
  {
   "cell_type": "code",
   "execution_count": null,
   "metadata": {
    "scrolled": false
   },
   "outputs": [],
   "source": [
    "idata = pm.sample(10,\n",
    "                  tune=0,\n",
    "                  step=steps,\n",
    "                  model = model,\n",
    "                  chains=nchain,\n",
    "                  cores=nchain,\n",
    "                  return_inferencedata=True,\n",
    "                  initvals=start_dicts,\n",
    "                 )"
   ]
  },
  {
   "cell_type": "code",
   "execution_count": null,
   "metadata": {},
   "outputs": [],
   "source": [
    "dict_data = {}\n",
    "dict_data = {name:np.array(idata.posterior.data_vars['parameters'].T[k]).reshape(-1) for k, name in enumerate(m_index.get_level_values(1))}"
   ]
  },
  {
   "cell_type": "code",
   "execution_count": null,
   "metadata": {},
   "outputs": [],
   "source": [
    "plt.plot(dict_data['R'], dict_data['c_m'], 'o')\n",
    "plt.show()"
   ]
  },
  {
   "cell_type": "code",
   "execution_count": null,
   "metadata": {},
   "outputs": [],
   "source": [
    "# for ind in range(28):\n",
    "#     plt.figure()\n",
    "#     plt.plot(np.array(idata.posterior.data_vars['parameters'])[0].T[ind+1],'o')\n",
    "#     plt.show()"
   ]
  },
  {
   "cell_type": "code",
   "execution_count": null,
   "metadata": {},
   "outputs": [],
   "source": [
    "az.plot_pair(dict_data, \n",
    "             var_names=['c_m',\n",
    "                        'R',\n",
    "                        'v_half_h',\n",
    "                        'v_half_m',\n",
    "                        'k_h',\n",
    "                        'k_m',\n",
    "                       ],\n",
    "\n",
    "             kind='kde',\n",
    "             marginals = True,\n",
    "             divergences=True,  \n",
    "             textsize=20,\n",
    "             colorbar = True,\n",
    "             kde_kwargs={'contour':False,\n",
    "                        },\n",
    "             marginal_kwargs={'fill_kwargs':{'alpha': 0.8,\n",
    "                                            },\n",
    "                             }   \n",
    "        )"
   ]
  },
  {
   "cell_type": "code",
   "execution_count": null,
   "metadata": {},
   "outputs": [],
   "source": []
  }
 ],
 "metadata": {
  "kernelspec": {
   "display_name": "env_pypoptim",
   "language": "python",
   "name": "env_pypoptim"
  },
  "language_info": {
   "codemirror_mode": {
    "name": "ipython",
    "version": 3
   },
   "file_extension": ".py",
   "mimetype": "text/x-python",
   "name": "python",
   "nbconvert_exporter": "python",
   "pygments_lexer": "ipython3",
   "version": "3.8.10"
  }
 },
 "nbformat": 4,
 "nbformat_minor": 4
}
