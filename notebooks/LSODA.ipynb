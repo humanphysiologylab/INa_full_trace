{
 "cells": [
  {
   "cell_type": "code",
   "execution_count": 1,
   "id": "434a5b7d",
   "metadata": {},
   "outputs": [],
   "source": [
    "import numpy as np\n",
    "import pandas as pd\n",
    "\n",
    "import matplotlib.pyplot as plt\n",
    "\n",
    "import os\n",
    "import ctypes"
   ]
  },
  {
   "cell_type": "code",
   "execution_count": 2,
   "id": "bf86e702",
   "metadata": {},
   "outputs": [],
   "source": [
    "dirname = '../src/model_ctypes/ina/'\n",
    "filename_so = os.path.join(dirname, 'ina.so')\n",
    "\n",
    "filename_so_abs = os.path.abspath(filename_so)\n",
    "\n",
    "ina = ctypes.CDLL(filename_so_abs)"
   ]
  },
  {
   "cell_type": "code",
   "execution_count": 3,
   "id": "5f592d65",
   "metadata": {},
   "outputs": [],
   "source": [
    "# void initialize_states_default(double *STATES)\n",
    "ina.initialize_states_default.argtypes = [\n",
    "    np.ctypeslib.ndpointer(dtype=np.float64, ndim=1, flags='C_CONTIGUOUS')\n",
    "]\n",
    "ina.initialize_states_default.restype = ctypes.c_void_p\n",
    "\n",
    "\n",
    "# void compute_rates(const double time,  double *STATES, double *CONSTANTS,  double *ALGEBRAIC, double *RATES)\n",
    "ina.compute_rates.argtypes = [\n",
    "    ctypes.c_double,\n",
    "    np.ctypeslib.ndpointer(dtype=np.float64, ndim=1, flags='C_CONTIGUOUS'),\n",
    "    np.ctypeslib.ndpointer(dtype=np.float64, ndim=1, flags='C_CONTIGUOUS'),\n",
    "    np.ctypeslib.ndpointer(dtype=np.float64, ndim=1, flags='C_CONTIGUOUS'),\n",
    "    np.ctypeslib.ndpointer(dtype=np.float64, ndim=1, flags='C_CONTIGUOUS')\n",
    "]\n",
    "ina.compute_rates.restype = ctypes.c_void_p\n",
    "\n",
    "\n",
    "# void compute_algebraic(const double time,  double *STATES, double *CONSTANTS,  double *ALGEBRAIC)\n",
    "ina.compute_algebraic.argtypes = [\n",
    "    ctypes.c_double,\n",
    "    np.ctypeslib.ndpointer(dtype=np.float64, ndim=1, flags='C_CONTIGUOUS'),\n",
    "    np.ctypeslib.ndpointer(dtype=np.float64, ndim=1, flags='C_CONTIGUOUS'),\n",
    "    np.ctypeslib.ndpointer(dtype=np.float64, ndim=1, flags='C_CONTIGUOUS')\n",
    "]\n",
    "ina.compute_algebraic.restype = ctypes.c_void_p\n",
    "\n",
    "\n",
    "# int run(double *S, double *C,\n",
    "#         double *time_array, double *voltage_command_array, int array_length,\n",
    "#         double *output_S, double *output_A)\n",
    "ina.run.argtypes = [\n",
    "    np.ctypeslib.ndpointer(dtype=np.float64, ndim=1, flags='C_CONTIGUOUS'), \n",
    "    np.ctypeslib.ndpointer(dtype=np.float64, ndim=1, flags='C_CONTIGUOUS'), \n",
    "    np.ctypeslib.ndpointer(dtype=np.float64, ndim=1, flags='C_CONTIGUOUS'),\n",
    "    np.ctypeslib.ndpointer(dtype=np.float64, ndim=1, flags='C_CONTIGUOUS'),\n",
    "    ctypes.c_int,\n",
    "    np.ctypeslib.ndpointer(dtype=np.float64, ndim=2, flags='C_CONTIGUOUS'),\n",
    "    np.ctypeslib.ndpointer(dtype=np.float64, ndim=2, flags='C_CONTIGUOUS')\n",
    "]\n",
    "ina.run.restype = ctypes.c_int\n",
    "\n",
    "legend_constants = pd.read_csv(os.path.join(dirname, \"legend_constants.csv\"), index_col='name')['value']\n",
    "legend_states = pd.read_csv(os.path.join(dirname, \"legend_states.csv\"), index_col='name')['value']\n",
    "legend_algebraic = pd.read_csv(os.path.join(dirname, \"legend_algebraic.csv\"), index_col='name')['value']"
   ]
  },
  {
   "cell_type": "code",
   "execution_count": 4,
   "id": "fa012090",
   "metadata": {},
   "outputs": [],
   "source": [
    "S = legend_states.copy()\n",
    "R = S.copy() * 0\n",
    "C = legend_constants.copy()\n",
    "A = legend_algebraic.copy()"
   ]
  },
  {
   "cell_type": "code",
   "execution_count": 5,
   "id": "0b1f6df6",
   "metadata": {},
   "outputs": [],
   "source": [
    "# ina.initialize_states_default(S.values)\n",
    "# S"
   ]
  },
  {
   "cell_type": "code",
   "execution_count": 6,
   "id": "19d46f8c",
   "metadata": {},
   "outputs": [],
   "source": [
    "# ina.compute_rates(0, S.values, C.values, A.values, R.values)\n",
    "# R"
   ]
  },
  {
   "cell_type": "code",
   "execution_count": 7,
   "id": "c4321db1",
   "metadata": {},
   "outputs": [],
   "source": [
    "# ina.compute_algebraic(0, S.values, C.values, A.values)\n",
    "# A"
   ]
  },
  {
   "cell_type": "code",
   "execution_count": 8,
   "id": "0103440b",
   "metadata": {},
   "outputs": [],
   "source": [
    "# t = np.arange(0, 1e-3, 5e-5)\n",
    "# v_c = np.full_like(t, -80.0)\n",
    "\n",
    "# df_protocol = pd.DataFrame(np.vstack([t, v_c]).T, columns=['t', 'v_c'])"
   ]
  },
  {
   "cell_type": "code",
   "execution_count": 9,
   "id": "8543ac02",
   "metadata": {},
   "outputs": [],
   "source": [
    "filename_protocol = \"../data/protocols/protocol.csv\"\n",
    "df_protocol = pd.read_csv(filename_protocol)"
   ]
  },
  {
   "cell_type": "code",
   "execution_count": 10,
   "id": "0cd1f3b1",
   "metadata": {},
   "outputs": [
    {
     "data": {
      "text/plain": [
       "[<matplotlib.lines.Line2D at 0x7f695a36c970>]"
      ]
     },
     "execution_count": 10,
     "metadata": {},
     "output_type": "execute_result"
    },
    {
     "data": {
      "image/png": "[encoded data removed]",
      "text/plain": [
       "<Figure size 432x288 with 1 Axes>"
      ]
     },
     "metadata": {
      "needs_background": "light"
     },
     "output_type": "display_data"
    }
   ],
   "source": [
    "plt.plot(df_protocol.t, df_protocol.v)"
   ]
  },
  {
   "cell_type": "code",
   "execution_count": 11,
   "id": "587824f0",
   "metadata": {},
   "outputs": [],
   "source": [
    "output_len = len(df_protocol)\n",
    "\n",
    "output_S = pd.DataFrame(np.zeros((output_len, len(S))), columns=legend_states.index)\n",
    "output_A = pd.DataFrame(np.zeros((output_len, len(A))), columns=legend_algebraic.index)"
   ]
  },
  {
   "cell_type": "code",
   "execution_count": 12,
   "id": "108cf186",
   "metadata": {},
   "outputs": [
    {
     "name": "stdout",
     "output_type": "stream",
     "text": [
      "CPU times: user 26.7 ms, sys: 8.52 ms, total: 35.2 ms\n",
      "Wall time: 34.4 ms\n"
     ]
    },
    {
     "data": {
      "text/plain": [
       "2"
      ]
     },
     "execution_count": 12,
     "metadata": {},
     "output_type": "execute_result"
    }
   ],
   "source": [
    "%%time\n",
    "status = ina.run(S.values.copy(), C.values.copy(),\n",
    "        df_protocol['t'].values, df_protocol['v'].values, output_len,\n",
    "        output_S.values, output_A.values)\n",
    "status"
   ]
  },
  {
   "cell_type": "code",
   "execution_count": 13,
   "id": "d5ac07c6",
   "metadata": {},
   "outputs": [
    {
     "data": {
      "text/html": [
       "<div>\n",
       "<style scoped>\n",
       "    .dataframe tbody tr th:only-of-type {\n",
       "        vertical-align: middle;\n",
       "    }\n",
       "\n",
       "    .dataframe tbody tr th {\n",
       "        vertical-align: top;\n",
       "    }\n",
       "\n",
       "    .dataframe thead th {\n",
       "        text-align: right;\n",
       "    }\n",
       "</style>\n",
       "<table border=\"1\" class=\"dataframe\">\n",
       "  <thead>\n",
       "    <tr style=\"text-align: right;\">\n",
       "      <th>name</th>\n",
       "      <th>v_comp</th>\n",
       "      <th>v_p</th>\n",
       "      <th>v_m</th>\n",
       "      <th>m</th>\n",
       "      <th>h</th>\n",
       "      <th>j</th>\n",
       "      <th>I_out</th>\n",
       "    </tr>\n",
       "  </thead>\n",
       "  <tbody>\n",
       "    <tr>\n",
       "      <th>0</th>\n",
       "      <td>-80.0</td>\n",
       "      <td>-80.0</td>\n",
       "      <td>-80.000000</td>\n",
       "      <td>0.000000</td>\n",
       "      <td>1.000000</td>\n",
       "      <td>1.000000</td>\n",
       "      <td>0.000000</td>\n",
       "    </tr>\n",
       "    <tr>\n",
       "      <th>1</th>\n",
       "      <td>-80.0</td>\n",
       "      <td>-80.0</td>\n",
       "      <td>-79.942683</td>\n",
       "      <td>0.000009</td>\n",
       "      <td>0.999975</td>\n",
       "      <td>0.998474</td>\n",
       "      <td>-3.991031</td>\n",
       "    </tr>\n",
       "    <tr>\n",
       "      <th>2</th>\n",
       "      <td>-80.0</td>\n",
       "      <td>-80.0</td>\n",
       "      <td>-79.885883</td>\n",
       "      <td>0.000016</td>\n",
       "      <td>0.999950</td>\n",
       "      <td>0.997028</td>\n",
       "      <td>-6.502548</td>\n",
       "    </tr>\n",
       "    <tr>\n",
       "      <th>3</th>\n",
       "      <td>-80.0</td>\n",
       "      <td>-80.0</td>\n",
       "      <td>-79.829597</td>\n",
       "      <td>0.000022</td>\n",
       "      <td>0.999925</td>\n",
       "      <td>0.995656</td>\n",
       "      <td>-8.114783</td>\n",
       "    </tr>\n",
       "    <tr>\n",
       "      <th>4</th>\n",
       "      <td>-80.0</td>\n",
       "      <td>-80.0</td>\n",
       "      <td>-79.773820</td>\n",
       "      <td>0.000028</td>\n",
       "      <td>0.999900</td>\n",
       "      <td>0.994354</td>\n",
       "      <td>-9.181532</td>\n",
       "    </tr>\n",
       "    <tr>\n",
       "      <th>...</th>\n",
       "      <td>...</td>\n",
       "      <td>...</td>\n",
       "      <td>...</td>\n",
       "      <td>...</td>\n",
       "      <td>...</td>\n",
       "      <td>...</td>\n",
       "      <td>...</td>\n",
       "    </tr>\n",
       "    <tr>\n",
       "      <th>99995</th>\n",
       "      <td>-80.0</td>\n",
       "      <td>-80.0</td>\n",
       "      <td>-73.483189</td>\n",
       "      <td>0.000172</td>\n",
       "      <td>0.302952</td>\n",
       "      <td>0.924066</td>\n",
       "      <td>-36.157096</td>\n",
       "    </tr>\n",
       "    <tr>\n",
       "      <th>99996</th>\n",
       "      <td>-80.0</td>\n",
       "      <td>-80.0</td>\n",
       "      <td>-73.484767</td>\n",
       "      <td>0.000172</td>\n",
       "      <td>0.303484</td>\n",
       "      <td>0.924090</td>\n",
       "      <td>-36.150656</td>\n",
       "    </tr>\n",
       "    <tr>\n",
       "      <th>99997</th>\n",
       "      <td>-80.0</td>\n",
       "      <td>-80.0</td>\n",
       "      <td>-73.486330</td>\n",
       "      <td>0.000172</td>\n",
       "      <td>0.304015</td>\n",
       "      <td>0.924113</td>\n",
       "      <td>-36.144275</td>\n",
       "    </tr>\n",
       "    <tr>\n",
       "      <th>99998</th>\n",
       "      <td>-80.0</td>\n",
       "      <td>-80.0</td>\n",
       "      <td>-73.487878</td>\n",
       "      <td>0.000172</td>\n",
       "      <td>0.304546</td>\n",
       "      <td>0.924136</td>\n",
       "      <td>-36.137952</td>\n",
       "    </tr>\n",
       "    <tr>\n",
       "      <th>99999</th>\n",
       "      <td>-80.0</td>\n",
       "      <td>-80.0</td>\n",
       "      <td>-73.489413</td>\n",
       "      <td>0.000172</td>\n",
       "      <td>0.305076</td>\n",
       "      <td>0.924158</td>\n",
       "      <td>-36.131688</td>\n",
       "    </tr>\n",
       "  </tbody>\n",
       "</table>\n",
       "<p>100000 rows × 7 columns</p>\n",
       "</div>"
      ],
      "text/plain": [
       "name   v_comp   v_p        v_m         m         h         j      I_out\n",
       "0       -80.0 -80.0 -80.000000  0.000000  1.000000  1.000000   0.000000\n",
       "1       -80.0 -80.0 -79.942683  0.000009  0.999975  0.998474  -3.991031\n",
       "2       -80.0 -80.0 -79.885883  0.000016  0.999950  0.997028  -6.502548\n",
       "3       -80.0 -80.0 -79.829597  0.000022  0.999925  0.995656  -8.114783\n",
       "4       -80.0 -80.0 -79.773820  0.000028  0.999900  0.994354  -9.181532\n",
       "...       ...   ...        ...       ...       ...       ...        ...\n",
       "99995   -80.0 -80.0 -73.483189  0.000172  0.302952  0.924066 -36.157096\n",
       "99996   -80.0 -80.0 -73.484767  0.000172  0.303484  0.924090 -36.150656\n",
       "99997   -80.0 -80.0 -73.486330  0.000172  0.304015  0.924113 -36.144275\n",
       "99998   -80.0 -80.0 -73.487878  0.000172  0.304546  0.924136 -36.137952\n",
       "99999   -80.0 -80.0 -73.489413  0.000172  0.305076  0.924158 -36.131688\n",
       "\n",
       "[100000 rows x 7 columns]"
      ]
     },
     "execution_count": 13,
     "metadata": {},
     "output_type": "execute_result"
    }
   ],
   "source": [
    "output_S"
   ]
  },
  {
   "cell_type": "code",
   "execution_count": 14,
   "id": "b45e4c4a",
   "metadata": {},
   "outputs": [
    {
     "data": {
      "text/html": [
       "<div>\n",
       "<style scoped>\n",
       "    .dataframe tbody tr th:only-of-type {\n",
       "        vertical-align: middle;\n",
       "    }\n",
       "\n",
       "    .dataframe tbody tr th {\n",
       "        vertical-align: top;\n",
       "    }\n",
       "\n",
       "    .dataframe thead th {\n",
       "        text-align: right;\n",
       "    }\n",
       "</style>\n",
       "<table border=\"1\" class=\"dataframe\">\n",
       "  <thead>\n",
       "    <tr style=\"text-align: right;\">\n",
       "      <th>name</th>\n",
       "      <th>tau_m</th>\n",
       "      <th>tau_h</th>\n",
       "      <th>tau_j</th>\n",
       "      <th>m_inf</th>\n",
       "      <th>h_inf</th>\n",
       "      <th>v_cp</th>\n",
       "      <th>I_leak</th>\n",
       "      <th>I_Na</th>\n",
       "      <th>I_c</th>\n",
       "      <th>I_p</th>\n",
       "      <th>I_comp</th>\n",
       "      <th>I_in</th>\n",
       "    </tr>\n",
       "  </thead>\n",
       "  <tbody>\n",
       "    <tr>\n",
       "      <th>0</th>\n",
       "      <td>0.000289</td>\n",
       "      <td>0.049458</td>\n",
       "      <td>0.000779</td>\n",
       "      <td>0.000054</td>\n",
       "      <td>0.975572</td>\n",
       "      <td>-80.0</td>\n",
       "      <td>-38.499544</td>\n",
       "      <td>-0.000000e+00</td>\n",
       "      <td>28.478207</td>\n",
       "      <td>0.000000</td>\n",
       "      <td>0.000000</td>\n",
       "      <td>-10.021337</td>\n",
       "    </tr>\n",
       "    <tr>\n",
       "      <th>1</th>\n",
       "      <td>0.000290</td>\n",
       "      <td>0.049567</td>\n",
       "      <td>0.000779</td>\n",
       "      <td>0.000055</td>\n",
       "      <td>0.975264</td>\n",
       "      <td>-80.0</td>\n",
       "      <td>-38.465464</td>\n",
       "      <td>-5.007076e-08</td>\n",
       "      <td>28.160256</td>\n",
       "      <td>0.000000</td>\n",
       "      <td>0.000000</td>\n",
       "      <td>-10.305208</td>\n",
       "    </tr>\n",
       "    <tr>\n",
       "      <th>2</th>\n",
       "      <td>0.000291</td>\n",
       "      <td>0.049666</td>\n",
       "      <td>0.000779</td>\n",
       "      <td>0.000056</td>\n",
       "      <td>0.974980</td>\n",
       "      <td>-80.0</td>\n",
       "      <td>-38.434434</td>\n",
       "      <td>-2.716221e-07</td>\n",
       "      <td>27.870759</td>\n",
       "      <td>0.000000</td>\n",
       "      <td>0.000000</td>\n",
       "      <td>-10.563675</td>\n",
       "    </tr>\n",
       "    <tr>\n",
       "      <th>3</th>\n",
       "      <td>0.000292</td>\n",
       "      <td>0.049763</td>\n",
       "      <td>0.000779</td>\n",
       "      <td>0.000056</td>\n",
       "      <td>0.974696</td>\n",
       "      <td>-80.0</td>\n",
       "      <td>-38.403723</td>\n",
       "      <td>-6.812132e-07</td>\n",
       "      <td>27.584239</td>\n",
       "      <td>0.000000</td>\n",
       "      <td>0.000000</td>\n",
       "      <td>-10.819484</td>\n",
       "    </tr>\n",
       "    <tr>\n",
       "      <th>4</th>\n",
       "      <td>0.000293</td>\n",
       "      <td>0.049840</td>\n",
       "      <td>0.000779</td>\n",
       "      <td>0.000057</td>\n",
       "      <td>0.974471</td>\n",
       "      <td>-80.0</td>\n",
       "      <td>-38.379658</td>\n",
       "      <td>-1.112499e-06</td>\n",
       "      <td>27.359725</td>\n",
       "      <td>0.000000</td>\n",
       "      <td>0.000000</td>\n",
       "      <td>-11.019934</td>\n",
       "    </tr>\n",
       "    <tr>\n",
       "      <th>...</th>\n",
       "      <td>...</td>\n",
       "      <td>...</td>\n",
       "      <td>...</td>\n",
       "      <td>...</td>\n",
       "      <td>...</td>\n",
       "      <td>...</td>\n",
       "      <td>...</td>\n",
       "      <td>...</td>\n",
       "      <td>...</td>\n",
       "      <td>...</td>\n",
       "      <td>...</td>\n",
       "      <td>...</td>\n",
       "    </tr>\n",
       "    <tr>\n",
       "      <th>99995</th>\n",
       "      <td>0.000396</td>\n",
       "      <td>0.058401</td>\n",
       "      <td>0.000779</td>\n",
       "      <td>0.000171</td>\n",
       "      <td>0.924706</td>\n",
       "      <td>-80.0</td>\n",
       "      <td>-35.373884</td>\n",
       "      <td>-5.839674e-05</td>\n",
       "      <td>-0.682648</td>\n",
       "      <td>0.000009</td>\n",
       "      <td>-0.000002</td>\n",
       "      <td>-36.056589</td>\n",
       "    </tr>\n",
       "    <tr>\n",
       "      <th>99996</th>\n",
       "      <td>0.000396</td>\n",
       "      <td>0.058401</td>\n",
       "      <td>0.000779</td>\n",
       "      <td>0.000171</td>\n",
       "      <td>0.924706</td>\n",
       "      <td>-80.0</td>\n",
       "      <td>-35.373884</td>\n",
       "      <td>-5.839674e-05</td>\n",
       "      <td>-0.682648</td>\n",
       "      <td>0.000009</td>\n",
       "      <td>-0.000002</td>\n",
       "      <td>-36.056589</td>\n",
       "    </tr>\n",
       "    <tr>\n",
       "      <th>99997</th>\n",
       "      <td>0.000396</td>\n",
       "      <td>0.058401</td>\n",
       "      <td>0.000779</td>\n",
       "      <td>0.000171</td>\n",
       "      <td>0.924706</td>\n",
       "      <td>-80.0</td>\n",
       "      <td>-35.373884</td>\n",
       "      <td>-5.839674e-05</td>\n",
       "      <td>-0.682648</td>\n",
       "      <td>0.000009</td>\n",
       "      <td>-0.000002</td>\n",
       "      <td>-36.056589</td>\n",
       "    </tr>\n",
       "    <tr>\n",
       "      <th>99998</th>\n",
       "      <td>0.000396</td>\n",
       "      <td>0.058401</td>\n",
       "      <td>0.000779</td>\n",
       "      <td>0.000171</td>\n",
       "      <td>0.924706</td>\n",
       "      <td>-80.0</td>\n",
       "      <td>-35.373884</td>\n",
       "      <td>-5.839674e-05</td>\n",
       "      <td>-0.682648</td>\n",
       "      <td>0.000009</td>\n",
       "      <td>-0.000002</td>\n",
       "      <td>-36.056589</td>\n",
       "    </tr>\n",
       "    <tr>\n",
       "      <th>99999</th>\n",
       "      <td>0.000396</td>\n",
       "      <td>0.058401</td>\n",
       "      <td>0.000779</td>\n",
       "      <td>0.000171</td>\n",
       "      <td>0.924706</td>\n",
       "      <td>-80.0</td>\n",
       "      <td>-35.373884</td>\n",
       "      <td>-5.839674e-05</td>\n",
       "      <td>-0.682648</td>\n",
       "      <td>0.000009</td>\n",
       "      <td>-0.000002</td>\n",
       "      <td>-36.056589</td>\n",
       "    </tr>\n",
       "  </tbody>\n",
       "</table>\n",
       "<p>100000 rows × 12 columns</p>\n",
       "</div>"
      ],
      "text/plain": [
       "name      tau_m     tau_h     tau_j     m_inf     h_inf  v_cp     I_leak  \\\n",
       "0      0.000289  0.049458  0.000779  0.000054  0.975572 -80.0 -38.499544   \n",
       "1      0.000290  0.049567  0.000779  0.000055  0.975264 -80.0 -38.465464   \n",
       "2      0.000291  0.049666  0.000779  0.000056  0.974980 -80.0 -38.434434   \n",
       "3      0.000292  0.049763  0.000779  0.000056  0.974696 -80.0 -38.403723   \n",
       "4      0.000293  0.049840  0.000779  0.000057  0.974471 -80.0 -38.379658   \n",
       "...         ...       ...       ...       ...       ...   ...        ...   \n",
       "99995  0.000396  0.058401  0.000779  0.000171  0.924706 -80.0 -35.373884   \n",
       "99996  0.000396  0.058401  0.000779  0.000171  0.924706 -80.0 -35.373884   \n",
       "99997  0.000396  0.058401  0.000779  0.000171  0.924706 -80.0 -35.373884   \n",
       "99998  0.000396  0.058401  0.000779  0.000171  0.924706 -80.0 -35.373884   \n",
       "99999  0.000396  0.058401  0.000779  0.000171  0.924706 -80.0 -35.373884   \n",
       "\n",
       "name           I_Na        I_c       I_p    I_comp       I_in  \n",
       "0     -0.000000e+00  28.478207  0.000000  0.000000 -10.021337  \n",
       "1     -5.007076e-08  28.160256  0.000000  0.000000 -10.305208  \n",
       "2     -2.716221e-07  27.870759  0.000000  0.000000 -10.563675  \n",
       "3     -6.812132e-07  27.584239  0.000000  0.000000 -10.819484  \n",
       "4     -1.112499e-06  27.359725  0.000000  0.000000 -11.019934  \n",
       "...             ...        ...       ...       ...        ...  \n",
       "99995 -5.839674e-05  -0.682648  0.000009 -0.000002 -36.056589  \n",
       "99996 -5.839674e-05  -0.682648  0.000009 -0.000002 -36.056589  \n",
       "99997 -5.839674e-05  -0.682648  0.000009 -0.000002 -36.056589  \n",
       "99998 -5.839674e-05  -0.682648  0.000009 -0.000002 -36.056589  \n",
       "99999 -5.839674e-05  -0.682648  0.000009 -0.000002 -36.056589  \n",
       "\n",
       "[100000 rows x 12 columns]"
      ]
     },
     "execution_count": 14,
     "metadata": {},
     "output_type": "execute_result"
    }
   ],
   "source": [
    "output_A"
   ]
  },
  {
   "cell_type": "code",
   "execution_count": 15,
   "id": "94755ae1",
   "metadata": {},
   "outputs": [
    {
     "data": {
      "text/plain": [
       "[<matplotlib.lines.Line2D at 0x7f695a150850>]"
      ]
     },
     "execution_count": 15,
     "metadata": {},
     "output_type": "execute_result"
    },
    {
     "data": {
      "image/png": "[encoded data removed]",
      "text/plain": [
       "<Figure size 432x288 with 1 Axes>"
      ]
     },
     "metadata": {
      "needs_background": "light"
     },
     "output_type": "display_data"
    }
   ],
   "source": [
    "plt.plot(output_S.I_out)"
   ]
  },
  {
   "cell_type": "code",
   "execution_count": 16,
   "id": "2b9286be",
   "metadata": {},
   "outputs": [
    {
     "data": {
      "text/plain": [
       "[<matplotlib.lines.Line2D at 0x7f695a0bbf10>]"
      ]
     },
     "execution_count": 16,
     "metadata": {},
     "output_type": "execute_result"
    },
    {
     "data": {
      "image/png": "[encoded data removed]",
      "text/plain": [
       "<Figure size 432x288 with 1 Axes>"
      ]
     },
     "metadata": {
      "needs_background": "light"
     },
     "output_type": "display_data"
    }
   ],
   "source": [
    "plt.plot(output_A.I_p)"
   ]
  },
  {
   "cell_type": "code",
   "execution_count": null,
   "id": "9358c0ce",
   "metadata": {},
   "outputs": [],
   "source": []
  }
 ],
 "metadata": {
  "kernelspec": {
   "display_name": "ina",
   "language": "python",
   "name": "ina"
  },
  "language_info": {
   "codemirror_mode": {
    "name": "ipython",
    "version": 3
   },
   "file_extension": ".py",
   "mimetype": "text/x-python",
   "name": "python",
   "nbconvert_exporter": "python",
   "pygments_lexer": "ipython3",
   "version": "3.9.4"
  }
 },
 "nbformat": 4,
 "nbformat_minor": 5
}
