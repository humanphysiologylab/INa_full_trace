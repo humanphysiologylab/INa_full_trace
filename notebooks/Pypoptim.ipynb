{
 "cells": [
  {
   "cell_type": "code",
   "execution_count": 1,
   "metadata": {
    "scrolled": true
   },
   "outputs": [],
   "source": [
    "import pandas as pd\n",
    "import pypoptim\n",
    "from matplotlib import pyplot as plt\n",
    "import seaborn as sns\n",
    "import pickle\n",
    "import os\n",
    "import sys\n",
    "import numpy as np\n",
    "from pypoptim.postprocessing import collect_results\n",
    "plt.style.use('../styles/general.mplstyle')"
   ]
  },
  {
   "cell_type": "code",
   "execution_count": 3,
   "metadata": {},
   "outputs": [],
   "source": [
    "sys.path.append(\"../../pypoptim/src/pypoptim/\")"
   ]
  },
  {
   "cell_type": "code",
   "execution_count": 4,
   "metadata": {
    "scrolled": true
   },
   "outputs": [
    {
     "name": "stdout",
     "output_type": "stream",
     "text": [
      "{'n_organisms': 16, 'n_elites': 2, 'n_generations': 100, 'output_folder_name': '../../results/ina/', 'loss': 'RMSE', 'columns_control': ['I_out'], 'columns_model': ['I_out'], 'column_stim_protocol': ['v'], 'filename_so': '../../src/model_ctypes/ina/ina.so', 'filename_legend_states': '../../src/model_ctypes/ina/legend_states.csv', 'filename_legend_constants': '../../src/model_ctypes/ina/legend_constants.csv', 'filename_legend_algebraic': '../../src/model_ctypes/ina/legend_algebraic.csv', 'filename_protocol': '../../data/protocols/protocol_trace.csv', 'filename_initial_state_protocol': '../../data/protocols/protocol_initial_state.csv', 'experimental_conditions': {'common': {'params': {'c_p': {'bounds': [0.1, 10], 'gamma': 1, 'is_multiplier': True}}}, 'trace': {'params': {'c_m': {'bounds': [0.1, 10], 'gamma': 1, 'is_multiplier': True}}, 'filename_phenotype': '/home/nik/Documents/comparison/INa_full_trace/data/training/artificial_data.csv', 'phenotype':        Unnamed: 0        t      I_out\n",
      "0               0  0.00000 -39.231662\n",
      "1               1  0.00005 -39.231662\n",
      "2               2  0.00010 -39.231662\n",
      "3               3  0.00015 -39.231662\n",
      "4               4  0.00020 -39.231662\n",
      "...           ...      ...        ...\n",
      "99995       99995  4.99975 -39.231661\n",
      "99996       99996  4.99980 -39.231661\n",
      "99997       99997  4.99985 -39.231661\n",
      "99998       99998  4.99990 -39.231661\n",
      "99999       99999  4.99995 -39.231661\n",
      "\n",
      "[100000 rows x 3 columns]}}, 'runtime': {'config_path': '/home/nik/Documents/comparison/INa_full_trace/pypoptim/configs', 'filename_so_abs': '/home/nik/Documents/comparison/INa_full_trace/src/model_ctypes/ina/ina.so', 'sha': '0d4515f9d16fce62b1b155ed2f56e469eec66fb9', 'genes_dict': {'common': {'c_p': {'bounds': [0.1, 10], 'gamma': 1, 'is_multiplier': True}}, 'trace': {'c_m': {'bounds': [0.1, 10], 'gamma': 1, 'is_multiplier': True}}}, 'constants_dict': {'common': {}, 'trace': {}}, 'm_index': MultiIndex([('common', 'c_p'),\n",
      "            ( 'trace', 'c_m')],\n",
      "           names=['ec_name', 'g_name']), 'legend': {'states': name\n",
      "v_comp   -80.0\n",
      "v_p      -80.0\n",
      "v_m      -80.0\n",
      "m          0.0\n",
      "h          1.0\n",
      "j          1.0\n",
      "I_out      0.0\n",
      "Name: value, dtype: float64, 'constants': name\n",
      "c_p            4.502963e-12\n",
      "c_m            2.473016e-11\n",
      "a0_m           2.736956e+03\n",
      "b0_m           7.135904e+01\n",
      "delta_m        2.061570e+01\n",
      "s_m            9.306083e+00\n",
      "a0_h           4.604052e-01\n",
      "b0_h           5.038082e+02\n",
      "delta_h        1.523480e+01\n",
      "s_h            2.196405e+01\n",
      "a0_j           4.475461e-01\n",
      "b0_j           2.061333e+04\n",
      "delta_j        4.115303e+00\n",
      "s_j            1.673159e+02\n",
      "tau_j_const    7.794313e-04\n",
      "R              2.494677e+07\n",
      "R_f            3.264214e+05\n",
      "g_max          4.392204e+05\n",
      "g_leak         4.812443e-01\n",
      "tau_z          1.000340e-04\n",
      "v_half_m       2.435802e+01\n",
      "v_half_h       5.969117e+01\n",
      "k_m            5.666770e+00\n",
      "k_h            5.507771e+00\n",
      "x_c_comp       9.929933e-02\n",
      "x_r_comp       1.020000e+00\n",
      "alpha          7.500000e-01\n",
      "v_off         -2.000000e+00\n",
      "v_rev          1.800000e+01\n",
      "v_c           -8.000000e+01\n",
      "Name: value, dtype: float64, 'algebraic': name\n",
      "tau_m     0.0\n",
      "tau_h     0.0\n",
      "tau_j     0.0\n",
      "m_inf     0.0\n",
      "h_inf     0.0\n",
      "v_cp      0.0\n",
      "I_leak    0.0\n",
      "I_Na      0.0\n",
      "I_c       0.0\n",
      "I_p       0.0\n",
      "I_comp    0.0\n",
      "I_in      0.0\n",
      "Name: value, dtype: float64}, 'protocol':              t     v\n",
      "0      0.00000 -80.0\n",
      "1      0.00005 -80.0\n",
      "2      0.00010 -80.0\n",
      "3      0.00015 -80.0\n",
      "4      0.00020 -80.0\n",
      "...        ...   ...\n",
      "99995  4.99975 -80.0\n",
      "99996  4.99980 -80.0\n",
      "99997  4.99985 -80.0\n",
      "99998  4.99990 -80.0\n",
      "99999  4.99995 -80.0\n",
      "\n",
      "[100000 rows x 2 columns], 'initial_state_protocol':              t     v\n",
      "0      0.00000 -80.0\n",
      "1      0.00005 -80.0\n",
      "2      0.00010 -80.0\n",
      "3      0.00015 -80.0\n",
      "4      0.00020 -80.0\n",
      "...        ...   ...\n",
      "19995  0.99975 -80.0\n",
      "19996  0.99980 -80.0\n",
      "19997  0.99985 -80.0\n",
      "19998  0.99990 -80.0\n",
      "19999  0.99995 -80.0\n",
      "\n",
      "[20000 rows x 2 columns], 'bounds': array([[ 0.1, 10. ],\n",
      "       [ 0.1, 10. ]]), 'gammas': array([1, 1]), 'mask_multipliers': array([ True,  True]), 'kw_ga': {'crossover_rate': 1.0, 'mutation_rate': 0.1, 'gamma': 1.0}, 'comm_size': 1, 'n_organisms': 16, 'time_suffix': '210720_161410', 'output': {'folder': '/home/nik/Documents/comparison/INa_full_trace/results/ina/210720_161410', 'folder_dump': '/home/nik/Documents/comparison/INa_full_trace/results/ina/210720_161410/dump', 'folder_best': '/home/nik/Documents/comparison/INa_full_trace/results/ina/210720_161410/best', 'folder_phenotype': '/home/nik/Documents/comparison/INa_full_trace/results/ina/210720_161410/phenotype'}, 'n_orgsnisms_per_process': 16, 'genes_size': 2}}\n"
     ]
    }
   ],
   "source": [
    "dirname, case = \"../results/ina/\", \"210720_161410\"\n",
    "output_dict = collect_results(case, dirname, load_dump=False)"
   ]
  },
  {
   "cell_type": "code",
   "execution_count": 5,
   "metadata": {
    "scrolled": true
   },
   "outputs": [
    {
     "name": "stdout",
     "output_type": "stream",
     "text": [
      "<_io.BufferedReader name='../results/ina/210720_161410/config_backup.pickle'>\n",
      "{'n_organisms': 16, 'n_elites': 2, 'n_generations': 100, 'output_folder_name': '../../results/ina/', 'loss': 'RMSE', 'columns_control': ['I_out'], 'columns_model': ['I_out'], 'column_stim_protocol': ['v'], 'filename_so': '../../src/model_ctypes/ina/ina.so', 'filename_legend_states': '../../src/model_ctypes/ina/legend_states.csv', 'filename_legend_constants': '../../src/model_ctypes/ina/legend_constants.csv', 'filename_legend_algebraic': '../../src/model_ctypes/ina/legend_algebraic.csv', 'filename_protocol': '../../data/protocols/protocol_trace.csv', 'filename_initial_state_protocol': '../../data/protocols/protocol_initial_state.csv', 'experimental_conditions': {'common': {'params': {'c_p': {'bounds': [0.1, 10], 'gamma': 1, 'is_multiplier': True}}}, 'trace': {'params': {'c_m': {'bounds': [0.1, 10], 'gamma': 1, 'is_multiplier': True}}, 'filename_phenotype': '/home/nik/Documents/comparison/INa_full_trace/data/training/artificial_data.csv', 'phenotype':        Unnamed: 0        t      I_out\n",
      "0               0  0.00000 -39.231662\n",
      "1               1  0.00005 -39.231662\n",
      "2               2  0.00010 -39.231662\n",
      "3               3  0.00015 -39.231662\n",
      "4               4  0.00020 -39.231662\n",
      "...           ...      ...        ...\n",
      "99995       99995  4.99975 -39.231661\n",
      "99996       99996  4.99980 -39.231661\n",
      "99997       99997  4.99985 -39.231661\n",
      "99998       99998  4.99990 -39.231661\n",
      "99999       99999  4.99995 -39.231661\n",
      "\n",
      "[100000 rows x 3 columns]}}, 'runtime': {'config_path': '/home/nik/Documents/comparison/INa_full_trace/pypoptim/configs', 'filename_so_abs': '/home/nik/Documents/comparison/INa_full_trace/src/model_ctypes/ina/ina.so', 'sha': '0d4515f9d16fce62b1b155ed2f56e469eec66fb9', 'genes_dict': {'common': {'c_p': {'bounds': [0.1, 10], 'gamma': 1, 'is_multiplier': True}}, 'trace': {'c_m': {'bounds': [0.1, 10], 'gamma': 1, 'is_multiplier': True}}}, 'constants_dict': {'common': {}, 'trace': {}}, 'm_index': MultiIndex([('common', 'c_p'),\n",
      "            ( 'trace', 'c_m')],\n",
      "           names=['ec_name', 'g_name']), 'legend': {'states': name\n",
      "v_comp   -80.0\n",
      "v_p      -80.0\n",
      "v_m      -80.0\n",
      "m          0.0\n",
      "h          1.0\n",
      "j          1.0\n",
      "I_out      0.0\n",
      "Name: value, dtype: float64, 'constants': name\n",
      "c_p            4.502963e-12\n",
      "c_m            2.473016e-11\n",
      "a0_m           2.736956e+03\n",
      "b0_m           7.135904e+01\n",
      "delta_m        2.061570e+01\n",
      "s_m            9.306083e+00\n",
      "a0_h           4.604052e-01\n",
      "b0_h           5.038082e+02\n",
      "delta_h        1.523480e+01\n",
      "s_h            2.196405e+01\n",
      "a0_j           4.475461e-01\n",
      "b0_j           2.061333e+04\n",
      "delta_j        4.115303e+00\n",
      "s_j            1.673159e+02\n",
      "tau_j_const    7.794313e-04\n",
      "R              2.494677e+07\n",
      "R_f            3.264214e+05\n",
      "g_max          4.392204e+05\n",
      "g_leak         4.812443e-01\n",
      "tau_z          1.000340e-04\n",
      "v_half_m       2.435802e+01\n",
      "v_half_h       5.969117e+01\n",
      "k_m            5.666770e+00\n",
      "k_h            5.507771e+00\n",
      "x_c_comp       9.929933e-02\n",
      "x_r_comp       1.020000e+00\n",
      "alpha          7.500000e-01\n",
      "v_off         -2.000000e+00\n",
      "v_rev          1.800000e+01\n",
      "v_c           -8.000000e+01\n",
      "Name: value, dtype: float64, 'algebraic': name\n",
      "tau_m     0.0\n",
      "tau_h     0.0\n",
      "tau_j     0.0\n",
      "m_inf     0.0\n",
      "h_inf     0.0\n",
      "v_cp      0.0\n",
      "I_leak    0.0\n",
      "I_Na      0.0\n",
      "I_c       0.0\n",
      "I_p       0.0\n",
      "I_comp    0.0\n",
      "I_in      0.0\n",
      "Name: value, dtype: float64}, 'protocol':              t     v\n",
      "0      0.00000 -80.0\n",
      "1      0.00005 -80.0\n",
      "2      0.00010 -80.0\n",
      "3      0.00015 -80.0\n",
      "4      0.00020 -80.0\n",
      "...        ...   ...\n",
      "99995  4.99975 -80.0\n",
      "99996  4.99980 -80.0\n",
      "99997  4.99985 -80.0\n",
      "99998  4.99990 -80.0\n",
      "99999  4.99995 -80.0\n",
      "\n",
      "[100000 rows x 2 columns], 'initial_state_protocol':              t     v\n",
      "0      0.00000 -80.0\n",
      "1      0.00005 -80.0\n",
      "2      0.00010 -80.0\n",
      "3      0.00015 -80.0\n",
      "4      0.00020 -80.0\n",
      "...        ...   ...\n",
      "19995  0.99975 -80.0\n",
      "19996  0.99980 -80.0\n",
      "19997  0.99985 -80.0\n",
      "19998  0.99990 -80.0\n",
      "19999  0.99995 -80.0\n",
      "\n",
      "[20000 rows x 2 columns], 'bounds': array([[ 0.1, 10. ],\n",
      "       [ 0.1, 10. ]]), 'gammas': array([1, 1]), 'mask_multipliers': array([ True,  True]), 'kw_ga': {'crossover_rate': 1.0, 'mutation_rate': 0.1, 'gamma': 1.0}, 'comm_size': 1, 'n_organisms': 16, 'time_suffix': '210720_161410', 'output': {'folder': '/home/nik/Documents/comparison/INa_full_trace/results/ina/210720_161410', 'folder_dump': '/home/nik/Documents/comparison/INa_full_trace/results/ina/210720_161410/dump', 'folder_best': '/home/nik/Documents/comparison/INa_full_trace/results/ina/210720_161410/best', 'folder_phenotype': '/home/nik/Documents/comparison/INa_full_trace/results/ina/210720_161410/phenotype'}, 'n_orgsnisms_per_process': 16, 'genes_size': 2}}\n"
     ]
    }
   ],
   "source": [
    "config_path = os.path.join(dirname, case)\n",
    "with open(os.path.join(config_path, \"config_backup.pickle\"), 'rb') as f:\n",
    "    print(f)\n",
    "    config = pickle.load(f)\n",
    "    print(config)"
   ]
  },
  {
   "cell_type": "code",
   "execution_count": 6,
   "metadata": {},
   "outputs": [
    {
     "data": {
      "text/plain": [
       "dict_keys(['trio', 'genes', 'dump_last', 'dump_elite', 'dump', 'phenotype_model_last', 'config', 'genes_best', 'state'])"
      ]
     },
     "execution_count": 6,
     "metadata": {},
     "output_type": "execute_result"
    }
   ],
   "source": [
    "output_dict.keys()"
   ]
  },
  {
   "cell_type": "code",
   "execution_count": 7,
   "metadata": {},
   "outputs": [],
   "source": [
    "config = output_dict['config']\n",
    "\n",
    "genes_best = output_dict['genes_best']\n",
    "phenotype = output_dict['phenotype_model_last']['trace']\n",
    "dump_elite = output_dict['dump_elite']\n",
    "dump_last = output_dict['dump_last']"
   ]
  },
  {
   "cell_type": "code",
   "execution_count": 8,
   "metadata": {},
   "outputs": [],
   "source": [
    "output_dict['genes_best']"
   ]
  },
  {
   "cell_type": "code",
   "execution_count": 9,
   "metadata": {},
   "outputs": [
    {
     "data": {
      "text/plain": [
       "\"dump_elite = np.fromfile('../ga/pypoptim/results/210706_143528_full/210706_143528/dump_elite.npy')\\ndump_elite = dump_elite.reshape(-1, 28+1)\\nloss = dump_elite[:, -1]\\n\""
      ]
     },
     "execution_count": 9,
     "metadata": {},
     "output_type": "execute_result"
    }
   ],
   "source": [
    "'''dump_elite = np.fromfile('../ga/pypoptim/results/210706_143528_full/210706_143528/dump_elite.npy')\n",
    "dump_elite = dump_elite.reshape(-1, 28+1)\n",
    "loss = dump_elite[:, -1]\n",
    "'''"
   ]
  }
 ],
 "metadata": {
  "kernelspec": {
   "display_name": "env_andrey",
   "language": "python",
   "name": "env_andrey"
  },
  "language_info": {
   "codemirror_mode": {
    "name": "ipython",
    "version": 3
   },
   "file_extension": ".py",
   "mimetype": "text/x-python",
   "name": "python",
   "nbconvert_exporter": "python",
   "pygments_lexer": "ipython3",
   "version": "3.8.10"
  }
 },
 "nbformat": 4,
 "nbformat_minor": 4
}
