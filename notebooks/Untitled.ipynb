{
 "cells": [
  {
   "cell_type": "code",
   "execution_count": 1,
   "metadata": {
    "scrolled": true
   },
   "outputs": [],
   "source": [
    "import pandas as pd\n",
    "\n",
    "from matplotlib import pyplot as plt\n",
    "import seaborn as sns\n",
    "\n",
    "import os"
   ]
  },
  {
   "cell_type": "code",
   "execution_count": 2,
   "metadata": {},
   "outputs": [],
   "source": [
    "from pypoptim.postprocessing import collect_results"
   ]
  },
  {
   "cell_type": "code",
   "execution_count": 3,
   "metadata": {},
   "outputs": [],
   "source": [
    "dirname, case = \"../ga/pypoptim/results\", \"210702_172843\"\n",
    "\n",
    "output_dict = collect_results(case, dirname, load_dump=False)"
   ]
  },
  {
   "cell_type": "code",
   "execution_count": 4,
   "metadata": {},
   "outputs": [
    {
     "data": {
      "text/plain": [
       "dict_keys(['trio', 'genes', 'dump_last', 'dump_elite', 'dump', 'phenotype_model_last', 'config', 'genes_best', 'state'])"
      ]
     },
     "execution_count": 4,
     "metadata": {},
     "output_type": "execute_result"
    }
   ],
   "source": [
    "output_dict.keys()"
   ]
  },
  {
   "cell_type": "code",
   "execution_count": 15,
   "metadata": {},
   "outputs": [],
   "source": [
    "config = output_dict['config']\n",
    "\n",
    "genes_best = output_dict['genes_best']\n",
    "phenotype = output_dict['phenotype_model_last']['trace_1']\n",
    "dump_elite = output_dict['dump_elite']\n",
    "dump_last = output_dict['dump_last']"
   ]
  },
  {
   "cell_type": "code",
   "execution_count": 16,
   "metadata": {},
   "outputs": [],
   "source": [
    "loss = -dump_elite[:, -1]\n",
    "dump_elite = pd.DataFrame(dump_elite[:, :-1], columns=config['runtime']['m_index'])\n",
    "dump_elite = dump_elite.T.reset_index(level=0, drop=True).T.astype(float)"
   ]
  },
  {
   "cell_type": "code",
   "execution_count": 17,
   "metadata": {},
   "outputs": [
    {
     "data": {
      "text/html": [
       "<div>\n",
       "<style scoped>\n",
       "    .dataframe tbody tr th:only-of-type {\n",
       "        vertical-align: middle;\n",
       "    }\n",
       "\n",
       "    .dataframe tbody tr th {\n",
       "        vertical-align: top;\n",
       "    }\n",
       "\n",
       "    .dataframe thead th {\n",
       "        text-align: right;\n",
       "    }\n",
       "</style>\n",
       "<table border=\"1\" class=\"dataframe\">\n",
       "  <thead>\n",
       "    <tr style=\"text-align: right;\">\n",
       "      <th>g_name</th>\n",
       "      <th>c_p</th>\n",
       "      <th>c_m</th>\n",
       "      <th>a0_m</th>\n",
       "      <th>b0_m</th>\n",
       "      <th>delta_m</th>\n",
       "      <th>s_m</th>\n",
       "      <th>a0_h</th>\n",
       "      <th>b0_h</th>\n",
       "      <th>delta_h</th>\n",
       "      <th>s_h</th>\n",
       "      <th>...</th>\n",
       "      <th>g_leak</th>\n",
       "      <th>tau_z</th>\n",
       "      <th>v_half_m</th>\n",
       "      <th>v_half_h</th>\n",
       "      <th>k_m</th>\n",
       "      <th>k_h</th>\n",
       "      <th>x_c_comp</th>\n",
       "      <th>x_r_comp</th>\n",
       "      <th>alpha</th>\n",
       "      <th>v_off</th>\n",
       "    </tr>\n",
       "  </thead>\n",
       "  <tbody>\n",
       "    <tr>\n",
       "      <th>0</th>\n",
       "      <td>2.642140</td>\n",
       "      <td>0.270097</td>\n",
       "      <td>2.052925</td>\n",
       "      <td>7.686428</td>\n",
       "      <td>2.006821</td>\n",
       "      <td>0.552635</td>\n",
       "      <td>0.223678</td>\n",
       "      <td>6.755298</td>\n",
       "      <td>8.839036</td>\n",
       "      <td>0.113801</td>\n",
       "      <td>...</td>\n",
       "      <td>0.553940</td>\n",
       "      <td>0.380234</td>\n",
       "      <td>13.627612</td>\n",
       "      <td>66.969287</td>\n",
       "      <td>1.922519</td>\n",
       "      <td>9.301870</td>\n",
       "      <td>0.492154</td>\n",
       "      <td>0.889245</td>\n",
       "      <td>0.735304</td>\n",
       "      <td>4.441715</td>\n",
       "    </tr>\n",
       "    <tr>\n",
       "      <th>1</th>\n",
       "      <td>1.848906</td>\n",
       "      <td>3.088902</td>\n",
       "      <td>0.537168</td>\n",
       "      <td>0.816026</td>\n",
       "      <td>0.439063</td>\n",
       "      <td>8.567465</td>\n",
       "      <td>0.269853</td>\n",
       "      <td>1.883836</td>\n",
       "      <td>7.820577</td>\n",
       "      <td>0.589299</td>\n",
       "      <td>...</td>\n",
       "      <td>0.182392</td>\n",
       "      <td>3.984712</td>\n",
       "      <td>57.199224</td>\n",
       "      <td>76.227022</td>\n",
       "      <td>1.941061</td>\n",
       "      <td>2.122397</td>\n",
       "      <td>0.085750</td>\n",
       "      <td>0.434705</td>\n",
       "      <td>0.788194</td>\n",
       "      <td>-2.940837</td>\n",
       "    </tr>\n",
       "    <tr>\n",
       "      <th>2</th>\n",
       "      <td>1.848906</td>\n",
       "      <td>3.088902</td>\n",
       "      <td>0.537168</td>\n",
       "      <td>0.816026</td>\n",
       "      <td>0.439063</td>\n",
       "      <td>8.567465</td>\n",
       "      <td>0.269853</td>\n",
       "      <td>1.883836</td>\n",
       "      <td>7.820577</td>\n",
       "      <td>0.589299</td>\n",
       "      <td>...</td>\n",
       "      <td>0.182392</td>\n",
       "      <td>3.984712</td>\n",
       "      <td>57.199224</td>\n",
       "      <td>76.227022</td>\n",
       "      <td>1.941061</td>\n",
       "      <td>2.122397</td>\n",
       "      <td>0.085750</td>\n",
       "      <td>0.434705</td>\n",
       "      <td>0.788194</td>\n",
       "      <td>-2.940837</td>\n",
       "    </tr>\n",
       "    <tr>\n",
       "      <th>3</th>\n",
       "      <td>0.753249</td>\n",
       "      <td>1.846970</td>\n",
       "      <td>3.664528</td>\n",
       "      <td>3.990555</td>\n",
       "      <td>0.157519</td>\n",
       "      <td>3.017422</td>\n",
       "      <td>1.439568</td>\n",
       "      <td>3.221695</td>\n",
       "      <td>4.985973</td>\n",
       "      <td>0.856547</td>\n",
       "      <td>...</td>\n",
       "      <td>0.117687</td>\n",
       "      <td>5.538546</td>\n",
       "      <td>10.413014</td>\n",
       "      <td>80.483014</td>\n",
       "      <td>9.552462</td>\n",
       "      <td>9.823585</td>\n",
       "      <td>0.238889</td>\n",
       "      <td>0.728888</td>\n",
       "      <td>0.776423</td>\n",
       "      <td>13.393500</td>\n",
       "    </tr>\n",
       "    <tr>\n",
       "      <th>4</th>\n",
       "      <td>0.753249</td>\n",
       "      <td>1.846970</td>\n",
       "      <td>3.664528</td>\n",
       "      <td>3.990555</td>\n",
       "      <td>0.157519</td>\n",
       "      <td>3.017422</td>\n",
       "      <td>1.439568</td>\n",
       "      <td>3.221695</td>\n",
       "      <td>4.985973</td>\n",
       "      <td>0.856547</td>\n",
       "      <td>...</td>\n",
       "      <td>0.117687</td>\n",
       "      <td>5.538546</td>\n",
       "      <td>10.413014</td>\n",
       "      <td>80.483014</td>\n",
       "      <td>9.552462</td>\n",
       "      <td>9.823585</td>\n",
       "      <td>0.238889</td>\n",
       "      <td>0.728888</td>\n",
       "      <td>0.776423</td>\n",
       "      <td>13.393500</td>\n",
       "    </tr>\n",
       "    <tr>\n",
       "      <th>...</th>\n",
       "      <td>...</td>\n",
       "      <td>...</td>\n",
       "      <td>...</td>\n",
       "      <td>...</td>\n",
       "      <td>...</td>\n",
       "      <td>...</td>\n",
       "      <td>...</td>\n",
       "      <td>...</td>\n",
       "      <td>...</td>\n",
       "      <td>...</td>\n",
       "      <td>...</td>\n",
       "      <td>...</td>\n",
       "      <td>...</td>\n",
       "      <td>...</td>\n",
       "      <td>...</td>\n",
       "      <td>...</td>\n",
       "      <td>...</td>\n",
       "      <td>...</td>\n",
       "      <td>...</td>\n",
       "      <td>...</td>\n",
       "      <td>...</td>\n",
       "    </tr>\n",
       "    <tr>\n",
       "      <th>95</th>\n",
       "      <td>0.122235</td>\n",
       "      <td>1.859873</td>\n",
       "      <td>5.282953</td>\n",
       "      <td>7.983454</td>\n",
       "      <td>3.689839</td>\n",
       "      <td>0.120438</td>\n",
       "      <td>0.136835</td>\n",
       "      <td>0.169197</td>\n",
       "      <td>3.066763</td>\n",
       "      <td>0.262819</td>\n",
       "      <td>...</td>\n",
       "      <td>0.173049</td>\n",
       "      <td>0.867327</td>\n",
       "      <td>28.003763</td>\n",
       "      <td>78.914293</td>\n",
       "      <td>3.171603</td>\n",
       "      <td>6.662046</td>\n",
       "      <td>0.404487</td>\n",
       "      <td>0.910193</td>\n",
       "      <td>0.754910</td>\n",
       "      <td>8.187854</td>\n",
       "    </tr>\n",
       "    <tr>\n",
       "      <th>96</th>\n",
       "      <td>0.122235</td>\n",
       "      <td>1.859873</td>\n",
       "      <td>5.282953</td>\n",
       "      <td>7.983454</td>\n",
       "      <td>3.689839</td>\n",
       "      <td>0.120438</td>\n",
       "      <td>0.136835</td>\n",
       "      <td>0.169197</td>\n",
       "      <td>3.066763</td>\n",
       "      <td>0.262819</td>\n",
       "      <td>...</td>\n",
       "      <td>0.173049</td>\n",
       "      <td>0.867327</td>\n",
       "      <td>28.003763</td>\n",
       "      <td>78.914293</td>\n",
       "      <td>3.171603</td>\n",
       "      <td>6.662046</td>\n",
       "      <td>0.404487</td>\n",
       "      <td>0.910193</td>\n",
       "      <td>0.754910</td>\n",
       "      <td>8.187854</td>\n",
       "    </tr>\n",
       "    <tr>\n",
       "      <th>97</th>\n",
       "      <td>0.122235</td>\n",
       "      <td>1.859873</td>\n",
       "      <td>5.282953</td>\n",
       "      <td>7.983454</td>\n",
       "      <td>3.689839</td>\n",
       "      <td>0.120438</td>\n",
       "      <td>0.136835</td>\n",
       "      <td>0.169197</td>\n",
       "      <td>3.066763</td>\n",
       "      <td>0.262819</td>\n",
       "      <td>...</td>\n",
       "      <td>0.173049</td>\n",
       "      <td>0.867327</td>\n",
       "      <td>28.003763</td>\n",
       "      <td>78.914293</td>\n",
       "      <td>3.171603</td>\n",
       "      <td>6.662046</td>\n",
       "      <td>0.404487</td>\n",
       "      <td>0.910193</td>\n",
       "      <td>0.754910</td>\n",
       "      <td>8.187854</td>\n",
       "    </tr>\n",
       "    <tr>\n",
       "      <th>98</th>\n",
       "      <td>0.122235</td>\n",
       "      <td>1.859873</td>\n",
       "      <td>5.282953</td>\n",
       "      <td>7.983454</td>\n",
       "      <td>3.689839</td>\n",
       "      <td>0.120438</td>\n",
       "      <td>0.136835</td>\n",
       "      <td>0.169197</td>\n",
       "      <td>3.066763</td>\n",
       "      <td>0.262819</td>\n",
       "      <td>...</td>\n",
       "      <td>0.173049</td>\n",
       "      <td>0.867327</td>\n",
       "      <td>28.003763</td>\n",
       "      <td>78.914293</td>\n",
       "      <td>3.171603</td>\n",
       "      <td>6.662046</td>\n",
       "      <td>0.404487</td>\n",
       "      <td>0.910193</td>\n",
       "      <td>0.754910</td>\n",
       "      <td>8.187854</td>\n",
       "    </tr>\n",
       "    <tr>\n",
       "      <th>99</th>\n",
       "      <td>0.122235</td>\n",
       "      <td>1.859873</td>\n",
       "      <td>5.282953</td>\n",
       "      <td>7.983454</td>\n",
       "      <td>3.689839</td>\n",
       "      <td>0.120438</td>\n",
       "      <td>0.136835</td>\n",
       "      <td>0.169197</td>\n",
       "      <td>3.066763</td>\n",
       "      <td>0.262819</td>\n",
       "      <td>...</td>\n",
       "      <td>0.173049</td>\n",
       "      <td>0.867327</td>\n",
       "      <td>28.003763</td>\n",
       "      <td>78.914293</td>\n",
       "      <td>3.171603</td>\n",
       "      <td>6.662046</td>\n",
       "      <td>0.404487</td>\n",
       "      <td>0.910193</td>\n",
       "      <td>0.754910</td>\n",
       "      <td>8.187854</td>\n",
       "    </tr>\n",
       "  </tbody>\n",
       "</table>\n",
       "<p>100 rows × 28 columns</p>\n",
       "</div>"
      ],
      "text/plain": [
       "g_name       c_p       c_m      a0_m      b0_m   delta_m       s_m      a0_h  \\\n",
       "0       2.642140  0.270097  2.052925  7.686428  2.006821  0.552635  0.223678   \n",
       "1       1.848906  3.088902  0.537168  0.816026  0.439063  8.567465  0.269853   \n",
       "2       1.848906  3.088902  0.537168  0.816026  0.439063  8.567465  0.269853   \n",
       "3       0.753249  1.846970  3.664528  3.990555  0.157519  3.017422  1.439568   \n",
       "4       0.753249  1.846970  3.664528  3.990555  0.157519  3.017422  1.439568   \n",
       "..           ...       ...       ...       ...       ...       ...       ...   \n",
       "95      0.122235  1.859873  5.282953  7.983454  3.689839  0.120438  0.136835   \n",
       "96      0.122235  1.859873  5.282953  7.983454  3.689839  0.120438  0.136835   \n",
       "97      0.122235  1.859873  5.282953  7.983454  3.689839  0.120438  0.136835   \n",
       "98      0.122235  1.859873  5.282953  7.983454  3.689839  0.120438  0.136835   \n",
       "99      0.122235  1.859873  5.282953  7.983454  3.689839  0.120438  0.136835   \n",
       "\n",
       "g_name      b0_h   delta_h       s_h  ...    g_leak     tau_z   v_half_m  \\\n",
       "0       6.755298  8.839036  0.113801  ...  0.553940  0.380234  13.627612   \n",
       "1       1.883836  7.820577  0.589299  ...  0.182392  3.984712  57.199224   \n",
       "2       1.883836  7.820577  0.589299  ...  0.182392  3.984712  57.199224   \n",
       "3       3.221695  4.985973  0.856547  ...  0.117687  5.538546  10.413014   \n",
       "4       3.221695  4.985973  0.856547  ...  0.117687  5.538546  10.413014   \n",
       "..           ...       ...       ...  ...       ...       ...        ...   \n",
       "95      0.169197  3.066763  0.262819  ...  0.173049  0.867327  28.003763   \n",
       "96      0.169197  3.066763  0.262819  ...  0.173049  0.867327  28.003763   \n",
       "97      0.169197  3.066763  0.262819  ...  0.173049  0.867327  28.003763   \n",
       "98      0.169197  3.066763  0.262819  ...  0.173049  0.867327  28.003763   \n",
       "99      0.169197  3.066763  0.262819  ...  0.173049  0.867327  28.003763   \n",
       "\n",
       "g_name   v_half_h       k_m       k_h  x_c_comp  x_r_comp     alpha      v_off  \n",
       "0       66.969287  1.922519  9.301870  0.492154  0.889245  0.735304   4.441715  \n",
       "1       76.227022  1.941061  2.122397  0.085750  0.434705  0.788194  -2.940837  \n",
       "2       76.227022  1.941061  2.122397  0.085750  0.434705  0.788194  -2.940837  \n",
       "3       80.483014  9.552462  9.823585  0.238889  0.728888  0.776423  13.393500  \n",
       "4       80.483014  9.552462  9.823585  0.238889  0.728888  0.776423  13.393500  \n",
       "..            ...       ...       ...       ...       ...       ...        ...  \n",
       "95      78.914293  3.171603  6.662046  0.404487  0.910193  0.754910   8.187854  \n",
       "96      78.914293  3.171603  6.662046  0.404487  0.910193  0.754910   8.187854  \n",
       "97      78.914293  3.171603  6.662046  0.404487  0.910193  0.754910   8.187854  \n",
       "98      78.914293  3.171603  6.662046  0.404487  0.910193  0.754910   8.187854  \n",
       "99      78.914293  3.171603  6.662046  0.404487  0.910193  0.754910   8.187854  \n",
       "\n",
       "[100 rows x 28 columns]"
      ]
     },
     "execution_count": 17,
     "metadata": {},
     "output_type": "execute_result"
    }
   ],
   "source": [
    "dump_last = dump_last.T.reset_index(level=0, drop=True).T.astype(float)\n",
    "dump_elite"
   ]
  },
  {
   "cell_type": "code",
   "execution_count": 18,
   "metadata": {},
   "outputs": [
    {
     "name": "stderr",
     "output_type": "stream",
     "text": [
      "/home/nik/.local/lib/python3.8/site-packages/matplotlib/colors.py:1061: RuntimeWarning: invalid value encountered in subtract\n",
      "  resdat -= vmin\n",
      "/home/nik/.local/lib/python3.8/site-packages/matplotlib/colors.py:1062: RuntimeWarning: invalid value encountered in true_divide\n",
      "  resdat /= (vmax - vmin)\n"
     ]
    },
    {
     "data": {
      "image/png": "[encoded data removed]",
      "text/plain": [
       "<Figure size 432x288 with 1 Axes>"
      ]
     },
     "metadata": {
      "needs_background": "light"
     },
     "output_type": "display_data"
    }
   ],
   "source": [
    "x='a0_m'\n",
    "y='v_off'\n",
    "\n",
    "sns.scatterplot(data=dump_last, x=x, y=y, hue='fitness')\n",
    "plt.plot(dump_elite[x], dump_elite[y], '-r')\n",
    "\n",
    "plt.xscale('log')\n",
    "# plt.yscale('log')"
   ]
  },
  {
   "cell_type": "code",
   "execution_count": 19,
   "metadata": {},
   "outputs": [
    {
     "data": {
      "text/plain": [
       "[<matplotlib.lines.Line2D at 0x7f61be2a4310>]"
      ]
     },
     "execution_count": 19,
     "metadata": {},
     "output_type": "execute_result"
    },
    {
     "data": {
      "image/png": "[encoded data removed]",
      "text/plain": [
       "<Figure size 432x288 with 1 Axes>"
      ]
     },
     "metadata": {
      "needs_background": "light"
     },
     "output_type": "display_data"
    }
   ],
   "source": [
    "plt.plot(dump_elite['v_off'], '.-')"
   ]
  },
  {
   "cell_type": "code",
   "execution_count": 21,
   "metadata": {},
   "outputs": [
    {
     "data": {
      "text/plain": [
       "[<matplotlib.lines.Line2D at 0x7f34e31e47f0>]"
      ]
     },
     "execution_count": 21,
     "metadata": {},
     "output_type": "execute_result"
    },
    {
     "data": {
      "image/png": "[encoded data removed]",
      "text/plain": [
       "<Figure size 432x288 with 1 Axes>"
      ]
     },
     "metadata": {
      "needs_background": "light"
     },
     "output_type": "display_data"
    }
   ],
   "source": [
    "plt.semilogy(loss, '.-')"
   ]
  },
  {
   "cell_type": "code",
   "execution_count": 25,
   "metadata": {},
   "outputs": [
    {
     "data": {
      "text/plain": [
       "[<matplotlib.lines.Line2D at 0x7f34e37faf10>]"
      ]
     },
     "execution_count": 25,
     "metadata": {},
     "output_type": "execute_result"
    },
    {
     "data": {
      "image/png": "[encoded data removed]",
      "text/plain": [
       "<Figure size 432x288 with 1 Axes>"
      ]
     },
     "metadata": {
      "needs_background": "light"
     },
     "output_type": "display_data"
    }
   ],
   "source": [
    "plt.plot(pd.read_csv('../data/training/artificial_data.csv').V)\n",
    "plt.plot(phenotype, '--')\n"
   ]
  },
  {
   "cell_type": "code",
   "execution_count": null,
   "metadata": {},
   "outputs": [],
   "source": []
  },
  {
   "cell_type": "code",
   "execution_count": null,
   "metadata": {},
   "outputs": [],
   "source": []
  },
  {
   "cell_type": "code",
   "execution_count": null,
   "metadata": {},
   "outputs": [],
   "source": []
  },
  {
   "cell_type": "code",
   "execution_count": null,
   "metadata": {},
   "outputs": [],
   "source": []
  },
  {
   "cell_type": "code",
   "execution_count": null,
   "metadata": {},
   "outputs": [],
   "source": []
  }
 ],
 "metadata": {
  "kernelspec": {
   "display_name": "ina_full_trace",
   "language": "python",
   "name": "ina_full_trace"
  },
  "language_info": {
   "codemirror_mode": {
    "name": "ipython",
    "version": 3
   },
   "file_extension": ".py",
   "mimetype": "text/x-python",
   "name": "python",
   "nbconvert_exporter": "python",
   "pygments_lexer": "ipython3",
   "version": "3.8.10"
  }
 },
 "nbformat": 4,
 "nbformat_minor": 4
}
