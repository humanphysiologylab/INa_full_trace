{
 "cells": [
  {
   "cell_type": "code",
   "execution_count": 3,
   "metadata": {},
   "outputs": [],
   "source": [
    "import numpy as np\n",
    "import matplotlib.pyplot  as plt\n",
    "import pandas as pd\n",
    "plt.style.use('../styles/general.mplstyle')"
   ]
  },
  {
   "cell_type": "code",
   "execution_count": 4,
   "metadata": {},
   "outputs": [],
   "source": [
    "from sklearn.metrics import mean_squared_error as MSE\n",
    "from scipy import optimize as scop"
   ]
  },
  {
   "cell_type": "code",
   "execution_count": 5,
   "metadata": {},
   "outputs": [],
   "source": [
    "from numba import njit\n",
    "\n",
    "\n",
    "        \n",
    "@njit\n",
    "def rush_larsen_easy_numba_helper(x, y, c):\n",
    "    for i in range(1, len(x)):\n",
    "        x[i] = y[i-1] + (x[i-1] - y[i-1]) * np.exp(c)\n",
    "        \n",
    "@njit\n",
    "def rush_larsen_numba_helper(x, y, c):\n",
    "    for i in range(1, len(x)):\n",
    "        x[i] = y[i-1] + (x[i-1] - y[i-1]) * np.exp(c[i-1])\n",
    " "
   ]
  },
  {
   "cell_type": "markdown",
   "metadata": {},
   "source": [
    "$$ \\frac{\\partial V_{p}}{\\partial t} = \\frac{V_{c} - V_{p}}{C_{p}*R_{p}} \\\\ $$\n",
    "$$ \\frac{\\partial V_{m}}{\\partial t} = \\frac{V_{p} - V_{m}}{C_{m}*R_{s}} - \\frac{I_{ion}+I_{leak}}{C_m} \\\\ $$\n",
    "$$ \\frac{\\partial m}{\\partial t} = \\frac{m_{inf} - m}{\\tau_{m}}  \\\\ $$\n",
    "$$ \\frac{\\partial h}{\\partial t} = \\frac{h_{inf} - h}{\\tau_{h}}  \\\\ $$\n",
    "$$\n",
    "I_{m} = C_{m} *\\frac{\\partial V_{m}}{\\partial t} \\\\\n",
    "I_{p} = C_{p} *\\frac{\\partial V_{p}}{\\partial t} \\\\\n",
    "I_{leak} = g_{leak} * V_{m}\n",
    "$$"
   ]
  },
  {
   "cell_type": "code",
   "execution_count": 6,
   "metadata": {},
   "outputs": [],
   "source": [
    "\n",
    "@njit\n",
    "def euler_numba_helper(x, y, c):\n",
    "    for i in range(1, len(x)):\n",
    "        x[i] = x[i-1] + (y[i-1] - x[i-1]) * c\n",
    "        \n",
    "@njit\n",
    "def calculate_cicle(t,v_c, v_rev, x):\n",
    "    c_p, c_m, a0_m, b0_m, delta_m, s_m, a0_h, b0_h, delta_h, s_h, r_m, r_p, g_max, g_leak, v_half_m, v_half_h, k_m, k_h = x\n",
    "    alpha_m = np.zeros_like(t)\n",
    "    beta_m = np.zeros_like(t)\n",
    "    alpha_h = np.zeros_like(t)\n",
    "    beta_h = np.zeros_like(t)\n",
    "    \n",
    "    tau_m = np.zeros_like(t)\n",
    "    tau_h = np.zeros_like(t)\n",
    "    \n",
    "    m_inf = np.zeros_like(t)\n",
    "    h_inf = np.zeros_like(t)\n",
    "    \n",
    "    v_p = np.zeros_like(t)\n",
    "    v_m = np.zeros_like(t)\n",
    "    \n",
    "    m = np.zeros_like(t)\n",
    "    h = np.zeros_like(t)\n",
    "    \n",
    "    I_leak = np.zeros_like(t)\n",
    "    I_Na = np.zeros_like(t)\n",
    "    \n",
    "    v_p[0] = -80\n",
    "    v_m[0] = -80\n",
    "    m[0] = 0\n",
    "    h[0] = 1 \n",
    "    \n",
    "    n_step = len(t)\n",
    "    \n",
    "    dt = t[1] - t[0]\n",
    "    for i in range(1, n_step):\n",
    "        alpha_m[i-1]  = a0_m * np.exp(-delta_m * v_m[i-1] / (-s_m)) \n",
    "        beta_m[i-1] = b0_m * np.exp((1-delta_m) * v_m[i-1] / (-s_m))\n",
    "        #print(v)\n",
    "\n",
    "        alpha_h[i-1]  = a0_h * np.exp(-delta_h * v_m[i-1] / s_h) \n",
    "        beta_h[i-1] = b0_h * np.exp((1-delta_h) * v_m[i-1] / s_h)\n",
    "\n",
    "        tau_m[i-1] = 1 / (beta_m[i-1] + alpha_m[i-1])\n",
    "        tau_h[i-1] = 1 / (beta_h[i-1] + alpha_h[i-1])\n",
    "\n",
    "        m_inf[i-1] = 1 / (1 + np.exp((- v_half_m - v_m[i-1]) / k_m))\n",
    "        h_inf[i-1] = 1 / (1 + np.exp((v_half_h + v_m[i-1]) / k_h))\n",
    "        #m_inf = 1/(1+beta_m/alpha_m)\n",
    "        #h_inf = 1/(1+beta_h/alpha_h)\n",
    "\n",
    "        v_p[i] = v_c[i-1] + (v_p[i-1] - v_c[i-1])*np.exp(-dt / (r_p * c_p))\n",
    "        v_m[i] = v_m[i-1] + (v_p[i-1] - v_m[i-1])*dt / (r_m * c_m) - 1e-9*(I_Na[i-1]+I_leak[i-1])*dt/c_m \n",
    "        \n",
    "        m[i] = m_inf[i-1] + (m[i-1] - m_inf[i-1])*np.exp(-dt/tau_m[i-1])\n",
    "        h[i] = h_inf[i-1] + (h[i-1] - h_inf[i-1])*np.exp(-dt/tau_h[i-1])\n",
    "        \n",
    "        I_leak[i] = g_leak * v_m[i]\n",
    "        I_Na[i] = g_max * h[i] * (m[i]**3) * (v_m[i] - v_rev)\n",
    "    \n",
    "    return m_inf, h_inf, tau_m, tau_h, v_p, v_m, I_leak, I_Na\n",
    "\n",
    "\n",
    "\n",
    "def calculate_I_out(x, *args):#, s0, c, protocol, ...):\n",
    "\n",
    "    kwargs = args[-1]\n",
    "    \n",
    "    t = kwargs['t']\n",
    "    v_list = kwargs['v_list']\n",
    "    k_list = kwargs['k_list']\n",
    "    \n",
    "    if kwargs.get('log_scale', False):\n",
    "        x = np.exp(x)\n",
    "        assert np.all(x > 0) \n",
    "    \n",
    "    \n",
    "    c_p, c_m, a0_m, b0_m, delta_m, s_m, a0_h, b0_h, delta_h, s_h, r_m, r_p, g_max, g_leak, v_half_m, v_half_h, k_m, k_h = x \n",
    "\n",
    "    # constructing v_c - command potential\n",
    "\n",
    "    count = np.zeros_like(t)\n",
    "    count[k_list] = 1\n",
    "    count = np.cumsum(count) \n",
    "    \n",
    "    v_c = np.zeros_like(t)\n",
    "    v_c = v_list[count.astype(int)]\n",
    "    v_rev =18\n",
    "    \n",
    "    m_inf, h_inf, tau_m, tau_h, v_p, v_m, I_leak, I_Na = calculate_cicle(t,v_c, v_rev,x)\n",
    "\n",
    "    #I_p = np.zeros_like(t)\n",
    "    #I_c = np.zeros_like(t)\n",
    "    I_c = 1e9 * c_m * np.diff(v_m) / dt\n",
    "    I_p = 1e9 * c_p * np.diff(v_p) / dt\n",
    "    I_c = np.concatenate((I_c,I_c[-1:]))\n",
    "    I_p = np.concatenate((I_p,I_p[-1:]))\n",
    "    \n",
    "    \n",
    "    tau_z = 5e-4 # 1e-12 * 5e8\n",
    "    I_out = np.zeros_like(t)\n",
    "    I_in = I_c + I_p + I_leak + I_Na\n",
    "    \n",
    "    euler_numba_helper(I_out,I_in,(dt / tau_z))  \n",
    " \n",
    "    if kwargs.get('graph', True):\n",
    "        #plt.plot(V_m_list, label = 'command')\n",
    "        \n",
    "        plt.plot(v_c, label = 'command_prediction')\n",
    "        plt.plot(v_p, label = 'pipette', ls = '--')\n",
    "        plt.plot(v_m, label = 'membrane')\n",
    "        plt.legend()\n",
    "        \n",
    "        plt.figure() \n",
    "        plt.plot(v_m, m_inf, label = 'm_inf')\n",
    "        plt.plot(v_m, h_inf, label = 'h_inf')\n",
    "        plt.legend()\n",
    "        \n",
    "        plt.figure() \n",
    "        plt.plot(v_m, tau_m, label = 'tau_m')\n",
    "        plt.plot(v_m, tau_h, label = 'tau_h')\n",
    "        plt.legend()\n",
    "\n",
    "        plt.figure()\n",
    "        plt.plot(I_c, label = 'I_c')\n",
    "        plt.plot(I_p, label = 'I_p')\n",
    "        plt.plot(I_leak, label = 'I_leak')\n",
    "        plt.plot(I_Na, label = 'I_Na')\n",
    "        plt.legend()\n",
    "        \n",
    "        plt.figure()\n",
    "        plt.plot(I_out, label = 'I_out')\n",
    "        plt.legend()\n",
    "        \n",
    "    return I_out"
   ]
  },
  {
   "cell_type": "code",
   "execution_count": 7,
   "metadata": {},
   "outputs": [],
   "source": [
    "k_list = np.array([77, 1077, 2077, 4077])\n",
    "v_list = np.array([-80, -70, -80, -80])\n",
    "k_all = k_list\n",
    "v_all = v_list\n",
    "for l in range(1,20):\n",
    "    k_all = np.concatenate([k_all, k_list+5000*l])\n",
    "    v_all = np.concatenate([v_all, v_list+[0,  0, 0, 5*l]])\n",
    "v_all = np.concatenate([v_all,[-80]])\n"
   ]
  },
  {
   "cell_type": "code",
   "execution_count": 8,
   "metadata": {},
   "outputs": [],
   "source": [
    "k_list_1 = np.array([77, 1077, 2077, 4077])\n",
    "v_list_1 = np.array([-80,-70,-80, -10, -80])"
   ]
  },
  {
   "cell_type": "code",
   "execution_count": 9,
   "metadata": {
    "scrolled": false
   },
   "outputs": [],
   "source": [
    "p0 = np.array([6e-16, 6e-12, 2e3,  1.6e3,   0.9,   60,  1e-1,   4e2,    0.3,     3,    8e8,   5e3,  13,   2e-1, 11, 52,0.2,0.3])\n",
    "#x_true = [6e-15, 12e-12, 5e4,  8e-2,   0.3,   60,  1e-3,   4e2,    0.08,     22,    5e8,   1e6,   5e1,   1e-1]\n",
    "p0 = np.array([6e-15, 12e-12, 90,  8e1,0.2,   100,    6e-3,   4e3,    0.1,  1,    5e8,   5e3,   5e1,   1e-1,20,30,5,7])\n",
    "#             C_p     C     a0_m  b0_m  delta_m  s_m   a0_h  b0_h    delta_h      s_h      R    R_p   g_max  g_leak\n",
    "\n",
    "\n",
    "x_true_log = np.log(p0)\n",
    "\n",
    "t = np.load('../data/time.npy')\n",
    "\n",
    "v_list = v_all#np.array([-80, -80, -70, -80, -10, -80])\n",
    "k_list = k_all#np.array([77, 1077, 2077, 4077]) \n",
    "dt = t[1] - t[0]\n",
    "\n",
    "kwargs = dict(v_list = v_list_1,\n",
    "              k_list = k_list_1,\n",
    "              t = t,\n",
    "              log_scale = True,\n",
    "              graph = False)#,\n",
    "              #sample_weights = sample_weight)\n",
    "\n",
    "#data_1 = calculate_I_out(x_true_log, kwargs) \n",
    "\n",
    "data = calculate_I_out(x_true_log, kwargs) "
   ]
  },
  {
   "cell_type": "code",
   "execution_count": 10,
   "metadata": {},
   "outputs": [
    {
     "name": "stdout",
     "output_type": "stream",
     "text": [
      "890 µs ± 54.1 µs per loop (mean ± std. dev. of 7 runs, 1000 loops each)\n"
     ]
    }
   ],
   "source": [
    "%%timeit\n",
    "data = calculate_I_out(x_true_log, kwargs) \n"
   ]
  },
  {
   "cell_type": "code",
   "execution_count": 11,
   "metadata": {},
   "outputs": [],
   "source": [
    "sample_weight = np.zeros(5000)\n",
    "sample_weight[:]+= 1\n",
    "#sample_weight[k_list_1[2]+40:k_list_1[2]+900] += 1\n",
    "#sample"
   ]
  },
  {
   "cell_type": "code",
   "execution_count": 12,
   "metadata": {},
   "outputs": [],
   "source": [
    "def loss(x, *args):\n",
    "    kwargs = args[-1]\n",
    "    data = args[0]\n",
    "    sample_weight = kwargs.get('sample_weight', None)\n",
    "    I_out = calculate_I_out(x, *args)\n",
    "    \n",
    "    if np.any(np.isnan(I_out)):\n",
    "        return np.inf\n",
    "        \n",
    "    return MSE(data, I_out, sample_weight=sample_weight)"
   ]
  },
  {
   "cell_type": "code",
   "execution_count": null,
   "metadata": {
    "scrolled": true
   },
   "outputs": [],
   "source": [
    "%%timeit\n",
    "\n",
    "kwargs = dict(v_list = v_list_1,\n",
    "              k_list = k_list_1,\n",
    "              t = t,\n",
    "              log_scale = True,\n",
    "              graph = False)\n",
    "loss(x_true_log, data, kwargs)"
   ]
  },
  {
   "cell_type": "code",
   "execution_count": null,
   "metadata": {
    "scrolled": false
   },
   "outputs": [],
   "source": [
    "names =  [\"C_f\",\"C\",\"a0_m\",\"b0_m\",\"delta_m\",\"s_m\",\"a0_h\",\"b0_h\" ,\"delta_h\",\"s_h\",\"R\"   , \"R_f\"  , \"g_max\"  ,\"g_leak\", \"v_half_m\", \"v_half_h\", \"k_m\", \"k_h\" ]\n",
    "\n",
    "kwargs = dict(v_list = v_list_1,\n",
    "              k_list = k_list_1,\n",
    "              t = t,\n",
    "              log_scale = True,\n",
    "              graph = False)\n",
    "x0 = x_true_log - 0.5\n",
    "bounds = np.vstack([x_true_log  - 3, x_true_log + 3]).T\n",
    "loss(x_true_log, data, kwargs)"
   ]
  },
  {
   "cell_type": "code",
   "execution_count": null,
   "metadata": {},
   "outputs": [],
   "source": [
    "plt.plot(calculate_I_out(x0, kwargs))\n",
    "plt.plot(data, '--')"
   ]
  },
  {
   "cell_type": "markdown",
   "metadata": {},
   "source": [
    "### minimize"
   ]
  },
  {
   "cell_type": "code",
   "execution_count": null,
   "metadata": {},
   "outputs": [],
   "source": [
    "%%time\n",
    "res = scop.minimize(loss, x0, bounds=bounds, args=(data, kwargs))"
   ]
  },
  {
   "cell_type": "code",
   "execution_count": null,
   "metadata": {},
   "outputs": [],
   "source": [
    "loss(res.x, data, kwargs)"
   ]
  },
  {
   "cell_type": "code",
   "execution_count": null,
   "metadata": {},
   "outputs": [],
   "source": [
    "x_true_log - res.x"
   ]
  },
  {
   "cell_type": "code",
   "execution_count": null,
   "metadata": {},
   "outputs": [],
   "source": [
    "plt.plot(calculate_I_out(res.x, kwargs))\n",
    "plt.plot(data, '--')"
   ]
  },
  {
   "cell_type": "code",
   "execution_count": null,
   "metadata": {},
   "outputs": [],
   "source": [
    "len(x_true_log)"
   ]
  },
  {
   "cell_type": "markdown",
   "metadata": {},
   "source": [
    " ### real_data_minimize\n"
   ]
  },
  {
   "cell_type": "code",
   "execution_count": null,
   "metadata": {},
   "outputs": [],
   "source": [
    "real_data = pd.read_csv('../data/training/2020_12_19_0035 I-V INa 11,65 pF.atf' ,delimiter= '\\t', header=None, skiprows = 11)\n",
    "real_data_small = real_data[14]\n",
    "#real_data = np.concatenate([real_data[k] for k in range(1,21)])\n",
    "\n",
    "#sample_weights = np.zeros(5000)\n",
    "#sample_weights[2210:4000] += 1\n",
    "\n",
    "\n",
    "#           C_f     C    a0_m   b0_m   delta_m  s_m   a0_h   b0_h  delta_h  s_h    R    R_f  g_max  g_leak v_half_m v_half_h k_m  k_h \n",
    "bounds = ([1e-20, 1e-13, 1e-10, 1e-10, 1e-10,  1e-10, 1e-10, 1e-10, 1e-10, 1e-10, 1e5,  1e3,  1e-5, 1e-5,  1e-4,     1e-4,   1e-4,1e-4],\n",
    "          [1e-9,  1e-10, 1e8,   1e6,   1,      1e4,   1e8,   1e8,   1,     1e8,   1e15, 1e15, 1e5,  1e5,   100,      100,    1e2, 1e2])\n",
    "log_bounds = np.vstack([np.log(bounds[0]),np.log(bounds[1])]).T\n",
    "kwargs = dict(v_list = v_list_1,\n",
    "              k_list = k_list_1,\n",
    "              t = t,\n",
    "              log_scale = True,\n",
    "              graph = False)#,\n",
    "              #sample_weight = sample_weights)\n"
   ]
  },
  {
   "cell_type": "code",
   "execution_count": null,
   "metadata": {
    "scrolled": false
   },
   "outputs": [],
   "source": [
    "%%time\n",
    "res = scop.minimize(loss, x_true_log, bounds=log_bounds, args=(real_data_small, kwargs))#, tol = 1e-6)#,method = 'Nelder-Mead',\n",
    "               #options={'maxfev':5e10, 'adaptive':True})"
   ]
  },
  {
   "cell_type": "code",
   "execution_count": null,
   "metadata": {},
   "outputs": [],
   "source": [
    "plt.scatter(real_data[0][::10],real_data[10][::10], label = 'calculated')"
   ]
  },
  {
   "cell_type": "code",
   "execution_count": null,
   "metadata": {},
   "outputs": [],
   "source": [
    "loss(res.x, real_data_small, kwargs)"
   ]
  },
  {
   "cell_type": "code",
   "execution_count": null,
   "metadata": {},
   "outputs": [],
   "source": [
    "plt.plot(calculate_I_out(res.x, kwargs), label = 'calculated')\n",
    "\n",
    "plt.legend()\n",
    "#plt.axvline(2210)\n",
    "#plt.plot(real_data_small, '--', label = 'real data')"
   ]
  },
  {
   "cell_type": "code",
   "execution_count": null,
   "metadata": {
    "scrolled": false
   },
   "outputs": [],
   "source": [
    "kwargs = dict(v_list = v_list_1,\n",
    "              k_list = k_list_1,\n",
    "              t = t,\n",
    "              log_scale = True,\n",
    "              graph = True)#,\n",
    "              #sample_weight = sample_weights)\n",
    "plt.plot(calculate_I_out(res.x, kwargs), label = 'calculated')\n",
    "\n",
    "plt.legend()\n",
    "#plt.axvline(2210)\n",
    "plt.plot(real_data_small, '--', label = 'real data')"
   ]
  },
  {
   "cell_type": "code",
   "execution_count": null,
   "metadata": {},
   "outputs": [],
   "source": [
    "#plt.scatter(names,log_bounds.T[0], marker = '_', s = 500, c = 'k')\n",
    "#plt.scatter(names,log_bounds.T[1], marker = '_', s = 500, c = 'k')\n",
    "#plt.scatter(names, res.x)"
   ]
  },
  {
   "cell_type": "code",
   "execution_count": null,
   "metadata": {},
   "outputs": [],
   "source": [
    "for k in range(len(res.x)):\n",
    "    print(names[k], ' = ',np.exp(res.x)[k])"
   ]
  },
  {
   "cell_type": "markdown",
   "metadata": {},
   "source": [
    "### differential_evolution"
   ]
  },
  {
   "cell_type": "code",
   "execution_count": null,
   "metadata": {
    "scrolled": true
   },
   "outputs": [],
   "source": [
    "%%time\n",
    "res = scop.differential_evolution(loss,\n",
    "                                  bounds=log_bounds,\n",
    "                                  args=(real_data_small, kwargs),\n",
    "                                  maxiter=10, # I don't want to wait too long\n",
    "                                  #disp=True,\n",
    "                                  workers=-1,\n",
    "                                  seed=42,\n",
    "                                  )"
   ]
  },
  {
   "cell_type": "code",
   "execution_count": null,
   "metadata": {},
   "outputs": [],
   "source": [
    "res"
   ]
  },
  {
   "cell_type": "code",
   "execution_count": null,
   "metadata": {},
   "outputs": [],
   "source": [
    "loss(res.x, real_data_small, kwargs)"
   ]
  },
  {
   "cell_type": "code",
   "execution_count": null,
   "metadata": {},
   "outputs": [],
   "source": [
    "plt.plot(calculate_I_out(res.x, kwargs))\n",
    "plt.plot(real_data_small, '--')"
   ]
  },
  {
   "cell_type": "markdown",
   "metadata": {},
   "source": [
    "### dual_annealing"
   ]
  },
  {
   "cell_type": "code",
   "execution_count": null,
   "metadata": {
    "scrolled": true
   },
   "outputs": [],
   "source": [
    "%%time\n",
    "res = scop.dual_annealing(loss, bounds=log_bounds, x0 = x_true_log, args=(real_data_small, kwargs), seed=42)"
   ]
  },
  {
   "cell_type": "code",
   "execution_count": null,
   "metadata": {},
   "outputs": [],
   "source": [
    "res"
   ]
  },
  {
   "cell_type": "code",
   "execution_count": null,
   "metadata": {},
   "outputs": [],
   "source": [
    "loss(res.x, real_data_small, kwargs)"
   ]
  },
  {
   "cell_type": "code",
   "execution_count": null,
   "metadata": {
    "scrolled": true
   },
   "outputs": [],
   "source": [
    "plt.plot(calculate_I_out(res.x, kwargs))\n",
    "plt.plot(real_data_small, '--')"
   ]
  }
 ],
 "metadata": {
  "kernelspec": {
   "display_name": "Python 3",
   "language": "python",
   "name": "python3"
  },
  "language_info": {
   "codemirror_mode": {
    "name": "ipython",
    "version": 3
   },
   "file_extension": ".py",
   "mimetype": "text/x-python",
   "name": "python",
   "nbconvert_exporter": "python",
   "pygments_lexer": "ipython3",
   "version": "3.8.5"
  }
 },
 "nbformat": 4,
 "nbformat_minor": 4
}
