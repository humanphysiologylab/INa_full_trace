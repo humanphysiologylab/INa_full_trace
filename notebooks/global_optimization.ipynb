{
 "cells": [
  {
   "cell_type": "code",
   "execution_count": 1,
   "metadata": {},
   "outputs": [],
   "source": [
    "import numpy as np\n",
    "import matplotlib.pyplot  as plt"
   ]
  },
  {
   "cell_type": "code",
   "execution_count": 2,
   "metadata": {},
   "outputs": [],
   "source": [
    "from sklearn.metrics import mean_squared_error as MSE\n",
    "from scipy import optimize as scop"
   ]
  },
  {
   "cell_type": "code",
   "execution_count": 3,
   "metadata": {},
   "outputs": [],
   "source": [
    "from numba import njit\n",
    "\n",
    "@njit\n",
    "def euler_numba_helper(x, y, c):\n",
    "    for i in range(1, len(x)):\n",
    "        x[i] = x[i-1] + (y[i-1] - x[i-1]) * c\n",
    "\n",
    "def calculate_I_out(x, *args):\n",
    "        \n",
    "    kwargs = args[-1]\n",
    "    \n",
    "    if kwargs.get('log_scale', False):\n",
    "        x = np.exp(x)\n",
    "        \n",
    "    C_p, C_m, a0_m, b0_m, delta_m, s_m, a0_h, b0_h, delta_h, s_h, R_m, R_p, g_max, g_leak = x\n",
    "\n",
    "    v_list = kwargs['v_list']\n",
    "    k_list = kwargs['k_list']\n",
    "    \n",
    "    t = kwargs['t']\n",
    "    dt = t[1] - t[0]\n",
    "    \n",
    "    v_p = np.zeros_like(t)\n",
    "\n",
    "    v_0_list = np.zeros_like(t)\n",
    "    V_m_list = np.zeros_like(t)\n",
    "\n",
    "    v_0_list = np.zeros_like(t)\n",
    "    v_0_list[k_list] = 1\n",
    "    v_0_list = np.cumsum(v_0_list)\n",
    "\n",
    "    V_m_list = v_list[v_0_list.astype(int) + 1]\n",
    "    v_0_list = v_list[v_0_list.astype(int)]\n",
    "    \n",
    "    v_p = V_m_list + (v_0_list - V_m_list) * np.exp(-t / (R_p * C_p))\n",
    "    \n",
    "    v = np.zeros_like(v_p)\n",
    "    v[0] = -80\n",
    "    euler_numba_helper(v, v_p, dt / (R_m * C_m))\n",
    "    \n",
    "    alfa_m  = a0_m * np.exp(-delta_m * v / (-s_m))\n",
    "    betta_m = b0_m * np.exp((1-delta_m) * v / (-s_m))\n",
    "    \n",
    "    alfa_h  = a0_h * np.exp(-delta_h * v / s_h)\n",
    "    betta_h = b0_h * np.exp((1-delta_h) * v / s_h)\n",
    "    \n",
    "    tau_m = 1/(betta_m + alfa_m)\n",
    "    tau_h = 1/(betta_h + alfa_h)\n",
    "    v_const = -80\n",
    "    \n",
    "    m_inf = 1/(1+betta_m/alfa_m)\n",
    "    h_inf = 1/(1+betta_h/alfa_h)\n",
    "    \n",
    "    m0 = 1/(1+(b0_m/a0_m)*np.exp(v_const/(-s_m)))\n",
    "    h0 = 1/(1+(b0_h/a0_h)*np.exp(v_const/s_h))\n",
    "\n",
    "    m = m_inf + (m0-m_inf)*np.exp(-t/tau_m)\n",
    "    h = h_inf + (h0-h_inf)*np.exp(-t/tau_h)\n",
    "    \n",
    "    v_rev = 18\n",
    "\n",
    "    i_c = 1e9 * C_m * np.diff(v) / dt\n",
    "    i_p = 1e9 * C_p * np.diff(v_p) / dt\n",
    "\n",
    "    i_c = np.concatenate([i_c, i_c[-1:]])\n",
    "    i_p = np.concatenate([i_p, i_p[-1:]])\n",
    "\n",
    "    i_leak = g_leak * v\n",
    "\n",
    "    tau_z = 1e-12 * 5e8\n",
    "    I_in =  g_max * h * (m**3) * (v - v_rev) + i_p + i_c + i_leak\n",
    "    \n",
    "    I_out = np.zeros_like(I_in)\n",
    "    I_out[0] = I_in[0]\n",
    "    euler_numba_helper(I_out, I_in, dt / tau_z)\n",
    "\n",
    "    return I_out"
   ]
  },
  {
   "cell_type": "code",
   "execution_count": 4,
   "metadata": {},
   "outputs": [],
   "source": [
    "x_true = [1e-15, 1e-11, 5e3, 8, 0.85, 6, 2, 4e4, 0.5, 6, 5e8, 5e6, 1e3, 1e-2]\n",
    "x_true_log = np.log(x_true)\n",
    "\n",
    "t = np.load('../data/time.npy')\n",
    "\n",
    "v_list = np.array([-80, -80, -70, -80, -10, -80])\n",
    "k_list = np.array([77, 1077, 2077, 4077]) + 1\n",
    "\n",
    "dt = t[1] - t[0]\n",
    "\n",
    "kwargs = dict(v_list = v_list,\n",
    "              k_list = k_list,\n",
    "              t = t,\n",
    "              log_scale = True)\n",
    "\n",
    "data = calculate_I_out(x_true_log, kwargs) # np.load('../data/simulated_func.npy')"
   ]
  },
  {
   "cell_type": "code",
   "execution_count": 5,
   "metadata": {},
   "outputs": [],
   "source": [
    "def loss(x, *args):\n",
    "    kwargs = args[-1]\n",
    "    data = args[0]\n",
    "    return MSE(data, calculate_I_out(x, *args))"
   ]
  },
  {
   "cell_type": "code",
   "execution_count": 6,
   "metadata": {},
   "outputs": [
    {
     "name": "stdout",
     "output_type": "stream",
     "text": [
      "2.31 ms ± 438 µs per loop (mean ± std. dev. of 7 runs, 100 loops each)\n"
     ]
    }
   ],
   "source": [
    "%%timeit\n",
    "loss(x_true_log, data, kwargs)"
   ]
  },
  {
   "cell_type": "code",
   "execution_count": 7,
   "metadata": {},
   "outputs": [
    {
     "data": {
      "text/plain": [
       "20042.966439562766"
      ]
     },
     "execution_count": 7,
     "metadata": {},
     "output_type": "execute_result"
    }
   ],
   "source": [
    "x0 = x_true_log - 1\n",
    "bounds = np.vstack([x_true_log  - 2, x_true_log + 2]).T\n",
    "\n",
    "loss(x0, data, kwargs)"
   ]
  },
  {
   "cell_type": "code",
   "execution_count": 8,
   "metadata": {},
   "outputs": [
    {
     "data": {
      "text/plain": [
       "[<matplotlib.lines.Line2D at 0x7f7050e93af0>]"
      ]
     },
     "execution_count": 8,
     "metadata": {},
     "output_type": "execute_result"
    },
    {
     "data": {
      "image/png": "[encoded data removed]",
      "text/plain": [
       "<Figure size 432x288 with 1 Axes>"
      ]
     },
     "metadata": {
      "needs_background": "light"
     },
     "output_type": "display_data"
    }
   ],
   "source": [
    "plt.plot(calculate_I_out(x0, kwargs))\n",
    "plt.plot(data, '--')"
   ]
  },
  {
   "cell_type": "markdown",
   "metadata": {},
   "source": [
    "### minimize"
   ]
  },
  {
   "cell_type": "code",
   "execution_count": 9,
   "metadata": {},
   "outputs": [
    {
     "name": "stdout",
     "output_type": "stream",
     "text": [
      "CPU times: user 1.54 s, sys: 725 µs, total: 1.54 s\n",
      "Wall time: 1.57 s\n"
     ]
    }
   ],
   "source": [
    "%%time\n",
    "res = scop.minimize(loss, x0, bounds=bounds, args=(data, kwargs))"
   ]
  },
  {
   "cell_type": "code",
   "execution_count": 10,
   "metadata": {},
   "outputs": [
    {
     "data": {
      "text/plain": [
       "array([-36.53877639, -25.52219086,   6.51719319,   4.07944154,\n",
       "         1.83748107,  -0.20824053,  -1.30685282,  12.59663473,\n",
       "         1.30685282,   3.79175947,  19.89670325,  14.42494847,\n",
       "         4.90775528,  -3.46492464])"
      ]
     },
     "execution_count": 10,
     "metadata": {},
     "output_type": "execute_result"
    }
   ],
   "source": [
    "res.x"
   ]
  },
  {
   "cell_type": "code",
   "execution_count": 11,
   "metadata": {},
   "outputs": [
    {
     "data": {
      "text/plain": [
       "38.557524862653985"
      ]
     },
     "execution_count": 11,
     "metadata": {},
     "output_type": "execute_result"
    }
   ],
   "source": [
    "loss(res.x, data, kwargs)"
   ]
  },
  {
   "cell_type": "code",
   "execution_count": 12,
   "metadata": {},
   "outputs": [
    {
     "data": {
      "text/plain": [
       "[<matplotlib.lines.Line2D at 0x7f7048d90340>]"
      ]
     },
     "execution_count": 12,
     "metadata": {},
     "output_type": "execute_result"
    },
    {
     "data": {
      "image/png": "[encoded data removed]",
      "text/plain": [
       "<Figure size 432x288 with 1 Axes>"
      ]
     },
     "metadata": {
      "needs_background": "light"
     },
     "output_type": "display_data"
    }
   ],
   "source": [
    "plt.plot(calculate_I_out(res.x, kwargs))\n",
    "plt.plot(data, '--')"
   ]
  },
  {
   "cell_type": "markdown",
   "metadata": {},
   "source": [
    "### differential_evolution"
   ]
  },
  {
   "cell_type": "code",
   "execution_count": 13,
   "metadata": {},
   "outputs": [
    {
     "name": "stderr",
     "output_type": "stream",
     "text": [
      "/home/andrey/WORK/HPL/Code/conda_env/lib/python3.8/site-packages/scipy/optimize/_differentialevolution.py:495: UserWarning: differential_evolution: the 'workers' keyword has overridden updating='immediate' to updating='deferred'\n",
      "  warnings.warn(\"differential_evolution: the 'workers' keyword has\"\n"
     ]
    },
    {
     "name": "stdout",
     "output_type": "stream",
     "text": [
      "CPU times: user 7.47 s, sys: 538 ms, total: 8.01 s\n",
      "Wall time: 28.9 s\n"
     ]
    }
   ],
   "source": [
    "%%time\n",
    "res = scop.differential_evolution(loss,\n",
    "                                  bounds=bounds,\n",
    "                                  args=(data, kwargs),\n",
    "                                  maxiter=100, # I don't want to wait too long\n",
    "                                  #disp=True,\n",
    "                                  workers=-1)"
   ]
  },
  {
   "cell_type": "code",
   "execution_count": 14,
   "metadata": {},
   "outputs": [
    {
     "data": {
      "text/plain": [
       "     fun: 0.01626903827536354\n",
       "     jac: array([-1.16780187e-04,  6.57963213e-05,  2.02338129e-06, -1.11295002e-04,\n",
       "       -5.15663901e-05,  5.28743719e-07, -3.99291713e-05,  4.10040024e-05,\n",
       "        3.54230532e-07,  1.06765986e-04, -3.06490918e-06,  0.00000000e+00,\n",
       "       -9.80777965e-06,  4.49786044e-05])\n",
       " message: 'Maximum number of iterations has been exceeded.'\n",
       "    nfev: 23130\n",
       "     nit: 100\n",
       " success: False\n",
       "       x: array([-36.11618895, -25.32884401,   8.5509551 ,   3.39644277,\n",
       "         0.16229696,   2.09025627,   2.57166648,  10.50213471,\n",
       "         0.71918934,   1.75655493,  20.02355407,  17.35595435,\n",
       "         4.91095789,  -4.59015693])"
      ]
     },
     "execution_count": 14,
     "metadata": {},
     "output_type": "execute_result"
    }
   ],
   "source": [
    "res"
   ]
  },
  {
   "cell_type": "code",
   "execution_count": 15,
   "metadata": {},
   "outputs": [
    {
     "data": {
      "text/plain": [
       "0.01626903827536354"
      ]
     },
     "execution_count": 15,
     "metadata": {},
     "output_type": "execute_result"
    }
   ],
   "source": [
    "loss(res.x, data, kwargs)"
   ]
  },
  {
   "cell_type": "code",
   "execution_count": 16,
   "metadata": {},
   "outputs": [
    {
     "data": {
      "text/plain": [
       "[<matplotlib.lines.Line2D at 0x7f7048cdc0a0>]"
      ]
     },
     "execution_count": 16,
     "metadata": {},
     "output_type": "execute_result"
    },
    {
     "data": {
      "image/png": "[encoded data removed]",
      "text/plain": [
       "<Figure size 432x288 with 1 Axes>"
      ]
     },
     "metadata": {
      "needs_background": "light"
     },
     "output_type": "display_data"
    }
   ],
   "source": [
    "plt.plot(calculate_I_out(res.x, kwargs))\n",
    "plt.plot(data, '--')"
   ]
  },
  {
   "cell_type": "markdown",
   "metadata": {},
   "source": [
    "### dual_annealing"
   ]
  },
  {
   "cell_type": "code",
   "execution_count": 17,
   "metadata": {},
   "outputs": [
    {
     "name": "stdout",
     "output_type": "stream",
     "text": [
      "CPU times: user 59.9 s, sys: 2.28 s, total: 1min 2s\n",
      "Wall time: 1min 2s\n"
     ]
    }
   ],
   "source": [
    "%%time\n",
    "res = scop.dual_annealing(loss, bounds=bounds, x0 = x_true_log, args=(data, kwargs))"
   ]
  },
  {
   "cell_type": "code",
   "execution_count": 18,
   "metadata": {},
   "outputs": [
    {
     "data": {
      "text/plain": [
       "     fun: 0.0\n",
       " message: ['Maximum number of iteration reached']\n",
       "    nfev: 29711\n",
       "    nhev: 0\n",
       "     nit: 1000\n",
       "    njev: 114\n",
       "  status: 0\n",
       " success: True\n",
       "       x: array([-34.53877639, -25.32843602,   8.51719319,   2.07944154,\n",
       "        -0.16251893,   1.79175947,   0.69314718,  10.59663473,\n",
       "        -0.69314718,   1.79175947,  20.03011866,  15.42494847,\n",
       "         6.90775528,  -4.60517019])"
      ]
     },
     "execution_count": 18,
     "metadata": {},
     "output_type": "execute_result"
    }
   ],
   "source": [
    "res"
   ]
  },
  {
   "cell_type": "code",
   "execution_count": 19,
   "metadata": {},
   "outputs": [
    {
     "data": {
      "text/plain": [
       "0.0"
      ]
     },
     "execution_count": 19,
     "metadata": {},
     "output_type": "execute_result"
    }
   ],
   "source": [
    "loss(res.x, data, kwargs)"
   ]
  },
  {
   "cell_type": "code",
   "execution_count": 20,
   "metadata": {},
   "outputs": [
    {
     "data": {
      "text/plain": [
       "[<matplotlib.lines.Line2D at 0x7f7050f89fd0>]"
      ]
     },
     "execution_count": 20,
     "metadata": {},
     "output_type": "execute_result"
    },
    {
     "data": {
      "image/png": "[encoded data removed]",
      "text/plain": [
       "<Figure size 432x288 with 1 Axes>"
      ]
     },
     "metadata": {
      "needs_background": "light"
     },
     "output_type": "display_data"
    }
   ],
   "source": [
    "plt.plot(calculate_I_out(res.x, kwargs))\n",
    "plt.plot(data, '--')"
   ]
  },
  {
   "cell_type": "code",
   "execution_count": null,
   "metadata": {},
   "outputs": [],
   "source": []
  }
 ],
 "metadata": {
  "kernelspec": {
   "display_name": "py3.8_hpl",
   "language": "python",
   "name": "py3.8_hpl"
  },
  "language_info": {
   "codemirror_mode": {
    "name": "ipython",
    "version": 3
   },
   "file_extension": ".py",
   "mimetype": "text/x-python",
   "name": "python",
   "nbconvert_exporter": "python",
   "pygments_lexer": "ipython3",
   "version": "3.8.6"
  }
 },
 "nbformat": 4,
 "nbformat_minor": 4
}
