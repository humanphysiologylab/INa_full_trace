{
 "cells": [
  {
   "cell_type": "code",
   "execution_count": 1,
   "metadata": {},
   "outputs": [],
   "source": [
    "import numpy as np\n",
    "import matplotlib.pyplot as plt"
   ]
  },
  {
   "cell_type": "code",
   "execution_count": 2,
   "metadata": {},
   "outputs": [],
   "source": [
    "from sklearn.metrics import mean_squared_error as MSE\n",
    "from scipy import optimize as scop"
   ]
  },
  {
   "cell_type": "code",
   "execution_count": 3,
   "metadata": {},
   "outputs": [],
   "source": [
    "from numba import njit\n",
    "\n",
    "@njit\n",
    "def euler_numba_helper(x, y, c):\n",
    "    for i in range(1, len(x)):\n",
    "        x[i] = x[i-1] + (y[i-1] - x[i-1]) * c\n",
    "        \n",
    "def calculate_I_out(x, *args):\n",
    "        \n",
    "    kwargs = args[-1]\n",
    "    \n",
    "    if kwargs.get('log_scale', False):\n",
    "        x = np.exp(x)\n",
    "        \n",
    "    C_p, C_m, a0_m, b0_m, delta_m, s_m, a0_h, b0_h, delta_h, s_h, R_m, R_p, g_max, g_leak = x\n",
    "\n",
    "    v_list = kwargs['v_list']\n",
    "    v_0_list = kwargs['v_0_list']\n",
    "    V_m_list = kwargs['V_m_list']\n",
    "    \n",
    "    t = kwargs['t']\n",
    "    dt = t[1] - t[0]\n",
    "    \n",
    "    v_p = np.zeros_like(t)\n",
    "    v_p = V_m_list + (v_0_list - V_m_list) * np.exp(-t / (R_p * C_p))\n",
    "    \n",
    "    v = np.zeros_like(v_p)\n",
    "    v[0] = -80\n",
    "    euler_numba_helper(v, v_p, dt / (R_m * C_m))\n",
    "    \n",
    "    alfa_m  = a0_m * np.exp(-delta_m * v / (-s_m))\n",
    "    betta_m = b0_m * np.exp((1-delta_m) * v / (-s_m))\n",
    "    \n",
    "    alfa_h  = a0_h * np.exp(-delta_h * v / s_h)\n",
    "    betta_h = b0_h * np.exp((1-delta_h) * v / s_h)\n",
    "    \n",
    "    tau_m = 1/(betta_m + alfa_m)\n",
    "    tau_h = 1/(betta_h + alfa_h)\n",
    "    v_const = -80\n",
    "    \n",
    "    m_inf = 1/(1+betta_m/alfa_m)\n",
    "    h_inf = 1/(1+betta_h/alfa_h)\n",
    "    \n",
    "    m0 = 1/(1+(b0_m/a0_m)*np.exp(v_const/(-s_m)))\n",
    "    h0 = 1/(1+(b0_h/a0_h)*np.exp(v_const/s_h))\n",
    "\n",
    "    m = m_inf + (m0-m_inf)*np.exp(-t/tau_m)\n",
    "    h = h_inf + (h0-h_inf)*np.exp(-t/tau_h)\n",
    "    \n",
    "    v_rev = 18\n",
    "\n",
    "    i_c = 1e9 * C_m * np.diff(v) / dt\n",
    "    i_p = 1e9 * C_p * np.diff(v_p) / dt\n",
    "\n",
    "    i_c = np.concatenate([i_c, i_c[-1:]])\n",
    "    i_p = np.concatenate([i_p, i_p[-1:]])\n",
    "\n",
    "    i_leak = g_leak * v\n",
    "\n",
    "    tau_z = 1e-12 * 5e8\n",
    "    I_in =  g_max * h * (m**3) * (v - v_rev) + i_p + i_c + i_leak\n",
    "    \n",
    "    I_out = np.zeros_like(I_in)\n",
    "    I_out[0] = I_in[0]\n",
    "    euler_numba_helper(I_out, I_in, dt / tau_z)\n",
    "\n",
    "    return I_out"
   ]
  },
  {
   "cell_type": "markdown",
   "metadata": {},
   "source": [
    "### Specify protocol"
   ]
  },
  {
   "cell_type": "code",
   "execution_count": 4,
   "metadata": {},
   "outputs": [],
   "source": [
    "t = np.load('../data/time.npy')\n",
    "\n",
    "v_list = np.array([-80, -80, -70, -80, -10, -80])\n",
    "k_list = np.array([77, 1077, 2077, 4077]) + 1\n",
    "\n",
    "v_0_list = np.zeros_like(t)\n",
    "v_0_list[k_list] = 1\n",
    "v_0_list = np.cumsum(v_0_list)\n",
    "\n",
    "V_m_list = v_list[v_0_list.astype(int) + 1]\n",
    "v_0_list = v_list[v_0_list.astype(int)]\n",
    "\n",
    "kwargs = dict(v_list = v_list,\n",
    "              v_0_list = v_0_list,\n",
    "              V_m_list = V_m_list,\n",
    "              t = t,\n",
    "              log_scale = True)"
   ]
  },
  {
   "cell_type": "markdown",
   "metadata": {},
   "source": [
    "### synthetic data generation"
   ]
  },
  {
   "cell_type": "code",
   "execution_count": 5,
   "metadata": {},
   "outputs": [],
   "source": [
    "x_true = [1e-15, 1e-11, 5e3, 8, 0.85, 6, 2, 4e4, 0.5, 6, 5e8, 5e6, 1e3, 1e-2]\n",
    "x_true_log = np.log(x_true)\n",
    "\n",
    "data = calculate_I_out(x_true_log, kwargs) # np.load('../data/simulated_func.npy')"
   ]
  },
  {
   "cell_type": "code",
   "execution_count": 6,
   "metadata": {},
   "outputs": [],
   "source": [
    "def loss(x, *args):\n",
    "    kwargs = args[-1]\n",
    "    data = args[0]\n",
    "    return MSE(data, calculate_I_out(x, *args))"
   ]
  },
  {
   "cell_type": "code",
   "execution_count": 7,
   "metadata": {},
   "outputs": [
    {
     "data": {
      "text/plain": [
       "0.0"
      ]
     },
     "execution_count": 7,
     "metadata": {},
     "output_type": "execute_result"
    }
   ],
   "source": [
    "loss(x_true_log, data, kwargs)"
   ]
  },
  {
   "cell_type": "code",
   "execution_count": 8,
   "metadata": {},
   "outputs": [
    {
     "name": "stdout",
     "output_type": "stream",
     "text": [
      "2.01 ms ± 549 µs per loop (mean ± std. dev. of 7 runs, 100 loops each)\n"
     ]
    }
   ],
   "source": [
    "%%timeit\n",
    "loss(x_true_log, data, kwargs)"
   ]
  },
  {
   "cell_type": "markdown",
   "metadata": {},
   "source": [
    "# optimization"
   ]
  },
  {
   "cell_type": "code",
   "execution_count": 9,
   "metadata": {},
   "outputs": [
    {
     "data": {
      "text/plain": [
       "20042.966439562766"
      ]
     },
     "execution_count": 9,
     "metadata": {},
     "output_type": "execute_result"
    }
   ],
   "source": [
    "x0 = x_true_log - 1\n",
    "bounds = np.vstack([x_true_log  - 2, x_true_log + 2]).T\n",
    "\n",
    "loss(x0, data, kwargs)"
   ]
  },
  {
   "cell_type": "code",
   "execution_count": 10,
   "metadata": {},
   "outputs": [
    {
     "data": {
      "text/plain": [
       "[<matplotlib.lines.Line2D at 0x7f06a4e44730>]"
      ]
     },
     "execution_count": 10,
     "metadata": {},
     "output_type": "execute_result"
    },
    {
     "data": {
      "image/png": "[encoded data removed]",
      "text/plain": [
       "<Figure size 432x288 with 1 Axes>"
      ]
     },
     "metadata": {
      "needs_background": "light"
     },
     "output_type": "display_data"
    }
   ],
   "source": [
    "plt.plot(calculate_I_out(x0, kwargs))\n",
    "plt.plot(data, '--')"
   ]
  },
  {
   "cell_type": "markdown",
   "metadata": {},
   "source": [
    "### minimize"
   ]
  },
  {
   "cell_type": "code",
   "execution_count": 11,
   "metadata": {},
   "outputs": [
    {
     "name": "stdout",
     "output_type": "stream",
     "text": [
      "CPU times: user 1.35 s, sys: 4.5 ms, total: 1.35 s\n",
      "Wall time: 1.39 s\n"
     ]
    }
   ],
   "source": [
    "%%time\n",
    "res = scop.minimize(loss, x0, bounds=bounds, args=(data, kwargs))"
   ]
  },
  {
   "cell_type": "code",
   "execution_count": 12,
   "metadata": {},
   "outputs": [
    {
     "data": {
      "text/plain": [
       "array([-36.53877639, -25.52219086,   6.51719319,   4.07944154,\n",
       "         1.83748107,  -0.20824053,  -1.30685282,  12.59663473,\n",
       "         1.30685282,   3.79175947,  19.89670325,  14.42494847,\n",
       "         4.90775528,  -3.46492464])"
      ]
     },
     "execution_count": 12,
     "metadata": {},
     "output_type": "execute_result"
    }
   ],
   "source": [
    "res.x"
   ]
  },
  {
   "cell_type": "code",
   "execution_count": 13,
   "metadata": {},
   "outputs": [
    {
     "data": {
      "text/plain": [
       "38.557524862653985"
      ]
     },
     "execution_count": 13,
     "metadata": {},
     "output_type": "execute_result"
    }
   ],
   "source": [
    "loss(res.x, data, kwargs)"
   ]
  },
  {
   "cell_type": "code",
   "execution_count": 14,
   "metadata": {},
   "outputs": [
    {
     "data": {
      "text/plain": [
       "[<matplotlib.lines.Line2D at 0x7f069cccf970>]"
      ]
     },
     "execution_count": 14,
     "metadata": {},
     "output_type": "execute_result"
    },
    {
     "data": {
      "image/png": "[encoded data removed]",
      "text/plain": [
       "<Figure size 432x288 with 1 Axes>"
      ]
     },
     "metadata": {
      "needs_background": "light"
     },
     "output_type": "display_data"
    }
   ],
   "source": [
    "plt.plot(calculate_I_out(res.x, kwargs))\n",
    "plt.plot(data, '--')"
   ]
  },
  {
   "cell_type": "markdown",
   "metadata": {},
   "source": [
    "### differential_evolution"
   ]
  },
  {
   "cell_type": "code",
   "execution_count": 15,
   "metadata": {},
   "outputs": [
    {
     "name": "stderr",
     "output_type": "stream",
     "text": [
      "/home/andrey/WORK/HPL/Code/conda_env/lib/python3.8/site-packages/scipy/optimize/_differentialevolution.py:495: UserWarning: differential_evolution: the 'workers' keyword has overridden updating='immediate' to updating='deferred'\n",
      "  warnings.warn(\"differential_evolution: the 'workers' keyword has\"\n"
     ]
    },
    {
     "name": "stdout",
     "output_type": "stream",
     "text": [
      "CPU times: user 20.5 s, sys: 685 ms, total: 21.2 s\n",
      "Wall time: 41.5 s\n"
     ]
    }
   ],
   "source": [
    "%%time\n",
    "res = scop.differential_evolution(loss,\n",
    "                                  bounds=bounds,\n",
    "                                  args=(data, kwargs),\n",
    "                                  maxiter=100, # I don't want to wait too long\n",
    "                                  #disp=True,\n",
    "                                  workers=-1)"
   ]
  },
  {
   "cell_type": "code",
   "execution_count": 16,
   "metadata": {},
   "outputs": [
    {
     "data": {
      "text/plain": [
       "     fun: 1.134858976183362e-05\n",
       "     jac: array([ 9.86394824e-06,  8.73377534e-05,  1.16359298e-05,  3.59335080e-05,\n",
       "       -3.10882584e-05,  9.13035912e-06, -1.09166736e-04,  6.36630043e-05,\n",
       "        5.10888762e-05, -1.23202422e-04,  5.99248486e-06,  0.00000000e+00,\n",
       "       -8.97012100e-05,  1.16305673e-04])\n",
       " message: 'Maximum number of iterations has been exceeded.'\n",
       "    nfev: 29955\n",
       "     nit: 100\n",
       " success: False\n",
       "       x: array([-34.39871162, -25.32840044,   8.54899876,   2.70843566,\n",
       "        -0.063114  ,   1.87937125,   0.7627424 ,  10.57442806,\n",
       "        -0.67307946,   1.77602068,  20.03015256,  13.58484041,\n",
       "         6.80391812,  -4.60701541])"
      ]
     },
     "execution_count": 16,
     "metadata": {},
     "output_type": "execute_result"
    }
   ],
   "source": [
    "res"
   ]
  },
  {
   "cell_type": "code",
   "execution_count": 17,
   "metadata": {},
   "outputs": [
    {
     "data": {
      "text/plain": [
       "1.134858976183362e-05"
      ]
     },
     "execution_count": 17,
     "metadata": {},
     "output_type": "execute_result"
    }
   ],
   "source": [
    "loss(res.x, data, kwargs)"
   ]
  },
  {
   "cell_type": "code",
   "execution_count": 18,
   "metadata": {},
   "outputs": [
    {
     "data": {
      "text/plain": [
       "[<matplotlib.lines.Line2D at 0x7f069cc1f280>]"
      ]
     },
     "execution_count": 18,
     "metadata": {},
     "output_type": "execute_result"
    },
    {
     "data": {
      "image/png": "[encoded data removed]",
      "text/plain": [
       "<Figure size 432x288 with 1 Axes>"
      ]
     },
     "metadata": {
      "needs_background": "light"
     },
     "output_type": "display_data"
    }
   ],
   "source": [
    "plt.plot(calculate_I_out(res.x, kwargs))\n",
    "plt.plot(data, '--')"
   ]
  },
  {
   "cell_type": "markdown",
   "metadata": {},
   "source": [
    "### dual_annealing"
   ]
  },
  {
   "cell_type": "code",
   "execution_count": 19,
   "metadata": {},
   "outputs": [
    {
     "name": "stdout",
     "output_type": "stream",
     "text": [
      "CPU times: user 59.4 s, sys: 147 ms, total: 59.5 s\n",
      "Wall time: 1min\n"
     ]
    }
   ],
   "source": [
    "%%time\n",
    "res = scop.dual_annealing(loss, bounds=bounds, x0=x0, args=(data, kwargs))"
   ]
  },
  {
   "cell_type": "code",
   "execution_count": 20,
   "metadata": {},
   "outputs": [
    {
     "data": {
      "text/plain": [
       "     fun: 0.00047353943694237674\n",
       " message: ['Maximum number of iteration reached']\n",
       "    nfev: 29906\n",
       "    nhev: 0\n",
       "     nit: 1000\n",
       "    njev: 127\n",
       "  status: 0\n",
       " success: True\n",
       "       x: array([-34.79686862, -25.32858676,   8.51288838,   1.94269552,\n",
       "        -0.19663964,   1.75866129,   0.05842218,  10.91837529,\n",
       "        -0.76375964,   1.79129601,  20.02964033,  15.22269858,\n",
       "         7.86120528,  -4.60377624])"
      ]
     },
     "execution_count": 20,
     "metadata": {},
     "output_type": "execute_result"
    }
   ],
   "source": [
    "res"
   ]
  },
  {
   "cell_type": "code",
   "execution_count": 21,
   "metadata": {},
   "outputs": [
    {
     "data": {
      "text/plain": [
       "0.00047353943694237674"
      ]
     },
     "execution_count": 21,
     "metadata": {},
     "output_type": "execute_result"
    }
   ],
   "source": [
    "loss(res.x, data, kwargs)"
   ]
  },
  {
   "cell_type": "code",
   "execution_count": 22,
   "metadata": {},
   "outputs": [
    {
     "data": {
      "text/plain": [
       "[<matplotlib.lines.Line2D at 0x7f06ab112520>]"
      ]
     },
     "execution_count": 22,
     "metadata": {},
     "output_type": "execute_result"
    },
    {
     "data": {
      "image/png": "[encoded data removed]",
      "text/plain": [
       "<Figure size 432x288 with 1 Axes>"
      ]
     },
     "metadata": {
      "needs_background": "light"
     },
     "output_type": "display_data"
    }
   ],
   "source": [
    "plt.plot(calculate_I_out(res.x, kwargs))\n",
    "plt.plot(data, '--')"
   ]
  },
  {
   "cell_type": "code",
   "execution_count": null,
   "metadata": {},
   "outputs": [],
   "source": []
  }
 ],
 "metadata": {
  "kernelspec": {
   "display_name": "py3.8_hpl",
   "language": "python",
   "name": "py3.8_hpl"
  },
  "language_info": {
   "codemirror_mode": {
    "name": "ipython",
    "version": 3
   },
   "file_extension": ".py",
   "mimetype": "text/x-python",
   "name": "python",
   "nbconvert_exporter": "python",
   "pygments_lexer": "ipython3",
   "version": "3.8.6"
  }
 },
 "nbformat": 4,
 "nbformat_minor": 4
}
