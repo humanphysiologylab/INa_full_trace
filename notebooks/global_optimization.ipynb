{
 "cells": [
  {
   "cell_type": "code",
   "execution_count": 1,
   "metadata": {},
   "outputs": [],
   "source": [
    "import numpy as np\n",
    "import matplotlib.pyplot  as plt\n",
    "import pandas as pd\n",
    "\n",
    "from datetime import datetime\n",
    "\n",
    "import os\n",
    "import json\n",
    "import sys\n",
    "\n",
    "sys.path.append(\"../src\")\n",
    "from calculate_I_out import load_ctypes_object, calculate_I_out\n",
    "from backups import create_backup, recover_backup"
   ]
  },
  {
   "cell_type": "code",
   "execution_count": 2,
   "metadata": {},
   "outputs": [],
   "source": [
    "from sklearn.metrics import mean_squared_error as MSE\n",
    "from scipy import optimize as scop"
   ]
  },
  {
   "cell_type": "code",
   "execution_count": 3,
   "metadata": {},
   "outputs": [],
   "source": [
    "filename_so = './../data/functions/libtest.so'\n",
    "ctypes_object = load_ctypes_object(filename_so)"
   ]
  },
  {
   "cell_type": "markdown",
   "metadata": {},
   "source": [
    "$$ \\frac{\\partial V_{p}}{\\partial t} = \\frac{V_{c} - V_{p}}{C_{p}*R_{p}} \\\\ $$\n",
    "$$ \\frac{\\partial V_{m}}{\\partial t} = \\frac{V_{p} + V_{off} - V_{m}}{C_{m}*R_{s}} - \\frac{I_{ion}+I_{leak}}{C_m} \\\\ $$\n",
    "$$ \\frac{\\partial m}{\\partial t} = \\frac{m_{inf} - m}{\\tau_{m}}  \\\\ $$\n",
    "$$ \\frac{\\partial h}{\\partial t} = \\frac{h_{inf} - h}{\\tau_{h}}  \\\\ $$\n",
    "$$\n",
    "I_{m} = C_{m} *\\frac{\\partial V_{m}}{\\partial t} \\\\\n",
    "I_{p} = C_{p} *\\frac{\\partial V_{p}}{\\partial t} \\\\\n",
    "I_{leak} = g_{leak} * V_{m}\n",
    "$$"
   ]
  },
  {
   "cell_type": "code",
   "execution_count": 4,
   "metadata": {},
   "outputs": [],
   "source": [
    "k_list = np.array([77, 1077, 2077, 4077])\n",
    "v_list = np.array([-80, -70, -80, -80])\n",
    "k_all = k_list\n",
    "v_all = v_list\n",
    "for l in range(1,20):\n",
    "    k_all = np.concatenate([k_all, k_list + 5000 * l])\n",
    "    v_all = np.concatenate([v_all, v_list+[0, 0, 0, 5 * l]])\n",
    "v_all = np.concatenate([v_all, [-80]])\n",
    "t = np.load('../data/time.npy')\n",
    "t_all = np.concatenate([t for k in range(20)])"
   ]
  },
  {
   "cell_type": "code",
   "execution_count": 5,
   "metadata": {},
   "outputs": [],
   "source": [
    "k_list_1 = np.array([77, 1077, 2077, 4077])\n",
    "v_list_1 = np.array([-80.0, -70.0, -80.0, -10.0, -80.0])"
   ]
  },
  {
   "cell_type": "code",
   "execution_count": 6,
   "metadata": {},
   "outputs": [],
   "source": [
    "def log_x(a):\n",
    "    b = a.copy()\n",
    "    b[2: 10] = np.log(a[2: 10])\n",
    "    b[14: 18] = np.log(a[14: 18])\n",
    "    return(b)"
   ]
  },
  {
   "cell_type": "code",
   "execution_count": 7,
   "metadata": {},
   "outputs": [],
   "source": [
    "# mpl_style_filename = '../styles/general.mplstyle'\n",
    "\n",
    "# plt.style.use(mpl_style_filename)"
   ]
  },
  {
   "cell_type": "code",
   "execution_count": 8,
   "metadata": {},
   "outputs": [
    {
     "data": {
      "text/plain": [
       "array([0.000e+00, 1.000e-05, 2.000e-05, ..., 4.607e-02, 4.608e-02,\n",
       "       4.609e-02])"
      ]
     },
     "execution_count": 8,
     "metadata": {},
     "output_type": "execute_result"
    }
   ],
   "source": [
    "t_step = np.load(\"./time_1e-5.npy\")\n",
    "t_step"
   ]
  },
  {
   "cell_type": "code",
   "execution_count": 9,
   "metadata": {},
   "outputs": [],
   "source": [
    "# with open(\"../data/constants/constants_default.json\", 'w') as f:\n",
    "#     json.dump(param_dict, f, indent=4)"
   ]
  },
  {
   "cell_type": "code",
   "execution_count": 10,
   "metadata": {},
   "outputs": [],
   "source": [
    "with open(\"../data/constants/constants_default.json\", 'r') as f:\n",
    "    constants_dict = json.load(f)\n",
    "    keys, values = list(constants_dict.keys()), list(constants_dict.values())"
   ]
  },
  {
   "cell_type": "code",
   "execution_count": 49,
   "metadata": {},
   "outputs": [],
   "source": [
    "p0 = np.array(values)\n",
    "\n",
    "x_true_log = np.concatenate((np.log(p0[:-1]),p0[-1:]))\n",
    "\n",
    "v_list = v_all\n",
    "k_list = k_all\n",
    "dt = t[1] - t[0]\n",
    "\n",
    "kwargs = dict(v_list = v_list_1,\n",
    "              k_list = k_list_1,\n",
    "              t = t_step,\n",
    "              log_scale = True,\n",
    "              graph = False,\n",
    "              calculate_circle = ctypes_object.calculate_circle,\n",
    "              # sample_weights = sample_weight,\n",
    "              )\n",
    "\n",
    "data = calculate_I_out(x_true_log, kwargs)"
   ]
  },
  {
   "cell_type": "code",
   "execution_count": 12,
   "metadata": {},
   "outputs": [
    {
     "data": {
      "text/plain": [
       "[<matplotlib.lines.Line2D at 0x7fb1de1741c0>]"
      ]
     },
     "execution_count": 12,
     "metadata": {},
     "output_type": "execute_result"
    },
    {
     "data": {
      "image/png": "[encoded data removed]",
      "text/plain": [
       "<Figure size 432x288 with 1 Axes>"
      ]
     },
     "metadata": {
      "needs_background": "light"
     },
     "output_type": "display_data"
    }
   ],
   "source": [
    "plt.plot(data)"
   ]
  },
  {
   "cell_type": "code",
   "execution_count": 13,
   "metadata": {},
   "outputs": [],
   "source": [
    "def loss(x, *args):\n",
    "    kwargs = args[-1]\n",
    "    data = args[0]\n",
    "    sample_weight = kwargs.get('sample_weight', None)\n",
    "    \n",
    "    I_out = calculate_I_out(x, *args)\n",
    "    \n",
    "    if np.any(np.isnan(I_out)):\n",
    "        return np.inf\n",
    "    if np.any(np.isinf(I_out)):\n",
    "        return np.inf\n",
    "        \n",
    "    return MSE(data, I_out, sample_weight=sample_weight)"
   ]
  },
  {
   "cell_type": "code",
   "execution_count": 26,
   "metadata": {},
   "outputs": [
    {
     "name": "stdout",
     "output_type": "stream",
     "text": [
      "9.66 ms ± 582 µs per loop (mean ± std. dev. of 7 runs, 100 loops each)\n"
     ]
    }
   ],
   "source": [
    "%%timeit\n",
    "loss(x_true_log, data, kwargs)"
   ]
  },
  {
   "cell_type": "code",
   "execution_count": 14,
   "metadata": {},
   "outputs": [
    {
     "data": {
      "text/plain": [
       "1223.2460184877827"
      ]
     },
     "execution_count": 14,
     "metadata": {},
     "output_type": "execute_result"
    }
   ],
   "source": [
    "kwargs['t'] = t\n",
    "\n",
    "x0 = x_true_log + 0.23\n",
    "bounds = np.vstack([x_true_log  - 2, x_true_log + 2]).T#\n",
    "\n",
    "loss(x0, data, kwargs)"
   ]
  },
  {
   "cell_type": "code",
   "execution_count": 15,
   "metadata": {},
   "outputs": [
    {
     "data": {
      "text/plain": [
       "[<matplotlib.lines.Line2D at 0x7fb1d60aac10>]"
      ]
     },
     "execution_count": 15,
     "metadata": {},
     "output_type": "execute_result"
    },
    {
     "data": {
      "image/png": "[encoded data removed]",
      "text/plain": [
       "<Figure size 432x288 with 1 Axes>"
      ]
     },
     "metadata": {
      "needs_background": "light"
     },
     "output_type": "display_data"
    }
   ],
   "source": [
    "plt.plot(calculate_I_out(x0, kwargs))\n",
    "plt.plot(data, '--')"
   ]
  },
  {
   "cell_type": "markdown",
   "metadata": {},
   "source": [
    "### minimize"
   ]
  },
  {
   "cell_type": "code",
   "execution_count": 37,
   "metadata": {},
   "outputs": [],
   "source": [
    "res = scop.minimize(loss, x0, bounds=bounds, args=(data, kwargs), method='Nelder-Mead',\n",
    "                    options={'adaptive': True, 'maxiter': 10})"
   ]
  },
  {
   "cell_type": "code",
   "execution_count": 38,
   "metadata": {},
   "outputs": [
    {
     "data": {
      "text/plain": [
       "794.4596214612444"
      ]
     },
     "execution_count": 38,
     "metadata": {},
     "output_type": "execute_result"
    }
   ],
   "source": [
    "loss(res.x, data, kwargs)"
   ]
  },
  {
   "cell_type": "code",
   "execution_count": 39,
   "metadata": {},
   "outputs": [
    {
     "name": "stdout",
     "output_type": "stream",
     "text": [
      "error in param = [-1.72655301 -0.19468941 -0.32477468 -0.24753258 -0.22257607 -0.26216027\n",
      " -0.22240892 -0.2598048  -0.24338498 -0.24594013 -0.26251457 -0.19521012\n",
      " -0.23920534 -0.2452309  -0.21553902 -0.29780511 -0.27471899 -0.25469106\n",
      " -0.23090331 -0.24010065 -0.24597414 -0.24097704 -0.2259038  -0.23002693\n",
      " -0.22997753 -0.19473011 -0.23090331]\n"
     ]
    }
   ],
   "source": [
    "print('error in param =' , x_true_log - res.x)"
   ]
  },
  {
   "cell_type": "code",
   "execution_count": 19,
   "metadata": {},
   "outputs": [
    {
     "data": {
      "text/plain": [
       "[<matplotlib.lines.Line2D at 0x7fb1d602cd30>]"
      ]
     },
     "execution_count": 19,
     "metadata": {},
     "output_type": "execute_result"
    },
    {
     "data": {
      "image/png": "[encoded data removed]",
      "text/plain": [
       "<Figure size 432x288 with 1 Axes>"
      ]
     },
     "metadata": {
      "needs_background": "light"
     },
     "output_type": "display_data"
    }
   ],
   "source": [
    "plt.plot(calculate_I_out(res.x, kwargs))\n",
    "plt.plot(data, '.-')"
   ]
  },
  {
   "cell_type": "markdown",
   "metadata": {},
   "source": [
    " ### real_data_minimize\n"
   ]
  },
  {
   "cell_type": "code",
   "execution_count": 21,
   "metadata": {},
   "outputs": [],
   "source": [
    "sample_weight = np.zeros(5000)\n",
    "w1 = 1\n",
    "w2 = 5\n",
    "w3 = 10\n",
    "if True:\n",
    "    sample_weight[:70] += w2\n",
    "    sample_weight[90:500]+= w3\n",
    "    sample_weight[500:1070] += w2\n",
    "    sample_weight[1090:1500] += w3\n",
    "    sample_weight[1500:2070] += w2\n",
    "    sample_weight[2100:2400] += 30\n",
    "    sample_weight[2400:4070] += w2\n",
    "    sample_weight[4090:4500] += w3\n",
    "    sample_weight[4500:] += w2\n"
   ]
  },
  {
   "cell_type": "code",
   "execution_count": 25,
   "metadata": {},
   "outputs": [
    {
     "data": {
      "text/plain": [
       "[(0, '2020_12_19_0035 I-V INa 11,65 pF.atf'),\n",
       " (1, '2020_12_21_0007 I-V INa 15.80pF.atf'),\n",
       " (2, '2020_12_22_0006 I-V INa 25.16pF.atf'),\n",
       " (3, '2020_12_22_0032 I-V INa 21.05pF.atf'),\n",
       " (4, '2020_12_23_0007 I-V INa E4031 33.16pF.atf'),\n",
       " (5, '2020_12_26_0000 I-V INa 36.60pF.atf'),\n",
       " (6, '2020_12_26_0014 I-V INa 15.78pF.atf')]"
      ]
     },
     "execution_count": 25,
     "metadata": {},
     "output_type": "execute_result"
    }
   ],
   "source": [
    "folder_data = '../data/training'\n",
    "\n",
    "content = sorted(os.listdir(folder_data))\n",
    "list(enumerate(content))"
   ]
  },
  {
   "cell_type": "code",
   "execution_count": 34,
   "metadata": {},
   "outputs": [],
   "source": [
    "index_data = 0\n",
    "filename_data = os.path.join(folder_data, content[index_data])\n",
    "\n",
    "real_data = pd.read_csv(filename_data, delimiter= '\\t', header=None, skiprows = 11)\n",
    "\n",
    "\n",
    "index_step = 14\n",
    "real_data_small = real_data[index_step]\n",
    "\n",
    "#real_data_all = no_drift(real_data)#np.concatenate([real_data[k] for k in range(1,21)])\n",
    "\n",
    "real_data_all = np.concatenate([real_data[k] for k in range(1, real_data.shape[1])])\n",
    "sample_weight_all = np.concatenate([sample_weight for k in range(1, real_data.shape[1])])\n",
    "                   \n",
    "bounds = ([1e-18, 1e-13,#C_f , C \n",
    "           1e-06, 1e-06, 1e-03, 1e-03,# a0_m , b0_m , delta_m , s_m \n",
    "           1e-06, 1e-06, 1e-03, 1e-03,#a0_h , b0_h , delta_h , s_h\n",
    "           1e-06, 1e-06, 1e-03, 1e-03, 1e-8,#a0_j , b0_j , delta_j , s_j, tau_j_const\n",
    "           1e+05, 1e+03, 1e-05, 1e-05,#R , R_f , g_max , g_leak\n",
    "           1e-04, 1e-04, 1e-04, 1e-04,#v_half_m , v_half_h , k_m , k_h\n",
    "           1e-02, 1e-02, 1e-04, -5e+01],# x_c_comp,x_r-Comp alpha v_off\n",
    "          \n",
    "          \n",
    "          [1e-10, 1e-10,#C_f , C \n",
    "           1e+06, 1e+06, 1e+03, 1e+03,# a0_m , b0_m , delta_m , s_m \n",
    "           1e+06, 1e+06, 1e+03, 1e+03,#a0_h , b0_h , delta_h , s_h\n",
    "           1e+06, 1e+06, 1e+03, 1e+03, 1e+06,#a0_j , b0_j , delta_j , s_j, tau_j_const\n",
    "           1e+10, 1e+12, 1e+05, 1e+05, #R , R_f , g_max , g_leak\n",
    "           1e+02, 1e+02, 1e+02, 1e+02,#v_half_m , v_half_h , k_m , k_h\n",
    "           1e+01, 1e+01, 1e+04, 5e+01])# x_c_comp,x_r-Comp alpha v_off\n",
    "log_bounds = np.vstack([np.concatenate((np.log(bounds[0][:-1]), bounds[0][-1:]))\n",
    "                        , np.concatenate((np.log(bounds[1][:-1]), bounds[1][-1:]))]).T\n",
    "\n",
    "kwargs_for_count = dict(v_list = v_all,\n",
    "                        k_list = k_all,\n",
    "                        t = t_all,\n",
    "                        log_scale = True,\n",
    "                        graph = False,\n",
    "                        sample_weight = sample_weight_all,\n",
    "                        calculate_circle = ctypes_object.calculate_circle,\n",
    "                        )"
   ]
  },
  {
   "cell_type": "code",
   "execution_count": 46,
   "metadata": {},
   "outputs": [
    {
     "data": {
      "text/plain": [
       "100000"
      ]
     },
     "execution_count": 46,
     "metadata": {},
     "output_type": "execute_result"
    }
   ],
   "source": [
    "len(t_all)"
   ]
  },
  {
   "cell_type": "code",
   "execution_count": 35,
   "metadata": {},
   "outputs": [
    {
     "data": {
      "text/plain": [
       "[<matplotlib.lines.Line2D at 0x7fb1d43d39a0>]"
      ]
     },
     "execution_count": 35,
     "metadata": {},
     "output_type": "execute_result"
    },
    {
     "data": {
      "image/png": "[encoded data removed]",
      "text/plain": [
       "<Figure size 432x288 with 1 Axes>"
      ]
     },
     "metadata": {
      "needs_background": "light"
     },
     "output_type": "display_data"
    }
   ],
   "source": [
    "plt.plot(real_data_small)"
   ]
  },
  {
   "cell_type": "code",
   "execution_count": 41,
   "metadata": {},
   "outputs": [],
   "source": [
    "res = scop.minimize(loss, x0, bounds=bounds, args=(data, kwargs), method='Nelder-Mead',\n",
    "                    options={'adaptive': True, 'maxiter': 10})"
   ]
  },
  {
   "cell_type": "code",
   "execution_count": 40,
   "metadata": {
    "collapsed": true,
    "jupyter": {
     "outputs_hidden": true
    }
   },
   "outputs": [
    {
     "name": "stderr",
     "output_type": "stream",
     "text": [
      "/home/andrey/WORK/HPL/Code/conda_env/lib/python3.8/site-packages/scipy/optimize/_minimize.py:535: RuntimeWarning: Method Nelder-Mead cannot handle constraints nor bounds.\n",
      "  warn('Method %s cannot handle constraints nor bounds.' % method,\n"
     ]
    },
    {
     "ename": "ArgumentError",
     "evalue": "argument 5: <class 'TypeError'>: array must have data type float64",
     "output_type": "error",
     "traceback": [
      "\u001b[0;31m---------------------------------------------------------------------------\u001b[0m",
      "\u001b[0;31mArgumentError\u001b[0m                             Traceback (most recent call last)",
      "\u001b[0;32m<ipython-input-40-48683e7592ce>\u001b[0m in \u001b[0;36m<module>\u001b[0;34m\u001b[0m\n\u001b[1;32m      2\u001b[0m \u001b[0;34m\u001b[0m\u001b[0m\n\u001b[1;32m      3\u001b[0m \u001b[0;32mfor\u001b[0m \u001b[0mk\u001b[0m \u001b[0;32min\u001b[0m \u001b[0mrange\u001b[0m\u001b[0;34m(\u001b[0m\u001b[0;36m5\u001b[0m\u001b[0;34m)\u001b[0m\u001b[0;34m:\u001b[0m\u001b[0;34m\u001b[0m\u001b[0;34m\u001b[0m\u001b[0m\n\u001b[0;32m----> 4\u001b[0;31m     res = scop.minimize(loss, x, bounds=log_bounds,\n\u001b[0m\u001b[1;32m      5\u001b[0m                         \u001b[0margs\u001b[0m\u001b[0;34m=\u001b[0m\u001b[0;34m(\u001b[0m\u001b[0mreal_data_all\u001b[0m\u001b[0;34m,\u001b[0m \u001b[0mkwargs_for_count\u001b[0m\u001b[0;34m)\u001b[0m\u001b[0;34m,\u001b[0m\u001b[0;34m\u001b[0m\u001b[0;34m\u001b[0m\u001b[0m\n\u001b[1;32m      6\u001b[0m                         \u001b[0mmethod\u001b[0m \u001b[0;34m=\u001b[0m \u001b[0;34m'Nelder-Mead'\u001b[0m\u001b[0;34m,\u001b[0m\u001b[0;34m\u001b[0m\u001b[0;34m\u001b[0m\u001b[0m\n",
      "\u001b[0;32m~/WORK/HPL/Code/conda_env/lib/python3.8/site-packages/scipy/optimize/_minimize.py\u001b[0m in \u001b[0;36mminimize\u001b[0;34m(fun, x0, args, method, jac, hess, hessp, bounds, constraints, tol, callback, options)\u001b[0m\n\u001b[1;32m    606\u001b[0m \u001b[0;34m\u001b[0m\u001b[0m\n\u001b[1;32m    607\u001b[0m     \u001b[0;32mif\u001b[0m \u001b[0mmeth\u001b[0m \u001b[0;34m==\u001b[0m \u001b[0;34m'nelder-mead'\u001b[0m\u001b[0;34m:\u001b[0m\u001b[0;34m\u001b[0m\u001b[0;34m\u001b[0m\u001b[0m\n\u001b[0;32m--> 608\u001b[0;31m         \u001b[0;32mreturn\u001b[0m \u001b[0m_minimize_neldermead\u001b[0m\u001b[0;34m(\u001b[0m\u001b[0mfun\u001b[0m\u001b[0;34m,\u001b[0m \u001b[0mx0\u001b[0m\u001b[0;34m,\u001b[0m \u001b[0margs\u001b[0m\u001b[0;34m,\u001b[0m \u001b[0mcallback\u001b[0m\u001b[0;34m,\u001b[0m \u001b[0;34m**\u001b[0m\u001b[0moptions\u001b[0m\u001b[0;34m)\u001b[0m\u001b[0;34m\u001b[0m\u001b[0;34m\u001b[0m\u001b[0m\n\u001b[0m\u001b[1;32m    609\u001b[0m     \u001b[0;32melif\u001b[0m \u001b[0mmeth\u001b[0m \u001b[0;34m==\u001b[0m \u001b[0;34m'powell'\u001b[0m\u001b[0;34m:\u001b[0m\u001b[0;34m\u001b[0m\u001b[0;34m\u001b[0m\u001b[0m\n\u001b[1;32m    610\u001b[0m         \u001b[0;32mreturn\u001b[0m \u001b[0m_minimize_powell\u001b[0m\u001b[0;34m(\u001b[0m\u001b[0mfun\u001b[0m\u001b[0;34m,\u001b[0m \u001b[0mx0\u001b[0m\u001b[0;34m,\u001b[0m \u001b[0margs\u001b[0m\u001b[0;34m,\u001b[0m \u001b[0mcallback\u001b[0m\u001b[0;34m,\u001b[0m \u001b[0mbounds\u001b[0m\u001b[0;34m,\u001b[0m \u001b[0;34m**\u001b[0m\u001b[0moptions\u001b[0m\u001b[0;34m)\u001b[0m\u001b[0;34m\u001b[0m\u001b[0;34m\u001b[0m\u001b[0m\n",
      "\u001b[0;32m~/WORK/HPL/Code/conda_env/lib/python3.8/site-packages/scipy/optimize/optimize.py\u001b[0m in \u001b[0;36m_minimize_neldermead\u001b[0;34m(func, x0, args, callback, maxiter, maxfev, disp, return_all, initial_simplex, xatol, fatol, adaptive, **unknown_options)\u001b[0m\n\u001b[1;32m    721\u001b[0m \u001b[0;34m\u001b[0m\u001b[0m\n\u001b[1;32m    722\u001b[0m     \u001b[0;32mfor\u001b[0m \u001b[0mk\u001b[0m \u001b[0;32min\u001b[0m \u001b[0mrange\u001b[0m\u001b[0;34m(\u001b[0m\u001b[0mN\u001b[0m \u001b[0;34m+\u001b[0m \u001b[0;36m1\u001b[0m\u001b[0;34m)\u001b[0m\u001b[0;34m:\u001b[0m\u001b[0;34m\u001b[0m\u001b[0;34m\u001b[0m\u001b[0m\n\u001b[0;32m--> 723\u001b[0;31m         \u001b[0mfsim\u001b[0m\u001b[0;34m[\u001b[0m\u001b[0mk\u001b[0m\u001b[0;34m]\u001b[0m \u001b[0;34m=\u001b[0m \u001b[0mfunc\u001b[0m\u001b[0;34m(\u001b[0m\u001b[0msim\u001b[0m\u001b[0;34m[\u001b[0m\u001b[0mk\u001b[0m\u001b[0;34m]\u001b[0m\u001b[0;34m)\u001b[0m\u001b[0;34m\u001b[0m\u001b[0;34m\u001b[0m\u001b[0m\n\u001b[0m\u001b[1;32m    724\u001b[0m \u001b[0;34m\u001b[0m\u001b[0m\n\u001b[1;32m    725\u001b[0m     \u001b[0mind\u001b[0m \u001b[0;34m=\u001b[0m \u001b[0mnp\u001b[0m\u001b[0;34m.\u001b[0m\u001b[0margsort\u001b[0m\u001b[0;34m(\u001b[0m\u001b[0mfsim\u001b[0m\u001b[0;34m)\u001b[0m\u001b[0;34m\u001b[0m\u001b[0;34m\u001b[0m\u001b[0m\n",
      "\u001b[0;32m~/WORK/HPL/Code/conda_env/lib/python3.8/site-packages/scipy/optimize/optimize.py\u001b[0m in \u001b[0;36mfunction_wrapper\u001b[0;34m(*wrapper_args)\u001b[0m\n\u001b[1;32m    459\u001b[0m     \u001b[0;32mdef\u001b[0m \u001b[0mfunction_wrapper\u001b[0m\u001b[0;34m(\u001b[0m\u001b[0;34m*\u001b[0m\u001b[0mwrapper_args\u001b[0m\u001b[0;34m)\u001b[0m\u001b[0;34m:\u001b[0m\u001b[0;34m\u001b[0m\u001b[0;34m\u001b[0m\u001b[0m\n\u001b[1;32m    460\u001b[0m         \u001b[0mncalls\u001b[0m\u001b[0;34m[\u001b[0m\u001b[0;36m0\u001b[0m\u001b[0;34m]\u001b[0m \u001b[0;34m+=\u001b[0m \u001b[0;36m1\u001b[0m\u001b[0;34m\u001b[0m\u001b[0;34m\u001b[0m\u001b[0m\n\u001b[0;32m--> 461\u001b[0;31m         \u001b[0;32mreturn\u001b[0m \u001b[0mfunction\u001b[0m\u001b[0;34m(\u001b[0m\u001b[0;34m*\u001b[0m\u001b[0;34m(\u001b[0m\u001b[0mwrapper_args\u001b[0m \u001b[0;34m+\u001b[0m \u001b[0margs\u001b[0m\u001b[0;34m)\u001b[0m\u001b[0;34m)\u001b[0m\u001b[0;34m\u001b[0m\u001b[0;34m\u001b[0m\u001b[0m\n\u001b[0m\u001b[1;32m    462\u001b[0m \u001b[0;34m\u001b[0m\u001b[0m\n\u001b[1;32m    463\u001b[0m     \u001b[0;32mreturn\u001b[0m \u001b[0mncalls\u001b[0m\u001b[0;34m,\u001b[0m \u001b[0mfunction_wrapper\u001b[0m\u001b[0;34m\u001b[0m\u001b[0;34m\u001b[0m\u001b[0m\n",
      "\u001b[0;32m<ipython-input-13-a0854727624b>\u001b[0m in \u001b[0;36mloss\u001b[0;34m(x, *args)\u001b[0m\n\u001b[1;32m      4\u001b[0m     \u001b[0msample_weight\u001b[0m \u001b[0;34m=\u001b[0m \u001b[0mkwargs\u001b[0m\u001b[0;34m.\u001b[0m\u001b[0mget\u001b[0m\u001b[0;34m(\u001b[0m\u001b[0;34m'sample_weight'\u001b[0m\u001b[0;34m,\u001b[0m \u001b[0;32mNone\u001b[0m\u001b[0;34m)\u001b[0m\u001b[0;34m\u001b[0m\u001b[0;34m\u001b[0m\u001b[0m\n\u001b[1;32m      5\u001b[0m \u001b[0;34m\u001b[0m\u001b[0m\n\u001b[0;32m----> 6\u001b[0;31m     \u001b[0mI_out\u001b[0m \u001b[0;34m=\u001b[0m \u001b[0mcalculate_I_out\u001b[0m\u001b[0;34m(\u001b[0m\u001b[0mx\u001b[0m\u001b[0;34m,\u001b[0m \u001b[0;34m*\u001b[0m\u001b[0margs\u001b[0m\u001b[0;34m)\u001b[0m\u001b[0;34m\u001b[0m\u001b[0;34m\u001b[0m\u001b[0m\n\u001b[0m\u001b[1;32m      7\u001b[0m \u001b[0;34m\u001b[0m\u001b[0m\n\u001b[1;32m      8\u001b[0m     \u001b[0;32mif\u001b[0m \u001b[0mnp\u001b[0m\u001b[0;34m.\u001b[0m\u001b[0many\u001b[0m\u001b[0;34m(\u001b[0m\u001b[0mnp\u001b[0m\u001b[0;34m.\u001b[0m\u001b[0misnan\u001b[0m\u001b[0;34m(\u001b[0m\u001b[0mI_out\u001b[0m\u001b[0;34m)\u001b[0m\u001b[0;34m)\u001b[0m\u001b[0;34m:\u001b[0m\u001b[0;34m\u001b[0m\u001b[0;34m\u001b[0m\u001b[0m\n",
      "\u001b[0;32m~/WORK/HPL/Code/INa_full_trace/src/calculate_I_out.py\u001b[0m in \u001b[0;36mcalculate_I_out\u001b[0;34m(x, *args)\u001b[0m\n\u001b[1;32m     88\u001b[0m     \u001b[0;32mtry\u001b[0m\u001b[0;34m:\u001b[0m\u001b[0;34m\u001b[0m\u001b[0;34m\u001b[0m\u001b[0m\n\u001b[1;32m     89\u001b[0m         \u001b[0mcalculate_circle\u001b[0m \u001b[0;34m=\u001b[0m \u001b[0mkwargs\u001b[0m\u001b[0;34m[\u001b[0m\u001b[0;34m'calculate_circle'\u001b[0m\u001b[0;34m]\u001b[0m\u001b[0;34m\u001b[0m\u001b[0;34m\u001b[0m\u001b[0m\n\u001b[0;32m---> 90\u001b[0;31m         \u001b[0mcalculate_circle\u001b[0m\u001b[0;34m(\u001b[0m\u001b[0mN\u001b[0m\u001b[0;34m,\u001b[0m \u001b[0mn_start\u001b[0m\u001b[0;34m,\u001b[0m\u001b[0mlen_one_trace\u001b[0m\u001b[0;34m,\u001b[0m \u001b[0mt\u001b[0m\u001b[0;34m,\u001b[0m \u001b[0mv_c\u001b[0m\u001b[0;34m,\u001b[0m \u001b[0mv_rev\u001b[0m\u001b[0;34m,\u001b[0m\u001b[0mv_cp\u001b[0m\u001b[0;34m,\u001b[0m\u001b[0mv_p\u001b[0m\u001b[0;34m,\u001b[0m\u001b[0mv_m\u001b[0m\u001b[0;34m,\u001b[0m\u001b[0mv_comp\u001b[0m \u001b[0;34m,\u001b[0m\u001b[0mm\u001b[0m\u001b[0;34m,\u001b[0m \u001b[0mh\u001b[0m\u001b[0;34m,\u001b[0m \u001b[0mj\u001b[0m\u001b[0;34m,\u001b[0m\u001b[0mI_leak\u001b[0m\u001b[0;34m,\u001b[0m \u001b[0mI_Na\u001b[0m\u001b[0;34m,\u001b[0m\u001b[0my\u001b[0m\u001b[0;34m)\u001b[0m\u001b[0;34m\u001b[0m\u001b[0;34m\u001b[0m\u001b[0m\n\u001b[0m\u001b[1;32m     91\u001b[0m \u001b[0;34m\u001b[0m\u001b[0m\n\u001b[1;32m     92\u001b[0m     \u001b[0;32mexcept\u001b[0m \u001b[0mZeroDivisionError\u001b[0m\u001b[0;34m:\u001b[0m\u001b[0;34m\u001b[0m\u001b[0;34m\u001b[0m\u001b[0m\n",
      "\u001b[0;31mArgumentError\u001b[0m: argument 5: <class 'TypeError'>: array must have data type float64"
     ]
    }
   ],
   "source": [
    "x = x_true_log\n",
    "\n",
    "for k in range(5):\n",
    "    res = scop.minimize(loss, x, bounds=log_bounds,\n",
    "                        args=(real_data_all, kwargs_for_count),\n",
    "                        method = 'Nelder-Mead',\n",
    "                        options={ 'adaptive':True, 'maxiter':10})\n",
    "    \n",
    "    print('loop ',k ,': res.x = ', res.x,';\\n          loss = ', loss(res.x, real_data_all, kwargs_for_count))\n",
    "    x = res.x\n",
    "#create_backup(res, calculate_I_out, kwargs, real_data_all, sample_weight_all)"
   ]
  },
  {
   "cell_type": "code",
   "execution_count": null,
   "metadata": {},
   "outputs": [],
   "source": []
  },
  {
   "cell_type": "code",
   "execution_count": 47,
   "metadata": {},
   "outputs": [],
   "source": [
    "#np.save(\"res_maxiter_5000\",res.x)\n",
    "#np.save('maxiter_5000_best_fit',calculate_I_out(res.x, kwargs_for_count))\n",
    "#create_backup(res, calculate_I_out, kwargs, real_data_all, sample_weight_all)"
   ]
  },
  {
   "cell_type": "code",
   "execution_count": null,
   "metadata": {},
   "outputs": [],
   "source": [
    "kwargs = dict(v_list = v_list_1,\n",
    "              k_list = k_list_1,\n",
    "              t = t_step,\n",
    "              log_scale = True,\n",
    "              graph = False,\n",
    "              calculate_circle = ctypes_object.calculate_circle,\n",
    "              # sample_weights = sample_weight,\n",
    "              )"
   ]
  },
  {
   "cell_type": "code",
   "execution_count": 62,
   "metadata": {},
   "outputs": [
    {
     "ename": "ArgumentError",
     "evalue": "argument 5: <class 'TypeError'>: array must have data type float64",
     "output_type": "error",
     "traceback": [
      "\u001b[0;31m---------------------------------------------------------------------------\u001b[0m",
      "\u001b[0;31mArgumentError\u001b[0m                             Traceback (most recent call last)",
      "\u001b[0;32m<ipython-input-62-7ef408f11ca7>\u001b[0m in \u001b[0;36m<module>\u001b[0;34m\u001b[0m\n\u001b[1;32m      8\u001b[0m )\n\u001b[1;32m      9\u001b[0m \u001b[0;34m\u001b[0m\u001b[0m\n\u001b[0;32m---> 10\u001b[0;31m \u001b[0mplt\u001b[0m\u001b[0;34m.\u001b[0m\u001b[0mplot\u001b[0m\u001b[0;34m(\u001b[0m\u001b[0mcalculate_I_out\u001b[0m\u001b[0;34m(\u001b[0m\u001b[0mres\u001b[0m\u001b[0;34m.\u001b[0m\u001b[0mx\u001b[0m\u001b[0;34m,\u001b[0m \u001b[0mkwargs_for_count\u001b[0m\u001b[0;34m)\u001b[0m\u001b[0;34m,\u001b[0m \u001b[0mlabel\u001b[0m \u001b[0;34m=\u001b[0m \u001b[0;34m'calculated'\u001b[0m\u001b[0;34m)\u001b[0m\u001b[0;34m\u001b[0m\u001b[0;34m\u001b[0m\u001b[0m\n\u001b[0m\u001b[1;32m     11\u001b[0m \u001b[0mplt\u001b[0m\u001b[0;34m.\u001b[0m\u001b[0mplot\u001b[0m\u001b[0;34m(\u001b[0m\u001b[0mreal_data_all\u001b[0m\u001b[0;34m,\u001b[0m\u001b[0;34m'--'\u001b[0m\u001b[0;34m,\u001b[0m \u001b[0mlabel\u001b[0m \u001b[0;34m=\u001b[0m \u001b[0;34m'real_data'\u001b[0m\u001b[0;34m)\u001b[0m\u001b[0;34m\u001b[0m\u001b[0;34m\u001b[0m\u001b[0m\n\u001b[1;32m     12\u001b[0m \u001b[0;34m\u001b[0m\u001b[0m\n",
      "\u001b[0;32m~/WORK/HPL/Code/INa_full_trace/src/calculate_I_out.py\u001b[0m in \u001b[0;36mcalculate_I_out\u001b[0;34m(x, *args)\u001b[0m\n\u001b[1;32m     88\u001b[0m     \u001b[0;32mtry\u001b[0m\u001b[0;34m:\u001b[0m\u001b[0;34m\u001b[0m\u001b[0;34m\u001b[0m\u001b[0m\n\u001b[1;32m     89\u001b[0m         \u001b[0mcalculate_circle\u001b[0m \u001b[0;34m=\u001b[0m \u001b[0mkwargs\u001b[0m\u001b[0;34m[\u001b[0m\u001b[0;34m'calculate_circle'\u001b[0m\u001b[0;34m]\u001b[0m\u001b[0;34m\u001b[0m\u001b[0;34m\u001b[0m\u001b[0m\n\u001b[0;32m---> 90\u001b[0;31m         \u001b[0mcalculate_circle\u001b[0m\u001b[0;34m(\u001b[0m\u001b[0mN\u001b[0m\u001b[0;34m,\u001b[0m \u001b[0mn_start\u001b[0m\u001b[0;34m,\u001b[0m\u001b[0mlen_one_trace\u001b[0m\u001b[0;34m,\u001b[0m \u001b[0mt\u001b[0m\u001b[0;34m,\u001b[0m \u001b[0mv_c\u001b[0m\u001b[0;34m,\u001b[0m \u001b[0mv_rev\u001b[0m\u001b[0;34m,\u001b[0m\u001b[0mv_cp\u001b[0m\u001b[0;34m,\u001b[0m\u001b[0mv_p\u001b[0m\u001b[0;34m,\u001b[0m\u001b[0mv_m\u001b[0m\u001b[0;34m,\u001b[0m\u001b[0mv_comp\u001b[0m \u001b[0;34m,\u001b[0m\u001b[0mm\u001b[0m\u001b[0;34m,\u001b[0m \u001b[0mh\u001b[0m\u001b[0;34m,\u001b[0m \u001b[0mj\u001b[0m\u001b[0;34m,\u001b[0m\u001b[0mI_leak\u001b[0m\u001b[0;34m,\u001b[0m \u001b[0mI_Na\u001b[0m\u001b[0;34m,\u001b[0m\u001b[0my\u001b[0m\u001b[0;34m)\u001b[0m\u001b[0;34m\u001b[0m\u001b[0;34m\u001b[0m\u001b[0m\n\u001b[0m\u001b[1;32m     91\u001b[0m \u001b[0;34m\u001b[0m\u001b[0m\n\u001b[1;32m     92\u001b[0m     \u001b[0;32mexcept\u001b[0m \u001b[0mZeroDivisionError\u001b[0m\u001b[0;34m:\u001b[0m\u001b[0;34m\u001b[0m\u001b[0;34m\u001b[0m\u001b[0m\n",
      "\u001b[0;31mArgumentError\u001b[0m: argument 5: <class 'TypeError'>: array must have data type float64"
     ]
    }
   ],
   "source": [
    "kwargs= dict(v_list = v_all,\n",
    "              k_list = k_all,\n",
    "              t = t_all,\n",
    "              log_scale = True,\n",
    "              graph = True,\n",
    "              #sample_weight = sample_weight_all,\n",
    "              calculate_circle = ctypes_object.calculate_circle,\n",
    ")\n",
    "\n",
    "plt.plot(calculate_I_out(res.x, kwargs_for_count), label = 'calculated')\n",
    "plt.plot(real_data_all,'--', label = 'real_data')\n",
    "\n",
    "plt.legend()"
   ]
  },
  {
   "cell_type": "code",
   "execution_count": 22,
   "metadata": {},
   "outputs": [
    {
     "ename": "NameError",
     "evalue": "name 'res' is not defined",
     "output_type": "error",
     "traceback": [
      "\u001b[0;31m---------------------------------------------------------------------------\u001b[0m",
      "\u001b[0;31mNameError\u001b[0m                                 Traceback (most recent call last)",
      "\u001b[0;32m<ipython-input-22-3aa9e897a69b>\u001b[0m in \u001b[0;36m<module>\u001b[0;34m\u001b[0m\n\u001b[0;32m----> 1\u001b[0;31m \u001b[0;32mfor\u001b[0m \u001b[0mk\u001b[0m \u001b[0;32min\u001b[0m \u001b[0mrange\u001b[0m\u001b[0;34m(\u001b[0m\u001b[0mlen\u001b[0m\u001b[0;34m(\u001b[0m\u001b[0mres\u001b[0m\u001b[0;34m.\u001b[0m\u001b[0mx\u001b[0m\u001b[0;34m)\u001b[0m\u001b[0;34m)\u001b[0m\u001b[0;34m:\u001b[0m\u001b[0;34m\u001b[0m\u001b[0;34m\u001b[0m\u001b[0m\n\u001b[0m\u001b[1;32m      2\u001b[0m     \u001b[0mprint\u001b[0m\u001b[0;34m(\u001b[0m\u001b[0mnames\u001b[0m\u001b[0;34m[\u001b[0m\u001b[0mk\u001b[0m\u001b[0;34m]\u001b[0m\u001b[0;34m,\u001b[0m \u001b[0;34m' = '\u001b[0m\u001b[0;34m,\u001b[0m\u001b[0mnp\u001b[0m\u001b[0;34m.\u001b[0m\u001b[0mexp\u001b[0m\u001b[0;34m(\u001b[0m\u001b[0mres\u001b[0m\u001b[0;34m.\u001b[0m\u001b[0mx\u001b[0m\u001b[0;34m)\u001b[0m\u001b[0;34m[\u001b[0m\u001b[0mk\u001b[0m\u001b[0;34m]\u001b[0m\u001b[0;34m)\u001b[0m\u001b[0;34m\u001b[0m\u001b[0;34m\u001b[0m\u001b[0m\n",
      "\u001b[0;31mNameError\u001b[0m: name 'res' is not defined"
     ]
    }
   ],
   "source": [
    "for k in range(len(res.x)):\n",
    "    print(names[k], ' = ',np.exp(res.x)[k])"
   ]
  },
  {
   "cell_type": "markdown",
   "metadata": {},
   "source": [
    "### differential_evolution"
   ]
  },
  {
   "cell_type": "code",
   "execution_count": 37,
   "metadata": {},
   "outputs": [
    {
     "name": "stdout",
     "output_type": "stream",
     "text": [
      "differential_evolution step 1: f(x)= 1893.31\n"
     ]
    },
    {
     "name": "stderr",
     "output_type": "stream",
     "text": [
      "/home/nik/.local/lib/python3.8/site-packages/numpy/core/_methods.py:205: RuntimeWarning: overflow encountered in multiply\n",
      "  x = um.multiply(x, x, out=x)\n"
     ]
    },
    {
     "name": "stdout",
     "output_type": "stream",
     "text": [
      "differential_evolution step 2: f(x)= 1838.42\n"
     ]
    },
    {
     "name": "stderr",
     "output_type": "stream",
     "text": [
      "/home/nik/.local/lib/python3.8/site-packages/numpy/core/_methods.py:205: RuntimeWarning: overflow encountered in multiply\n",
      "  x = um.multiply(x, x, out=x)\n"
     ]
    },
    {
     "name": "stdout",
     "output_type": "stream",
     "text": [
      "CPU times: user 45.6 s, sys: 7.82 s, total: 53.5 s\n",
      "Wall time: 53.5 s\n"
     ]
    }
   ],
   "source": [
    "%%time\n",
    "res = scop.differential_evolution(loss,\n",
    "                                  bounds=log_bounds,\n",
    "                                  args=(real_data_all, kwargs_for_count),\n",
    "                                  maxiter=10, # I don't want to wait too long\n",
    "                                  disp=True,\n",
    "                                  popsize = 5,\n",
    "                                  workers = 1,\n",
    "                                  seed=2)\n"
   ]
  },
  {
   "cell_type": "code",
   "execution_count": 38,
   "metadata": {},
   "outputs": [
    {
     "data": {
      "text/plain": [
       "1008.6634987243593"
      ]
     },
     "execution_count": 38,
     "metadata": {},
     "output_type": "execute_result"
    }
   ],
   "source": [
    "loss(res.x, real_data_all, kwargs_for_count)"
   ]
  },
  {
   "cell_type": "code",
   "execution_count": 40,
   "metadata": {},
   "outputs": [
    {
     "data": {
      "application/javascript": [
       "/* Put everything inside the global mpl namespace */\n",
       "/* global mpl */\n",
       "window.mpl = {};\n",
       "\n",
       "mpl.get_websocket_type = function () {\n",
       "    if (typeof WebSocket !== 'undefined') {\n",
       "        return WebSocket;\n",
       "    } else if (typeof MozWebSocket !== 'undefined') {\n",
       "        return MozWebSocket;\n",
       "    } else {\n",
       "        alert(\n",
       "            'Your browser does not have WebSocket support. ' +\n",
       "                'Please try Chrome, Safari or Firefox ≥ 6. ' +\n",
       "                'Firefox 4 and 5 are also supported but you ' +\n",
       "                'have to enable WebSockets in about:config.'\n",
       "        );\n",
       "    }\n",
       "};\n",
       "\n",
       "mpl.figure = function (figure_id, websocket, ondownload, parent_element) {\n",
       "    this.id = figure_id;\n",
       "\n",
       "    this.ws = websocket;\n",
       "\n",
       "    this.supports_binary = this.ws.binaryType !== undefined;\n",
       "\n",
       "    if (!this.supports_binary) {\n",
       "        var warnings = document.getElementById('mpl-warnings');\n",
       "        if (warnings) {\n",
       "            warnings.style.display = 'block';\n",
       "            warnings.textContent =\n",
       "                'This browser does not support binary websocket messages. ' +\n",
       "                'Performance may be slow.';\n",
       "        }\n",
       "    }\n",
       "\n",
       "    this.imageObj = new Image();\n",
       "\n",
       "    this.context = undefined;\n",
       "    this.message = undefined;\n",
       "    this.canvas = undefined;\n",
       "    this.rubberband_canvas = undefined;\n",
       "    this.rubberband_context = undefined;\n",
       "    this.format_dropdown = undefined;\n",
       "\n",
       "    this.image_mode = 'full';\n",
       "\n",
       "    this.root = document.createElement('div');\n",
       "    this.root.setAttribute('style', 'display: inline-block');\n",
       "    this._root_extra_style(this.root);\n",
       "\n",
       "    parent_element.appendChild(this.root);\n",
       "\n",
       "    this._init_header(this);\n",
       "    this._init_canvas(this);\n",
       "    this._init_toolbar(this);\n",
       "\n",
       "    var fig = this;\n",
       "\n",
       "    this.waiting = false;\n",
       "\n",
       "    this.ws.onopen = function () {\n",
       "        fig.send_message('supports_binary', { value: fig.supports_binary });\n",
       "        fig.send_message('send_image_mode', {});\n",
       "        if (fig.ratio !== 1) {\n",
       "            fig.send_message('set_dpi_ratio', { dpi_ratio: fig.ratio });\n",
       "        }\n",
       "        fig.send_message('refresh', {});\n",
       "    };\n",
       "\n",
       "    this.imageObj.onload = function () {\n",
       "        if (fig.image_mode === 'full') {\n",
       "            // Full images could contain transparency (where diff images\n",
       "            // almost always do), so we need to clear the canvas so that\n",
       "            // there is no ghosting.\n",
       "            fig.context.clearRect(0, 0, fig.canvas.width, fig.canvas.height);\n",
       "        }\n",
       "        fig.context.drawImage(fig.imageObj, 0, 0);\n",
       "    };\n",
       "\n",
       "    this.imageObj.onunload = function () {\n",
       "        fig.ws.close();\n",
       "    };\n",
       "\n",
       "    this.ws.onmessage = this._make_on_message_function(this);\n",
       "\n",
       "    this.ondownload = ondownload;\n",
       "};\n",
       "\n",
       "mpl.figure.prototype._init_header = function () {\n",
       "    var titlebar = document.createElement('div');\n",
       "    titlebar.classList =\n",
       "        'ui-dialog-titlebar ui-widget-header ui-corner-all ui-helper-clearfix';\n",
       "    var titletext = document.createElement('div');\n",
       "    titletext.classList = 'ui-dialog-title';\n",
       "    titletext.setAttribute(\n",
       "        'style',\n",
       "        'width: 100%; text-align: center; padding: 3px;'\n",
       "    );\n",
       "    titlebar.appendChild(titletext);\n",
       "    this.root.appendChild(titlebar);\n",
       "    this.header = titletext;\n",
       "};\n",
       "\n",
       "mpl.figure.prototype._canvas_extra_style = function (_canvas_div) {};\n",
       "\n",
       "mpl.figure.prototype._root_extra_style = function (_canvas_div) {};\n",
       "\n",
       "mpl.figure.prototype._init_canvas = function () {\n",
       "    var fig = this;\n",
       "\n",
       "    var canvas_div = (this.canvas_div = document.createElement('div'));\n",
       "    canvas_div.setAttribute(\n",
       "        'style',\n",
       "        'border: 1px solid #ddd;' +\n",
       "            'box-sizing: content-box;' +\n",
       "            'clear: both;' +\n",
       "            'min-height: 1px;' +\n",
       "            'min-width: 1px;' +\n",
       "            'outline: 0;' +\n",
       "            'overflow: hidden;' +\n",
       "            'position: relative;' +\n",
       "            'resize: both;'\n",
       "    );\n",
       "\n",
       "    function on_keyboard_event_closure(name) {\n",
       "        return function (event) {\n",
       "            return fig.key_event(event, name);\n",
       "        };\n",
       "    }\n",
       "\n",
       "    canvas_div.addEventListener(\n",
       "        'keydown',\n",
       "        on_keyboard_event_closure('key_press')\n",
       "    );\n",
       "    canvas_div.addEventListener(\n",
       "        'keyup',\n",
       "        on_keyboard_event_closure('key_release')\n",
       "    );\n",
       "\n",
       "    this._canvas_extra_style(canvas_div);\n",
       "    this.root.appendChild(canvas_div);\n",
       "\n",
       "    var canvas = (this.canvas = document.createElement('canvas'));\n",
       "    canvas.classList.add('mpl-canvas');\n",
       "    canvas.setAttribute('style', 'box-sizing: content-box;');\n",
       "\n",
       "    this.context = canvas.getContext('2d');\n",
       "\n",
       "    var backingStore =\n",
       "        this.context.backingStorePixelRatio ||\n",
       "        this.context.webkitBackingStorePixelRatio ||\n",
       "        this.context.mozBackingStorePixelRatio ||\n",
       "        this.context.msBackingStorePixelRatio ||\n",
       "        this.context.oBackingStorePixelRatio ||\n",
       "        this.context.backingStorePixelRatio ||\n",
       "        1;\n",
       "\n",
       "    this.ratio = (window.devicePixelRatio || 1) / backingStore;\n",
       "    if (this.ratio !== 1) {\n",
       "        fig.send_message('set_dpi_ratio', { dpi_ratio: this.ratio });\n",
       "    }\n",
       "\n",
       "    var rubberband_canvas = (this.rubberband_canvas = document.createElement(\n",
       "        'canvas'\n",
       "    ));\n",
       "    rubberband_canvas.setAttribute(\n",
       "        'style',\n",
       "        'box-sizing: content-box; position: absolute; left: 0; top: 0; z-index: 1;'\n",
       "    );\n",
       "\n",
       "    // Apply a ponyfill if ResizeObserver is not implemented by browser.\n",
       "    if (this.ResizeObserver === undefined) {\n",
       "        if (window.ResizeObserver !== undefined) {\n",
       "            this.ResizeObserver = window.ResizeObserver;\n",
       "        } else {\n",
       "            var obs = _JSXTOOLS_RESIZE_OBSERVER({});\n",
       "            this.ResizeObserver = obs.ResizeObserver;\n",
       "        }\n",
       "    }\n",
       "\n",
       "    this.resizeObserverInstance = new this.ResizeObserver(function (entries) {\n",
       "        var nentries = entries.length;\n",
       "        for (var i = 0; i < nentries; i++) {\n",
       "            var entry = entries[i];\n",
       "            var width, height;\n",
       "            if (entry.contentBoxSize) {\n",
       "                if (entry.contentBoxSize instanceof Array) {\n",
       "                    // Chrome 84 implements new version of spec.\n",
       "                    width = entry.contentBoxSize[0].inlineSize;\n",
       "                    height = entry.contentBoxSize[0].blockSize;\n",
       "                } else {\n",
       "                    // Firefox implements old version of spec.\n",
       "                    width = entry.contentBoxSize.inlineSize;\n",
       "                    height = entry.contentBoxSize.blockSize;\n",
       "                }\n",
       "            } else {\n",
       "                // Chrome <84 implements even older version of spec.\n",
       "                width = entry.contentRect.width;\n",
       "                height = entry.contentRect.height;\n",
       "            }\n",
       "\n",
       "            // Keep the size of the canvas and rubber band canvas in sync with\n",
       "            // the canvas container.\n",
       "            if (entry.devicePixelContentBoxSize) {\n",
       "                // Chrome 84 implements new version of spec.\n",
       "                canvas.setAttribute(\n",
       "                    'width',\n",
       "                    entry.devicePixelContentBoxSize[0].inlineSize\n",
       "                );\n",
       "                canvas.setAttribute(\n",
       "                    'height',\n",
       "                    entry.devicePixelContentBoxSize[0].blockSize\n",
       "                );\n",
       "            } else {\n",
       "                canvas.setAttribute('width', width * fig.ratio);\n",
       "                canvas.setAttribute('height', height * fig.ratio);\n",
       "            }\n",
       "            canvas.setAttribute(\n",
       "                'style',\n",
       "                'width: ' + width + 'px; height: ' + height + 'px;'\n",
       "            );\n",
       "\n",
       "            rubberband_canvas.setAttribute('width', width);\n",
       "            rubberband_canvas.setAttribute('height', height);\n",
       "\n",
       "            // And update the size in Python. We ignore the initial 0/0 size\n",
       "            // that occurs as the element is placed into the DOM, which should\n",
       "            // otherwise not happen due to the minimum size styling.\n",
       "            if (width != 0 && height != 0) {\n",
       "                fig.request_resize(width, height);\n",
       "            }\n",
       "        }\n",
       "    });\n",
       "    this.resizeObserverInstance.observe(canvas_div);\n",
       "\n",
       "    function on_mouse_event_closure(name) {\n",
       "        return function (event) {\n",
       "            return fig.mouse_event(event, name);\n",
       "        };\n",
       "    }\n",
       "\n",
       "    rubberband_canvas.addEventListener(\n",
       "        'mousedown',\n",
       "        on_mouse_event_closure('button_press')\n",
       "    );\n",
       "    rubberband_canvas.addEventListener(\n",
       "        'mouseup',\n",
       "        on_mouse_event_closure('button_release')\n",
       "    );\n",
       "    // Throttle sequential mouse events to 1 every 20ms.\n",
       "    rubberband_canvas.addEventListener(\n",
       "        'mousemove',\n",
       "        on_mouse_event_closure('motion_notify')\n",
       "    );\n",
       "\n",
       "    rubberband_canvas.addEventListener(\n",
       "        'mouseenter',\n",
       "        on_mouse_event_closure('figure_enter')\n",
       "    );\n",
       "    rubberband_canvas.addEventListener(\n",
       "        'mouseleave',\n",
       "        on_mouse_event_closure('figure_leave')\n",
       "    );\n",
       "\n",
       "    canvas_div.addEventListener('wheel', function (event) {\n",
       "        if (event.deltaY < 0) {\n",
       "            event.step = 1;\n",
       "        } else {\n",
       "            event.step = -1;\n",
       "        }\n",
       "        on_mouse_event_closure('scroll')(event);\n",
       "    });\n",
       "\n",
       "    canvas_div.appendChild(canvas);\n",
       "    canvas_div.appendChild(rubberband_canvas);\n",
       "\n",
       "    this.rubberband_context = rubberband_canvas.getContext('2d');\n",
       "    this.rubberband_context.strokeStyle = '#000000';\n",
       "\n",
       "    this._resize_canvas = function (width, height, forward) {\n",
       "        if (forward) {\n",
       "            canvas_div.style.width = width + 'px';\n",
       "            canvas_div.style.height = height + 'px';\n",
       "        }\n",
       "    };\n",
       "\n",
       "    // Disable right mouse context menu.\n",
       "    this.rubberband_canvas.addEventListener('contextmenu', function (_e) {\n",
       "        event.preventDefault();\n",
       "        return false;\n",
       "    });\n",
       "\n",
       "    function set_focus() {\n",
       "        canvas.focus();\n",
       "        canvas_div.focus();\n",
       "    }\n",
       "\n",
       "    window.setTimeout(set_focus, 100);\n",
       "};\n",
       "\n",
       "mpl.figure.prototype._init_toolbar = function () {\n",
       "    var fig = this;\n",
       "\n",
       "    var toolbar = document.createElement('div');\n",
       "    toolbar.classList = 'mpl-toolbar';\n",
       "    this.root.appendChild(toolbar);\n",
       "\n",
       "    function on_click_closure(name) {\n",
       "        return function (_event) {\n",
       "            return fig.toolbar_button_onclick(name);\n",
       "        };\n",
       "    }\n",
       "\n",
       "    function on_mouseover_closure(tooltip) {\n",
       "        return function (event) {\n",
       "            if (!event.currentTarget.disabled) {\n",
       "                return fig.toolbar_button_onmouseover(tooltip);\n",
       "            }\n",
       "        };\n",
       "    }\n",
       "\n",
       "    fig.buttons = {};\n",
       "    var buttonGroup = document.createElement('div');\n",
       "    buttonGroup.classList = 'mpl-button-group';\n",
       "    for (var toolbar_ind in mpl.toolbar_items) {\n",
       "        var name = mpl.toolbar_items[toolbar_ind][0];\n",
       "        var tooltip = mpl.toolbar_items[toolbar_ind][1];\n",
       "        var image = mpl.toolbar_items[toolbar_ind][2];\n",
       "        var method_name = mpl.toolbar_items[toolbar_ind][3];\n",
       "\n",
       "        if (!name) {\n",
       "            /* Instead of a spacer, we start a new button group. */\n",
       "            if (buttonGroup.hasChildNodes()) {\n",
       "                toolbar.appendChild(buttonGroup);\n",
       "            }\n",
       "            buttonGroup = document.createElement('div');\n",
       "            buttonGroup.classList = 'mpl-button-group';\n",
       "            continue;\n",
       "        }\n",
       "\n",
       "        var button = (fig.buttons[name] = document.createElement('button'));\n",
       "        button.classList = 'mpl-widget';\n",
       "        button.setAttribute('role', 'button');\n",
       "        button.setAttribute('aria-disabled', 'false');\n",
       "        button.addEventListener('click', on_click_closure(method_name));\n",
       "        button.addEventListener('mouseover', on_mouseover_closure(tooltip));\n",
       "\n",
       "        var icon_img = document.createElement('img');\n",
       "        icon_img.src = '_images/' + image + '.png';\n",
       "        icon_img.srcset = '_images/' + image + '_large.png 2x';\n",
       "        icon_img.alt = tooltip;\n",
       "        button.appendChild(icon_img);\n",
       "\n",
       "        buttonGroup.appendChild(button);\n",
       "    }\n",
       "\n",
       "    if (buttonGroup.hasChildNodes()) {\n",
       "        toolbar.appendChild(buttonGroup);\n",
       "    }\n",
       "\n",
       "    var fmt_picker = document.createElement('select');\n",
       "    fmt_picker.classList = 'mpl-widget';\n",
       "    toolbar.appendChild(fmt_picker);\n",
       "    this.format_dropdown = fmt_picker;\n",
       "\n",
       "    for (var ind in mpl.extensions) {\n",
       "        var fmt = mpl.extensions[ind];\n",
       "        var option = document.createElement('option');\n",
       "        option.selected = fmt === mpl.default_extension;\n",
       "        option.innerHTML = fmt;\n",
       "        fmt_picker.appendChild(option);\n",
       "    }\n",
       "\n",
       "    var status_bar = document.createElement('span');\n",
       "    status_bar.classList = 'mpl-message';\n",
       "    toolbar.appendChild(status_bar);\n",
       "    this.message = status_bar;\n",
       "};\n",
       "\n",
       "mpl.figure.prototype.request_resize = function (x_pixels, y_pixels) {\n",
       "    // Request matplotlib to resize the figure. Matplotlib will then trigger a resize in the client,\n",
       "    // which will in turn request a refresh of the image.\n",
       "    this.send_message('resize', { width: x_pixels, height: y_pixels });\n",
       "};\n",
       "\n",
       "mpl.figure.prototype.send_message = function (type, properties) {\n",
       "    properties['type'] = type;\n",
       "    properties['figure_id'] = this.id;\n",
       "    this.ws.send(JSON.stringify(properties));\n",
       "};\n",
       "\n",
       "mpl.figure.prototype.send_draw_message = function () {\n",
       "    if (!this.waiting) {\n",
       "        this.waiting = true;\n",
       "        this.ws.send(JSON.stringify({ type: 'draw', figure_id: this.id }));\n",
       "    }\n",
       "};\n",
       "\n",
       "mpl.figure.prototype.handle_save = function (fig, _msg) {\n",
       "    var format_dropdown = fig.format_dropdown;\n",
       "    var format = format_dropdown.options[format_dropdown.selectedIndex].value;\n",
       "    fig.ondownload(fig, format);\n",
       "};\n",
       "\n",
       "mpl.figure.prototype.handle_resize = function (fig, msg) {\n",
       "    var size = msg['size'];\n",
       "    if (size[0] !== fig.canvas.width || size[1] !== fig.canvas.height) {\n",
       "        fig._resize_canvas(size[0], size[1], msg['forward']);\n",
       "        fig.send_message('refresh', {});\n",
       "    }\n",
       "};\n",
       "\n",
       "mpl.figure.prototype.handle_rubberband = function (fig, msg) {\n",
       "    var x0 = msg['x0'] / fig.ratio;\n",
       "    var y0 = (fig.canvas.height - msg['y0']) / fig.ratio;\n",
       "    var x1 = msg['x1'] / fig.ratio;\n",
       "    var y1 = (fig.canvas.height - msg['y1']) / fig.ratio;\n",
       "    x0 = Math.floor(x0) + 0.5;\n",
       "    y0 = Math.floor(y0) + 0.5;\n",
       "    x1 = Math.floor(x1) + 0.5;\n",
       "    y1 = Math.floor(y1) + 0.5;\n",
       "    var min_x = Math.min(x0, x1);\n",
       "    var min_y = Math.min(y0, y1);\n",
       "    var width = Math.abs(x1 - x0);\n",
       "    var height = Math.abs(y1 - y0);\n",
       "\n",
       "    fig.rubberband_context.clearRect(\n",
       "        0,\n",
       "        0,\n",
       "        fig.canvas.width / fig.ratio,\n",
       "        fig.canvas.height / fig.ratio\n",
       "    );\n",
       "\n",
       "    fig.rubberband_context.strokeRect(min_x, min_y, width, height);\n",
       "};\n",
       "\n",
       "mpl.figure.prototype.handle_figure_label = function (fig, msg) {\n",
       "    // Updates the figure title.\n",
       "    fig.header.textContent = msg['label'];\n",
       "};\n",
       "\n",
       "mpl.figure.prototype.handle_cursor = function (fig, msg) {\n",
       "    var cursor = msg['cursor'];\n",
       "    switch (cursor) {\n",
       "        case 0:\n",
       "            cursor = 'pointer';\n",
       "            break;\n",
       "        case 1:\n",
       "            cursor = 'default';\n",
       "            break;\n",
       "        case 2:\n",
       "            cursor = 'crosshair';\n",
       "            break;\n",
       "        case 3:\n",
       "            cursor = 'move';\n",
       "            break;\n",
       "    }\n",
       "    fig.rubberband_canvas.style.cursor = cursor;\n",
       "};\n",
       "\n",
       "mpl.figure.prototype.handle_message = function (fig, msg) {\n",
       "    fig.message.textContent = msg['message'];\n",
       "};\n",
       "\n",
       "mpl.figure.prototype.handle_draw = function (fig, _msg) {\n",
       "    // Request the server to send over a new figure.\n",
       "    fig.send_draw_message();\n",
       "};\n",
       "\n",
       "mpl.figure.prototype.handle_image_mode = function (fig, msg) {\n",
       "    fig.image_mode = msg['mode'];\n",
       "};\n",
       "\n",
       "mpl.figure.prototype.handle_history_buttons = function (fig, msg) {\n",
       "    for (var key in msg) {\n",
       "        if (!(key in fig.buttons)) {\n",
       "            continue;\n",
       "        }\n",
       "        fig.buttons[key].disabled = !msg[key];\n",
       "        fig.buttons[key].setAttribute('aria-disabled', !msg[key]);\n",
       "    }\n",
       "};\n",
       "\n",
       "mpl.figure.prototype.handle_navigate_mode = function (fig, msg) {\n",
       "    if (msg['mode'] === 'PAN') {\n",
       "        fig.buttons['Pan'].classList.add('active');\n",
       "        fig.buttons['Zoom'].classList.remove('active');\n",
       "    } else if (msg['mode'] === 'ZOOM') {\n",
       "        fig.buttons['Pan'].classList.remove('active');\n",
       "        fig.buttons['Zoom'].classList.add('active');\n",
       "    } else {\n",
       "        fig.buttons['Pan'].classList.remove('active');\n",
       "        fig.buttons['Zoom'].classList.remove('active');\n",
       "    }\n",
       "};\n",
       "\n",
       "mpl.figure.prototype.updated_canvas_event = function () {\n",
       "    // Called whenever the canvas gets updated.\n",
       "    this.send_message('ack', {});\n",
       "};\n",
       "\n",
       "// A function to construct a web socket function for onmessage handling.\n",
       "// Called in the figure constructor.\n",
       "mpl.figure.prototype._make_on_message_function = function (fig) {\n",
       "    return function socket_on_message(evt) {\n",
       "        if (evt.data instanceof Blob) {\n",
       "            /* FIXME: We get \"Resource interpreted as Image but\n",
       "             * transferred with MIME type text/plain:\" errors on\n",
       "             * Chrome.  But how to set the MIME type?  It doesn't seem\n",
       "             * to be part of the websocket stream */\n",
       "            evt.data.type = 'image/png';\n",
       "\n",
       "            /* Free the memory for the previous frames */\n",
       "            if (fig.imageObj.src) {\n",
       "                (window.URL || window.webkitURL).revokeObjectURL(\n",
       "                    fig.imageObj.src\n",
       "                );\n",
       "            }\n",
       "\n",
       "            fig.imageObj.src = (window.URL || window.webkitURL).createObjectURL(\n",
       "                evt.data\n",
       "            );\n",
       "            fig.updated_canvas_event();\n",
       "            fig.waiting = false;\n",
       "            return;\n",
       "        } else if (\n",
       "            typeof evt.data === 'string' &&\n",
       "            evt.data.slice(0, 21) === 'data:image/png;base64'\n",
       "        ) {\n",
       "            fig.imageObj.src = evt.data;\n",
       "            fig.updated_canvas_event();\n",
       "            fig.waiting = false;\n",
       "            return;\n",
       "        }\n",
       "\n",
       "        var msg = JSON.parse(evt.data);\n",
       "        var msg_type = msg['type'];\n",
       "\n",
       "        // Call the  \"handle_{type}\" callback, which takes\n",
       "        // the figure and JSON message as its only arguments.\n",
       "        try {\n",
       "            var callback = fig['handle_' + msg_type];\n",
       "        } catch (e) {\n",
       "            console.log(\n",
       "                \"No handler for the '\" + msg_type + \"' message type: \",\n",
       "                msg\n",
       "            );\n",
       "            return;\n",
       "        }\n",
       "\n",
       "        if (callback) {\n",
       "            try {\n",
       "                // console.log(\"Handling '\" + msg_type + \"' message: \", msg);\n",
       "                callback(fig, msg);\n",
       "            } catch (e) {\n",
       "                console.log(\n",
       "                    \"Exception inside the 'handler_\" + msg_type + \"' callback:\",\n",
       "                    e,\n",
       "                    e.stack,\n",
       "                    msg\n",
       "                );\n",
       "            }\n",
       "        }\n",
       "    };\n",
       "};\n",
       "\n",
       "// from http://stackoverflow.com/questions/1114465/getting-mouse-location-in-canvas\n",
       "mpl.findpos = function (e) {\n",
       "    //this section is from http://www.quirksmode.org/js/events_properties.html\n",
       "    var targ;\n",
       "    if (!e) {\n",
       "        e = window.event;\n",
       "    }\n",
       "    if (e.target) {\n",
       "        targ = e.target;\n",
       "    } else if (e.srcElement) {\n",
       "        targ = e.srcElement;\n",
       "    }\n",
       "    if (targ.nodeType === 3) {\n",
       "        // defeat Safari bug\n",
       "        targ = targ.parentNode;\n",
       "    }\n",
       "\n",
       "    // pageX,Y are the mouse positions relative to the document\n",
       "    var boundingRect = targ.getBoundingClientRect();\n",
       "    var x = e.pageX - (boundingRect.left + document.body.scrollLeft);\n",
       "    var y = e.pageY - (boundingRect.top + document.body.scrollTop);\n",
       "\n",
       "    return { x: x, y: y };\n",
       "};\n",
       "\n",
       "/*\n",
       " * return a copy of an object with only non-object keys\n",
       " * we need this to avoid circular references\n",
       " * http://stackoverflow.com/a/24161582/3208463\n",
       " */\n",
       "function simpleKeys(original) {\n",
       "    return Object.keys(original).reduce(function (obj, key) {\n",
       "        if (typeof original[key] !== 'object') {\n",
       "            obj[key] = original[key];\n",
       "        }\n",
       "        return obj;\n",
       "    }, {});\n",
       "}\n",
       "\n",
       "mpl.figure.prototype.mouse_event = function (event, name) {\n",
       "    var canvas_pos = mpl.findpos(event);\n",
       "\n",
       "    if (name === 'button_press') {\n",
       "        this.canvas.focus();\n",
       "        this.canvas_div.focus();\n",
       "    }\n",
       "\n",
       "    var x = canvas_pos.x * this.ratio;\n",
       "    var y = canvas_pos.y * this.ratio;\n",
       "\n",
       "    this.send_message(name, {\n",
       "        x: x,\n",
       "        y: y,\n",
       "        button: event.button,\n",
       "        step: event.step,\n",
       "        guiEvent: simpleKeys(event),\n",
       "    });\n",
       "\n",
       "    /* This prevents the web browser from automatically changing to\n",
       "     * the text insertion cursor when the button is pressed.  We want\n",
       "     * to control all of the cursor setting manually through the\n",
       "     * 'cursor' event from matplotlib */\n",
       "    event.preventDefault();\n",
       "    return false;\n",
       "};\n",
       "\n",
       "mpl.figure.prototype._key_event_extra = function (_event, _name) {\n",
       "    // Handle any extra behaviour associated with a key event\n",
       "};\n",
       "\n",
       "mpl.figure.prototype.key_event = function (event, name) {\n",
       "    // Prevent repeat events\n",
       "    if (name === 'key_press') {\n",
       "        if (event.which === this._key) {\n",
       "            return;\n",
       "        } else {\n",
       "            this._key = event.which;\n",
       "        }\n",
       "    }\n",
       "    if (name === 'key_release') {\n",
       "        this._key = null;\n",
       "    }\n",
       "\n",
       "    var value = '';\n",
       "    if (event.ctrlKey && event.which !== 17) {\n",
       "        value += 'ctrl+';\n",
       "    }\n",
       "    if (event.altKey && event.which !== 18) {\n",
       "        value += 'alt+';\n",
       "    }\n",
       "    if (event.shiftKey && event.which !== 16) {\n",
       "        value += 'shift+';\n",
       "    }\n",
       "\n",
       "    value += 'k';\n",
       "    value += event.which.toString();\n",
       "\n",
       "    this._key_event_extra(event, name);\n",
       "\n",
       "    this.send_message(name, { key: value, guiEvent: simpleKeys(event) });\n",
       "    return false;\n",
       "};\n",
       "\n",
       "mpl.figure.prototype.toolbar_button_onclick = function (name) {\n",
       "    if (name === 'download') {\n",
       "        this.handle_save(this, null);\n",
       "    } else {\n",
       "        this.send_message('toolbar_button', { name: name });\n",
       "    }\n",
       "};\n",
       "\n",
       "mpl.figure.prototype.toolbar_button_onmouseover = function (tooltip) {\n",
       "    this.message.textContent = tooltip;\n",
       "};\n",
       "\n",
       "///////////////// REMAINING CONTENT GENERATED BY embed_js.py /////////////////\n",
       "// prettier-ignore\n",
       "var _JSXTOOLS_RESIZE_OBSERVER=function(A){var t,i=new WeakMap,n=new WeakMap,a=new WeakMap,r=new WeakMap,o=new Set;function s(e){if(!(this instanceof s))throw new TypeError(\"Constructor requires 'new' operator\");i.set(this,e)}function h(){throw new TypeError(\"Function is not a constructor\")}function c(e,t,i,n){e=0 in arguments?Number(arguments[0]):0,t=1 in arguments?Number(arguments[1]):0,i=2 in arguments?Number(arguments[2]):0,n=3 in arguments?Number(arguments[3]):0,this.right=(this.x=this.left=e)+(this.width=i),this.bottom=(this.y=this.top=t)+(this.height=n),Object.freeze(this)}function d(){t=requestAnimationFrame(d);var s=new WeakMap,p=new Set;o.forEach((function(t){r.get(t).forEach((function(i){var r=t instanceof window.SVGElement,o=a.get(t),d=r?0:parseFloat(o.paddingTop),f=r?0:parseFloat(o.paddingRight),l=r?0:parseFloat(o.paddingBottom),u=r?0:parseFloat(o.paddingLeft),g=r?0:parseFloat(o.borderTopWidth),m=r?0:parseFloat(o.borderRightWidth),w=r?0:parseFloat(o.borderBottomWidth),b=u+f,F=d+l,v=(r?0:parseFloat(o.borderLeftWidth))+m,W=g+w,y=r?0:t.offsetHeight-W-t.clientHeight,E=r?0:t.offsetWidth-v-t.clientWidth,R=b+v,z=F+W,M=r?t.width:parseFloat(o.width)-R-E,O=r?t.height:parseFloat(o.height)-z-y;if(n.has(t)){var k=n.get(t);if(k[0]===M&&k[1]===O)return}n.set(t,[M,O]);var S=Object.create(h.prototype);S.target=t,S.contentRect=new c(u,d,M,O),s.has(i)||(s.set(i,[]),p.add(i)),s.get(i).push(S)}))})),p.forEach((function(e){i.get(e).call(e,s.get(e),e)}))}return s.prototype.observe=function(i){if(i instanceof window.Element){r.has(i)||(r.set(i,new Set),o.add(i),a.set(i,window.getComputedStyle(i)));var n=r.get(i);n.has(this)||n.add(this),cancelAnimationFrame(t),t=requestAnimationFrame(d)}},s.prototype.unobserve=function(i){if(i instanceof window.Element&&r.has(i)){var n=r.get(i);n.has(this)&&(n.delete(this),n.size||(r.delete(i),o.delete(i))),n.size||r.delete(i),o.size||cancelAnimationFrame(t)}},A.DOMRectReadOnly=c,A.ResizeObserver=s,A.ResizeObserverEntry=h,A}; // eslint-disable-line\n",
       "mpl.toolbar_items = [[\"Home\", \"Reset original view\", \"fa fa-home icon-home\", \"home\"], [\"Back\", \"Back to previous view\", \"fa fa-arrow-left icon-arrow-left\", \"back\"], [\"Forward\", \"Forward to next view\", \"fa fa-arrow-right icon-arrow-right\", \"forward\"], [\"\", \"\", \"\", \"\"], [\"Pan\", \"Left button pans, Right button zooms\\nx/y fixes axis, CTRL fixes aspect\", \"fa fa-arrows icon-move\", \"pan\"], [\"Zoom\", \"Zoom to rectangle\\nx/y fixes axis, CTRL fixes aspect\", \"fa fa-square-o icon-check-empty\", \"zoom\"], [\"\", \"\", \"\", \"\"], [\"Download\", \"Download plot\", \"fa fa-floppy-o icon-save\", \"download\"]];\n",
       "\n",
       "mpl.extensions = [\"eps\", \"jpeg\", \"pdf\", \"png\", \"ps\", \"raw\", \"svg\", \"tif\"];\n",
       "\n",
       "mpl.default_extension = \"png\";/* global mpl */\n",
       "\n",
       "var comm_websocket_adapter = function (comm) {\n",
       "    // Create a \"websocket\"-like object which calls the given IPython comm\n",
       "    // object with the appropriate methods. Currently this is a non binary\n",
       "    // socket, so there is still some room for performance tuning.\n",
       "    var ws = {};\n",
       "\n",
       "    ws.close = function () {\n",
       "        comm.close();\n",
       "    };\n",
       "    ws.send = function (m) {\n",
       "        //console.log('sending', m);\n",
       "        comm.send(m);\n",
       "    };\n",
       "    // Register the callback with on_msg.\n",
       "    comm.on_msg(function (msg) {\n",
       "        //console.log('receiving', msg['content']['data'], msg);\n",
       "        // Pass the mpl event to the overridden (by mpl) onmessage function.\n",
       "        ws.onmessage(msg['content']['data']);\n",
       "    });\n",
       "    return ws;\n",
       "};\n",
       "\n",
       "mpl.mpl_figure_comm = function (comm, msg) {\n",
       "    // This is the function which gets called when the mpl process\n",
       "    // starts-up an IPython Comm through the \"matplotlib\" channel.\n",
       "\n",
       "    var id = msg.content.data.id;\n",
       "    // Get hold of the div created by the display call when the Comm\n",
       "    // socket was opened in Python.\n",
       "    var element = document.getElementById(id);\n",
       "    var ws_proxy = comm_websocket_adapter(comm);\n",
       "\n",
       "    function ondownload(figure, _format) {\n",
       "        window.open(figure.canvas.toDataURL());\n",
       "    }\n",
       "\n",
       "    var fig = new mpl.figure(id, ws_proxy, ondownload, element);\n",
       "\n",
       "    // Call onopen now - mpl needs it, as it is assuming we've passed it a real\n",
       "    // web socket which is closed, not our websocket->open comm proxy.\n",
       "    ws_proxy.onopen();\n",
       "\n",
       "    fig.parent_element = element;\n",
       "    fig.cell_info = mpl.find_output_cell(\"<div id='\" + id + \"'></div>\");\n",
       "    if (!fig.cell_info) {\n",
       "        console.error('Failed to find cell for figure', id, fig);\n",
       "        return;\n",
       "    }\n",
       "    fig.cell_info[0].output_area.element.on(\n",
       "        'cleared',\n",
       "        { fig: fig },\n",
       "        fig._remove_fig_handler\n",
       "    );\n",
       "};\n",
       "\n",
       "mpl.figure.prototype.handle_close = function (fig, msg) {\n",
       "    var width = fig.canvas.width / fig.ratio;\n",
       "    fig.cell_info[0].output_area.element.off(\n",
       "        'cleared',\n",
       "        fig._remove_fig_handler\n",
       "    );\n",
       "    fig.resizeObserverInstance.unobserve(fig.canvas_div);\n",
       "\n",
       "    // Update the output cell to use the data from the current canvas.\n",
       "    fig.push_to_output();\n",
       "    var dataURL = fig.canvas.toDataURL();\n",
       "    // Re-enable the keyboard manager in IPython - without this line, in FF,\n",
       "    // the notebook keyboard shortcuts fail.\n",
       "    IPython.keyboard_manager.enable();\n",
       "    fig.parent_element.innerHTML =\n",
       "        '<img src=\"' + dataURL + '\" width=\"' + width + '\">';\n",
       "    fig.close_ws(fig, msg);\n",
       "};\n",
       "\n",
       "mpl.figure.prototype.close_ws = function (fig, msg) {\n",
       "    fig.send_message('closing', msg);\n",
       "    // fig.ws.close()\n",
       "};\n",
       "\n",
       "mpl.figure.prototype.push_to_output = function (_remove_interactive) {\n",
       "    // Turn the data on the canvas into data in the output cell.\n",
       "    var width = this.canvas.width / this.ratio;\n",
       "    var dataURL = this.canvas.toDataURL();\n",
       "    this.cell_info[1]['text/html'] =\n",
       "        '<img src=\"' + dataURL + '\" width=\"' + width + '\">';\n",
       "};\n",
       "\n",
       "mpl.figure.prototype.updated_canvas_event = function () {\n",
       "    // Tell IPython that the notebook contents must change.\n",
       "    IPython.notebook.set_dirty(true);\n",
       "    this.send_message('ack', {});\n",
       "    var fig = this;\n",
       "    // Wait a second, then push the new image to the DOM so\n",
       "    // that it is saved nicely (might be nice to debounce this).\n",
       "    setTimeout(function () {\n",
       "        fig.push_to_output();\n",
       "    }, 1000);\n",
       "};\n",
       "\n",
       "mpl.figure.prototype._init_toolbar = function () {\n",
       "    var fig = this;\n",
       "\n",
       "    var toolbar = document.createElement('div');\n",
       "    toolbar.classList = 'btn-toolbar';\n",
       "    this.root.appendChild(toolbar);\n",
       "\n",
       "    function on_click_closure(name) {\n",
       "        return function (_event) {\n",
       "            return fig.toolbar_button_onclick(name);\n",
       "        };\n",
       "    }\n",
       "\n",
       "    function on_mouseover_closure(tooltip) {\n",
       "        return function (event) {\n",
       "            if (!event.currentTarget.disabled) {\n",
       "                return fig.toolbar_button_onmouseover(tooltip);\n",
       "            }\n",
       "        };\n",
       "    }\n",
       "\n",
       "    fig.buttons = {};\n",
       "    var buttonGroup = document.createElement('div');\n",
       "    buttonGroup.classList = 'btn-group';\n",
       "    var button;\n",
       "    for (var toolbar_ind in mpl.toolbar_items) {\n",
       "        var name = mpl.toolbar_items[toolbar_ind][0];\n",
       "        var tooltip = mpl.toolbar_items[toolbar_ind][1];\n",
       "        var image = mpl.toolbar_items[toolbar_ind][2];\n",
       "        var method_name = mpl.toolbar_items[toolbar_ind][3];\n",
       "\n",
       "        if (!name) {\n",
       "            /* Instead of a spacer, we start a new button group. */\n",
       "            if (buttonGroup.hasChildNodes()) {\n",
       "                toolbar.appendChild(buttonGroup);\n",
       "            }\n",
       "            buttonGroup = document.createElement('div');\n",
       "            buttonGroup.classList = 'btn-group';\n",
       "            continue;\n",
       "        }\n",
       "\n",
       "        button = fig.buttons[name] = document.createElement('button');\n",
       "        button.classList = 'btn btn-default';\n",
       "        button.href = '#';\n",
       "        button.title = name;\n",
       "        button.innerHTML = '<i class=\"fa ' + image + ' fa-lg\"></i>';\n",
       "        button.addEventListener('click', on_click_closure(method_name));\n",
       "        button.addEventListener('mouseover', on_mouseover_closure(tooltip));\n",
       "        buttonGroup.appendChild(button);\n",
       "    }\n",
       "\n",
       "    if (buttonGroup.hasChildNodes()) {\n",
       "        toolbar.appendChild(buttonGroup);\n",
       "    }\n",
       "\n",
       "    // Add the status bar.\n",
       "    var status_bar = document.createElement('span');\n",
       "    status_bar.classList = 'mpl-message pull-right';\n",
       "    toolbar.appendChild(status_bar);\n",
       "    this.message = status_bar;\n",
       "\n",
       "    // Add the close button to the window.\n",
       "    var buttongrp = document.createElement('div');\n",
       "    buttongrp.classList = 'btn-group inline pull-right';\n",
       "    button = document.createElement('button');\n",
       "    button.classList = 'btn btn-mini btn-primary';\n",
       "    button.href = '#';\n",
       "    button.title = 'Stop Interaction';\n",
       "    button.innerHTML = '<i class=\"fa fa-power-off icon-remove icon-large\"></i>';\n",
       "    button.addEventListener('click', function (_evt) {\n",
       "        fig.handle_close(fig, {});\n",
       "    });\n",
       "    button.addEventListener(\n",
       "        'mouseover',\n",
       "        on_mouseover_closure('Stop Interaction')\n",
       "    );\n",
       "    buttongrp.appendChild(button);\n",
       "    var titlebar = this.root.querySelector('.ui-dialog-titlebar');\n",
       "    titlebar.insertBefore(buttongrp, titlebar.firstChild);\n",
       "};\n",
       "\n",
       "mpl.figure.prototype._remove_fig_handler = function (event) {\n",
       "    var fig = event.data.fig;\n",
       "    if (event.target !== this) {\n",
       "        // Ignore bubbled events from children.\n",
       "        return;\n",
       "    }\n",
       "    fig.close_ws(fig, {});\n",
       "};\n",
       "\n",
       "mpl.figure.prototype._root_extra_style = function (el) {\n",
       "    el.style.boxSizing = 'content-box'; // override notebook setting of border-box.\n",
       "};\n",
       "\n",
       "mpl.figure.prototype._canvas_extra_style = function (el) {\n",
       "    // this is important to make the div 'focusable\n",
       "    el.setAttribute('tabindex', 0);\n",
       "    // reach out to IPython and tell the keyboard manager to turn it's self\n",
       "    // off when our div gets focus\n",
       "\n",
       "    // location in version 3\n",
       "    if (IPython.notebook.keyboard_manager) {\n",
       "        IPython.notebook.keyboard_manager.register_events(el);\n",
       "    } else {\n",
       "        // location in version 2\n",
       "        IPython.keyboard_manager.register_events(el);\n",
       "    }\n",
       "};\n",
       "\n",
       "mpl.figure.prototype._key_event_extra = function (event, _name) {\n",
       "    var manager = IPython.notebook.keyboard_manager;\n",
       "    if (!manager) {\n",
       "        manager = IPython.keyboard_manager;\n",
       "    }\n",
       "\n",
       "    // Check for shift+enter\n",
       "    if (event.shiftKey && event.which === 13) {\n",
       "        this.canvas_div.blur();\n",
       "        // select the cell after this one\n",
       "        var index = IPython.notebook.find_cell_index(this.cell_info[0]);\n",
       "        IPython.notebook.select(index + 1);\n",
       "    }\n",
       "};\n",
       "\n",
       "mpl.figure.prototype.handle_save = function (fig, _msg) {\n",
       "    fig.ondownload(fig, null);\n",
       "};\n",
       "\n",
       "mpl.find_output_cell = function (html_output) {\n",
       "    // Return the cell and output element which can be found *uniquely* in the notebook.\n",
       "    // Note - this is a bit hacky, but it is done because the \"notebook_saving.Notebook\"\n",
       "    // IPython event is triggered only after the cells have been serialised, which for\n",
       "    // our purposes (turning an active figure into a static one), is too late.\n",
       "    var cells = IPython.notebook.get_cells();\n",
       "    var ncells = cells.length;\n",
       "    for (var i = 0; i < ncells; i++) {\n",
       "        var cell = cells[i];\n",
       "        if (cell.cell_type === 'code') {\n",
       "            for (var j = 0; j < cell.output_area.outputs.length; j++) {\n",
       "                var data = cell.output_area.outputs[j];\n",
       "                if (data.data) {\n",
       "                    // IPython >= 3 moved mimebundle to data attribute of output\n",
       "                    data = data.data;\n",
       "                }\n",
       "                if (data['text/html'] === html_output) {\n",
       "                    return [cell, data, j];\n",
       "                }\n",
       "            }\n",
       "        }\n",
       "    }\n",
       "};\n",
       "\n",
       "// Register the function which deals with the matplotlib target/channel.\n",
       "// The kernel may be null if the page has been refreshed.\n",
       "if (IPython.notebook.kernel !== null) {\n",
       "    IPython.notebook.kernel.comm_manager.register_target(\n",
       "        'matplotlib',\n",
       "        mpl.mpl_figure_comm\n",
       "    );\n",
       "}\n"
      ],
      "text/plain": [
       "<IPython.core.display.Javascript object>"
      ]
     },
     "metadata": {},
     "output_type": "display_data"
    },
    {
     "data": {
      "text/html": [
       "<img src=\"data:image/png;base64,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\" width=\"840\">"
      ],
      "text/plain": [
       "<IPython.core.display.HTML object>"
      ]
     },
     "metadata": {},
     "output_type": "display_data"
    },
    {
     "data": {
      "text/plain": [
       "[<matplotlib.lines.Line2D at 0x7f2704f5dfd0>]"
      ]
     },
     "execution_count": 40,
     "metadata": {},
     "output_type": "execute_result"
    }
   ],
   "source": [
    "plt.plot(calculate_I_out(res.x, kwargs_for_count))\n",
    "plt.plot(real_data_all, '--')\n",
    "#plt.xlim(0, 1000)"
   ]
  },
  {
   "cell_type": "markdown",
   "metadata": {},
   "source": [
    "### dual_annealing"
   ]
  },
  {
   "cell_type": "code",
   "execution_count": null,
   "metadata": {
    "scrolled": true
   },
   "outputs": [],
   "source": [
    "%%time\n",
    "#res = scop.dual_annealing(loss, bounds=log_bounds, x0 = x_true_log, args=(real_data_small, kwargs_for_count), seed=42)"
   ]
  },
  {
   "cell_type": "code",
   "execution_count": null,
   "metadata": {},
   "outputs": [],
   "source": [
    "res"
   ]
  },
  {
   "cell_type": "code",
   "execution_count": null,
   "metadata": {},
   "outputs": [],
   "source": [
    "loss(res.x, real_data_small, kwargs)"
   ]
  },
  {
   "cell_type": "code",
   "execution_count": null,
   "metadata": {
    "scrolled": true
   },
   "outputs": [],
   "source": [
    "plt.plot(calculate_I_out(res.x, kwargs))\n",
    "plt.plot(real_data_small, '--')"
   ]
  },
  {
   "cell_type": "code",
   "execution_count": null,
   "metadata": {},
   "outputs": [],
   "source": []
  },
  {
   "cell_type": "code",
   "execution_count": null,
   "metadata": {},
   "outputs": [],
   "source": []
  }
 ],
 "metadata": {
  "kernelspec": {
   "display_name": "py3.8_hpl",
   "language": "python",
   "name": "py3.8_hpl"
  },
  "language_info": {
   "codemirror_mode": {
    "name": "ipython",
    "version": 3
   },
   "file_extension": ".py",
   "mimetype": "text/x-python",
   "name": "python",
   "nbconvert_exporter": "python",
   "pygments_lexer": "ipython3",
   "version": "3.8.6"
  }
 },
 "nbformat": 4,
 "nbformat_minor": 4
}
