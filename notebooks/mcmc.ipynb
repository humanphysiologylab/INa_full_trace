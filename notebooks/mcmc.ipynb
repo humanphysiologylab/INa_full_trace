{
 "cells": [
  {
   "cell_type": "code",
   "execution_count": 1,
   "metadata": {},
   "outputs": [],
   "source": [
    "import numpy as np\n",
    "import pandas as pd\n",
    "import scipy.optimize as scop\n",
    "import matplotlib.pyplot as plt\n",
    "import os\n",
    "import ctypes\n",
    "import sys\n",
    "from sklearn.metrics import mean_squared_error as MSE\n",
    "from scipy.interpolate import interp1d\n"
   ]
  },
  {
   "cell_type": "code",
   "execution_count": 2,
   "metadata": {},
   "outputs": [],
   "source": [
    "plt.style.use('../styles/general.mplstyle')"
   ]
  },
  {
   "cell_type": "code",
   "execution_count": 3,
   "metadata": {},
   "outputs": [],
   "source": [
    "sys.path.append(\"../src/python_scripts/\")\n",
    "from functions import scale, rescale, calculate_full_trace, OLD_calculate_full_trace, give_me_ina, OLD_give_me_ina,OLD_loss, loss,spec_log_scale,  despec_log_scale\n"
   ]
  },
  {
   "cell_type": "code",
   "execution_count": 4,
   "metadata": {},
   "outputs": [],
   "source": [
    "filename_protocol = \"../data/protocols/protocol_79.csv\"\n",
    "df_protocol = pd.read_csv(filename_protocol, index_col=0) \n"
   ]
  },
  {
   "cell_type": "code",
   "execution_count": 5,
   "metadata": {},
   "outputs": [],
   "source": [
    "dirname = '../src/model_ctypes/ina/'\n",
    "\n",
    "legend_constants = pd.read_csv(os.path.join(dirname, \"legend_constants.csv\"), index_col='name')\n",
    "legend_states = pd.read_csv(os.path.join(dirname, \"legend_states.csv\"), index_col='name')['value']\n",
    "legend_algebraic = pd.read_csv(os.path.join(dirname, \"legend_algebraic.csv\"), index_col='name')['value']"
   ]
  },
  {
   "cell_type": "code",
   "execution_count": 6,
   "metadata": {},
   "outputs": [],
   "source": [
    "S = legend_states.copy()\n",
    "R = S.copy() * 0\n",
    "C = legend_constants.copy()\n",
    "A = legend_algebraic.copy()\n",
    "\n",
    "output_len = len(df_protocol)"
   ]
  },
  {
   "cell_type": "code",
   "execution_count": 7,
   "metadata": {},
   "outputs": [],
   "source": [
    "bounds=np.array([[-30.14184674, -26.14184674],\n",
    "       [-25.71899811, -21.71899811],\n",
    "       [ 9,  13],\n",
    "       [  -1. ,   3. ],\n",
    "       [ 0.,  4.],\n",
    "       [  0.5 ,   4.5 ],\n",
    "       [ -4.16282315,  -0.16282315],\n",
    "       [  5.3588309 ,   9.3588309 ],\n",
    "       [  1.17805383,   5.17805383],\n",
    "       [  1.8286414 ,   5.8286414 ],\n",
    "       [  4.04878828,  10.04878828],\n",
    "       [-11.08812274,  -7.08812274],\n",
    "       [  0.11384297,   4.11384297],\n",
    "       [  1.64805746,   5.64805746],\n",
    "       [ -5.91202301,  -1.91202301],\n",
    "       [ 15.03438638,  19.03438638],\n",
    "       [  9.15625052,  13.15625052],\n",
    "       [  4.05678401,   9.05678401],\n",
    "       [ -2.        ,   2.        ],\n",
    "       [ -11.5129    ,   -7.41858    ],\n",
    "       [  0.34180581,   50],\n",
    "       [  20,   90],\n",
    "       [  1e-3,   20],\n",
    "       [ 1e-3,   20],\n",
    "       [ 0.01,   1.77685645],\n",
    "       [ 0.01,   2],\n",
    "       [ 0.00001    ,   0.75    ],\n",
    "       [ -2.        ,   2.        ]])"
   ]
  },
  {
   "cell_type": "code",
   "execution_count": 8,
   "metadata": {},
   "outputs": [],
   "source": [
    "diff = (df_protocol.v.shift() - df_protocol.v).fillna(0)\n",
    "mask_capacity = diff.rolling(window=200).sum() !=0\n",
    "indices_weight_c = mask_capacity.index.to_numpy()[mask_capacity] + 15\n",
    "\n",
    "mask_INa = diff.rolling(window=600).sum()<-10\n",
    "indices_weight_INa = mask_INa.index.to_numpy()[mask_INa] + 15\n",
    "\n",
    "weight = np.zeros_like(df_protocol.v) + 5\n",
    "weight[indices_weight_c] = 10\n",
    "weight[indices_weight_INa] = 30"
   ]
  },
  {
   "cell_type": "markdown",
   "metadata": {},
   "source": [
    "## LSODA"
   ]
  },
  {
   "cell_type": "code",
   "execution_count": 9,
   "metadata": {},
   "outputs": [
    {
     "data": {
      "text/plain": [
       "'/home/nik/Documents/comparison/INa_full_trace/src/model_ctypes/ina/ina.so'"
      ]
     },
     "execution_count": 9,
     "metadata": {},
     "output_type": "execute_result"
    }
   ],
   "source": [
    "filename = 'ina.so'\n",
    "filename_so = os.path.join(dirname, filename)\n",
    "filename_abs = os.path.abspath(filename_so)\n",
    "filename_abs"
   ]
  },
  {
   "cell_type": "code",
   "execution_count": 10,
   "metadata": {},
   "outputs": [],
   "source": [
    "p0  = C.value.values[:-2].copy()\n",
    "p = spec_log_scale(p0)\n",
    "p = np.concatenate((np.log(p0[:-8]), p0[-8:]))"
   ]
  },
  {
   "cell_type": "code",
   "execution_count": 22,
   "metadata": {},
   "outputs": [],
   "source": [
    "##KWARGS WORKING\n",
    "t0 = np.arange(0, 1, 5e-5)\n",
    "v0 = np.full_like(t0, -80.0)\n",
    "initial_state_len = len(t0)\n",
    "\n",
    "t = df_protocol['t'].values\n",
    "v = df_protocol['v'].values\n",
    "\n",
    "output_len = len(t)\n",
    "initial_state_S = pd.DataFrame(np.zeros((initial_state_len, len(S))), columns=legend_states.index)\n",
    "initial_state_A = pd.DataFrame(np.zeros((initial_state_len, len(A))), columns=legend_algebraic.index)\n",
    "\n",
    "output_S = pd.DataFrame(np.zeros((output_len, len(S))), columns=legend_states.index)\n",
    "output_A = pd.DataFrame(np.zeros((output_len, len(A))), columns=legend_algebraic.index)\n",
    "\n",
    "ina = give_me_ina(filename_abs)\n",
    "kwargs = dict(S = S,\n",
    "              t0 = t0,\n",
    "              v0 = v0,\n",
    "              initial_state_S = initial_state_S,\n",
    "              initial_state_A = initial_state_A,\n",
    "              initial_state_len = initial_state_len,\n",
    "              #function = ina,\n",
    "              #dt = 1e-8,\n",
    "              filename_abs = filename_abs, \n",
    "              t = df_protocol['t'].values,\n",
    "              v = df_protocol['v'].values,\n",
    "              output_S = output_S,\n",
    "              output_A = output_A,\n",
    "              bounds = bounds,\n",
    "              #sample_weight = weight,\n",
    "              #rescale = True,\n",
    "              old_log = True\n",
    "              #log = True,\n",
    "             )\n"
   ]
  },
  {
   "cell_type": "code",
   "execution_count": 28,
   "metadata": {},
   "outputs": [
    {
     "ename": "NameError",
     "evalue": "name 'json' is not defined",
     "output_type": "error",
     "traceback": [
      "\u001b[0;31m---------------------------------------------------------------------------\u001b[0m",
      "\u001b[0;31mNameError\u001b[0m                                 Traceback (most recent call last)",
      "\u001b[0;32m<ipython-input-28-b695dafc7e94>\u001b[0m in \u001b[0;36m<module>\u001b[0;34m\u001b[0m\n\u001b[1;32m      1\u001b[0m \u001b[0;32mwith\u001b[0m \u001b[0mopen\u001b[0m\u001b[0;34m(\u001b[0m\u001b[0;34m\"your_json_file\"\u001b[0m\u001b[0;34m,\u001b[0m \u001b[0;34m\"w\"\u001b[0m\u001b[0;34m)\u001b[0m \u001b[0;32mas\u001b[0m \u001b[0mfp\u001b[0m\u001b[0;34m:\u001b[0m\u001b[0;34m\u001b[0m\u001b[0;34m\u001b[0m\u001b[0m\n\u001b[0;32m----> 2\u001b[0;31m     \u001b[0mjson\u001b[0m\u001b[0;34m.\u001b[0m\u001b[0mdump\u001b[0m\u001b[0;34m(\u001b[0m\u001b[0mkwargs\u001b[0m \u001b[0;34m,\u001b[0m \u001b[0mfp\u001b[0m\u001b[0;34m)\u001b[0m\u001b[0;34m\u001b[0m\u001b[0;34m\u001b[0m\u001b[0m\n\u001b[0m",
      "\u001b[0;31mNameError\u001b[0m: name 'json' is not defined"
     ]
    }
   ],
   "source": []
  },
  {
   "cell_type": "code",
   "execution_count": 12,
   "metadata": {},
   "outputs": [],
   "source": [
    "p = np.array([-2.75666759e+01, -2.45169355e+01,  7.50956909e+00,  1.44161398e+00,\n",
    "        1.79332247e+00,  3.93559661e+00, -2.09187346e+00,  5.89982192e+00,\n",
    "        2.69935633e+00,  5.52496945e+00,  8.41710247e+00, -1.07446595e+01,\n",
    "        3.68838534e-01,  1.59149800e-01, -7.33904986e+00,  1.94084108e+01,\n",
    "        1.29060380e+01,  1.10000000e+01, -8.28336266e-01,  -9.21,2.42791000e+01,\n",
    "        5.88927366e+01,  7.55695251e+00,  6.47187180e+00,  6.63918488e-03,\n",
    "        4.02279734e-02,  7.50000000e-01, -1.00000000e+01])"
   ]
  },
  {
   "cell_type": "code",
   "execution_count": 13,
   "metadata": {},
   "outputs": [
    {
     "name": "stdout",
     "output_type": "stream",
     "text": [
      "CPU times: user 110 ms, sys: 16.4 ms, total: 127 ms\n",
      "Wall time: 128 ms\n"
     ]
    }
   ],
   "source": [
    "%%time\n",
    "res_ina = calculate_full_trace(p, kwargs)"
   ]
  },
  {
   "cell_type": "code",
   "execution_count": 14,
   "metadata": {},
   "outputs": [
    {
     "data": {
      "text/plain": [
       "[<matplotlib.lines.Line2D at 0x7f0423c129a0>]"
      ]
     },
     "execution_count": 14,
     "metadata": {},
     "output_type": "execute_result"
    },
    {
     "data": {
      "image/png": "[encoded data removed]",
      "text/plain": [
       "<Figure size 840x680 with 1 Axes>"
      ]
     },
     "metadata": {
      "needs_background": "light"
     },
     "output_type": "display_data"
    }
   ],
   "source": [
    "plt.plot(res_ina)"
   ]
  },
  {
   "cell_type": "markdown",
   "metadata": {},
   "source": [
    "## MCMC"
   ]
  },
  {
   "cell_type": "code",
   "execution_count": 14,
   "metadata": {},
   "outputs": [],
   "source": [
    "from pymcmcstat.MCMC import MCMC\n",
    "from pymcmcstat.plotting import MCMCPlotting\n",
    "import pymcmcstat"
   ]
  },
  {
   "cell_type": "code",
   "execution_count": 15,
   "metadata": {},
   "outputs": [],
   "source": [
    "x_list = np.arange(0, 0.25*20, 5e-5)\n"
   ]
  },
  {
   "cell_type": "code",
   "execution_count": 26,
   "metadata": {
    "scrolled": true
   },
   "outputs": [
    {
     "data": {
      "text/plain": [
       "{'S': name\n",
       " v_comp   -80.0\n",
       " v_p      -80.0\n",
       " v_m      -80.0\n",
       " m          0.0\n",
       " h          1.0\n",
       " j          1.0\n",
       " I_out      0.0\n",
       " Name: value, dtype: float64,\n",
       " 't0': array([0.0000e+00, 5.0000e-05, 1.0000e-04, ..., 9.9985e-01, 9.9990e-01,\n",
       "        9.9995e-01]),\n",
       " 'v0': array([-80., -80., -80., ..., -80., -80., -80.]),\n",
       " 'initial_state_S': name   v_comp  v_p  v_m    m    h    j  I_out\n",
       " 0         0.0  0.0  0.0  0.0  0.0  0.0    0.0\n",
       " 1         0.0  0.0  0.0  0.0  0.0  0.0    0.0\n",
       " 2         0.0  0.0  0.0  0.0  0.0  0.0    0.0\n",
       " 3         0.0  0.0  0.0  0.0  0.0  0.0    0.0\n",
       " 4         0.0  0.0  0.0  0.0  0.0  0.0    0.0\n",
       " ...       ...  ...  ...  ...  ...  ...    ...\n",
       " 19995     0.0  0.0  0.0  0.0  0.0  0.0    0.0\n",
       " 19996     0.0  0.0  0.0  0.0  0.0  0.0    0.0\n",
       " 19997     0.0  0.0  0.0  0.0  0.0  0.0    0.0\n",
       " 19998     0.0  0.0  0.0  0.0  0.0  0.0    0.0\n",
       " 19999     0.0  0.0  0.0  0.0  0.0  0.0    0.0\n",
       " \n",
       " [20000 rows x 7 columns],\n",
       " 'initial_state_A': name   tau_m  tau_h  tau_j  m_inf  h_inf  v_cp  I_leak  I_Na  I_c  I_p  \\\n",
       " 0        0.0    0.0    0.0    0.0    0.0   0.0     0.0   0.0  0.0  0.0   \n",
       " 1        0.0    0.0    0.0    0.0    0.0   0.0     0.0   0.0  0.0  0.0   \n",
       " 2        0.0    0.0    0.0    0.0    0.0   0.0     0.0   0.0  0.0  0.0   \n",
       " 3        0.0    0.0    0.0    0.0    0.0   0.0     0.0   0.0  0.0  0.0   \n",
       " 4        0.0    0.0    0.0    0.0    0.0   0.0     0.0   0.0  0.0  0.0   \n",
       " ...      ...    ...    ...    ...    ...   ...     ...   ...  ...  ...   \n",
       " 19995    0.0    0.0    0.0    0.0    0.0   0.0     0.0   0.0  0.0  0.0   \n",
       " 19996    0.0    0.0    0.0    0.0    0.0   0.0     0.0   0.0  0.0  0.0   \n",
       " 19997    0.0    0.0    0.0    0.0    0.0   0.0     0.0   0.0  0.0  0.0   \n",
       " 19998    0.0    0.0    0.0    0.0    0.0   0.0     0.0   0.0  0.0  0.0   \n",
       " 19999    0.0    0.0    0.0    0.0    0.0   0.0     0.0   0.0  0.0  0.0   \n",
       " \n",
       " name   I_comp  I_in  \n",
       " 0         0.0   0.0  \n",
       " 1         0.0   0.0  \n",
       " 2         0.0   0.0  \n",
       " 3         0.0   0.0  \n",
       " 4         0.0   0.0  \n",
       " ...       ...   ...  \n",
       " 19995     0.0   0.0  \n",
       " 19996     0.0   0.0  \n",
       " 19997     0.0   0.0  \n",
       " 19998     0.0   0.0  \n",
       " 19999     0.0   0.0  \n",
       " \n",
       " [20000 rows x 12 columns],\n",
       " 'initial_state_len': 20000,\n",
       " 'filename_abs': '/home/nik/Documents/comparison/INa_full_trace/src/model_ctypes/ina/ina.so',\n",
       " 't': array([0.00000e+00, 5.00000e-05, 1.00000e-04, ..., 4.99985e+00,\n",
       "        4.99990e+00, 4.99995e+00]),\n",
       " 'v': array([-80., -80., -80., ..., -80., -80., -80.]),\n",
       " 'output_S': name   v_comp  v_p  v_m    m    h    j  I_out\n",
       " 0         0.0  0.0  0.0  0.0  0.0  0.0    0.0\n",
       " 1         0.0  0.0  0.0  0.0  0.0  0.0    0.0\n",
       " 2         0.0  0.0  0.0  0.0  0.0  0.0    0.0\n",
       " 3         0.0  0.0  0.0  0.0  0.0  0.0    0.0\n",
       " 4         0.0  0.0  0.0  0.0  0.0  0.0    0.0\n",
       " ...       ...  ...  ...  ...  ...  ...    ...\n",
       " 99995     0.0  0.0  0.0  0.0  0.0  0.0    0.0\n",
       " 99996     0.0  0.0  0.0  0.0  0.0  0.0    0.0\n",
       " 99997     0.0  0.0  0.0  0.0  0.0  0.0    0.0\n",
       " 99998     0.0  0.0  0.0  0.0  0.0  0.0    0.0\n",
       " 99999     0.0  0.0  0.0  0.0  0.0  0.0    0.0\n",
       " \n",
       " [100000 rows x 7 columns],\n",
       " 'output_A': name   tau_m  tau_h  tau_j  m_inf  h_inf  v_cp  I_leak  I_Na  I_c  I_p  \\\n",
       " 0        0.0    0.0    0.0    0.0    0.0   0.0     0.0   0.0  0.0  0.0   \n",
       " 1        0.0    0.0    0.0    0.0    0.0   0.0     0.0   0.0  0.0  0.0   \n",
       " 2        0.0    0.0    0.0    0.0    0.0   0.0     0.0   0.0  0.0  0.0   \n",
       " 3        0.0    0.0    0.0    0.0    0.0   0.0     0.0   0.0  0.0  0.0   \n",
       " 4        0.0    0.0    0.0    0.0    0.0   0.0     0.0   0.0  0.0  0.0   \n",
       " ...      ...    ...    ...    ...    ...   ...     ...   ...  ...  ...   \n",
       " 99995    0.0    0.0    0.0    0.0    0.0   0.0     0.0   0.0  0.0  0.0   \n",
       " 99996    0.0    0.0    0.0    0.0    0.0   0.0     0.0   0.0  0.0  0.0   \n",
       " 99997    0.0    0.0    0.0    0.0    0.0   0.0     0.0   0.0  0.0  0.0   \n",
       " 99998    0.0    0.0    0.0    0.0    0.0   0.0     0.0   0.0  0.0  0.0   \n",
       " 99999    0.0    0.0    0.0    0.0    0.0   0.0     0.0   0.0  0.0  0.0   \n",
       " \n",
       " name   I_comp  I_in  \n",
       " 0         0.0   0.0  \n",
       " 1         0.0   0.0  \n",
       " 2         0.0   0.0  \n",
       " 3         0.0   0.0  \n",
       " 4         0.0   0.0  \n",
       " ...       ...   ...  \n",
       " 99995     0.0   0.0  \n",
       " 99996     0.0   0.0  \n",
       " 99997     0.0   0.0  \n",
       " 99998     0.0   0.0  \n",
       " 99999     0.0   0.0  \n",
       " \n",
       " [100000 rows x 12 columns],\n",
       " 'bounds': array([[-3.01418467e+01, -2.61418467e+01],\n",
       "        [-2.57189981e+01, -2.17189981e+01],\n",
       "        [ 9.00000000e+00,  1.30000000e+01],\n",
       "        [-1.00000000e+00,  3.00000000e+00],\n",
       "        [ 0.00000000e+00,  4.00000000e+00],\n",
       "        [ 5.00000000e-01,  4.50000000e+00],\n",
       "        [-4.16282315e+00, -1.62823150e-01],\n",
       "        [ 5.35883090e+00,  9.35883090e+00],\n",
       "        [ 1.17805383e+00,  5.17805383e+00],\n",
       "        [ 1.82864140e+00,  5.82864140e+00],\n",
       "        [ 4.04878828e+00,  1.00487883e+01],\n",
       "        [-1.10881227e+01, -7.08812274e+00],\n",
       "        [ 1.13842970e-01,  4.11384297e+00],\n",
       "        [ 1.64805746e+00,  5.64805746e+00],\n",
       "        [-5.91202301e+00, -1.91202301e+00],\n",
       "        [ 1.50343864e+01,  1.90343864e+01],\n",
       "        [ 9.15625052e+00,  1.31562505e+01],\n",
       "        [ 4.05678401e+00,  9.05678401e+00],\n",
       "        [-2.00000000e+00,  2.00000000e+00],\n",
       "        [-1.15129000e+01, -7.41858000e+00],\n",
       "        [ 3.41805810e-01,  5.00000000e+01],\n",
       "        [ 2.00000000e+01,  9.00000000e+01],\n",
       "        [ 1.00000000e-03,  2.00000000e+01],\n",
       "        [ 1.00000000e-03,  2.00000000e+01],\n",
       "        [ 1.00000000e-02,  1.77685645e+00],\n",
       "        [ 1.00000000e-02,  2.00000000e+00],\n",
       "        [ 1.00000000e-05,  7.50000000e-01],\n",
       "        [-2.00000000e+00,  2.00000000e+00]]),\n",
       " 'old_log': True}"
      ]
     },
     "execution_count": 26,
     "metadata": {},
     "output_type": "execute_result"
    }
   ],
   "source": [
    "kwargs"
   ]
  },
  {
   "cell_type": "code",
   "execution_count": 23,
   "metadata": {},
   "outputs": [],
   "source": [
    "def func(xdata,theta):\n",
    "    I = calculate_full_trace(theta, kwargs)\n",
    "    return I"
   ]
  },
  {
   "cell_type": "code",
   "execution_count": null,
   "metadata": {},
   "outputs": [],
   "source": []
  },
  {
   "cell_type": "code",
   "execution_count": 24,
   "metadata": {},
   "outputs": [],
   "source": [
    "a = p[:1]"
   ]
  },
  {
   "cell_type": "code",
   "execution_count": 27,
   "metadata": {},
   "outputs": [
    {
     "data": {
      "text/plain": [
       "array([-35.18444939, -35.18444939, -35.18444938, ..., -35.24990985,\n",
       "       -35.24929943, -35.24869463])"
      ]
     },
     "execution_count": 27,
     "metadata": {},
     "output_type": "execute_result"
    }
   ],
   "source": [
    "func(x_list,p )"
   ]
  },
  {
   "cell_type": "code",
   "execution_count": 17,
   "metadata": {},
   "outputs": [],
   "source": [
    "def loss_mcmc(x, data):\n",
    "    y = np.concatenate((x.copy(), p[1:]))\n",
    "    #return 42\n",
    "    #args = kwargs\n",
    "    #sample_weight = kwargs.get('sample_weight', None)\n",
    "    n = len(data.xdata)\n",
    "    \n",
    "    I_out = func(data.xdata, y)\n",
    "    dat = (I_out - np.array(data.ydata[0].T[0]))**2\n",
    "    return sum(dat)"
   ]
  },
  {
   "cell_type": "code",
   "execution_count": 18,
   "metadata": {},
   "outputs": [],
   "source": [
    "res_ina_noise = res_ina + np.random.normal(0,5,100000)"
   ]
  },
  {
   "cell_type": "code",
   "execution_count": 19,
   "metadata": {},
   "outputs": [],
   "source": [
    "# initialize MCMC object\n",
    "mcstat = MCMC()\n",
    "# initialize data structure \n",
    "mcstat.data.add_data_set(x = x_list,\n",
    "                         y = res_ina_noise)#,\n",
    "                         #user_defined_object= kwargs)\n",
    "# initialize parameter array\n",
    "#theta = [0.5, 0.03, 0.1, 10, 0.02, 1.14, 0.77, 1.3, 10]\n",
    "# add model parameters\n",
    "\n",
    "mcstat.parameters.add_model_parameter(name=' с_p ', theta0= -26.126285491387264 , minimum= -30.14184674 , maximum= -26.021583203494448 )\n",
    "#mcstat.parameters.add_model_parameter(name=' c_m ', theta0= -24.422997564541507 , minimum= -25.328436022934504 , maximum= -23.131211445598282 )\n",
    "#mcstat.parameters.add_model_parameter(name=' a0_m ', theta0= 7.9146016329158435 , minimum= 6.907755278982137 , maximum= 9.210340371976184 )\n",
    "#mcstat.parameters.add_model_parameter(name=' b0_m ', theta0= 4.267724035266465 , minimum= 2.302585092994046 , maximum= 4.605170185988092 )\n",
    "#mcstat.parameters.add_model_parameter(name=' delta_m ', theta0= 20.6157 , minimum= 10.0 , maximum= 100.0 )\n",
    "#mcstat.parameters.add_model_parameter(name=' s_m ', theta0= 9.306083000000001 , minimum= 1.0 , maximum= 10.0 )\n",
    "#mcstat.parameters.add_model_parameter(name=' a0_h ', theta0= -0.7756483076716936 , minimum= -2.3025850929940455 , maximum= 0.0 )\n",
    "#mcstat.parameters.add_model_parameter(name=' b0_h ', theta0= 6.222195640086172 , minimum= 4.605170185988092 , maximum= 6.907755278982137 )\n",
    "#mcstat.parameters.add_model_parameter(name=' delta_h ', theta0= 15.2348 , minimum= 10.0 , maximum= 100.0 )\n",
    "#mcstat.parameters.add_model_parameter(name=' s_h ', theta0= 21.96405 , minimum= 10.0 , maximum= 100.0 )\n",
    "#mcstat.parameters.add_model_parameter(name=' a0_j ', theta0= -0.8039757298133126 , minimum= -2.3025850929940455 , maximum= 0.0 )\n",
    "#mcstat.parameters.add_model_parameter(name=' b0_j ', theta0= 9.933693232885549 , minimum= 9.210340371976184 , maximum= 11.512925464970229 )\n",
    "#mcstat.parameters.add_model_parameter(name=' delta_j ', theta0= 4.115303 , minimum= 1.0 , maximum= 10.0 )\n",
    "#mcstat.parameters.add_model_parameter(name=' s_j ', theta0= 167.3159 , minimum= 100.0 , maximum= 1000.0 )\n",
    "#mcstat.parameters.add_model_parameter(name=' tau_j_const ', theta0= -7.156946006769279 , minimum= -9.210340371976182 , maximum= -6.907755278982137 )\n",
    "#mcstat.parameters.add_model_parameter(name=' R ', theta0= 17.032254912863436 , minimum= 16.11809565095832 , maximum= 18.420680743952367 )\n",
    "#mcstat.parameters.add_model_parameter(name=' R_f ', theta0= 12.695944463648372 , minimum= 11.512925464970229 , maximum= 13.815510557964274 )\n",
    "#mcstat.parameters.add_model_parameter(name=' g_max ', theta0= 12.992756616186211 , minimum= 9.210340371976184 , maximum= 13.815510557964274 )\n",
    "#mcstat.parameters.add_model_parameter(name=' g_leak ', theta0= -0.7313802376061298 , minimum= -2.3025850929940455 , maximum= 2.302585092994046 )\n",
    "#mcstat.parameters.add_model_parameter(name=' tau_z ', theta0= -9.210000429763085 , minimum= -11.512925464970229 , maximum= -6.907755278982137 )\n",
    "#mcstat.parameters.add_model_parameter(name=' v_half_m ', theta0= 24.35802 , minimum= 10.0 , maximum= 60.0 )\n",
    "#mcstat.parameters.add_model_parameter(name=' v_half_h ', theta0= 59.69116999999999 , minimum= 50.0 , maximum= 100.0 )\n",
    "#mcstat.parameters.add_model_parameter(name=' k_m ', theta0= 5.66677 , minimum= 1.0 , maximum= 10.0 )\n",
    "#mcstat.parameters.add_model_parameter(name=' k_h ', theta0= 5.507771 , minimum= 1.0 , maximum= 10.0 )\n",
    "#mcstat.parameters.add_model_parameter(name=' x_c_comp ', theta0= -2.309616455184387 , minimum= -4.605170185988091 , maximum= 0.09531017980432493 )\n",
    "#mcstat.parameters.add_model_parameter(name=' x_r_comp ', theta0= 0.01980262729617973 , minimum= -4.605170185988091 , maximum= 0.09531017980432493 )\n",
    "#mcstat.parameters.add_model_parameter(name=' alpha ', theta0= -0.2876820724517809 , minimum= -0.35667494393873245 , maximum= -0.2231435513142097 )\n",
    "#mcstat.parameters.add_model_parameter(name=' v_off ', theta0= 1.55814461804655 , minimum= 0.0 , maximum= 2.302585092994046 )\n",
    "\n",
    "\n",
    "# Generate options\n",
    "mcstat.simulation_options.define_simulation_options(nsimu=1.0e3, updatesigma=True)\n",
    "# Define model object:\n",
    "mcstat.model_settings.define_model_settings(sos_function=loss_mcmc, S20=np.array([1]),N0=np.array([4]))"
   ]
  },
  {
   "cell_type": "code",
   "execution_count": 20,
   "metadata": {},
   "outputs": [
    {
     "name": "stdout",
     "output_type": "stream",
     "text": [
      "s1 = 2503843.9576384\n"
     ]
    }
   ],
   "source": [
    "s1 = loss_mcmc(p[:1], mcstat.data)\n",
    "print('s1 = {}'.format(s1))"
   ]
  },
  {
   "cell_type": "code",
   "execution_count": null,
   "metadata": {
    "scrolled": false
   },
   "outputs": [],
   "source": [
    "# Run simulation\n",
    "mcstat.run_simulation()\n"
   ]
  },
  {
   "cell_type": "code",
   "execution_count": null,
   "metadata": {
    "scrolled": false
   },
   "outputs": [],
   "source": [
    "# extract info from results\n",
    "results = mcstat.simulation_results.results\n",
    "burnin = int(results['nsimu']/2)\n",
    "chain = results['chain'][burnin:, :]\n",
    "s2chain = results['s2chain'][burnin:, :]\n",
    "names = results['names'] # parameter names\n",
    "\n",
    "# display chain stats\n",
    "mcstat.chainstats(chain, results)\n",
    "\n",
    "from pymcmcstat import mcmcplot as mcp\n",
    "settings = dict(\n",
    "    fig=dict(figsize=(16, 10))\n",
    ")\n",
    "# plot chain panel\n",
    "mcp.plot_chain_panel(chain, names, settings)\n",
    "# plot density panel\n",
    "#mcp.plot_density_panel(chain, names, settings)\n",
    "# pairwise correlation\n",
    "#f = mcp.plot_pairwise_correlation_panel(chain, names, settings)"
   ]
  }
 ],
 "metadata": {
  "kernelspec": {
   "display_name": "ina",
   "language": "python",
   "name": "ina"
  },
  "language_info": {
   "codemirror_mode": {
    "name": "ipython",
    "version": 3
   },
   "file_extension": ".py",
   "mimetype": "text/x-python",
   "name": "python",
   "nbconvert_exporter": "python",
   "pygments_lexer": "ipython3",
   "version": "3.8.5"
  }
 },
 "nbformat": 4,
 "nbformat_minor": 5
}
