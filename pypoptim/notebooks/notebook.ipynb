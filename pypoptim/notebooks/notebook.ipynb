{
 "cells": [
  {
   "cell_type": "code",
   "execution_count": 1,
   "id": "892cc554",
   "metadata": {},
   "outputs": [],
   "source": [
    "import numpy as np\n",
    "import pandas as pd\n",
    "import matplotlib.pyplot as plt\n",
    "\n",
    "import matplotlib\n",
    "matplotlib.rcParams['figure.facecolor'] = 'white'\n",
    "matplotlib.rcParams['savefig.dpi'] = 300\n",
    "\n",
    "import sys\n",
    "sys.path.append(\"../mpi_scripts/\")\n",
    "from io_utils import collect_results"
   ]
  },
  {
   "cell_type": "markdown",
   "id": "7b96be97",
   "metadata": {},
   "source": [
    "# Load results"
   ]
  },
  {
   "cell_type": "code",
   "execution_count": 2,
   "id": "fc4d4b1c",
   "metadata": {},
   "outputs": [],
   "source": [
    "case = \"210720_165224\"\n",
    "dirname_results = '../../results/ina'\n",
    "result = collect_results(case, dirname_results, dump_keys=['best'])"
   ]
  },
  {
   "cell_type": "code",
   "execution_count": 3,
   "id": "4f69d9b6",
   "metadata": {},
   "outputs": [
    {
     "data": {
      "text/plain": [
       "ec_name  g_name\n",
       "common   c_p       2.34\n",
       "trace    c_m       1.08\n",
       "Name: 0, dtype: float64"
      ]
     },
     "execution_count": 3,
     "metadata": {},
     "output_type": "execute_result"
    }
   ],
   "source": [
    "config = result['config'].copy()\n",
    "sol_best = result['sol_best'].copy()\n",
    "phenotype_best = result['phenotype_best'].copy()\n",
    "sol_best.round(2)"
   ]
  },
  {
   "cell_type": "code",
   "execution_count": 4,
   "id": "6638c380",
   "metadata": {},
   "outputs": [
    {
     "data": {
      "text/plain": [
       "[<matplotlib.lines.Line2D at 0x7f69c4e1f5e0>]"
      ]
     },
     "execution_count": 4,
     "metadata": {},
     "output_type": "execute_result"
    },
    {
     "data": {
      "image/png": "[encoded data removed]",
      "text/plain": [
       "<Figure size 432x288 with 1 Axes>"
      ]
     },
     "metadata": {},
     "output_type": "display_data"
    }
   ],
   "source": [
    "loss = result['dump']['best']['loss']\n",
    "plt.plot(loss, '.-')"
   ]
  },
  {
   "cell_type": "code",
   "execution_count": 5,
   "id": "f80cef4e",
   "metadata": {},
   "outputs": [
    {
     "data": {
      "text/html": [
       "<div>\n",
       "<style scoped>\n",
       "    .dataframe tbody tr th:only-of-type {\n",
       "        vertical-align: middle;\n",
       "    }\n",
       "\n",
       "    .dataframe tbody tr th {\n",
       "        vertical-align: top;\n",
       "    }\n",
       "\n",
       "    .dataframe thead tr th {\n",
       "        text-align: left;\n",
       "    }\n",
       "</style>\n",
       "<table border=\"1\" class=\"dataframe\">\n",
       "  <thead>\n",
       "    <tr>\n",
       "      <th>ec_name</th>\n",
       "      <th>common</th>\n",
       "      <th>trace</th>\n",
       "    </tr>\n",
       "    <tr>\n",
       "      <th>g_name</th>\n",
       "      <th>c_p</th>\n",
       "      <th>c_m</th>\n",
       "    </tr>\n",
       "  </thead>\n",
       "  <tbody>\n",
       "    <tr>\n",
       "      <th>0</th>\n",
       "      <td>0.116429</td>\n",
       "      <td>1.088084</td>\n",
       "    </tr>\n",
       "    <tr>\n",
       "      <th>1</th>\n",
       "      <td>7.158654</td>\n",
       "      <td>1.448509</td>\n",
       "    </tr>\n",
       "    <tr>\n",
       "      <th>2</th>\n",
       "      <td>2.941520</td>\n",
       "      <td>1.060793</td>\n",
       "    </tr>\n",
       "    <tr>\n",
       "      <th>3</th>\n",
       "      <td>0.499161</td>\n",
       "      <td>6.219557</td>\n",
       "    </tr>\n",
       "    <tr>\n",
       "      <th>4</th>\n",
       "      <td>0.277883</td>\n",
       "      <td>1.091114</td>\n",
       "    </tr>\n",
       "    <tr>\n",
       "      <th>5</th>\n",
       "      <td>0.140526</td>\n",
       "      <td>3.592669</td>\n",
       "    </tr>\n",
       "    <tr>\n",
       "      <th>6</th>\n",
       "      <td>0.277883</td>\n",
       "      <td>1.091114</td>\n",
       "    </tr>\n",
       "    <tr>\n",
       "      <th>7</th>\n",
       "      <td>2.339084</td>\n",
       "      <td>1.079514</td>\n",
       "    </tr>\n",
       "    <tr>\n",
       "      <th>8</th>\n",
       "      <td>2.686231</td>\n",
       "      <td>8.018496</td>\n",
       "    </tr>\n",
       "    <tr>\n",
       "      <th>9</th>\n",
       "      <td>2.339084</td>\n",
       "      <td>1.079514</td>\n",
       "    </tr>\n",
       "    <tr>\n",
       "      <th>10</th>\n",
       "      <td>2.339084</td>\n",
       "      <td>1.079514</td>\n",
       "    </tr>\n",
       "    <tr>\n",
       "      <th>11</th>\n",
       "      <td>2.339084</td>\n",
       "      <td>1.079514</td>\n",
       "    </tr>\n",
       "    <tr>\n",
       "      <th>12</th>\n",
       "      <td>2.339084</td>\n",
       "      <td>1.079514</td>\n",
       "    </tr>\n",
       "    <tr>\n",
       "      <th>13</th>\n",
       "      <td>2.339084</td>\n",
       "      <td>1.079514</td>\n",
       "    </tr>\n",
       "    <tr>\n",
       "      <th>14</th>\n",
       "      <td>2.339084</td>\n",
       "      <td>1.079514</td>\n",
       "    </tr>\n",
       "  </tbody>\n",
       "</table>\n",
       "</div>"
      ],
      "text/plain": [
       "ec_name    common     trace\n",
       "g_name        c_p       c_m\n",
       "0        0.116429  1.088084\n",
       "1        7.158654  1.448509\n",
       "2        2.941520  1.060793\n",
       "3        0.499161  6.219557\n",
       "4        0.277883  1.091114\n",
       "5        0.140526  3.592669\n",
       "6        0.277883  1.091114\n",
       "7        2.339084  1.079514\n",
       "8        2.686231  8.018496\n",
       "9        2.339084  1.079514\n",
       "10       2.339084  1.079514\n",
       "11       2.339084  1.079514\n",
       "12       2.339084  1.079514\n",
       "13       2.339084  1.079514\n",
       "14       2.339084  1.079514"
      ]
     },
     "execution_count": 5,
     "metadata": {},
     "output_type": "execute_result"
    }
   ],
   "source": [
    "dump_genes = pd.DataFrame(result['dump']['best']['genes'].reshape(-1, len(sol_best)),\n",
    "                          columns=config['runtime']['m_index'])\n",
    "dump_genes"
   ]
  },
  {
   "cell_type": "markdown",
   "id": "4fcb84c4",
   "metadata": {},
   "source": [
    "# Recreate solution"
   ]
  },
  {
   "cell_type": "code",
   "execution_count": 6,
   "id": "b82d8b00",
   "metadata": {},
   "outputs": [],
   "source": [
    "sys.path.append('src/model')\n",
    "from ina_model import InaModel\n",
    "from solmodel import SolModel"
   ]
  },
  {
   "cell_type": "code",
   "execution_count": 8,
   "id": "c70f3668",
   "metadata": {},
   "outputs": [],
   "source": [
    "filename_so = config['runtime']['filename_so_abs']\n",
    "model = InaModel(filename_so)\n",
    "\n",
    "SolModel.model = model\n",
    "SolModel.config = config.copy()\n",
    "\n",
    "sol = SolModel(x=sol_best)"
   ]
  },
  {
   "cell_type": "code",
   "execution_count": 9,
   "id": "d8aa41c5",
   "metadata": {},
   "outputs": [],
   "source": [
    "sol.update()"
   ]
  },
  {
   "cell_type": "code",
   "execution_count": 13,
   "id": "23a0efd3",
   "metadata": {},
   "outputs": [
    {
     "data": {
      "text/plain": [
       "[<matplotlib.lines.Line2D at 0x7f69c3893820>]"
      ]
     },
     "execution_count": 13,
     "metadata": {},
     "output_type": "execute_result"
    },
    {
     "data": {
      "image/png": "[encoded data removed]",
      "text/plain": [
       "<Figure size 432x288 with 1 Axes>"
      ]
     },
     "metadata": {},
     "output_type": "display_data"
    }
   ],
   "source": [
    "plt.plot(sol['phenotype']['trace']['I_out'])"
   ]
  },
  {
   "cell_type": "code",
   "execution_count": null,
   "id": "afb06943",
   "metadata": {},
   "outputs": [],
   "source": []
  }
 ],
 "metadata": {
  "kernelspec": {
   "display_name": "pypoptim",
   "language": "python",
   "name": "pypoptim"
  },
  "language_info": {
   "codemirror_mode": {
    "name": "ipython",
    "version": 3
   },
   "file_extension": ".py",
   "mimetype": "text/x-python",
   "name": "python",
   "nbconvert_exporter": "python",
   "pygments_lexer": "ipython3",
   "version": "3.8.10"
  }
 },
 "nbformat": 4,
 "nbformat_minor": 5
}
